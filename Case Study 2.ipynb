{
 "cells": [
  {
   "cell_type": "markdown",
   "source": [
    "# MSDS 7331 - Case Study 2 - Diabetes Prediction\r\n",
    "Daniel Crouthamel  \r\n",
    "Sophia Wu  \r\n",
    "Fabio Savorgnan  \r\n",
    "Bo Yun  \r\n",
    "\r\n",
    "# Introduction\r\n",
    "\r\n",
    "In this study, we will build a classifier using logistic regression to predict hospital readmittance. There is missing data that must be imputed. We'll discuss variable importances for the target variable, which is hospital readmittance.\r\n",
    "There are total six sections in this case analysis:\r\n",
    "\r\n",
    "1. Business Understanding\r\n",
    "\r\n",
    "2. Data Evaluation / Engineering\r\n",
    "\r\n",
    "3. Modeling Preparations\r\n",
    "\r\n",
    "4. Model Building & Evaluation\r\n",
    "\r\n",
    "5. Model Interpretability & Explainability\r\n",
    "\r\n",
    "6. Case Conclusions"
   ],
   "metadata": {}
  },
  {
   "cell_type": "code",
   "execution_count": 1,
   "source": [
    "import numpy as np\r\n",
    "import pandas as pd\r\n",
    "from sklearn.preprocessing import StandardScaler\r\n",
    "from sklearn.pipeline import Pipeline\r\n",
    "from sklearn.linear_model import SGDClassifier\r\n",
    "from sklearn.model_selection import cross_val_score\r\n",
    "from sklearn.preprocessing import OneHotEncoder\r\n",
    "from sklearn.model_selection import ShuffleSplit\r\n",
    "from sklearn import metrics as mt\r\n",
    "from sklearn.svm import SVC\r\n",
    "from sklearn.linear_model import LogisticRegression\r\n",
    "from sklearn.model_selection import GridSearchCV\r\n",
    "from sklearn.metrics import roc_auc_score\r\n",
    "from sklearn.model_selection import train_test_split\r\n",
    "from sklearn.metrics import roc_curve\r\n",
    "from matplotlib import pyplot\r\n",
    "from sklearn.compose import ColumnTransformer\r\n",
    "from sklearn.calibration import CalibratedClassifierCV\r\n",
    "import matplotlib.pyplot as plt\r\n",
    "from sklearn.model_selection import train_test_split\r\n",
    "from sklearn.model_selection import StratifiedKFold\r\n",
    "from sklearn.model_selection import KFold\r\n",
    "from sklearn.metrics import confusion_matrix\r\n",
    "import seaborn as sns\r\n",
    "from sklearn.metrics import plot_confusion_matrix\r\n",
    "from sklearn.metrics import classification_report,confusion_matrix\r\n",
    "from sklearn.impute import SimpleImputer\r\n",
    "from sklearn.compose import make_column_selector as selector\r\n",
    "from sklearn.preprocessing import RobustScaler\r\n",
    "# Imbalanced Data\r\n",
    "from imblearn.over_sampling import SMOTE\r\n",
    "from imblearn.pipeline import Pipeline as imbpipeline\r\n",
    "from sklearn.pipeline import Pipeline\r\n",
    "from sklearn.model_selection import train_test_split, GridSearchCV, StratifiedKFold\r\n",
    "\r\n",
    "# Pre-Processing\r\n",
    "from sklearn.preprocessing import RobustScaler\r\n",
    "from sklearn.preprocessing import StandardScaler\r\n",
    "from sklearn.preprocessing import OneHotEncoder\r\n",
    "from sklearn.impute import SimpleImputer\r\n",
    "from sklearn.compose import ColumnTransformer\r\n",
    "\r\n",
    "from sklearn.metrics import make_scorer\r\n",
    "from sklearn.metrics import accuracy_score\r\n",
    "from sklearn.metrics import recall_score\r\n",
    "from sklearn.metrics import precision_score\r\n",
    "from sklearn.metrics import f1_score"
   ],
   "outputs": [],
   "metadata": {}
  },
  {
   "cell_type": "markdown",
   "source": [
    "# Bussiness Understanding"
   ],
   "metadata": {}
  },
  {
   "cell_type": "markdown",
   "source": [
    "According to the Healthcare Cost and Utilization Project (H-CUP) conducted by the Agency for Healthcare Research and Quality (AHRQ), the national benchmark 30-day all cause readmission rate for patients with diabetes is 19.8%.\r\n",
    "\r\n",
    "**Objective:**\r\n",
    "The objective of this case study is to build a classifier using logistic regression to predict hospital readmittance, it will help identify the hospital readmission of patients with Diabetes within 30 days.\r\n",
    "\r\n",
    "**Problem:**\r\n",
    "When patients are readmitted in the hospital within a short period, this can be very expensive to the individual household and our hospital system, as patients' wages can be lost and the medical bills can be signficant."
   ],
   "metadata": {}
  },
  {
   "cell_type": "markdown",
   "source": [
    "# Data Engineering"
   ],
   "metadata": {}
  },
  {
   "cell_type": "markdown",
   "source": [
    "## Load the data"
   ],
   "metadata": {}
  },
  {
   "cell_type": "code",
   "execution_count": 2,
   "source": [
    "df = pd.read_csv(\"data/diabetic_data.csv\")\r\n",
    "df.head()"
   ],
   "outputs": [
    {
     "output_type": "execute_result",
     "data": {
      "text/html": [
       "<div>\n",
       "<style scoped>\n",
       "    .dataframe tbody tr th:only-of-type {\n",
       "        vertical-align: middle;\n",
       "    }\n",
       "\n",
       "    .dataframe tbody tr th {\n",
       "        vertical-align: top;\n",
       "    }\n",
       "\n",
       "    .dataframe thead th {\n",
       "        text-align: right;\n",
       "    }\n",
       "</style>\n",
       "<table border=\"1\" class=\"dataframe\">\n",
       "  <thead>\n",
       "    <tr style=\"text-align: right;\">\n",
       "      <th></th>\n",
       "      <th>encounter_id</th>\n",
       "      <th>patient_nbr</th>\n",
       "      <th>race</th>\n",
       "      <th>gender</th>\n",
       "      <th>age</th>\n",
       "      <th>weight</th>\n",
       "      <th>admission_type_id</th>\n",
       "      <th>discharge_disposition_id</th>\n",
       "      <th>admission_source_id</th>\n",
       "      <th>time_in_hospital</th>\n",
       "      <th>...</th>\n",
       "      <th>citoglipton</th>\n",
       "      <th>insulin</th>\n",
       "      <th>glyburide-metformin</th>\n",
       "      <th>glipizide-metformin</th>\n",
       "      <th>glimepiride-pioglitazone</th>\n",
       "      <th>metformin-rosiglitazone</th>\n",
       "      <th>metformin-pioglitazone</th>\n",
       "      <th>change</th>\n",
       "      <th>diabetesMed</th>\n",
       "      <th>readmitted</th>\n",
       "    </tr>\n",
       "  </thead>\n",
       "  <tbody>\n",
       "    <tr>\n",
       "      <th>0</th>\n",
       "      <td>2278392</td>\n",
       "      <td>8222157</td>\n",
       "      <td>Caucasian</td>\n",
       "      <td>Female</td>\n",
       "      <td>[0-10)</td>\n",
       "      <td>?</td>\n",
       "      <td>6</td>\n",
       "      <td>25</td>\n",
       "      <td>1</td>\n",
       "      <td>1</td>\n",
       "      <td>...</td>\n",
       "      <td>No</td>\n",
       "      <td>No</td>\n",
       "      <td>No</td>\n",
       "      <td>No</td>\n",
       "      <td>No</td>\n",
       "      <td>No</td>\n",
       "      <td>No</td>\n",
       "      <td>No</td>\n",
       "      <td>No</td>\n",
       "      <td>NO</td>\n",
       "    </tr>\n",
       "    <tr>\n",
       "      <th>1</th>\n",
       "      <td>149190</td>\n",
       "      <td>55629189</td>\n",
       "      <td>Caucasian</td>\n",
       "      <td>Female</td>\n",
       "      <td>[10-20)</td>\n",
       "      <td>?</td>\n",
       "      <td>1</td>\n",
       "      <td>1</td>\n",
       "      <td>7</td>\n",
       "      <td>3</td>\n",
       "      <td>...</td>\n",
       "      <td>No</td>\n",
       "      <td>Up</td>\n",
       "      <td>No</td>\n",
       "      <td>No</td>\n",
       "      <td>No</td>\n",
       "      <td>No</td>\n",
       "      <td>No</td>\n",
       "      <td>Ch</td>\n",
       "      <td>Yes</td>\n",
       "      <td>&gt;30</td>\n",
       "    </tr>\n",
       "    <tr>\n",
       "      <th>2</th>\n",
       "      <td>64410</td>\n",
       "      <td>86047875</td>\n",
       "      <td>AfricanAmerican</td>\n",
       "      <td>Female</td>\n",
       "      <td>[20-30)</td>\n",
       "      <td>?</td>\n",
       "      <td>1</td>\n",
       "      <td>1</td>\n",
       "      <td>7</td>\n",
       "      <td>2</td>\n",
       "      <td>...</td>\n",
       "      <td>No</td>\n",
       "      <td>No</td>\n",
       "      <td>No</td>\n",
       "      <td>No</td>\n",
       "      <td>No</td>\n",
       "      <td>No</td>\n",
       "      <td>No</td>\n",
       "      <td>No</td>\n",
       "      <td>Yes</td>\n",
       "      <td>NO</td>\n",
       "    </tr>\n",
       "    <tr>\n",
       "      <th>3</th>\n",
       "      <td>500364</td>\n",
       "      <td>82442376</td>\n",
       "      <td>Caucasian</td>\n",
       "      <td>Male</td>\n",
       "      <td>[30-40)</td>\n",
       "      <td>?</td>\n",
       "      <td>1</td>\n",
       "      <td>1</td>\n",
       "      <td>7</td>\n",
       "      <td>2</td>\n",
       "      <td>...</td>\n",
       "      <td>No</td>\n",
       "      <td>Up</td>\n",
       "      <td>No</td>\n",
       "      <td>No</td>\n",
       "      <td>No</td>\n",
       "      <td>No</td>\n",
       "      <td>No</td>\n",
       "      <td>Ch</td>\n",
       "      <td>Yes</td>\n",
       "      <td>NO</td>\n",
       "    </tr>\n",
       "    <tr>\n",
       "      <th>4</th>\n",
       "      <td>16680</td>\n",
       "      <td>42519267</td>\n",
       "      <td>Caucasian</td>\n",
       "      <td>Male</td>\n",
       "      <td>[40-50)</td>\n",
       "      <td>?</td>\n",
       "      <td>1</td>\n",
       "      <td>1</td>\n",
       "      <td>7</td>\n",
       "      <td>1</td>\n",
       "      <td>...</td>\n",
       "      <td>No</td>\n",
       "      <td>Steady</td>\n",
       "      <td>No</td>\n",
       "      <td>No</td>\n",
       "      <td>No</td>\n",
       "      <td>No</td>\n",
       "      <td>No</td>\n",
       "      <td>Ch</td>\n",
       "      <td>Yes</td>\n",
       "      <td>NO</td>\n",
       "    </tr>\n",
       "  </tbody>\n",
       "</table>\n",
       "<p>5 rows × 50 columns</p>\n",
       "</div>"
      ],
      "text/plain": [
       "   encounter_id  patient_nbr             race  gender      age weight  \\\n",
       "0       2278392      8222157        Caucasian  Female   [0-10)      ?   \n",
       "1        149190     55629189        Caucasian  Female  [10-20)      ?   \n",
       "2         64410     86047875  AfricanAmerican  Female  [20-30)      ?   \n",
       "3        500364     82442376        Caucasian    Male  [30-40)      ?   \n",
       "4         16680     42519267        Caucasian    Male  [40-50)      ?   \n",
       "\n",
       "   admission_type_id  discharge_disposition_id  admission_source_id  \\\n",
       "0                  6                        25                    1   \n",
       "1                  1                         1                    7   \n",
       "2                  1                         1                    7   \n",
       "3                  1                         1                    7   \n",
       "4                  1                         1                    7   \n",
       "\n",
       "   time_in_hospital  ... citoglipton insulin  glyburide-metformin  \\\n",
       "0                 1  ...          No      No                   No   \n",
       "1                 3  ...          No      Up                   No   \n",
       "2                 2  ...          No      No                   No   \n",
       "3                 2  ...          No      Up                   No   \n",
       "4                 1  ...          No  Steady                   No   \n",
       "\n",
       "   glipizide-metformin  glimepiride-pioglitazone  metformin-rosiglitazone  \\\n",
       "0                   No                        No                       No   \n",
       "1                   No                        No                       No   \n",
       "2                   No                        No                       No   \n",
       "3                   No                        No                       No   \n",
       "4                   No                        No                       No   \n",
       "\n",
       "   metformin-pioglitazone  change diabetesMed readmitted  \n",
       "0                      No      No          No         NO  \n",
       "1                      No      Ch         Yes        >30  \n",
       "2                      No      No         Yes         NO  \n",
       "3                      No      Ch         Yes         NO  \n",
       "4                      No      Ch         Yes         NO  \n",
       "\n",
       "[5 rows x 50 columns]"
      ]
     },
     "metadata": {},
     "execution_count": 2
    }
   ],
   "metadata": {}
  },
  {
   "cell_type": "markdown",
   "source": [
    "## Look at column information"
   ],
   "metadata": {}
  },
  {
   "cell_type": "code",
   "execution_count": 3,
   "source": [
    "df.info()\r\n",
    "print(df.shape)"
   ],
   "outputs": [
    {
     "output_type": "stream",
     "name": "stdout",
     "text": [
      "<class 'pandas.core.frame.DataFrame'>\n",
      "RangeIndex: 101766 entries, 0 to 101765\n",
      "Data columns (total 50 columns):\n",
      " #   Column                    Non-Null Count   Dtype \n",
      "---  ------                    --------------   ----- \n",
      " 0   encounter_id              101766 non-null  int64 \n",
      " 1   patient_nbr               101766 non-null  int64 \n",
      " 2   race                      101766 non-null  object\n",
      " 3   gender                    101766 non-null  object\n",
      " 4   age                       101766 non-null  object\n",
      " 5   weight                    101766 non-null  object\n",
      " 6   admission_type_id         101766 non-null  int64 \n",
      " 7   discharge_disposition_id  101766 non-null  int64 \n",
      " 8   admission_source_id       101766 non-null  int64 \n",
      " 9   time_in_hospital          101766 non-null  int64 \n",
      " 10  payer_code                101766 non-null  object\n",
      " 11  medical_specialty         101766 non-null  object\n",
      " 12  num_lab_procedures        101766 non-null  int64 \n",
      " 13  num_procedures            101766 non-null  int64 \n",
      " 14  num_medications           101766 non-null  int64 \n",
      " 15  number_outpatient         101766 non-null  int64 \n",
      " 16  number_emergency          101766 non-null  int64 \n",
      " 17  number_inpatient          101766 non-null  int64 \n",
      " 18  diag_1                    101766 non-null  object\n",
      " 19  diag_2                    101766 non-null  object\n",
      " 20  diag_3                    101766 non-null  object\n",
      " 21  number_diagnoses          101766 non-null  int64 \n",
      " 22  max_glu_serum             101766 non-null  object\n",
      " 23  A1Cresult                 101766 non-null  object\n",
      " 24  metformin                 101766 non-null  object\n",
      " 25  repaglinide               101766 non-null  object\n",
      " 26  nateglinide               101766 non-null  object\n",
      " 27  chlorpropamide            101766 non-null  object\n",
      " 28  glimepiride               101766 non-null  object\n",
      " 29  acetohexamide             101766 non-null  object\n",
      " 30  glipizide                 101766 non-null  object\n",
      " 31  glyburide                 101766 non-null  object\n",
      " 32  tolbutamide               101766 non-null  object\n",
      " 33  pioglitazone              101766 non-null  object\n",
      " 34  rosiglitazone             101766 non-null  object\n",
      " 35  acarbose                  101766 non-null  object\n",
      " 36  miglitol                  101766 non-null  object\n",
      " 37  troglitazone              101766 non-null  object\n",
      " 38  tolazamide                101766 non-null  object\n",
      " 39  examide                   101766 non-null  object\n",
      " 40  citoglipton               101766 non-null  object\n",
      " 41  insulin                   101766 non-null  object\n",
      " 42  glyburide-metformin       101766 non-null  object\n",
      " 43  glipizide-metformin       101766 non-null  object\n",
      " 44  glimepiride-pioglitazone  101766 non-null  object\n",
      " 45  metformin-rosiglitazone   101766 non-null  object\n",
      " 46  metformin-pioglitazone    101766 non-null  object\n",
      " 47  change                    101766 non-null  object\n",
      " 48  diabetesMed               101766 non-null  object\n",
      " 49  readmitted                101766 non-null  object\n",
      "dtypes: int64(13), object(37)\n",
      "memory usage: 38.8+ MB\n",
      "(101766, 50)\n"
     ]
    }
   ],
   "metadata": {}
  },
  {
   "cell_type": "markdown",
   "source": [
    "## Histograms of numeric features\r\n",
    "\r\n",
    "The output below shows histograms of the numeric features. Three of these features will be converted to factors or categorical variables since the values represent categories or groups, and not actual numeric values.\r\n",
    "\r\n",
    "*  Admission Type ID\r\n",
    "*  Discharge Disposition ID\r\n",
    "*  Admission Source ID"
   ],
   "metadata": {}
  },
  {
   "cell_type": "code",
   "execution_count": 4,
   "source": [
    "df.hist(figsize=(14,14), xrot=50)"
   ],
   "outputs": [
    {
     "output_type": "execute_result",
     "data": {
      "text/plain": [
       "array([[<AxesSubplot:title={'center':'encounter_id'}>,\n",
       "        <AxesSubplot:title={'center':'patient_nbr'}>,\n",
       "        <AxesSubplot:title={'center':'admission_type_id'}>,\n",
       "        <AxesSubplot:title={'center':'discharge_disposition_id'}>],\n",
       "       [<AxesSubplot:title={'center':'admission_source_id'}>,\n",
       "        <AxesSubplot:title={'center':'time_in_hospital'}>,\n",
       "        <AxesSubplot:title={'center':'num_lab_procedures'}>,\n",
       "        <AxesSubplot:title={'center':'num_procedures'}>],\n",
       "       [<AxesSubplot:title={'center':'num_medications'}>,\n",
       "        <AxesSubplot:title={'center':'number_outpatient'}>,\n",
       "        <AxesSubplot:title={'center':'number_emergency'}>,\n",
       "        <AxesSubplot:title={'center':'number_inpatient'}>],\n",
       "       [<AxesSubplot:title={'center':'number_diagnoses'}>,\n",
       "        <AxesSubplot:>, <AxesSubplot:>, <AxesSubplot:>]], dtype=object)"
      ]
     },
     "metadata": {},
     "execution_count": 4
    },
    {
     "output_type": "display_data",
     "data": {
      "image/png": "[encoded data removed]",
      "text/plain": [
       "<Figure size 1008x1008 with 16 Axes>"
      ]
     },
     "metadata": {
      "needs_background": "light"
     }
    }
   ],
   "metadata": {}
  },
  {
   "cell_type": "markdown",
   "source": [
    "## Panda's Profile\n",
    "\n",
    "We used the code below to generate a Pandas profile, which allows use to do EDA quickly on the data set. It allows us to visualize and and understand the disbribution of each variable pretty easily. The HTML file will be included as part of the submission."
   ],
   "metadata": {}
  },
  {
   "cell_type": "code",
   "execution_count": 5,
   "source": [
    "# from pandas_profiling import ProfileReport\r\n",
    "# profile = ProfileReport(df, title=\"Diabetes Profiling Report\", minimal=True)\r\n",
    "# profile.to_file(output_file=\"DiabetesProfile.html\")"
   ],
   "outputs": [],
   "metadata": {}
  },
  {
   "cell_type": "markdown",
   "source": [
    "## Final Feature Set\n",
    "\n",
    "After evaluating the data above we decided to perform the following data preprocessing steps."
   ],
   "metadata": {}
  },
  {
   "cell_type": "markdown",
   "source": [
    "\r\n",
    "\r\n",
    "1- Remove Encounter ID, Patient NUBR (unique ids, not needed)\r\n",
    "\r\n",
    "2- Race -> It is a categorical variable, therefore we will impute the missing valuees with the Mode, which is Caucasian.\r\n",
    "\r\n",
    "3- Age -> Bin in 3 categories, young, middle and old\r\n",
    "\r\n",
    "4- Weight -> Remove, too many unknowns, there is more than 85% of the data that is unknown.\r\n",
    "\r\n",
    "5- Admission ID Type -> Merging values 5, 8 into 6 (see mapping spreadsheet). To put all the missing values in one place.\r\n",
    "\r\n",
    "6- Admission Source -> Merging values 9, 15, 20, 21 into 17. To put all the missing values in one place.\r\n",
    "\r\n",
    "7- Discharge disposition -> remove observations where the discharge disposition is related to hospice or death since these will not add to the possibility of being readmitted \r\n",
    "\r\n",
    "8- DX -> Bing by using the ICD code in order to have the diagnosis of cardiovascular, respiratory, GI, Endocrinology, Diabetes, Neoplasis, Injury, Uninary and others\r\n",
    "\r\n",
    "9- Remove Payor Code - not helpful, nearly 40% of the data is missing\r\n",
    "\r\n",
    "10- Remove Medical speciality - not helpful, 49% of the data is missing\r\n",
    "\r\n",
    "11- For the Categorical variables we will keep the none buckets, except examide and citoglipton since they only have one value\r\n",
    "\r\n",
    "12- Numerical features, some are normally distrbuted. We will use RobustScaler. The data that look non normaly distributed are the discrete numerical data, therefore we decide no to log transform the data,\r\n",
    "\r\n",
    "13- Readmitted -> Convert to binary as you will see in the code below."
   ],
   "metadata": {}
  },
  {
   "cell_type": "markdown",
   "source": [
    "## Drop Unnecessary Columns"
   ],
   "metadata": {}
  },
  {
   "cell_type": "markdown",
   "source": [
    "First delate the columns that are id of the patients or encounter, so they are usefull for the model, and the columns of weight which is important but the amount of missing values is too much to make it an useful variable, there is 97% of missing values. We also delete the examide medication and citoglipton medication because these features have only one value in the dataset."
   ],
   "metadata": {}
  },
  {
   "cell_type": "code",
   "execution_count": 6,
   "source": [
    "l=df[\"weight\"].value_counts(normalize=True)*100\r\n",
    "l"
   ],
   "outputs": [
    {
     "output_type": "execute_result",
     "data": {
      "text/plain": [
       "?            96.858479\n",
       "[75-100)      1.312816\n",
       "[50-75)       0.881434\n",
       "[100-125)     0.614154\n",
       "[125-150)     0.142484\n",
       "[25-50)       0.095317\n",
       "[0-25)        0.047167\n",
       "[150-175)     0.034393\n",
       "[175-200)     0.010809\n",
       ">200          0.002948\n",
       "Name: weight, dtype: float64"
      ]
     },
     "metadata": {},
     "execution_count": 6
    }
   ],
   "metadata": {}
  },
  {
   "cell_type": "code",
   "execution_count": 7,
   "source": [
    "df.columns"
   ],
   "outputs": [
    {
     "output_type": "execute_result",
     "data": {
      "text/plain": [
       "Index(['encounter_id', 'patient_nbr', 'race', 'gender', 'age', 'weight',\n",
       "       'admission_type_id', 'discharge_disposition_id', 'admission_source_id',\n",
       "       'time_in_hospital', 'payer_code', 'medical_specialty',\n",
       "       'num_lab_procedures', 'num_procedures', 'num_medications',\n",
       "       'number_outpatient', 'number_emergency', 'number_inpatient', 'diag_1',\n",
       "       'diag_2', 'diag_3', 'number_diagnoses', 'max_glu_serum', 'A1Cresult',\n",
       "       'metformin', 'repaglinide', 'nateglinide', 'chlorpropamide',\n",
       "       'glimepiride', 'acetohexamide', 'glipizide', 'glyburide', 'tolbutamide',\n",
       "       'pioglitazone', 'rosiglitazone', 'acarbose', 'miglitol', 'troglitazone',\n",
       "       'tolazamide', 'examide', 'citoglipton', 'insulin',\n",
       "       'glyburide-metformin', 'glipizide-metformin',\n",
       "       'glimepiride-pioglitazone', 'metformin-rosiglitazone',\n",
       "       'metformin-pioglitazone', 'change', 'diabetesMed', 'readmitted'],\n",
       "      dtype='object')"
      ]
     },
     "metadata": {},
     "execution_count": 7
    }
   ],
   "metadata": {}
  },
  {
   "cell_type": "code",
   "execution_count": 8,
   "source": [
    "df_reduced= df.drop(columns=['encounter_id','patient_nbr','weight','payer_code', 'medical_specialty', 'examide','citoglipton'])\r\n",
    "df_reduced.shape\r\n",
    "df_reduced.head()"
   ],
   "outputs": [
    {
     "output_type": "execute_result",
     "data": {
      "text/html": [
       "<div>\n",
       "<style scoped>\n",
       "    .dataframe tbody tr th:only-of-type {\n",
       "        vertical-align: middle;\n",
       "    }\n",
       "\n",
       "    .dataframe tbody tr th {\n",
       "        vertical-align: top;\n",
       "    }\n",
       "\n",
       "    .dataframe thead th {\n",
       "        text-align: right;\n",
       "    }\n",
       "</style>\n",
       "<table border=\"1\" class=\"dataframe\">\n",
       "  <thead>\n",
       "    <tr style=\"text-align: right;\">\n",
       "      <th></th>\n",
       "      <th>race</th>\n",
       "      <th>gender</th>\n",
       "      <th>age</th>\n",
       "      <th>admission_type_id</th>\n",
       "      <th>discharge_disposition_id</th>\n",
       "      <th>admission_source_id</th>\n",
       "      <th>time_in_hospital</th>\n",
       "      <th>num_lab_procedures</th>\n",
       "      <th>num_procedures</th>\n",
       "      <th>num_medications</th>\n",
       "      <th>...</th>\n",
       "      <th>tolazamide</th>\n",
       "      <th>insulin</th>\n",
       "      <th>glyburide-metformin</th>\n",
       "      <th>glipizide-metformin</th>\n",
       "      <th>glimepiride-pioglitazone</th>\n",
       "      <th>metformin-rosiglitazone</th>\n",
       "      <th>metformin-pioglitazone</th>\n",
       "      <th>change</th>\n",
       "      <th>diabetesMed</th>\n",
       "      <th>readmitted</th>\n",
       "    </tr>\n",
       "  </thead>\n",
       "  <tbody>\n",
       "    <tr>\n",
       "      <th>0</th>\n",
       "      <td>Caucasian</td>\n",
       "      <td>Female</td>\n",
       "      <td>[0-10)</td>\n",
       "      <td>6</td>\n",
       "      <td>25</td>\n",
       "      <td>1</td>\n",
       "      <td>1</td>\n",
       "      <td>41</td>\n",
       "      <td>0</td>\n",
       "      <td>1</td>\n",
       "      <td>...</td>\n",
       "      <td>No</td>\n",
       "      <td>No</td>\n",
       "      <td>No</td>\n",
       "      <td>No</td>\n",
       "      <td>No</td>\n",
       "      <td>No</td>\n",
       "      <td>No</td>\n",
       "      <td>No</td>\n",
       "      <td>No</td>\n",
       "      <td>NO</td>\n",
       "    </tr>\n",
       "    <tr>\n",
       "      <th>1</th>\n",
       "      <td>Caucasian</td>\n",
       "      <td>Female</td>\n",
       "      <td>[10-20)</td>\n",
       "      <td>1</td>\n",
       "      <td>1</td>\n",
       "      <td>7</td>\n",
       "      <td>3</td>\n",
       "      <td>59</td>\n",
       "      <td>0</td>\n",
       "      <td>18</td>\n",
       "      <td>...</td>\n",
       "      <td>No</td>\n",
       "      <td>Up</td>\n",
       "      <td>No</td>\n",
       "      <td>No</td>\n",
       "      <td>No</td>\n",
       "      <td>No</td>\n",
       "      <td>No</td>\n",
       "      <td>Ch</td>\n",
       "      <td>Yes</td>\n",
       "      <td>&gt;30</td>\n",
       "    </tr>\n",
       "    <tr>\n",
       "      <th>2</th>\n",
       "      <td>AfricanAmerican</td>\n",
       "      <td>Female</td>\n",
       "      <td>[20-30)</td>\n",
       "      <td>1</td>\n",
       "      <td>1</td>\n",
       "      <td>7</td>\n",
       "      <td>2</td>\n",
       "      <td>11</td>\n",
       "      <td>5</td>\n",
       "      <td>13</td>\n",
       "      <td>...</td>\n",
       "      <td>No</td>\n",
       "      <td>No</td>\n",
       "      <td>No</td>\n",
       "      <td>No</td>\n",
       "      <td>No</td>\n",
       "      <td>No</td>\n",
       "      <td>No</td>\n",
       "      <td>No</td>\n",
       "      <td>Yes</td>\n",
       "      <td>NO</td>\n",
       "    </tr>\n",
       "    <tr>\n",
       "      <th>3</th>\n",
       "      <td>Caucasian</td>\n",
       "      <td>Male</td>\n",
       "      <td>[30-40)</td>\n",
       "      <td>1</td>\n",
       "      <td>1</td>\n",
       "      <td>7</td>\n",
       "      <td>2</td>\n",
       "      <td>44</td>\n",
       "      <td>1</td>\n",
       "      <td>16</td>\n",
       "      <td>...</td>\n",
       "      <td>No</td>\n",
       "      <td>Up</td>\n",
       "      <td>No</td>\n",
       "      <td>No</td>\n",
       "      <td>No</td>\n",
       "      <td>No</td>\n",
       "      <td>No</td>\n",
       "      <td>Ch</td>\n",
       "      <td>Yes</td>\n",
       "      <td>NO</td>\n",
       "    </tr>\n",
       "    <tr>\n",
       "      <th>4</th>\n",
       "      <td>Caucasian</td>\n",
       "      <td>Male</td>\n",
       "      <td>[40-50)</td>\n",
       "      <td>1</td>\n",
       "      <td>1</td>\n",
       "      <td>7</td>\n",
       "      <td>1</td>\n",
       "      <td>51</td>\n",
       "      <td>0</td>\n",
       "      <td>8</td>\n",
       "      <td>...</td>\n",
       "      <td>No</td>\n",
       "      <td>Steady</td>\n",
       "      <td>No</td>\n",
       "      <td>No</td>\n",
       "      <td>No</td>\n",
       "      <td>No</td>\n",
       "      <td>No</td>\n",
       "      <td>Ch</td>\n",
       "      <td>Yes</td>\n",
       "      <td>NO</td>\n",
       "    </tr>\n",
       "  </tbody>\n",
       "</table>\n",
       "<p>5 rows × 43 columns</p>\n",
       "</div>"
      ],
      "text/plain": [
       "              race  gender      age  admission_type_id  \\\n",
       "0        Caucasian  Female   [0-10)                  6   \n",
       "1        Caucasian  Female  [10-20)                  1   \n",
       "2  AfricanAmerican  Female  [20-30)                  1   \n",
       "3        Caucasian    Male  [30-40)                  1   \n",
       "4        Caucasian    Male  [40-50)                  1   \n",
       "\n",
       "   discharge_disposition_id  admission_source_id  time_in_hospital  \\\n",
       "0                        25                    1                 1   \n",
       "1                         1                    7                 3   \n",
       "2                         1                    7                 2   \n",
       "3                         1                    7                 2   \n",
       "4                         1                    7                 1   \n",
       "\n",
       "   num_lab_procedures  num_procedures  num_medications  ...  tolazamide  \\\n",
       "0                  41               0                1  ...          No   \n",
       "1                  59               0               18  ...          No   \n",
       "2                  11               5               13  ...          No   \n",
       "3                  44               1               16  ...          No   \n",
       "4                  51               0                8  ...          No   \n",
       "\n",
       "   insulin  glyburide-metformin glipizide-metformin glimepiride-pioglitazone  \\\n",
       "0       No                   No                  No                       No   \n",
       "1       Up                   No                  No                       No   \n",
       "2       No                   No                  No                       No   \n",
       "3       Up                   No                  No                       No   \n",
       "4   Steady                   No                  No                       No   \n",
       "\n",
       "  metformin-rosiglitazone  metformin-pioglitazone change diabetesMed  \\\n",
       "0                      No                      No     No          No   \n",
       "1                      No                      No     Ch         Yes   \n",
       "2                      No                      No     No         Yes   \n",
       "3                      No                      No     Ch         Yes   \n",
       "4                      No                      No     Ch         Yes   \n",
       "\n",
       "  readmitted  \n",
       "0         NO  \n",
       "1        >30  \n",
       "2         NO  \n",
       "3         NO  \n",
       "4         NO  \n",
       "\n",
       "[5 rows x 43 columns]"
      ]
     },
     "metadata": {},
     "execution_count": 8
    }
   ],
   "metadata": {}
  },
  {
   "cell_type": "markdown",
   "source": [
    "## Categorize Diagnosis Codes into Clinical Groups\r\n",
    "\r\n",
    "We decided to categorize the diagnosis codes into clinical groups, according to the following paper.\r\n",
    "\r\n",
    "https://www.hindawi.com/journals/bmri/2014/781670/tab2/"
   ],
   "metadata": {}
  },
  {
   "cell_type": "code",
   "execution_count": 9,
   "source": [
    "# Function to Categorize DX based on URL ...\r\n",
    "def bin_dx(code):\r\n",
    "    try:\r\n",
    "        code = float(code)\r\n",
    "    except:\r\n",
    "        code = 0\r\n",
    "\r\n",
    "    # Circulatory\r\n",
    "    if code in range(390,460) or code == 785:\r\n",
    "        return(\"Circulatory\")\r\n",
    "\r\n",
    "    # Respiratory\r\n",
    "    elif code in range(460,520) or code == 786:\r\n",
    "        return(\"Respiratory\")\r\n",
    "\r\n",
    "    # Digestive\r\n",
    "    elif code in range(520,580) or code == 787:\r\n",
    "        return(\"Digestive\")\r\n",
    "\r\n",
    "    # Diabetes\r\n",
    "    elif code >= 250 and code < 251:\r\n",
    "        return(\"Diabetes\")\r\n",
    "\r\n",
    "    # Injury\r\n",
    "    elif code in range(800,1000):\r\n",
    "        return(\"Injury\")\r\n",
    "\r\n",
    "    # Musculoskeletal\r\n",
    "    elif code in range(710,740):\r\n",
    "        return(\"Musculoskeletal\")\r\n",
    "\r\n",
    "    # Genitourinary\r\n",
    "    elif code in range(580,630) or code == 788:\r\n",
    "        return(\"Genitourinary\")\r\n",
    "\r\n",
    "    # Neoplasms\r\n",
    "    elif code in range(140,240):\r\n",
    "        return(\"Neoplasms\")\r\n",
    "    elif code in range(780,783) or code == 784:\r\n",
    "        return(\"Neoplasms\")\r\n",
    "    elif code in range(790,800):\r\n",
    "        return(\"Neoplasms\")\r\n",
    "    elif code in range(240,250):\r\n",
    "        return(\"Neoplasms\")\r\n",
    "    elif code in range(251,280):\r\n",
    "        return(\"Neoplasms\")\r\n",
    "    elif code in range(680,710):\r\n",
    "        return(\"Neoplasms\")\r\n",
    "    elif code in range(1,140):\r\n",
    "        return(\"Neoplasms\")\r\n",
    "    elif code in range(290,320):\r\n",
    "        return(\"Neoplasms\")\r\n",
    "\r\n",
    "    # Other\r\n",
    "    else:\r\n",
    "        return(\"Other\")"
   ],
   "outputs": [],
   "metadata": {}
  },
  {
   "cell_type": "code",
   "execution_count": 10,
   "source": [
    "df_reduced[\"Diag1\"] = df_reduced[\"diag_1\"].apply(bin_dx)\r\n",
    "df_reduced[\"Diag2\"] = df_reduced[\"diag_2\"].apply(bin_dx)\r\n",
    "df_reduced[\"Diag3\"] = df_reduced[\"diag_3\"].apply(bin_dx)\r\n",
    "\r\n",
    "\r\n",
    "print(df_reduced[\"Diag1\"].value_counts())\r\n",
    "print(\"\")\r\n",
    "print(df_reduced[\"Diag2\"].value_counts())\r\n",
    "print(\"\")\r\n",
    "print(df_reduced[\"Diag3\"].value_counts())"
   ],
   "outputs": [
    {
     "output_type": "stream",
     "name": "stdout",
     "text": [
      "Circulatory        30437\n",
      "Neoplasms          16318\n",
      "Respiratory        14423\n",
      "Digestive           9475\n",
      "Diabetes            8757\n",
      "Injury              6974\n",
      "Other               5308\n",
      "Genitourinary       5117\n",
      "Musculoskeletal     4957\n",
      "Name: Diag1, dtype: int64\n",
      "\n",
      "Circulatory        31881\n",
      "Neoplasms          21462\n",
      "Diabetes           12794\n",
      "Respiratory        10895\n",
      "Genitourinary       8376\n",
      "Other               7996\n",
      "Digestive           4170\n",
      "Injury              2428\n",
      "Musculoskeletal     1764\n",
      "Name: Diag2, dtype: int64\n",
      "\n",
      "Circulatory        30306\n",
      "Neoplasms          20985\n",
      "Diabetes           17157\n",
      "Other              11489\n",
      "Respiratory         7358\n",
      "Genitourinary       6680\n",
      "Digestive           3930\n",
      "Injury              1946\n",
      "Musculoskeletal     1915\n",
      "Name: Diag3, dtype: int64\n"
     ]
    }
   ],
   "metadata": {}
  },
  {
   "cell_type": "code",
   "execution_count": 11,
   "source": [
    "df_reduced = df_reduced.drop(columns=['diag_1', 'diag_2', 'diag_3'])"
   ],
   "outputs": [],
   "metadata": {}
  },
  {
   "cell_type": "markdown",
   "source": [
    "## Categorize Age Attribute\r\n",
    "\r\n",
    "Below we categorize the age attribute into 3 categories, young, midage and old."
   ],
   "metadata": {}
  },
  {
   "cell_type": "code",
   "execution_count": 12,
   "source": [
    "print(df_reduced[\"age\"].value_counts())\r\n",
    "di = {'[70-80)': 'Old', '[60-70)': 'Old', '[80-90)': 'Old', '[90-100)': 'Old', '[50-60)': 'Midage', '[40-50)': 'Midage', '[30-40)': 'Young', '[20-30)': 'Young', '[10-20)': 'Young', '[0-10)': 'Young'}\r\n",
    "\r\n",
    "df_reduced[\"age\"].replace(di, inplace=True)\r\n",
    "print(df_reduced[\"age\"].value_counts())\r\n",
    " "
   ],
   "outputs": [
    {
     "output_type": "stream",
     "name": "stdout",
     "text": [
      "[70-80)     26068\n",
      "[60-70)     22483\n",
      "[50-60)     17256\n",
      "[80-90)     17197\n",
      "[40-50)      9685\n",
      "[30-40)      3775\n",
      "[90-100)     2793\n",
      "[20-30)      1657\n",
      "[10-20)       691\n",
      "[0-10)        161\n",
      "Name: age, dtype: int64\n",
      "Old       68541\n",
      "Midage    26941\n",
      "Young      6284\n",
      "Name: age, dtype: int64\n"
     ]
    }
   ],
   "metadata": {}
  },
  {
   "cell_type": "markdown",
   "source": [
    "## Group features together for Admission Type and Admission Source\r\n",
    "\r\n",
    "Some of the features or categories can be grouped together. For Admission Type we will place the following three values into the same group, since they sort of represent the same thing.\r\n",
    "\r\n",
    "* 5 - Not Available\r\n",
    "* 6 - Null\r\n",
    "* 8 - Not Mapped\r\n",
    "\r\n",
    "For Admission Source we will place the following five values into the same group:\r\n",
    "\r\n",
    "* 9 - Not Available\r\n",
    "* 15 - Not Available\r\n",
    "* 17 - NULL\r\n",
    "* 20 - Not Mapped\r\n",
    "* 21 - Unknown/Invalid\r\n",
    "\r\n"
   ],
   "metadata": {}
  },
  {
   "cell_type": "code",
   "execution_count": 13,
   "source": [
    "# reagenge the id coluns can be useful in a way that all the missing values is place in one place and make it categorical\r\n",
    "# admission_type_id\r\n",
    "df_reduced.admission_type_id.replace(to_replace = 5, value = 6, inplace = True)\r\n",
    "df_reduced.admission_type_id.replace(to_replace = 8, value = 6, inplace = True)\r\n",
    "df_reduced.admission_type_id = df_reduced.admission_type_id.astype(str)\r\n",
    "\r\n",
    "# admission_source_id\r\n",
    "df_reduced.admission_source_id.replace(to_replace = 9, value = 17, inplace = True)\r\n",
    "df_reduced.admission_source_id.replace(to_replace = 15, value = 17, inplace = True)\r\n",
    "df_reduced.admission_source_id.replace(to_replace = 20, value = 17, inplace = True)\r\n",
    "df_reduced.admission_source_id.replace(to_replace = 21, value = 17, inplace = True)\r\n",
    "df_reduced.admission_source_id= df_reduced.admission_source_id.astype(str)"
   ],
   "outputs": [],
   "metadata": {}
  },
  {
   "cell_type": "markdown",
   "source": [
    "## Next, we remove observations where the discharge disposition is related to hospice or death since these will not add to the possibility of being readmitted."
   ],
   "metadata": {}
  },
  {
   "cell_type": "code",
   "execution_count": 14,
   "source": [
    "indexNames = df_reduced[df_reduced['discharge_disposition_id'].isin([11,13,14,19,20,21])].index\r\n",
    "df_reduced.drop(indexNames, inplace=True)\r\n",
    "\r\n",
    "print(df_reduced['discharge_disposition_id'].value_counts())"
   ],
   "outputs": [
    {
     "output_type": "stream",
     "name": "stdout",
     "text": [
      "1     60234\n",
      "3     13954\n",
      "6     12902\n",
      "18     3691\n",
      "2      2128\n",
      "22     1993\n",
      "5      1184\n",
      "25      989\n",
      "4       815\n",
      "7       623\n",
      "23      412\n",
      "28      139\n",
      "8       108\n",
      "15       63\n",
      "24       48\n",
      "9        21\n",
      "17       14\n",
      "16       11\n",
      "10        6\n",
      "27        5\n",
      "12        3\n",
      "Name: discharge_disposition_id, dtype: int64\n"
     ]
    }
   ],
   "metadata": {}
  },
  {
   "cell_type": "markdown",
   "source": [
    "## Make our response variable a binary variable\n",
    "\n",
    "The response has 3 values, but we will convert it to binary, if the patient is readmitted within 30 days, the value will be 1, otherwise it will be 0."
   ],
   "metadata": {}
  },
  {
   "cell_type": "code",
   "execution_count": 15,
   "source": [
    "di = {'NO': 0, '>30': 0, '<30': 1}\r\n",
    "\r\n",
    "df_reduced[\"readmitted\"].replace(di, inplace=True)\r\n",
    "print(df_reduced[\"readmitted\"].value_counts())"
   ],
   "outputs": [
    {
     "output_type": "stream",
     "name": "stdout",
     "text": [
      "0    88029\n",
      "1    11314\n",
      "Name: readmitted, dtype: int64\n"
     ]
    }
   ],
   "metadata": {}
  },
  {
   "cell_type": "markdown",
   "source": [
    "## Plot the readmission variable to show a big inbalance in the response"
   ],
   "metadata": {}
  },
  {
   "cell_type": "code",
   "execution_count": 16,
   "source": [
    "plt.hist(df_reduced[\"readmitted\"])\r\n",
    "my_xtick = [0, 0.5, 1]\r\n",
    "my_xtick_labels = ['0' , '', '1']\r\n",
    "plt.xticks(my_xtick, my_xtick_labels, fontsize=8)\r\n",
    "plt.xlabel(\"Readmission\")\r\n",
    "plt.ylabel(\"Count\")\r\n",
    "plt.show()"
   ],
   "outputs": [
    {
     "output_type": "display_data",
     "data": {
      "image/png": "[encoded data removed]",
      "text/plain": [
       "<Figure size 432x288 with 1 Axes>"
      ]
     },
     "metadata": {
      "needs_background": "light"
     }
    }
   ],
   "metadata": {}
  },
  {
   "cell_type": "markdown",
   "source": [
    "# Model Preparation"
   ],
   "metadata": {}
  },
  {
   "cell_type": "markdown",
   "source": [
    "We decided to use a grid search method to figure the best hyperparameter to choose and to select with lasso the most important variables or to suppress the less important variables with the ridge regularization method. We would use the regularization inside the grid. The models will be evaluated and selected according to the best performance base on the AUC metric. Also, we will scale the numeric variables with robust scaler, and one hot encode the categorical variables; furthermore, we will impute with mean the numerical variables, and impute with mode the categorical variables.\r\n",
    "\r\n",
    "We will choose the AUC metric. The reason why we will use the AUC metric to select the model is because ROC curves are widely used to compare and evaluate different classification algorithms, and ROC curve is widely used when the dataset is imbalanced. \r\n",
    "\r\n",
    "A Receiver Operating Characteristic curve or ROC curve is created by plotting the True Positive (TP) against the False Positive (FP) at various threshold settings. The ROC curve is generated by plotting the cumulative distribution function of the True Positive in the y-axis versus the cumulative distribution function of the False Positive on the x-axis. The area under the ROC curve (ROC AUC) is the single-valued metric used for evaluating the performance. The higher the AUC, the better the performance of the model at distinguishing between the classes. In general, an AUC of 0.5 suggests no discrimination, a value between 0.5–0.7 is acceptable and anything above 0.7 is good-to-go-model. However, medical diagnosis models, usually AUC of 0.95 or more is considered to be good-to-go-model. We did not use accuracy to evaluate the model because the data is very imbalance. \r\n",
    "\r\n",
    "We also used smote due to data imbalance. SMOTE (Synthetic Minority Over-sampling Technique) comes in handy. You can use it to oversample the minority class. SMOTE is a type of data augmentation that synthesizes new samples from the existing ones. Furthermore, in order to deal with data inbalance we will perform stratified k fold cross validation. \r\n",
    "\r\n",
    "We will use the precision and recall together with confusion matrix to evaluate the selected model. But in order to select the model we will use only the AUC. Precision is the fraction of the correctly classified instances from the total classified instances. Recall is the fraction of the correctly classified instances from the total true positive instances. The confusion matrix provides detailed results of the classification."
   ],
   "metadata": {}
  },
  {
   "cell_type": "markdown",
   "source": [
    "# Modeling  & Building Evaluation\r\n",
    "\r\n",
    "We'll use sklearn to build a logistic regression model. The first step we take is to define our numerical and categorical features. Then define X and y as usual."
   ],
   "metadata": {}
  },
  {
   "cell_type": "code",
   "execution_count": 17,
   "source": [
    "categorical_features = ['race', 'gender', 'max_glu_serum', 'A1Cresult', 'metformin', 'repaglinide', 'nateglinide','chlorpropamide',\r\n",
    "                        'glimepiride', 'acetohexamide', 'glipizide','glyburide', 'tolbutamide', 'pioglitazone', 'rosiglitazone', \r\n",
    "                        'acarbose','miglitol', 'troglitazone', 'tolazamide', 'insulin', 'glyburide-metformin', 'glipizide-metformin',\r\n",
    "                        'glimepiride-pioglitazone', 'metformin-rosiglitazone', 'metformin-pioglitazone', 'change', 'diabetesMed',\r\n",
    "                        'Diag1', 'Diag2','Diag3', 'age', 'admission_type_id', 'discharge_disposition_id','admission_source_id']\r\n",
    "\r\n",
    "numeric_features = ['time_in_hospital', 'num_lab_procedures','num_procedures', 'num_medications', 'number_outpatient', \r\n",
    "                    'number_emergency', 'number_inpatient', 'number_diagnoses']\r\n",
    "\r\n",
    "X = df_reduced[categorical_features + numeric_features]\r\n",
    "y = df_reduced['readmitted']\r\n",
    "\r\n",
    "# Verify shapes\r\n",
    "print(df_reduced.shape)\r\n",
    "print(X.shape)\r\n",
    "print(y.shape)"
   ],
   "outputs": [
    {
     "output_type": "stream",
     "name": "stdout",
     "text": [
      "(99343, 43)\n",
      "(99343, 42)\n",
      "(99343,)\n"
     ]
    }
   ],
   "metadata": {}
  },
  {
   "cell_type": "markdown",
   "source": [
    "## Logistic Regression Grid Search\r\n",
    "\r\n",
    "Below we define a pipeline which includes the following steps:\r\n",
    "\r\n",
    "Numeric Transformer - Imputes missing values with median and uses the RobustScaler to scale the data\r\n",
    "Categorical Transformer - Imputed missing values wiht most frequeent and One hot encodes categorical features\r\n",
    "\r\n",
    "The two steps above make the Prepocessor stage of the pipeline. As mentioned earlier, we also include SMOTE in the pipeline to upsample the minority class.\r\n",
    "\r\n",
    "Grid Search is setup cycle through different penalties for both L1 and L2. Note that we have to define different solvers in the grid search. Cross validation score is based on the AUC metric. We additionall use Stratified K-Fold cross validation to keep the classes in balance, although perhaps not needed since we do use SMOTE to blance the classes."
   ],
   "metadata": {}
  },
  {
   "cell_type": "code",
   "execution_count": 18,
   "source": [
    "X_train, X_test, y_train, y_test = train_test_split(X,\r\n",
    "                                                    y,\r\n",
    "                                                    test_size=0.2,\r\n",
    "                                                    stratify=y,\r\n",
    "                                                    random_state=11)\r\n",
    "\r\n",
    "numeric_transformer = Pipeline(steps=[\r\n",
    "    ('imputer', SimpleImputer(missing_values=np.nan, strategy=\"median\")),\r\n",
    "    ('scaler', RobustScaler(with_centering=False))])\r\n",
    "\r\n",
    "categorical_transformer = Pipeline(steps=[\r\n",
    "    ('imputer', SimpleImputer(missing_values=np.nan, strategy=\"most_frequent\")),\r\n",
    "    ('onehot', OneHotEncoder(handle_unknown='ignore'))])\r\n",
    "\r\n",
    "preprocessor = ColumnTransformer(\r\n",
    "    transformers=[\r\n",
    "        ('num', numeric_transformer, numeric_features),\r\n",
    "        ('cat', categorical_transformer, categorical_features)])\r\n",
    "\r\n",
    "\r\n",
    "pipeline = imbpipeline(steps = [['preprocessor', preprocessor],\r\n",
    "                                ['smote', SMOTE(random_state=11)],\r\n",
    "                                ['classifier', LogisticRegression(random_state=11,\r\n",
    "                                                                  max_iter=1000, n_jobs=-1)]])\r\n",
    "\r\n",
    "stratified_kfold = StratifiedKFold(n_splits=3,\r\n",
    "                                       shuffle=True,\r\n",
    "                                       random_state=11)\r\n",
    "\r\n",
    "param_grid = [{'classifier__C': [0.001, 0.01, 0.1, 1, 10, 100, 1000],\r\n",
    "               'classifier__penalty': ['l1'],\r\n",
    "               'classifier__solver': ['saga']},\r\n",
    "              {'classifier__C': [0.001, 0.01, 0.1, 1, 10, 100, 1000],\r\n",
    "               'classifier__penalty': ['l2'],\r\n",
    "               'classifier__solver': ['lbfgs']}\r\n",
    "             ]\r\n",
    "              \r\n",
    "grid_search = GridSearchCV(estimator=pipeline,\r\n",
    "                           param_grid=param_grid,\r\n",
    "                           scoring='roc_auc',\r\n",
    "                           cv=stratified_kfold,\r\n",
    "                           n_jobs=-1)\r\n",
    "\r\n",
    "grid_search.fit(X_train, y_train)\r\n",
    "cv_score = grid_search.best_score_\r\n",
    "test_score = grid_search.score(X_test, y_test)\r\n",
    "print(f'Cross-validation score: {cv_score}\\nTest score: {test_score}')"
   ],
   "outputs": [
    {
     "output_type": "stream",
     "name": "stdout",
     "text": [
      "Cross-validation score: 0.6446633628806032\n",
      "Test score: 0.6508134127937846\n"
     ]
    },
    {
     "output_type": "stream",
     "name": "stderr",
     "text": [
      "C:\\Users\\dancr\\miniconda3\\envs\\NLP\\lib\\site-packages\\sklearn\\linear_model\\_sag.py:328: ConvergenceWarning: The max_iter was reached which means the coef_ did not converge\n",
      "  warnings.warn(\"The max_iter was reached which means \"\n"
     ]
    }
   ],
   "metadata": {}
  },
  {
   "cell_type": "markdown",
   "source": [
    "The above we see our best cross validation score is 0.64 and that the score on the test set was consistent.\r\n",
    "\r\n",
    "The code below creates a second pipeline, but in which case we don't use SMOTE. We'll use this later to explore how it impacts which threshold to use if you want to optimize say Recall."
   ],
   "metadata": {}
  },
  {
   "cell_type": "code",
   "execution_count": 20,
   "source": [
    "pipeline2 = imbpipeline(steps = [['preprocessor', preprocessor],\r\n",
    "                                ['classifier', LogisticRegression(random_state=11,\r\n",
    "                                                                  max_iter=1000, n_jobs=-1)]])\r\n",
    "              \r\n",
    "grid_search_2 = GridSearchCV(estimator=pipeline2,\r\n",
    "                           param_grid=param_grid,\r\n",
    "                           scoring='roc_auc',\r\n",
    "                           cv=stratified_kfold,\r\n",
    "                           n_jobs=-1)\r\n",
    "\r\n",
    "grid_search_2.fit(X_train, y_train)\r\n",
    "cv_score_2 = grid_search_2.best_score_\r\n",
    "test_score_2 = grid_search_2.score(X_test, y_test)\r\n",
    "print(f'Cross-validation score: {cv_score_2}\\nTest score: {test_score_2}')"
   ],
   "outputs": [
    {
     "output_type": "stream",
     "name": "stderr",
     "text": [
      "C:\\Users\\dancr\\miniconda3\\envs\\NLP\\lib\\site-packages\\sklearn\\linear_model\\_sag.py:328: ConvergenceWarning: The max_iter was reached which means the coef_ did not converge\n",
      "  warnings.warn(\"The max_iter was reached which means \"\n"
     ]
    },
    {
     "output_type": "stream",
     "name": "stdout",
     "text": [
      "Cross-validation score: 0.6583959531044415\n",
      "Test score: 0.6684938584740098\n"
     ]
    }
   ],
   "metadata": {}
  },
  {
   "cell_type": "markdown",
   "source": [
    "## Best Estimator\r\n",
    "\r\n",
    "Below we output test scores for the different combinations of penalty and solver. What we find is that our L1 model performed best, but not signfiicantly."
   ],
   "metadata": {}
  },
  {
   "cell_type": "code",
   "execution_count": 21,
   "source": [
    "results_LR = pd.DataFrame(grid_search.cv_results_['params'])\r\n",
    "results_LR['test_score'] = grid_search.cv_results_['mean_test_score']\r\n",
    "results_LR "
   ],
   "outputs": [
    {
     "output_type": "execute_result",
     "data": {
      "text/html": [
       "<div>\n",
       "<style scoped>\n",
       "    .dataframe tbody tr th:only-of-type {\n",
       "        vertical-align: middle;\n",
       "    }\n",
       "\n",
       "    .dataframe tbody tr th {\n",
       "        vertical-align: top;\n",
       "    }\n",
       "\n",
       "    .dataframe thead th {\n",
       "        text-align: right;\n",
       "    }\n",
       "</style>\n",
       "<table border=\"1\" class=\"dataframe\">\n",
       "  <thead>\n",
       "    <tr style=\"text-align: right;\">\n",
       "      <th></th>\n",
       "      <th>classifier__C</th>\n",
       "      <th>classifier__penalty</th>\n",
       "      <th>classifier__solver</th>\n",
       "      <th>test_score</th>\n",
       "    </tr>\n",
       "  </thead>\n",
       "  <tbody>\n",
       "    <tr>\n",
       "      <th>0</th>\n",
       "      <td>0.001</td>\n",
       "      <td>l1</td>\n",
       "      <td>saga</td>\n",
       "      <td>0.644475</td>\n",
       "    </tr>\n",
       "    <tr>\n",
       "      <th>1</th>\n",
       "      <td>0.010</td>\n",
       "      <td>l1</td>\n",
       "      <td>saga</td>\n",
       "      <td>0.644663</td>\n",
       "    </tr>\n",
       "    <tr>\n",
       "      <th>2</th>\n",
       "      <td>0.100</td>\n",
       "      <td>l1</td>\n",
       "      <td>saga</td>\n",
       "      <td>0.639719</td>\n",
       "    </tr>\n",
       "    <tr>\n",
       "      <th>3</th>\n",
       "      <td>1.000</td>\n",
       "      <td>l1</td>\n",
       "      <td>saga</td>\n",
       "      <td>0.637907</td>\n",
       "    </tr>\n",
       "    <tr>\n",
       "      <th>4</th>\n",
       "      <td>10.000</td>\n",
       "      <td>l1</td>\n",
       "      <td>saga</td>\n",
       "      <td>0.637558</td>\n",
       "    </tr>\n",
       "    <tr>\n",
       "      <th>5</th>\n",
       "      <td>100.000</td>\n",
       "      <td>l1</td>\n",
       "      <td>saga</td>\n",
       "      <td>0.637523</td>\n",
       "    </tr>\n",
       "    <tr>\n",
       "      <th>6</th>\n",
       "      <td>1000.000</td>\n",
       "      <td>l1</td>\n",
       "      <td>saga</td>\n",
       "      <td>0.637520</td>\n",
       "    </tr>\n",
       "    <tr>\n",
       "      <th>7</th>\n",
       "      <td>0.001</td>\n",
       "      <td>l2</td>\n",
       "      <td>lbfgs</td>\n",
       "      <td>0.642232</td>\n",
       "    </tr>\n",
       "    <tr>\n",
       "      <th>8</th>\n",
       "      <td>0.010</td>\n",
       "      <td>l2</td>\n",
       "      <td>lbfgs</td>\n",
       "      <td>0.639983</td>\n",
       "    </tr>\n",
       "    <tr>\n",
       "      <th>9</th>\n",
       "      <td>0.100</td>\n",
       "      <td>l2</td>\n",
       "      <td>lbfgs</td>\n",
       "      <td>0.638367</td>\n",
       "    </tr>\n",
       "    <tr>\n",
       "      <th>10</th>\n",
       "      <td>1.000</td>\n",
       "      <td>l2</td>\n",
       "      <td>lbfgs</td>\n",
       "      <td>0.637466</td>\n",
       "    </tr>\n",
       "    <tr>\n",
       "      <th>11</th>\n",
       "      <td>10.000</td>\n",
       "      <td>l2</td>\n",
       "      <td>lbfgs</td>\n",
       "      <td>0.637235</td>\n",
       "    </tr>\n",
       "    <tr>\n",
       "      <th>12</th>\n",
       "      <td>100.000</td>\n",
       "      <td>l2</td>\n",
       "      <td>lbfgs</td>\n",
       "      <td>0.637186</td>\n",
       "    </tr>\n",
       "    <tr>\n",
       "      <th>13</th>\n",
       "      <td>1000.000</td>\n",
       "      <td>l2</td>\n",
       "      <td>lbfgs</td>\n",
       "      <td>0.637159</td>\n",
       "    </tr>\n",
       "  </tbody>\n",
       "</table>\n",
       "</div>"
      ],
      "text/plain": [
       "    classifier__C classifier__penalty classifier__solver  test_score\n",
       "0           0.001                  l1               saga    0.644475\n",
       "1           0.010                  l1               saga    0.644663\n",
       "2           0.100                  l1               saga    0.639719\n",
       "3           1.000                  l1               saga    0.637907\n",
       "4          10.000                  l1               saga    0.637558\n",
       "5         100.000                  l1               saga    0.637523\n",
       "6        1000.000                  l1               saga    0.637520\n",
       "7           0.001                  l2              lbfgs    0.642232\n",
       "8           0.010                  l2              lbfgs    0.639983\n",
       "9           0.100                  l2              lbfgs    0.638367\n",
       "10          1.000                  l2              lbfgs    0.637466\n",
       "11         10.000                  l2              lbfgs    0.637235\n",
       "12        100.000                  l2              lbfgs    0.637186\n",
       "13       1000.000                  l2              lbfgs    0.637159"
      ]
     },
     "metadata": {},
     "execution_count": 21
    }
   ],
   "metadata": {}
  },
  {
   "cell_type": "code",
   "execution_count": 22,
   "source": [
    "print(grid_search.best_params_)"
   ],
   "outputs": [
    {
     "output_type": "stream",
     "name": "stdout",
     "text": [
      "{'classifier__C': 0.01, 'classifier__penalty': 'l1', 'classifier__solver': 'saga'}\n"
     ]
    }
   ],
   "metadata": {}
  },
  {
   "cell_type": "markdown",
   "source": [
    "## Feature Importance\r\n",
    "\r\n",
    "Below we use a cool library that allows use to output the weights of the features from our gridsearch object. We can use this to see which features are important in our model.\r\n",
    "\r\n",
    "The code below outputs the top 10 features, the top 5. The top 5 features potentially show us those features that are most likely to increase the chance of readmission, while the  Discharge Disposition 22 is the most signficant feature\r\n",
    "\r\n",
    "The code below outputs the top 5 features that are most likely to increase the chance of readmission, along with the bottom 5 features that are most likely to decrease it. Dischange disposition 22 (Discharged/transferred to another rehab fac including rehab units of a hospital) is the most signficant feature to contribute to readmission. This corresponds to ischarged/transferred to another rehab fac including rehab units of a hospital. On the other hand, having Insulin of No along with being Discharged to Home (1) with some medications (pioglitzone and metformin) perhaps reduces the chance of readmission."
   ],
   "metadata": {}
  },
  {
   "cell_type": "code",
   "execution_count": 30,
   "source": [
    "import eli5\r\n",
    "\r\n",
    "onehot_columns = list(grid_search.best_estimator_.named_steps['preprocessor'].named_transformers_['cat'].named_steps['onehot'].get_feature_names(input_features=categorical_features))\r\n",
    "numeric_features_list = list(numeric_features)\r\n",
    "numeric_features_list.extend(onehot_columns)\r\n",
    "\r\n",
    "eli5.explain_weights(grid_search.best_estimator_.named_steps['classifier'], top=50, feature_names=numeric_features_list)"
   ],
   "outputs": [
    {
     "data": {
      "text/html": [
       "\n",
       "    <style>\n",
       "    table.eli5-weights tr:hover {\n",
       "        filter: brightness(85%);\n",
       "    }\n",
       "</style>\n",
       "\n",
       "\n",
       "\n",
       "    \n",
       "\n",
       "    \n",
       "\n",
       "    \n",
       "\n",
       "    \n",
       "\n",
       "    \n",
       "\n",
       "    \n",
       "\n",
       "\n",
       "    \n",
       "\n",
       "    \n",
       "\n",
       "    \n",
       "\n",
       "    \n",
       "        \n",
       "\n",
       "    \n",
       "\n",
       "        \n",
       "            \n",
       "                \n",
       "                \n",
       "    \n",
       "        <p style=\"margin-bottom: 0.5em; margin-top: 0em\">\n",
       "            <b>\n",
       "    \n",
       "        y=1\n",
       "    \n",
       "</b>\n",
       "\n",
       "top features\n",
       "        </p>\n",
       "    \n",
       "    <table class=\"eli5-weights\"\n",
       "           style=\"border-collapse: collapse; border: none; margin-top: 0em; table-layout: auto; margin-bottom: 2em;\">\n",
       "        <thead>\n",
       "        <tr style=\"border: none;\">\n",
       "            \n",
       "                <th style=\"padding: 0 1em 0 0.5em; text-align: right; border: none;\" title=\"Feature weights. Note that weights do not account for feature value scales, so if feature values have different scales, features with highest weights might not be the most important.\">\n",
       "                    Weight<sup>?</sup>\n",
       "                </th>\n",
       "            \n",
       "            <th style=\"padding: 0 0.5em 0 0.5em; text-align: left; border: none;\">Feature</th>\n",
       "            \n",
       "        </tr>\n",
       "        </thead>\n",
       "        <tbody>\n",
       "        \n",
       "            <tr style=\"background-color: hsl(120, 100.00%, 80.00%); border: none;\">\n",
       "    <td style=\"padding: 0 1em 0 0.5em; text-align: right; border: none;\">\n",
       "        +1.042\n",
       "    </td>\n",
       "    <td style=\"padding: 0 0.5em 0 0.5em; text-align: left; border: none;\">\n",
       "        discharge_disposition_id_22\n",
       "    </td>\n",
       "    \n",
       "</tr>\n",
       "        \n",
       "            <tr style=\"background-color: hsl(120, 100.00%, 90.79%); border: none;\">\n",
       "    <td style=\"padding: 0 1em 0 0.5em; text-align: right; border: none;\">\n",
       "        +0.344\n",
       "    </td>\n",
       "    <td style=\"padding: 0 0.5em 0 0.5em; text-align: left; border: none;\">\n",
       "        A1Cresult_None\n",
       "    </td>\n",
       "    \n",
       "</tr>\n",
       "        \n",
       "            <tr style=\"background-color: hsl(120, 100.00%, 91.74%); border: none;\">\n",
       "    <td style=\"padding: 0 1em 0 0.5em; text-align: right; border: none;\">\n",
       "        +0.295\n",
       "    </td>\n",
       "    <td style=\"padding: 0 0.5em 0 0.5em; text-align: left; border: none;\">\n",
       "        race_Caucasian\n",
       "    </td>\n",
       "    \n",
       "</tr>\n",
       "        \n",
       "            <tr style=\"background-color: hsl(120, 100.00%, 91.92%); border: none;\">\n",
       "    <td style=\"padding: 0 1em 0 0.5em; text-align: right; border: none;\">\n",
       "        +0.285\n",
       "    </td>\n",
       "    <td style=\"padding: 0 0.5em 0 0.5em; text-align: left; border: none;\">\n",
       "        discharge_disposition_id_5\n",
       "    </td>\n",
       "    \n",
       "</tr>\n",
       "        \n",
       "            <tr style=\"background-color: hsl(120, 100.00%, 92.10%); border: none;\">\n",
       "    <td style=\"padding: 0 1em 0 0.5em; text-align: right; border: none;\">\n",
       "        +0.277\n",
       "    </td>\n",
       "    <td style=\"padding: 0 0.5em 0 0.5em; text-align: left; border: none;\">\n",
       "        number_inpatient\n",
       "    </td>\n",
       "    \n",
       "</tr>\n",
       "        \n",
       "        \n",
       "            <tr style=\"background-color: hsl(120, 100.00%, 92.10%); border: none;\">\n",
       "                <td colspan=\"2\" style=\"padding: 0 0.5em 0 0.5em; text-align: center; border: none; white-space: nowrap;\">\n",
       "                    <i>&hellip; 20 more positive &hellip;</i>\n",
       "                </td>\n",
       "            </tr>\n",
       "        \n",
       "\n",
       "        \n",
       "            <tr style=\"background-color: hsl(0, 100.00%, 92.91%); border: none;\">\n",
       "                <td colspan=\"2\" style=\"padding: 0 0.5em 0 0.5em; text-align: center; border: none; white-space: nowrap;\">\n",
       "                    <i>&hellip; 34 more negative &hellip;</i>\n",
       "                </td>\n",
       "            </tr>\n",
       "        \n",
       "        \n",
       "            <tr style=\"background-color: hsl(0, 100.00%, 92.91%); border: none;\">\n",
       "    <td style=\"padding: 0 1em 0 0.5em; text-align: right; border: none;\">\n",
       "        -0.237\n",
       "    </td>\n",
       "    <td style=\"padding: 0 0.5em 0 0.5em; text-align: left; border: none;\">\n",
       "        pioglitazone_Steady\n",
       "    </td>\n",
       "    \n",
       "</tr>\n",
       "        \n",
       "            <tr style=\"background-color: hsl(0, 100.00%, 92.78%); border: none;\">\n",
       "    <td style=\"padding: 0 1em 0 0.5em; text-align: right; border: none;\">\n",
       "        -0.243\n",
       "    </td>\n",
       "    <td style=\"padding: 0 0.5em 0 0.5em; text-align: left; border: none;\">\n",
       "        metformin-pioglitazone_No\n",
       "    </td>\n",
       "    \n",
       "</tr>\n",
       "        \n",
       "            <tr style=\"background-color: hsl(0, 100.00%, 92.57%); border: none;\">\n",
       "    <td style=\"padding: 0 1em 0 0.5em; text-align: right; border: none;\">\n",
       "        -0.254\n",
       "    </td>\n",
       "    <td style=\"padding: 0 0.5em 0 0.5em; text-align: left; border: none;\">\n",
       "        discharge_disposition_id_1\n",
       "    </td>\n",
       "    \n",
       "</tr>\n",
       "        \n",
       "            <tr style=\"background-color: hsl(0, 100.00%, 91.81%); border: none;\">\n",
       "    <td style=\"padding: 0 1em 0 0.5em; text-align: right; border: none;\">\n",
       "        -0.291\n",
       "    </td>\n",
       "    <td style=\"padding: 0 0.5em 0 0.5em; text-align: left; border: none;\">\n",
       "        insulin_No\n",
       "    </td>\n",
       "    \n",
       "</tr>\n",
       "        \n",
       "            <tr style=\"background-color: hsl(0, 100.00%, 90.11%); border: none;\">\n",
       "    <td style=\"padding: 0 1em 0 0.5em; text-align: right; border: none;\">\n",
       "        -0.381\n",
       "    </td>\n",
       "    <td style=\"padding: 0 0.5em 0 0.5em; text-align: left; border: none;\">\n",
       "        &lt;BIAS&gt;\n",
       "    </td>\n",
       "    \n",
       "</tr>\n",
       "        \n",
       "\n",
       "        </tbody>\n",
       "    </table>\n",
       "\n",
       "            \n",
       "        \n",
       "\n",
       "        \n",
       "\n",
       "\n",
       "\n",
       "    \n",
       "\n",
       "    \n",
       "\n",
       "    \n",
       "\n",
       "    \n",
       "\n",
       "\n",
       "    \n",
       "\n",
       "    \n",
       "\n",
       "    \n",
       "\n",
       "    \n",
       "\n",
       "    \n",
       "\n",
       "    \n",
       "\n",
       "\n",
       "    \n",
       "\n",
       "    \n",
       "\n",
       "    \n",
       "\n",
       "    \n",
       "\n",
       "    \n",
       "\n",
       "    \n",
       "\n",
       "\n",
       "\n"
      ],
      "text/plain": [
       "Explanation(estimator=\"LogisticRegression(C=0.01, max_iter=1000, n_jobs=-1, penalty='l1',\\n                   random_state=11, solver='saga')\", description=\"\\nFeatures with largest coefficients.\\nCaveats:\\n1. Be careful with features which are not\\n   independent - weights don't show their importance.\\n2. If scale of input features is different then scale of coefficients\\n   will also be different, making direct comparison between coefficient values\\n   incorrect.\\n3. Depending on regularization, rare features sometimes may have high\\n   coefficients; this doesn't mean they contribute much to the\\n   classification result for most examples.\\n\", error=None, method='linear model', is_regression=False, targets=[TargetExplanation(target=1, feature_weights=FeatureWeights(pos=[FeatureWeight(feature='discharge_disposition_id_22', weight=1.0424752705003961, std=None, value=None), FeatureWeight(feature='A1Cresult_None', weight=0.3443882193442486, std=None, value=None), FeatureWeight(feature='race_Caucasian', weight=0.2946638556718163, std=None, value=None), FeatureWeight(feature='discharge_disposition_id_5', weight=0.2853740300597945, std=None, value=None), FeatureWeight(feature='number_inpatient', weight=0.27661888373373134, std=None, value=None)], neg=[FeatureWeight(feature='<BIAS>', weight=-0.38147410881475463, std=None, value=None), FeatureWeight(feature='insulin_No', weight=-0.29109505491369325, std=None, value=None), FeatureWeight(feature='discharge_disposition_id_1', weight=-0.25355389932703193, std=None, value=None), FeatureWeight(feature='metformin-pioglitazone_No', weight=-0.24332286312473486, std=None, value=None), FeatureWeight(feature='pioglitazone_Steady', weight=-0.23709791947889255, std=None, value=None)], pos_remaining=20, neg_remaining=34), proba=None, score=None, weighted_spans=None, heatmap=None)], feature_importances=None, decision_tree=None, highlight_spaces=None, transition_features=None, image=None)"
      ]
     },
     "metadata": {},
     "output_type": "display_data"
    }
   ],
   "metadata": {}
  },
  {
   "cell_type": "markdown",
   "source": [
    "## Model Evaluation using precision and recall Plot"
   ],
   "metadata": {}
  },
  {
   "cell_type": "markdown",
   "source": [
    "For a medical case study where we have a heavily imbalanced dataset with a goal to predict the miniority class, we would like to decrease false negatives at the expense of increasing false positives. In case of false negatives, let’s say we have a patient that is predicted to be not readmitted within 30 days, but the patient actually has to come back within 30 days, the patient now risk of missing important treatments within reasonable time window. Whereas in case of false positives, those patients predicted to be readmitted within 30 days but actually don’t have, was not done any harm to their body. This means we would like to have a __very high recall and wiling to compromise on precision__. \r\n",
    "\r\n",
    "One way to improve the recall while maintaiing the precision for an imbalanced data is to use oversampling technique. As we see in the Precision-Recall plots below, there is a significant improvement in both precision and recall when we oversampled and tried balancing the data using SMOTE. The increased threshold also indicates that the classes are much more balanced. This means improving the classification rate of the minority class (patients who need to be readmitted within 30 days) and better identifying those who need proper treatments based on the prediction. \r\n",
    "\r\n",
    "We, as data scientists, however, should be cautious when using the SMOTE method. When using a resampling method, we are showing the wrong proportions of the two classes to the classifier during the training. Several factors such as new breakthroughs in medical technology and changes in people’s diet can lead to changes in the unseen data coming from the future, especially in the proportions of the two prediction classes. The classifier can be learned on a regular basis to accommodate these changes so that it does not lose the information of the true class proportions when resampling. "
   ],
   "metadata": {}
  },
  {
   "cell_type": "markdown",
   "source": [
    "#### Model with No SMOTE"
   ],
   "metadata": {}
  },
  {
   "cell_type": "code",
   "execution_count": 24,
   "source": [
    "from sklearn.metrics import precision_recall_curve\r\n",
    "probs_y_2 = grid_search_2.predict_proba(X_test)\r\n",
    "precision, recall, thresholds = precision_recall_curve(y_test, probs_y_2[:,1]) \r\n",
    "\r\n",
    "plt.title(\"Precision-Recall vs Threshold Chart\")\r\n",
    "plt.plot(thresholds, precision[: -1], \"b--\", label=\"Precision\")\r\n",
    "plt.plot(thresholds, recall[: -1], \"r--\", label=\"Recall\")\r\n",
    "plt.ylabel(\"Precision, Recall\")\r\n",
    "plt.xlabel(\"Threshold\")\r\n",
    "plt.legend(loc=\"lower left\")\r\n",
    "plt.ylim([0,1])"
   ],
   "outputs": [
    {
     "output_type": "execute_result",
     "data": {
      "text/plain": [
       "(0.0, 1.0)"
      ]
     },
     "metadata": {},
     "execution_count": 24
    },
    {
     "output_type": "display_data",
     "data": {
      "image/png": "[encoded data removed]",
      "text/plain": [
       "<Figure size 432x288 with 1 Axes>"
      ]
     },
     "metadata": {
      "needs_background": "light"
     }
    }
   ],
   "metadata": {}
  },
  {
   "cell_type": "markdown",
   "source": [
    "#### Model with SMOTE to address imbalance"
   ],
   "metadata": {}
  },
  {
   "cell_type": "code",
   "execution_count": 25,
   "source": [
    "from sklearn.metrics import precision_recall_curve\r\n",
    "probs_y = grid_search.predict_proba(X_test)\r\n",
    "precision, recall, thresholds = precision_recall_curve(y_test, probs_y[:,1]) \r\n",
    "\r\n",
    "plt.title(\"Precision-Recall vs Threshold Chart\")\r\n",
    "plt.plot(thresholds, precision[: -1], \"b--\", label=\"Precision\")\r\n",
    "plt.plot(thresholds, recall[: -1], \"r--\", label=\"Recall\")\r\n",
    "plt.ylabel(\"Precision, Recall\")\r\n",
    "plt.xlabel(\"Threshold\")\r\n",
    "plt.legend(loc=\"lower left\")\r\n",
    "plt.ylim([0,1])\r\n"
   ],
   "outputs": [
    {
     "output_type": "execute_result",
     "data": {
      "text/plain": [
       "(0.0, 1.0)"
      ]
     },
     "metadata": {},
     "execution_count": 25
    },
    {
     "output_type": "display_data",
     "data": {
      "image/png": "[encoded data removed]",
      "text/plain": [
       "<Figure size 432x288 with 1 Axes>"
      ]
     },
     "metadata": {
      "needs_background": "light"
     }
    }
   ],
   "metadata": {}
  },
  {
   "cell_type": "markdown",
   "source": [
    "# Model Interpretability & Explainability"
   ],
   "metadata": {}
  },
  {
   "cell_type": "markdown",
   "source": [
    "## Plot confusion matrix"
   ],
   "metadata": {}
  },
  {
   "cell_type": "code",
   "execution_count": 26,
   "source": [
    "\r\n",
    "class_names = [0,1]\r\n",
    "\r\n",
    "classifier = grid_search\r\n",
    "\r\n",
    "np.set_printoptions(precision=2)\r\n",
    "\r\n",
    "# Plot non-normalized confusion matrix\r\n",
    "titles_options = [(\"Confusion matrix, without normalization\", None),\r\n",
    "                  (\"Normalized confusion matrix\", 'true')]\r\n",
    "for title, normalize in titles_options:\r\n",
    "    disp = plot_confusion_matrix(classifier, X_test, y_test,\r\n",
    "                                 display_labels=class_names,\r\n",
    "                                 cmap=plt.cm.Blues,\r\n",
    "                                 normalize=normalize)\r\n",
    "    disp.ax_.set_title(title)\r\n",
    "\r\n",
    "    print(title)\r\n",
    "    print(disp.confusion_matrix)\r\n",
    "\r\n",
    "plt.show()"
   ],
   "outputs": [
    {
     "output_type": "stream",
     "name": "stdout",
     "text": [
      "Confusion matrix, without normalization\n",
      "[[12000  5606]\n",
      " [ 1045  1218]]\n",
      "Normalized confusion matrix\n",
      "[[0.68 0.32]\n",
      " [0.46 0.54]]\n"
     ]
    },
    {
     "output_type": "display_data",
     "data": {
      "image/png": "[encoded data removed]",
      "text/plain": [
       "<Figure size 432x288 with 2 Axes>"
      ]
     },
     "metadata": {
      "needs_background": "light"
     }
    },
    {
     "output_type": "display_data",
     "data": {
      "image/png": "[encoded data removed]",
      "text/plain": [
       "<Figure size 432x288 with 2 Axes>"
      ]
     },
     "metadata": {
      "needs_background": "light"
     }
    }
   ],
   "metadata": {}
  },
  {
   "cell_type": "markdown",
   "source": [
    "## Plot ROC"
   ],
   "metadata": {}
  },
  {
   "cell_type": "code",
   "execution_count": 27,
   "source": [
    "mt.plot_roc_curve(grid_search.best_estimator_, X_test, y_test)"
   ],
   "outputs": [
    {
     "output_type": "execute_result",
     "data": {
      "text/plain": [
       "<sklearn.metrics._plot.roc_curve.RocCurveDisplay at 0x2534ba2a190>"
      ]
     },
     "metadata": {},
     "execution_count": 27
    },
    {
     "output_type": "display_data",
     "data": {
      "image/png": "[encoded data removed]",
      "text/plain": [
       "<Figure size 432x288 with 1 Axes>"
      ]
     },
     "metadata": {
      "needs_background": "light"
     }
    }
   ],
   "metadata": {}
  },
  {
   "cell_type": "markdown",
   "source": [
    "## Practical Application example"
   ],
   "metadata": {}
  },
  {
   "cell_type": "markdown",
   "source": [
    "Adjusting the threshold to find the optimal false negatives and false positives depending on the business needs and resources is crucial. Here is a real world scenario where we can delve into the importance of adjusting the threshold.\n",
    "\n",
    "##### Q1. What if we had a business goal to ensure 95% of patients who are readmitted within 30 days are classifed as patients who are to be readmitted within 30 days?\n",
    "\n",
    "This means we want to have __95% recall__. Now let's see what that means in terms of changes in threshold and precision. \n",
    "So both the threshold and the precision turns out to be relatively low when the recall is 0.95. "
   ],
   "metadata": {}
  },
  {
   "cell_type": "code",
   "execution_count": 28,
   "source": [
    "readmit95_ind = np.argmin(recall >= 0.95)-1\r\n",
    "readmit95_thresh = thresholds[readmit95_ind]\r\n",
    "readmit95_precision = precision[readmit95_ind]\r\n",
    "readmit95_recall = recall[readmit95_ind]\r\n",
    "\r\n",
    "print(\"Threshold:\", readmit95_thresh)\r\n",
    "print(\"Precision:\", readmit95_precision)\r\n",
    "print(\"Recall:\", readmit95_recall)"
   ],
   "outputs": [
    {
     "output_type": "stream",
     "name": "stdout",
     "text": [
      "Threshold: 0.3155047469923971\n",
      "Precision: 0.12107901109421637\n",
      "Recall: 0.9500662836942112\n"
     ]
    }
   ],
   "metadata": {}
  },
  {
   "cell_type": "markdown",
   "source": [
    "Now we can tie these findings to the question of: \n",
    "##### Q2. How much resources (time and money) can the pathology department save utilizing this information? \n",
    "\n",
    "- We want to find out how much sampling is required to ensure certain precision and recall for this question. \n",
    "- The key is to keep the threshold low to not miss any patients who have to be readmitted within 30days. In this case above, we have about 88%(1-precision) of patients we predict to be readmitted within 30 days actually get readmitted within 30 days. \n",
    "\n",
    "##### Q3. With this threshold, how much fraction of the sample did the model identify as not having to be readmitted within 30 days?\n",
    "- From the result below, there is roughly 65% of the data that are below the threshold and that means those 65% of the data doesn't need to be processed to be able to reach the business goal of ensuring 95% of patients who are admitted within 30 days are classified as patients who are to be readmitted within 30 days. \n",
    "\n",
    "- So sparing 65% of the sampling work at the pathology department could save a lot of resources depending on the scale of the data. However, this means 5% of the patients who are diagnosed to not having to come back to the hospital within 30 days actually have to be readmitted within 30 days. This could be unacceptable in certain situations and patient's conditions. Thus here below we will keep improving the model by tuning the threshold."
   ],
   "metadata": {}
  },
  {
   "cell_type": "code",
   "execution_count": 29,
   "source": [
    "print(\"Proportion of samples below threshold:\", np.mean(grid_search.best_estimator_.predict(X) < readmit95_thresh))"
   ],
   "outputs": [
    {
     "output_type": "stream",
     "name": "stdout",
     "text": [
      "Proportion of samples below threshold: 0.648873096242312\n"
     ]
    }
   ],
   "metadata": {}
  },
  {
   "cell_type": "markdown",
   "source": [
    "## Tunning the threshold for classification"
   ],
   "metadata": {}
  },
  {
   "cell_type": "code",
   "execution_count": 28,
   "source": [
    "pred_proba_df = pd.DataFrame(grid_search.predict_proba(X_test))\r\n",
    "threshold_list = [0.01, 0.1,0.2, 0.25, 0.3]\r\n",
    "for i in threshold_list:\r\n",
    "    print ('\\n******** For i = {} ******'.format(i))\r\n",
    "    Y_test_pred = pred_proba_df.applymap(lambda x: 1 if x>i else 0)\r\n",
    "    accuracy = mt.accuracy_score(y_test, Y_test_pred.iloc[:,1])\r\n",
    "    print(accuracy)\r\n",
    "    precision = mt.precision_score(y_test, Y_test_pred.iloc[:,1], average='micro')\r\n",
    "    print(\"Precision=\", precision)\r\n",
    "    recal = mt.recall_score(y_test, Y_test_pred.iloc[:,1], average='micro')\r\n",
    "    print(\"Recal=\", recal)\r\n",
    "    fscore = mt.f1_score(y_test, Y_test_pred.iloc[:,1], average='weighted')\r\n",
    "    print(\"fscore=\",fscore )\r\n",
    "    # Confusion matrix\r\n",
    "    cm= confusion_matrix(y_test, Y_test_pred.iloc[:,1])\r\n",
    "    print(\"Confusion Matrix =\", cm)\r\n",
    "    fpr, tpr, _ = roc_curve(y_test, Y_test_pred.iloc[:,1])\r\n",
    "    auc = roc_auc_score(y_test, Y_test_pred.iloc[:,1])\r\n",
    "    plt.plot(fpr,tpr,label=\"AUC=\"+str(auc))\r\n",
    "    plt.legend(loc=4)\r\n",
    "    plt.show()\r\n",
    "    "
   ],
   "outputs": [
    {
     "output_type": "stream",
     "name": "stdout",
     "text": [
      "\n",
      "******** For i = 0.01 ******\n",
      "0.11389601892395189\n",
      "Precision= 0.11389601892395189\n",
      "Recal= 0.11389601892395189\n",
      "fscore= 0.023291766747235054\n",
      "Confusion Matrix = [[    0 17606]\n",
      " [    0  2263]]\n"
     ]
    },
    {
     "output_type": "display_data",
     "data": {
      "image/png": "[encoded data removed]",
      "text/plain": [
       "<Figure size 432x288 with 1 Axes>"
      ]
     },
     "metadata": {
      "needs_background": "light"
     }
    },
    {
     "output_type": "stream",
     "name": "stdout",
     "text": [
      "\n",
      "******** For i = 0.1 ******\n",
      "0.11389601892395189\n",
      "Precision= 0.11389601892395189\n",
      "Recal= 0.11389601892395189\n",
      "fscore= 0.023291766747235054\n",
      "Confusion Matrix = [[    0 17606]\n",
      " [    0  2263]]\n"
     ]
    },
    {
     "output_type": "display_data",
     "data": {
      "image/png": "[encoded data removed]",
      "text/plain": [
       "<Figure size 432x288 with 1 Axes>"
      ]
     },
     "metadata": {
      "needs_background": "light"
     }
    },
    {
     "output_type": "stream",
     "name": "stdout",
     "text": [
      "\n",
      "******** For i = 0.2 ******\n",
      "0.11807338064321304\n",
      "Precision= 0.11807338064321304\n",
      "Recal= 0.11807338064321304\n",
      "fscore= 0.032149849120595674\n",
      "Confusion Matrix = [[   88 17518]\n",
      " [    5  2258]]\n"
     ]
    },
    {
     "output_type": "display_data",
     "data": {
      "image/png": "[encoded data removed]",
      "text/plain": [
       "<Figure size 432x288 with 1 Axes>"
      ]
     },
     "metadata": {
      "needs_background": "light"
     }
    },
    {
     "output_type": "stream",
     "name": "stdout",
     "text": [
      "\n",
      "******** For i = 0.25 ******\n",
      "0.13614172832049928\n",
      "Precision= 0.13614172832049928\n",
      "Recal= 0.13614172832049928\n",
      "fscore= 0.06894987955033821\n",
      "Confusion Matrix = [[  463 17143]\n",
      " [   21  2242]]\n"
     ]
    },
    {
     "output_type": "display_data",
     "data": {
      "image/png": "[encoded data removed]",
      "text/plain": [
       "<Figure size 432x288 with 1 Axes>"
      ]
     },
     "metadata": {
      "needs_background": "light"
     }
    },
    {
     "output_type": "stream",
     "name": "stdout",
     "text": [
      "\n",
      "******** For i = 0.3 ******\n",
      "0.18747798077407016\n",
      "Precision= 0.18747798077407016\n",
      "Recal= 0.18747798077407016\n",
      "fscore= 0.1664370701983239\n",
      "Confusion Matrix = [[ 1543 16063]\n",
      " [   81  2182]]\n"
     ]
    },
    {
     "output_type": "display_data",
     "data": {
      "image/png": "[encoded data removed]",
      "text/plain": [
       "<Figure size 432x288 with 1 Axes>"
      ]
     },
     "metadata": {
      "needs_background": "light"
     }
    }
   ],
   "metadata": {}
  },
  {
   "cell_type": "markdown",
   "source": [
    "# Conclusion"
   ],
   "metadata": {}
  },
  {
   "cell_type": "markdown",
   "source": [
    "**Summary**:\r\n",
    "Since our model is constrained to logistic regression, we recommend using the L1 model to reduce the complexity of the model since it performs almost identically to the L2 model (Ridge). Features such as discharge disposition, current diagnosis, and previous inpatient stays are important indicators of readmission. However, if we want to improve upon the accuracy of the model, we should consider using more advanced techniques such as neural networks to capture the non-linear relationships between the features."
   ],
   "metadata": {}
  }
 ],
 "metadata": {
  "interpreter": {
   "hash": "eaa798b471aa1a0109429a408b0faab53065248ef7f5a5989f90756771672ef6"
  },
  "kernelspec": {
   "display_name": "Python 3",
   "language": "python",
   "name": "python3"
  },
  "language_info": {
   "codemirror_mode": {
    "name": "ipython",
    "version": 3
   },
   "file_extension": ".py",
   "mimetype": "text/x-python",
   "name": "python",
   "nbconvert_exporter": "python",
   "pygments_lexer": "ipython3",
   "version": "3.7.4"
  }
 },
 "nbformat": 4,
 "nbformat_minor": 4
}