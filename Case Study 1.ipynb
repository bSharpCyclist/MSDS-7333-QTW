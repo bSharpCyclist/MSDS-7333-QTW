{
 "cells": [
  {
   "cell_type": "markdown",
   "source": [
    "# MSDS 7331 - Case Study 1 - Superconducting Materials\n",
    "Daniel Crouthamel,\n",
    "Sophia Wu,\n",
    "Fabio Savorgnan,\n",
    "Bo Yun\n"
   ],
   "metadata": {}
  },
  {
   "cell_type": "markdown",
   "source": [
    "## Introduction\r\n",
    "In this study, we will build a linear regression model using L1 or L2 regularization to predict the critical temperature. There are total 6 sections in this case analysis:\r\n",
    "\r\n",
    "1. Business Understanding\r\n",
    "2. Data Evaluation / Engineering\r\n",
    "3. Modeling Preparations\r\n",
    "4. Model Building & Evaluation\r\n",
    "5. Model Interpretability & Explainability\r\n",
    "6. Case Conclusions"
   ],
   "metadata": {}
  },
  {
   "cell_type": "code",
   "execution_count": 7,
   "source": [
    "#importing libraries and reading in file\r\n",
    "import numpy as np\r\n",
    "import pandas as pd\r\n",
    "\r\n",
    "#general sklearn libraries\r\n",
    "from sklearn.model_selection import train_test_split\r\n",
    "from sklearn.model_selection import GridSearchCV\r\n",
    "from sklearn.preprocessing import StandardScaler\r\n",
    "from sklearn.preprocessing import RobustScaler\r\n",
    "from sklearn.preprocessing import MinMaxScaler\r\n",
    "from sklearn.pipeline import make_pipeline\r\n",
    "\r\n",
    "#logistic regression\r\n",
    "from sklearn.linear_model import Lasso\r\n",
    "from sklearn.linear_model import LinearRegression\r\n",
    "from sklearn.linear_model import ElasticNet\r\n",
    "from sklearn.linear_model import Ridge\r\n",
    "from sklearn.pipeline import make_pipeline\r\n"
   ],
   "outputs": [],
   "metadata": {}
  },
  {
   "cell_type": "markdown",
   "source": [
    "\n",
    "## Business Understanding\n",
    "--\n",
    "You should always state the objective at the beginning of every case (a guideline you should follow in real life as well) and provide some initial \"Business Understanding\" statements (i.e., what is trying to be solved for and why might it be important)\n",
    "--\n",
    "\n",
    "**Objective:** \n",
    "The objective of this case study is to explore Linerar Regression with L1 and L2 regularization, and the impact to predicting the critical temperature of a superconductor. Additionally, feature importance is also investigated with the best model. Three models will be considered.\n",
    "\n",
    "* Lasso (L1)\n",
    "* Ridge (L2)\n",
    "* Elastic Net (L1 and L2).\n",
    "\n",
    "**Todo!!**\n",
    "Summarize/background on L1/L2, the affect of alpha, l1 ratio, the hyperparameters.\n",
    "\n",
    "Grid search will be performed on each model to find the optimal hyperparameters. We'll then use the optimal hyperparameters for each model and then determine which model performs the best. Along the way will explore the importance of normalization and scaling and condlude with a summary of the most important features."
   ],
   "metadata": {}
  },
  {
   "cell_type": "markdown",
   "source": [
    "## Data Evaluation and Engineering\n",
    "--\n",
    "Summarize the data being used in the case using appropriate mediums (charts, graphs, tables); address questions such as: Are there missing values? Which variables are needed (which ones are not)? What assumptions or conclusions are you drawing that need to be relayed to your audience?\n",
    "--\n",
    "\n",
    "Below we'll load our supoerconductor data and then perform a quick data exploration. Our data consists of two files which were merged together. Some initial obervations are:\n",
    "\n",
    "* There is no missing data\n",
    "* We have features with constant values\n",
    "* There is one string object in the dataframe"
   ],
   "metadata": {}
  },
  {
   "cell_type": "code",
   "execution_count": 15,
   "source": [
    "# Load Data\r\n",
    "data_train = pd.read_csv('data/train.csv')\r\n",
    "data_materials = pd.read_csv('data/unique_m.csv')\r\n"
   ],
   "outputs": [],
   "metadata": {}
  },
  {
   "cell_type": "markdown",
   "source": [
    "#### Addressing missing Values"
   ],
   "metadata": {}
  },
  {
   "cell_type": "code",
   "execution_count": 16,
   "source": [
    "\r\n",
    "# Drop the duplicate column 'critical_temp' in the first frame\r\n",
    "data_train = data_train.drop(['critical_temp'], axis=1)\r\n",
    "\r\n",
    "# Merge the two frames\r\n",
    "data = pd.merge(data_train, data_materials, left_index=True, right_index=True)\r\n",
    "\r\n",
    "# Data frame to csv drop index\r\n",
    "data.to_csv('data/super_conducter_data.csv', index=False)\r\n",
    "\r\n",
    "# Print out some typicaly descriptive statistics\r\n",
    "print(\"\")\r\n",
    "data.info()\r\n",
    "data.describe()\r\n",
    "\r\n",
    "# Do we have missing data?\r\n",
    "print(\"\")\r\n",
    "print(\"Missing Data?\", data.columns[data.isnull().any().values])\r\n",
    "\r\n",
    "# Columns with a Constant value\r\n",
    "print(\"\")\r\n",
    "print(\"Columns that have the same value\", data.columns[data.nunique() <= 1].values)"
   ],
   "outputs": [
    {
     "output_type": "stream",
     "name": "stdout",
     "text": [
      "\n",
      "<class 'pandas.core.frame.DataFrame'>\n",
      "RangeIndex: 21263 entries, 0 to 21262\n",
      "Columns: 169 entries, number_of_elements to material\n",
      "dtypes: float64(156), int64(12), object(1)\n",
      "memory usage: 27.4+ MB\n",
      "\n",
      "Missing Data? Index([], dtype='object')\n",
      "\n",
      "Columns that have the same value ['He' 'Ne' 'Ar' 'Kr' 'Xe' 'Pm' 'Po' 'At' 'Rn']\n"
     ]
    }
   ],
   "metadata": {}
  },
  {
   "cell_type": "markdown",
   "source": [
    "### Data Cleaning - Duplicates\n",
    "Now we will work on cleaning up any duplicates in our dataset.The string feature will be removed from our data set. This appears to be a name, and some values are duplicated. We felt it was safe to remove. Addtionally, the features identified above with constant values will be removed.\n",
    "After doing a quick profiling on all of 159 columns, we don't see any missing data."
   ],
   "metadata": {}
  },
  {
   "cell_type": "code",
   "execution_count": 35,
   "source": [
    "# Drop columns with constant values\r\n",
    "data.drop(columns=['material', 'He', 'Ne', 'Ar', 'Kr', 'Xe', 'Pm', 'Po', 'At', 'Rn'], inplace=True)\r\n",
    "print(data.shape)"
   ],
   "outputs": [
    {
     "output_type": "stream",
     "name": "stdout",
     "text": [
      "(21263, 159)\n"
     ]
    }
   ],
   "metadata": {}
  },
  {
   "cell_type": "markdown",
   "source": [
    "### Simple Statistics\n",
    "We will next review some simple statistics on our dataset.This will be primarily focused on our main expected variable of 'temperature'. First, we'll check the range, mode, mean, median, variance and counts for the variable of 'temperature'. Then we'll check the relationships between temperature and other attributes.\n",
    "#### Median, Standard Deviation, Mean of  'critical temperature'\n",
    "We can see from observing the simple statistic is that the median critical temperature is around 20. However, what's interesting to note here is that the median and the mean are very different with the big gap of 14.42. There is a standard deviation of about 34.254. "
   ],
   "metadata": {}
  },
  {
   "cell_type": "code",
   "execution_count": 19,
   "source": [
    "print(data['critical_temp'].aggregate([np.median, np.std, np.mean]).reset_index())\r\n",
    "print('min: '+str(data['critical_temp'].min()))\r\n",
    "print('min: '+str(data['critical_temp'].max()))"
   ],
   "outputs": [
    {
     "output_type": "stream",
     "name": "stdout",
     "text": [
      "    index  critical_temp\n",
      "0  median      20.000000\n",
      "1     std      34.254362\n",
      "2    mean      34.421219\n",
      "min: 0.00021\n",
      "min: 185.0\n"
     ]
    }
   ],
   "metadata": {}
  },
  {
   "cell_type": "markdown",
   "source": [
    "#### Distribution of critical temperature\n",
    "As our main focus variable is critical temperature, we will look deeper into this variable. From a simple IQR districution, we can see the majority of the data is between 5 and 63."
   ],
   "metadata": {}
  },
  {
   "cell_type": "code",
   "execution_count": 20,
   "source": [
    "print(data.describe()['critical_temp'][['25%', '50%', '75%']])\r\n",
    "print(data.max()['critical_temp'])"
   ],
   "outputs": [
    {
     "output_type": "stream",
     "name": "stdout",
     "text": [
      "25%     5.365\n",
      "50%    20.000\n",
      "75%    63.000\n",
      "Name: critical_temp, dtype: float64\n",
      "185.0\n"
     ]
    }
   ],
   "metadata": {}
  },
  {
   "cell_type": "markdown",
   "source": [
    "Then we want to visualize the distribution for our primary variable critical temperature with a boxplot. From the boxplot, we may see an obvious outlier over 175.We might need to consider to impute it with the mean or median."
   ],
   "metadata": {}
  },
  {
   "cell_type": "code",
   "execution_count": 21,
   "source": [
    "##Analyze the box plot without getting rid of outliers\r\n",
    "plt.figure(figsize=(10,10))\r\n",
    "sns.set_theme(style=\"whitegrid\")\r\n",
    "ax = sns.boxplot(x=data[\"critical_temp\"])\r\n",
    "print(data.describe()['critical_temp'][['25%', '50%', '75%']])\r\n",
    "print(data.max()['critical_temp'])"
   ],
   "outputs": [
    {
     "output_type": "stream",
     "name": "stdout",
     "text": [
      "25%     5.365\n",
      "50%    20.000\n",
      "75%    63.000\n",
      "Name: critical_temp, dtype: float64\n",
      "185.0\n"
     ]
    },
    {
     "output_type": "display_data",
     "data": {
      "image/png": "[encoded data removed]",
      "text/plain": [
       "<Figure size 720x720 with 1 Axes>"
      ]
     },
     "metadata": {
      "needs_background": "light"
     }
    }
   ],
   "metadata": {}
  },
  {
   "cell_type": "markdown",
   "source": [
    "#### Correlation check\n",
    "\n",
    "Now we wanted to check the correlations between the temperature and all other attributes. From this correlation plot, we may see Ba is highly correlated with temperature with corr=.559"
   ],
   "metadata": {}
  },
  {
   "cell_type": "code",
   "execution_count": 32,
   "source": [
    "# Create the new DataFrame for correlation check\r\n",
    "df = pd.DataFrame(data, columns = ['Ba', 'wtd_gmean_ThermalConductivity', 'wtd_mean_ThermalConductivity','critical_temp'])"
   ],
   "outputs": [],
   "metadata": {}
  },
  {
   "cell_type": "code",
   "execution_count": 33,
   "source": [
    "cormat = df.corr()\r\n",
    "\r\n",
    "def triang(cormat, triang='lower'):\r\n",
    "    \r\n",
    "    if triang == 'upper':\r\n",
    "        rstri = pd.DataFrame(np.triu(cormat.values),\r\n",
    "                             index=cormat.index,\r\n",
    "                             columns=cormat.columns).round(3)\r\n",
    "        rstri = rstri.iloc[:,1:]\r\n",
    "        rstri.drop(rstri.tail(1).index, inplace=True)\r\n",
    "        \r\n",
    "    if triang == 'lower':\r\n",
    "        rstri = pd.DataFrame(np.tril(cormat.values),\r\n",
    "                             index=cormat.index,\r\n",
    "                             columns=cormat.columns).round(3)\r\n",
    "        rstri = rstri.iloc[:,:-1]\r\n",
    "        rstri.drop(rstri.head(1).index, inplace=True) \r\n",
    " \r\n",
    "    rstri.replace(to_replace=[0,1], value='', inplace=True)\r\n",
    "    \r\n",
    "    return(rstri)\r\n",
    "\r\n",
    "triang(cormat, triang='upper')"
   ],
   "outputs": [
    {
     "output_type": "execute_result",
     "data": {
      "text/html": [
       "<div>\n",
       "<style scoped>\n",
       "    .dataframe tbody tr th:only-of-type {\n",
       "        vertical-align: middle;\n",
       "    }\n",
       "\n",
       "    .dataframe tbody tr th {\n",
       "        vertical-align: top;\n",
       "    }\n",
       "\n",
       "    .dataframe thead th {\n",
       "        text-align: right;\n",
       "    }\n",
       "</style>\n",
       "<table border=\"1\" class=\"dataframe\">\n",
       "  <thead>\n",
       "    <tr style=\"text-align: right;\">\n",
       "      <th></th>\n",
       "      <th>wtd_gmean_ThermalConductivity</th>\n",
       "      <th>wtd_mean_ThermalConductivity</th>\n",
       "      <th>critical_temp</th>\n",
       "    </tr>\n",
       "  </thead>\n",
       "  <tbody>\n",
       "    <tr>\n",
       "      <th>Ba</th>\n",
       "      <td>-0.247</td>\n",
       "      <td>0.285</td>\n",
       "      <td>0.559</td>\n",
       "    </tr>\n",
       "    <tr>\n",
       "      <th>wtd_gmean_ThermalConductivity</th>\n",
       "      <td></td>\n",
       "      <td>0.49</td>\n",
       "      <td>-0.372</td>\n",
       "    </tr>\n",
       "    <tr>\n",
       "      <th>wtd_mean_ThermalConductivity</th>\n",
       "      <td></td>\n",
       "      <td></td>\n",
       "      <td>0.379</td>\n",
       "    </tr>\n",
       "  </tbody>\n",
       "</table>\n",
       "</div>"
      ],
      "text/plain": [
       "                              wtd_gmean_ThermalConductivity  \\\n",
       "Ba                                                   -0.247   \n",
       "wtd_gmean_ThermalConductivity                                 \n",
       "wtd_mean_ThermalConductivity                                  \n",
       "\n",
       "                              wtd_mean_ThermalConductivity  critical_temp  \n",
       "Ba                                                   0.285          0.559  \n",
       "wtd_gmean_ThermalConductivity                         0.49         -0.372  \n",
       "wtd_mean_ThermalConductivity                                        0.379  "
      ]
     },
     "metadata": {},
     "execution_count": 33
    }
   ],
   "metadata": {}
  },
  {
   "cell_type": "code",
   "execution_count": 34,
   "source": [
    "mask = np.zeros_like(cormat, dtype=np.bool)\r\n",
    "mask[np.triu_indices_from(mask)] = True\r\n",
    "\r\n",
    "fig = plt.figure(figsize=(11, 10))\r\n",
    "sns.heatmap(cormat, mask=mask, vmax=.9, center=0,\r\n",
    "            square=True, linewidths=.6, cbar_kws={\"shrink\": .5}, annot=True)"
   ],
   "outputs": [
    {
     "output_type": "execute_result",
     "data": {
      "text/plain": [
       "<AxesSubplot:>"
      ]
     },
     "metadata": {},
     "execution_count": 34
    },
    {
     "output_type": "display_data",
     "data": {
      "image/png": "[encoded data removed]",
      "text/plain": [
       "<Figure size 792x720 with 2 Axes>"
      ]
     },
     "metadata": {}
    }
   ],
   "metadata": {}
  },
  {
   "cell_type": "markdown",
   "source": [
    "The code below is used to create a pandas profile, which is an easy way to see summary statistics for each feature. The html file will be provided as part of the case study submission. Some findings from that report are:\n",
    "\n",
    "* Confirms no missing values\n",
    "* There are no negative values\n",
    "* Varying distrubutions for the features, some bell shaped, others poisson, etc.\n",
    "* We have features with skewness and outliers.\n",
    "\n",
    "To run the code, uncomment the last 3 lines of code below and run the cell. The first two lines indicate what needs to be installed. You will need to use an older version of pandas.\n",
    "After dropping the duplicates from our dataset, we still have 159 columns. For now, we assume the temperature is significant correlated with all of other 158 variables."
   ],
   "metadata": {}
  },
  {
   "cell_type": "code",
   "execution_count": 37,
   "source": [
    "## install pandas 1.2.4\r\n",
    "## pip install pandas-profiling==2.8.0\r\n",
    "\r\n",
    "# from pandas_profiling import ProfileReport\r\n",
    "# profile = ProfileReport(data, title=\"Pandas Profiling Report\", minimal=True)\r\n",
    "# profile.to_file(output_file=\"PandasProfile.html\")"
   ],
   "outputs": [],
   "metadata": {}
  },
  {
   "cell_type": "markdown",
   "source": [
    "## Modeling Preparations\n",
    "\n",
    "### Methods\n",
    "In a dataset that has a large number of features, there is a strong tendency for a linear regression model to overfit. We will be using three different models: Lasso(L1), Ridge(L2) and Elastic Net to overcome the issue of overfitting and to optimize this linear regression problem. We will also apply GridSearch to tune the hyper-parameters for these models. The followings are brief descriptions of how each algorithm works and how they apply to this problem. \n",
    "\n",
    "__`LASSO(L1)`__\n",
    "* It reduces some coefficients to absolute zero while it keeps some in the model. This property is known as feature selection and is absent in RIDGE. \n",
    "* This algorithm is useful in models with a large number of features like this case study(159 features) \n",
    "* In case of multicollinearity, LASSO will randomly pick one of its correlated variables and set the rest to zero. This can lead to some loss of important information and result in lower accuracy. Thus we will proceed with caution. \n",
    "\n",
    "__`RIDGE(L2)`__\n",
    "* It shrinks the coefficients, therefore it reduces model complexity and multicollinearity. \n",
    "* Even after the magnitude of the coefficients are reduced, it still retains all the features, which may lead to poor performance.  \n",
    "\n",
    "__`Elastic Net`__\n",
    "* Combination of LASSO and RIDGE and uses both L1 and L2 penalty terms. \n",
    "* Generally works well with large dataset. \n",
    "\n",
    "\n",
    "### Evaluation Metrics\n",
    "- For each model we'll use __R²__ as a cross validation metric, which can explain the variance of the dependent variable explained by the independent variables of the model. It measures the strength of the relationship between your model and the dependent variable. However, R² alone cannot be used for comparing the models as the value of R² increases with the increase in the number of predictors. This is important to note since we will have different number of predictors in our models due to LASSO performing feature reduction by shrinking coefficients to absolute zero. \n",
    "- We'll then incorporate __MAE__ (Mean Absolute Error), which is simply the average of the absolute difference between predicted and test values, to compare Lasso, Ridge, or Elastic Net. \n",
    "- In conclusion, we will select the best performing model based on combinations of __largest R² value and smallest MAE__. We will also look into the top coefficients that contribute the most to the chosen model and utilize them to interpret the model. \n"
   ],
   "metadata": {}
  },
  {
   "cell_type": "markdown",
   "source": [
    "## Model Building and Evaluation\r\n",
    "--\r\n",
    "In this case, your primary task is to build a linear regression model using L1 or L2 regularization (or both) to predict the critical temperature and will involve the following steps:\r\n",
    "\r\n",
    "- Specify your sampling methodology\r\n",
    "- Setup your model(s) - specifying the regularization type chosen and including the parameters utilized by the model\r\n",
    "- Analyze your model's performance - referencing your chosen evaluation metric (including supplemental visuals and analysis where appropriate)\r\n",
    "--\r\n",
    "\r\n",
    "Below we create three models for Lasso, Ridge and Elastic Net. We'll creaete a pipeline for each model that will scale the data using RobustScaler and then use Grid Search with cross validation. Our data is split in 80% training and 20% test sets. We'll then use the test sets to evaluate each of the models at the end.\r\n",
    "\r\n",
    "Note that we'll be using the Pipeline approach in SKlearn. This allows us to define a sequence of steps to be performed on the data. First, we'll scale the data using RobustScaler. Because of the skewness and outliers of some features, we decided to use the RobustScaler which scales features using statistics that are robust to outliers. Next we'll define the model to be used (Lasso vs Ridge vs ElasticNet). Finally, we'll use Grid Search to find the optimal hyperparameters. By using a Pipeline with GridSearchCV we only scale the data in the training set. The test sets in each fold are then scaled using the same scaler. We are trying to eliminate data leakage. Please see references below for more information.\r\n",
    "\r\n",
    "For Lasso and Ridge, we'll vary the hyperparameter alpha. For Elastic Net, we'll vary the hyperparameters alpha, which is a constant that multiplies the penalty terms. Additionally, we'll vary the hyperparameter l1_ratio which controls the amount of mixing between L1 and L2. If l1_ratio is 1, then we'll only use L1 regularization. If l1_ratio is 0, then we'll only use L2 regularization.\r\n",
    "\r\n",
    "**Hyperparameters Used**\r\n",
    "param_range = [1e-5, 1e-4, 1e-3, 1e-2, 1e-1, 0.2, 0.3, 0.4, 0.5, 0.6, 0.7, 0.8, 0.9, 1, 10, 100, 1000, 10000]\r\n",
    "param_l1_ratio = [0.1, 0.2, 0.3, 0.4, 0.5, 0.6, 0.7, 0.8, 0.9]\r\n",
    "\r\n",
    "https://towardsdatascience.com/pre-process-data-with-pipeline-to-prevent-data-leakage-during-cross-validation-e3442cca7fdc\r\n",
    "https://scikit-learn.org/stable/modules/generated/sklearn.preprocessing.RobustScaler.html\r\n",
    "https://scikit-learn.org/stable/modules/cross_validation.html\r\n",
    "https://scikit-learn.org/stable/modules/generated/sklearn.model_selection.GridSearchCV.html\r\n",
    "https://stats.stackexchange.com/questions/445259/combining-pca-feature-scaling-and-cross-validation-without-training-test-data\r\n",
    "https://scikit-learn.org/stable/modules/generated/sklearn.linear_model.ElasticNet.html?highlight=elasticnet#sklearn.linear_model.ElasticNet\r\n",
    "https://machinelearningmastery.com/data-preparation-without-data-leakage/\r\n",
    "https://stackoverflow.com/questions/35388647/how-to-use-gridsearchcv-output-for-a-scikit-prediction"
   ],
   "metadata": {}
  },
  {
   "cell_type": "code",
   "execution_count": 38,
   "source": [
    "\r\n",
    "X = data.drop(columns=['critical_temp']).copy(deep=True)\r\n",
    "y = data.loc[:,'critical_temp'].copy(deep=True)\r\n",
    "\r\n",
    "X_train, X_test, y_train, y_test =\\\r\n",
    "    train_test_split(X, y,\r\n",
    "    test_size=0.2,\r\n",
    "    random_state=1)\r\n",
    "\r\n",
    "lasso_pipe_svc = make_pipeline(RobustScaler(), Lasso(random_state=1))\r\n",
    "ridge_pipe_svc = make_pipeline(RobustScaler(), Ridge(random_state=1))\r\n",
    "elastic_pipe_svc = make_pipeline(RobustScaler(), ElasticNet(random_state=1))\r\n",
    "\r\n",
    "param_range = [1e-5, 1e-4, 1e-3, 1e-2, 1e-1, 0.2, 0.3, 0.4, 0.5, 0.6, 0.7, 0.8, 0.9, 1, 10, 100, 1000, 10000]\r\n",
    "param_l1_ratio = [0.1, 0.2, 0.3, 0.4, 0.5, 0.6, 0.7, 0.8, 0.9]\r\n",
    "\r\n",
    "param_grid_lasso = [{'lasso__alpha': param_range}]\r\n",
    "param_grid_ridge = [{'ridge__alpha': param_range}]\r\n",
    "param_grid_elastic = [{'elasticnet__alpha': param_range, 'elasticnet__l1_ratio': param_l1_ratio}]\r\n",
    "\r\n",
    "gs_lasso = GridSearchCV(estimator=lasso_pipe_svc, param_grid=param_grid_lasso, scoring='r2', cv=5, n_jobs=-1)\r\n",
    "gs_lasso.fit(X_train, y_train)\r\n",
    "\r\n",
    "gs_ridge = GridSearchCV(estimator=ridge_pipe_svc, param_grid=param_grid_ridge, scoring='r2', cv=5, n_jobs=-1)\r\n",
    "gs_ridge.fit(X_train, y_train)\r\n",
    "\r\n",
    "gs_elastic = GridSearchCV(estimator=elastic_pipe_svc, param_grid=param_grid_elastic, scoring='r2', cv=5, n_jobs=-1)\r\n",
    "gs_elastic.fit(X_train, y_train)\r\n",
    "\r\n",
    "print(\"Lasso\")\r\n",
    "print(gs_lasso.best_score_)\r\n",
    "print(gs_lasso.best_params_)\r\n",
    "print(\"\")\r\n",
    "\r\n",
    "print(\"Ridge\")\r\n",
    "print(gs_ridge.best_score_)\r\n",
    "print(gs_ridge.best_params_)\r\n",
    "print(\"\")\r\n",
    "\r\n",
    "print(\"Elastic\")\r\n",
    "print(gs_elastic.best_score_)\r\n",
    "print(gs_elastic.best_params_)\r\n",
    "print(\"\")"
   ],
   "outputs": [
    {
     "output_type": "stream",
     "name": "stdout",
     "text": [
      "Lasso\n",
      "0.7129520975572088\n",
      "{'lasso__alpha': 0.3}\n",
      "\n",
      "Ridge\n",
      "0.706531275524331\n",
      "{'ridge__alpha': 1000}\n",
      "\n",
      "Elastic\n",
      "0.7083853891920866\n",
      "{'elasticnet__alpha': 0.3, 'elasticnet__l1_ratio': 0.9}\n",
      "\n"
     ]
    }
   ],
   "metadata": {}
  },
  {
   "cell_type": "markdown",
   "source": [
    "Above we see that each model performs almost identically on the training data. Recall that L1 is used for Lasso, and L2 is used for Ridget. Elastic Net uses both. The optimal l1_ration hyperparameter found for ElasticNet is 0.9. It's moving into the direction of Lasso. If the ratio is 1, it's Lasso, if it's 0, it's Ridge.\r\n",
    "\r\n",
    "Additionally, the optimal alpha found for Ridge is 1000, which is quite high. It's trying to penalize cofficients harder, which means we'll see more coefficients that are close to zero.\r\n",
    "\r\n",
    "Next we'll perform predictions on our test data. Note that because we are using a pipeline, the scaler is only applied to the test data. This ensures that we have no leakage of information from the training data.\r\n",
    "https://stackoverflow.com/questions/35388647/how-to-use-gridsearchcv-output-for-a-scikit-prediction"
   ],
   "metadata": {}
  },
  {
   "cell_type": "code",
   "execution_count": 6,
   "source": [
    "from sklearn import metrics\r\n",
    "\r\n",
    "# Note the X_test gets run through the pipeline above! Very important, it means that the scaler is also run on the test data\r\n",
    "y_lasso_pred = gs_lasso.predict(X_test)\r\n",
    "y_ridge_pred = gs_ridge.predict(X_test)\r\n",
    "y_elastic_pred = gs_elastic.predict(X_test)\r\n",
    "\r\n",
    "print(\"Lasso\")\r\n",
    "print(\"R2 ->\", metrics.r2_score(y_test, y_lasso_pred))\r\n",
    "print(\"MAE ->\", metrics.mean_absolute_error(y_test, y_lasso_pred))\r\n",
    "\r\n",
    "print(\"Ridge\")\r\n",
    "print(\"R2 ->\", metrics.r2_score(y_test, y_ridge_pred))\r\n",
    "print(\"MAE ->\", metrics.mean_absolute_error(y_test, y_ridge_pred))\r\n",
    "print(\"\")\r\n",
    "\r\n",
    "print(\"Elastic\")\r\n",
    "print(\"R2 ->\", metrics.r2_score(y_test, y_elastic_pred))\r\n",
    "print(\"MAE ->\", metrics.mean_absolute_error(y_test, y_elastic_pred))\r\n",
    "print(\"\")"
   ],
   "outputs": [
    {
     "output_type": "stream",
     "name": "stdout",
     "text": [
      "Lasso\n",
      "R2 -> 0.7197254814065868\n",
      "MAE -> 13.660714491348584\n",
      "Ridge\n",
      "R2 -> 0.7264906957630274\n",
      "MAE -> 13.359929361601818\n",
      "\n",
      "Elastic\n",
      "R2 -> 0.7146988481193569\n",
      "MAE -> 13.811785860925973\n",
      "\n"
     ]
    }
   ],
   "metadata": {}
  },
  {
   "cell_type": "markdown",
   "source": [
    "Above we see that the R2 values are consistent with what we found on the training data. However, the Ridge model performans marginally better. In this case I'd be inclined to use the Lasso model because of the reduced number of features. Below we output the ABSOLUTE value of each coefficient, in sorted fashion. This helps to give an indication of which features are important. The sign doesn't matter."
   ],
   "metadata": {}
  },
  {
   "cell_type": "code",
   "execution_count": 6,
   "source": [
    "lasso_weights = {data.columns[k]:abs(v) for k, v in enumerate(gs_lasso.best_estimator_['lasso'].coef_)}\r\n",
    "dict(sorted(lasso_weights.items(), key=lambda item: item[1], reverse=True))"
   ],
   "outputs": [
    {
     "output_type": "execute_result",
     "data": {
      "text/plain": [
       "{'Ba': 12.747910288530564,\n",
       " 'wtd_gmean_ThermalConductivity': 12.364521222651712,\n",
       " 'wtd_mean_ThermalConductivity': 11.947603500510484,\n",
       " 'range_atomic_mass': 6.955103730407503,\n",
       " 'wtd_std_Valence': 6.560344059460298,\n",
       " 'wtd_gmean_ElectronAffinity': 4.328328539587896,\n",
       " 'Bi': 3.974908814567439,\n",
       " 'wtd_entropy_atomic_mass': 3.9508095199980278,\n",
       " 'wtd_entropy_ThermalConductivity': 3.924730652055885,\n",
       " 'Ca': 3.3178161344471087,\n",
       " 'wtd_entropy_FusionHeat': 2.806253200477188,\n",
       " 'wtd_entropy_ElectronAffinity': 2.543573398784333,\n",
       " 'mean_Density': 1.738656984740053,\n",
       " 'Si': 1.6972961033719118,\n",
       " 'mean_fie': 1.5836528543493753,\n",
       " 'Sr': 1.3418330269172298,\n",
       " 'wtd_range_atomic_mass': 1.2028148462719708,\n",
       " 'range_atomic_radius': 1.1880683928528337,\n",
       " 'As': 1.1522532857677548,\n",
       " 'S': 1.0526391079045871,\n",
       " 'wtd_std_FusionHeat': 1.0469974142475256,\n",
       " 'mean_ThermalConductivity': 0.9839999275894172,\n",
       " 'wtd_std_atomic_mass': 0.7363630703449185,\n",
       " 'wtd_range_FusionHeat': 0.582011916925144,\n",
       " 'wtd_range_Density': 0.5578557645139776,\n",
       " 'Ge': 0.5532431718577415,\n",
       " 'std_ElectronAffinity': 0.4194748279264357,\n",
       " 'B': 0.3381522940299988,\n",
       " 'Al': 0.32446796220072877,\n",
       " 'wtd_std_Density': 0.2711147428607599,\n",
       " 'Ti': 0.16585668759745875,\n",
       " 'Tl': 0.16003493811249572,\n",
       " 'Nb': 0.14801722710628334,\n",
       " 'C': 0.12906196232215814,\n",
       " 'V': 0.1264011664332592,\n",
       " 'La': 0.12478981428672324,\n",
       " 'Zr': 0.05164513864755051,\n",
       " 'Pd': 0.031418915951804106,\n",
       " 'Mo': 0.021814294515427348,\n",
       " 'number_of_elements': 0.0,\n",
       " 'mean_atomic_mass': 0.0,\n",
       " 'wtd_mean_atomic_mass': 0.0,\n",
       " 'gmean_atomic_mass': 0.0,\n",
       " 'wtd_gmean_atomic_mass': 0.0,\n",
       " 'entropy_atomic_mass': 0.0,\n",
       " 'std_atomic_mass': 0.0,\n",
       " 'wtd_mean_fie': 0.0,\n",
       " 'gmean_fie': 0.0,\n",
       " 'wtd_gmean_fie': 0.0,\n",
       " 'entropy_fie': 0.0,\n",
       " 'wtd_entropy_fie': 0.0,\n",
       " 'range_fie': 0.0,\n",
       " 'wtd_range_fie': 0.0,\n",
       " 'std_fie': 0.0,\n",
       " 'wtd_std_fie': 0.0,\n",
       " 'mean_atomic_radius': 0.0,\n",
       " 'wtd_mean_atomic_radius': 0.0,\n",
       " 'gmean_atomic_radius': 0.0,\n",
       " 'wtd_gmean_atomic_radius': 0.0,\n",
       " 'entropy_atomic_radius': 0.0,\n",
       " 'wtd_entropy_atomic_radius': 0.0,\n",
       " 'wtd_range_atomic_radius': 0.0,\n",
       " 'std_atomic_radius': 0.0,\n",
       " 'wtd_std_atomic_radius': 0.0,\n",
       " 'wtd_mean_Density': 0.0,\n",
       " 'gmean_Density': 0.0,\n",
       " 'wtd_gmean_Density': 0.0,\n",
       " 'entropy_Density': 0.0,\n",
       " 'wtd_entropy_Density': 0.0,\n",
       " 'range_Density': 0.0,\n",
       " 'std_Density': 0.0,\n",
       " 'mean_ElectronAffinity': 0.0,\n",
       " 'wtd_mean_ElectronAffinity': 0.0,\n",
       " 'gmean_ElectronAffinity': 0.0,\n",
       " 'entropy_ElectronAffinity': 0.0,\n",
       " 'range_ElectronAffinity': 0.0,\n",
       " 'wtd_range_ElectronAffinity': 0.0,\n",
       " 'wtd_std_ElectronAffinity': 0.0,\n",
       " 'mean_FusionHeat': 0.0,\n",
       " 'wtd_mean_FusionHeat': 0.0,\n",
       " 'gmean_FusionHeat': 0.0,\n",
       " 'wtd_gmean_FusionHeat': 0.0,\n",
       " 'entropy_FusionHeat': 0.0,\n",
       " 'range_FusionHeat': 0.0,\n",
       " 'std_FusionHeat': 0.0,\n",
       " 'gmean_ThermalConductivity': 0.0,\n",
       " 'entropy_ThermalConductivity': 0.0,\n",
       " 'range_ThermalConductivity': 0.0,\n",
       " 'wtd_range_ThermalConductivity': 0.0,\n",
       " 'std_ThermalConductivity': 0.0,\n",
       " 'wtd_std_ThermalConductivity': 0.0,\n",
       " 'mean_Valence': 0.0,\n",
       " 'wtd_mean_Valence': 0.0,\n",
       " 'gmean_Valence': 0.0,\n",
       " 'wtd_gmean_Valence': 0.0,\n",
       " 'entropy_Valence': 0.0,\n",
       " 'wtd_entropy_Valence': 0.0,\n",
       " 'range_Valence': 0.0,\n",
       " 'wtd_range_Valence': 0.0,\n",
       " 'std_Valence': 0.0,\n",
       " 'H': 0.0,\n",
       " 'Li': 0.0,\n",
       " 'Be': 0.0,\n",
       " 'N': 0.0,\n",
       " 'O': 0.0,\n",
       " 'F': 0.0,\n",
       " 'Na': 0.0,\n",
       " 'Mg': 0.0,\n",
       " 'P': 0.0,\n",
       " 'Cl': 0.0,\n",
       " 'K': 0.0,\n",
       " 'Sc': 0.0,\n",
       " 'Cr': 0.0,\n",
       " 'Mn': 0.0,\n",
       " 'Fe': 0.0,\n",
       " 'Co': 0.0,\n",
       " 'Ni': 0.0,\n",
       " 'Cu': 0.0,\n",
       " 'Zn': 0.0,\n",
       " 'Ga': 0.0,\n",
       " 'Se': 0.0,\n",
       " 'Br': 0.0,\n",
       " 'Rb': 0.0,\n",
       " 'Y': 0.0,\n",
       " 'Tc': 0.0,\n",
       " 'Ru': 0.0,\n",
       " 'Rh': 0.0,\n",
       " 'Ag': 0.0,\n",
       " 'Cd': 0.0,\n",
       " 'In': 0.0,\n",
       " 'Sn': 0.0,\n",
       " 'Sb': 0.0,\n",
       " 'Te': 0.0,\n",
       " 'I': 0.0,\n",
       " 'Cs': 0.0,\n",
       " 'Ce': 0.0,\n",
       " 'Pr': 0.0,\n",
       " 'Nd': 0.0,\n",
       " 'Sm': 0.0,\n",
       " 'Eu': 0.0,\n",
       " 'Gd': 0.0,\n",
       " 'Tb': 0.0,\n",
       " 'Dy': 0.0,\n",
       " 'Ho': 0.0,\n",
       " 'Er': 0.0,\n",
       " 'Tm': 0.0,\n",
       " 'Yb': 0.0,\n",
       " 'Lu': 0.0,\n",
       " 'Hf': 0.0,\n",
       " 'Ta': 0.0,\n",
       " 'W': 0.0,\n",
       " 'Re': 0.0,\n",
       " 'Os': 0.0,\n",
       " 'Ir': 0.0,\n",
       " 'Pt': 0.0,\n",
       " 'Au': 0.0,\n",
       " 'Hg': 0.0,\n",
       " 'Pb': 0.0}"
      ]
     },
     "metadata": {},
     "execution_count": 6
    }
   ],
   "metadata": {}
  },
  {
   "cell_type": "code",
   "execution_count": 7,
   "source": [
    "ridge_weights = {data.columns[k]:abs(v) for k, v in enumerate(gs_ridge.best_estimator_['ridge'].coef_)}\r\n",
    "dict(sorted(ridge_weights.items(), key=lambda item: item[1], reverse=True))"
   ],
   "outputs": [
    {
     "output_type": "execute_result",
     "data": {
      "text/plain": [
       "{'Ba': 10.370112488683777,\n",
       " 'wtd_mean_ThermalConductivity': 6.483779782189887,\n",
       " 'wtd_std_Valence': 6.051373478910801,\n",
       " 'wtd_gmean_ThermalConductivity': 5.803254805998027,\n",
       " 'range_atomic_mass': 4.462011897968528,\n",
       " 'Bi': 4.206544355861225,\n",
       " 'wtd_std_ThermalConductivity': 3.8285152144058774,\n",
       " 'wtd_gmean_ElectronAffinity': 3.589116895521526,\n",
       " 'Ca': 3.410551989821297,\n",
       " 'wtd_entropy_ElectronAffinity': 3.394887646825719,\n",
       " 'wtd_std_atomic_mass': 3.196081179425849,\n",
       " 'wtd_entropy_atomic_mass': 2.8317915478142077,\n",
       " 'mean_ThermalConductivity': 2.7609890505042176,\n",
       " 'wtd_entropy_FusionHeat': 2.5880223369522963,\n",
       " 'gmean_ThermalConductivity': 2.524473443109448,\n",
       " 'range_atomic_radius': 2.524093411262746,\n",
       " 'Hg': 2.5220927025033046,\n",
       " 'wtd_range_ElectronAffinity': 2.5219111686153455,\n",
       " 'std_ElectronAffinity': 2.46421314705602,\n",
       " 'Tl': 2.4546386358442813,\n",
       " 'Ag': 2.302784507378022,\n",
       " 'std_atomic_mass': 2.2744357552364254,\n",
       " 'wtd_mean_atomic_radius': 2.237973420062889,\n",
       " 'wtd_std_atomic_radius': 2.2254238344081614,\n",
       " 'number_of_elements': 2.122047583186744,\n",
       " 'wtd_range_atomic_mass': 2.0528071077964123,\n",
       " 'range_ElectronAffinity': 2.005360667841686,\n",
       " 'wtd_entropy_ThermalConductivity': 2.000837021011696,\n",
       " 'Cl': 1.9297673269011162,\n",
       " 'wtd_entropy_atomic_radius': 1.9121479085864523,\n",
       " 'Ce': 1.8901282417445298,\n",
       " 'wtd_std_Density': 1.8754816171782072,\n",
       " 'entropy_ThermalConductivity': 1.8683344888813402,\n",
       " 'As': 1.8415773081693776,\n",
       " 'Nd': 1.8397797864841392,\n",
       " 'wtd_range_Density': 1.7605179907859752,\n",
       " 'mean_Density': 1.7353459958360868,\n",
       " 'wtd_entropy_fie': 1.7224005390498704,\n",
       " 'wtd_range_Valence': 1.6559624987557593,\n",
       " 'gmean_Density': 1.5920937181681887,\n",
       " 'wtd_std_FusionHeat': 1.5733640928211088,\n",
       " 'Si': 1.5648684463523095,\n",
       " 'wtd_range_atomic_radius': 1.5603023618190126,\n",
       " 'range_ThermalConductivity': 1.5006385187433908,\n",
       " 'Eu': 1.4879310575091271,\n",
       " 'entropy_atomic_mass': 1.4004485747792386,\n",
       " 'range_fie': 1.3949199273323565,\n",
       " 'mean_atomic_mass': 1.3902674557296972,\n",
       " 'wtd_mean_atomic_mass': 1.374116100908378,\n",
       " 'std_ThermalConductivity': 1.3479725189696785,\n",
       " 'B': 1.2676385029674593,\n",
       " 'Y': 1.267399150975522,\n",
       " 'mean_FusionHeat': 1.2397777333138105,\n",
       " 'entropy_ElectronAffinity': 1.2285906580168675,\n",
       " 'mean_ElectronAffinity': 1.1613942978972134,\n",
       " 'N': 1.152388533605237,\n",
       " 'gmean_atomic_radius': 1.0789354008968053,\n",
       " 'Lu': 1.0502294812614619,\n",
       " 'S': 1.0185770550728255,\n",
       " 'wtd_entropy_Valence': 0.9689201386204048,\n",
       " 'Mg': 0.9488433421154208,\n",
       " 'wtd_range_FusionHeat': 0.9288042033723887,\n",
       " 'wtd_std_ElectronAffinity': 0.9243360421323586,\n",
       " 'gmean_fie': 0.8945877730999369,\n",
       " 'entropy_Density': 0.8838734917345893,\n",
       " 'Ge': 0.8828450746666207,\n",
       " 'std_fie': 0.8737810087449167,\n",
       " 'std_Valence': 0.8431055330812769,\n",
       " 'Hf': 0.7984913127493036,\n",
       " 'Li': 0.796634524993242,\n",
       " 'O': 0.7911594370653423,\n",
       " 'entropy_fie': 0.7670593506228652,\n",
       " 'Co': 0.7484383138135025,\n",
       " 'Pt': 0.7179778930779498,\n",
       " 'range_FusionHeat': 0.6993648955431833,\n",
       " 'Gd': 0.678379550425078,\n",
       " 'Zn': 0.6659617240307223,\n",
       " 'std_atomic_radius': 0.6456580872402501,\n",
       " 'wtd_mean_Density': 0.639406500297488,\n",
       " 'wtd_gmean_atomic_radius': 0.6349529219528582,\n",
       " 'range_Valence': 0.6296974141258598,\n",
       " 'Al': 0.6143174974849611,\n",
       " 'P': 0.6104434335937566,\n",
       " 'Yb': 0.6080235920245366,\n",
       " 'wtd_mean_Valence': 0.593962899908123,\n",
       " 'Be': 0.5923453971085226,\n",
       " 'Sr': 0.5875302542168979,\n",
       " 'std_FusionHeat': 0.5859802259858727,\n",
       " 'Os': 0.5725433309843103,\n",
       " 'Pb': 0.5626411211616339,\n",
       " 'wtd_entropy_Density': 0.5364630842176473,\n",
       " 'entropy_Valence': 0.5236726357004029,\n",
       " 'Cu': 0.4991546792018496,\n",
       " 'mean_fie': 0.4918038098409781,\n",
       " 'Rb': 0.4773993180614497,\n",
       " 'entropy_atomic_radius': 0.47679260269786083,\n",
       " 'range_Density': 0.4673677750055407,\n",
       " 'K': 0.4583780022538765,\n",
       " 'I': 0.4345030482119355,\n",
       " 'gmean_ElectronAffinity': 0.4321163826977069,\n",
       " 'Er': 0.4278592979181801,\n",
       " 'mean_Valence': 0.424171105634465,\n",
       " 'Ni': 0.42145522494768306,\n",
       " 'wtd_std_fie': 0.4066037516335799,\n",
       " 'std_Density': 0.3545222777950935,\n",
       " 'Se': 0.34145384268933465,\n",
       " 'gmean_Valence': 0.32308332546547974,\n",
       " 'F': 0.32085371956738407,\n",
       " 'H': 0.2953803169665289,\n",
       " 'mean_atomic_radius': 0.2807679308097903,\n",
       " 'Tc': 0.27129610136661114,\n",
       " 'Dy': 0.2636761222276739,\n",
       " 'wtd_gmean_FusionHeat': 0.25240899697063646,\n",
       " 'gmean_atomic_mass': 0.2514192058843517,\n",
       " 'Mn': 0.25026069729193,\n",
       " 'W': 0.21782865620125816,\n",
       " 'Pd': 0.21323581881773215,\n",
       " 'wtd_gmean_Density': 0.20869211754225653,\n",
       " 'Ho': 0.20433725297667985,\n",
       " 'wtd_mean_fie': 0.19818411312445938,\n",
       " 'Au': 0.1973554324146537,\n",
       " 'Ti': 0.19291956206286173,\n",
       " 'wtd_gmean_fie': 0.192345901890139,\n",
       " 'Pr': 0.16702858977129323,\n",
       " 'wtd_gmean_Valence': 0.16432341792099697,\n",
       " 'Tb': 0.15947669311040277,\n",
       " 'La': 0.15544066245255456,\n",
       " 'Cd': 0.15505484468353997,\n",
       " 'Nb': 0.13505317534317976,\n",
       " 'V': 0.11956580487924759,\n",
       " 'Tm': 0.11811228993226089,\n",
       " 'Rh': 0.10230559755799083,\n",
       " 'Br': 0.09999983242007267,\n",
       " 'wtd_mean_ElectronAffinity': 0.09068023240862341,\n",
       " 'wtd_range_fie': 0.09038011428059288,\n",
       " 'entropy_FusionHeat': 0.08893691361185405,\n",
       " 'Ta': 0.08348592631428221,\n",
       " 'Sm': 0.0829435316009324,\n",
       " 'wtd_mean_FusionHeat': 0.08217011496926524,\n",
       " 'Cs': 0.0781204327529085,\n",
       " 'Fe': 0.06758399352255463,\n",
       " 'Sn': 0.06144331973007276,\n",
       " 'wtd_range_ThermalConductivity': 0.06129903065154236,\n",
       " 'Ru': 0.04617699829344316,\n",
       " 'Ga': 0.03935576023212859,\n",
       " 'Zr': 0.038878231080242194,\n",
       " 'In': 0.03319234984058856,\n",
       " 'Te': 0.03318108200549895,\n",
       " 'Cr': 0.02691993043988026,\n",
       " 'Sb': 0.024082020339043476,\n",
       " 'C': 0.021407473314095368,\n",
       " 'Sc': 0.020594831716496637,\n",
       " 'Na': 0.016942450459670483,\n",
       " 'Ir': 0.013371562036576768,\n",
       " 'wtd_gmean_atomic_mass': 0.013143277576432437,\n",
       " 'Re': 0.011506132232887174,\n",
       " 'Mo': 0.004963541124367912,\n",
       " 'gmean_FusionHeat': 0.002024485315723828}"
      ]
     },
     "metadata": {},
     "execution_count": 7
    }
   ],
   "metadata": {}
  },
  {
   "cell_type": "markdown",
   "source": [
    "## Model Interpretability & Explainability\n",
    "Using at least one of your models above (if multiple were trained):\n",
    "\n",
    "- Which variable(s) was (were) \"\"most important\"\" and why?  How did you come to the conclusion and how should your audience interpret this?"
   ],
   "metadata": {}
  },
  {
   "cell_type": "code",
   "execution_count": 8,
   "source": [
    "data\r\n",
    "col= data[['Ba','wtd_gmean_ThermalConductivity','wtd_mean_ThermalConductivity' ]]\r\n",
    "col"
   ],
   "outputs": [
    {
     "output_type": "execute_result",
     "data": {
      "text/html": [
       "<div>\n",
       "<style scoped>\n",
       "    .dataframe tbody tr th:only-of-type {\n",
       "        vertical-align: middle;\n",
       "    }\n",
       "\n",
       "    .dataframe tbody tr th {\n",
       "        vertical-align: top;\n",
       "    }\n",
       "\n",
       "    .dataframe thead th {\n",
       "        text-align: right;\n",
       "    }\n",
       "</style>\n",
       "<table border=\"1\" class=\"dataframe\">\n",
       "  <thead>\n",
       "    <tr style=\"text-align: right;\">\n",
       "      <th></th>\n",
       "      <th>Ba</th>\n",
       "      <th>wtd_gmean_ThermalConductivity</th>\n",
       "      <th>wtd_mean_ThermalConductivity</th>\n",
       "    </tr>\n",
       "  </thead>\n",
       "  <tbody>\n",
       "    <tr>\n",
       "      <th>0</th>\n",
       "      <td>0.20</td>\n",
       "      <td>0.621979</td>\n",
       "      <td>61.015189</td>\n",
       "    </tr>\n",
       "    <tr>\n",
       "      <th>1</th>\n",
       "      <td>0.10</td>\n",
       "      <td>0.619735</td>\n",
       "      <td>61.372331</td>\n",
       "    </tr>\n",
       "    <tr>\n",
       "      <th>2</th>\n",
       "      <td>0.10</td>\n",
       "      <td>0.619095</td>\n",
       "      <td>60.943760</td>\n",
       "    </tr>\n",
       "    <tr>\n",
       "      <th>3</th>\n",
       "      <td>0.15</td>\n",
       "      <td>0.620535</td>\n",
       "      <td>60.979474</td>\n",
       "    </tr>\n",
       "    <tr>\n",
       "      <th>4</th>\n",
       "      <td>0.30</td>\n",
       "      <td>0.624878</td>\n",
       "      <td>61.086617</td>\n",
       "    </tr>\n",
       "    <tr>\n",
       "      <th>...</th>\n",
       "      <td>...</td>\n",
       "      <td>...</td>\n",
       "      <td>...</td>\n",
       "    </tr>\n",
       "    <tr>\n",
       "      <th>21258</th>\n",
       "      <td>0.00</td>\n",
       "      <td>95.001493</td>\n",
       "      <td>111.537778</td>\n",
       "    </tr>\n",
       "    <tr>\n",
       "      <th>21259</th>\n",
       "      <td>2.00</td>\n",
       "      <td>1.577047</td>\n",
       "      <td>108.680590</td>\n",
       "    </tr>\n",
       "    <tr>\n",
       "      <th>21260</th>\n",
       "      <td>0.00</td>\n",
       "      <td>57.038314</td>\n",
       "      <td>57.400000</td>\n",
       "    </tr>\n",
       "    <tr>\n",
       "      <th>21261</th>\n",
       "      <td>0.00</td>\n",
       "      <td>58.781651</td>\n",
       "      <td>59.270000</td>\n",
       "    </tr>\n",
       "    <tr>\n",
       "      <th>21262</th>\n",
       "      <td>0.00</td>\n",
       "      <td>12.919996</td>\n",
       "      <td>40.752000</td>\n",
       "    </tr>\n",
       "  </tbody>\n",
       "</table>\n",
       "<p>21263 rows × 3 columns</p>\n",
       "</div>"
      ],
      "text/plain": [
       "         Ba  wtd_gmean_ThermalConductivity  wtd_mean_ThermalConductivity\n",
       "0      0.20                       0.621979                     61.015189\n",
       "1      0.10                       0.619735                     61.372331\n",
       "2      0.10                       0.619095                     60.943760\n",
       "3      0.15                       0.620535                     60.979474\n",
       "4      0.30                       0.624878                     61.086617\n",
       "...     ...                            ...                           ...\n",
       "21258  0.00                      95.001493                    111.537778\n",
       "21259  2.00                       1.577047                    108.680590\n",
       "21260  0.00                      57.038314                     57.400000\n",
       "21261  0.00                      58.781651                     59.270000\n",
       "21262  0.00                      12.919996                     40.752000\n",
       "\n",
       "[21263 rows x 3 columns]"
      ]
     },
     "metadata": {},
     "execution_count": 8
    }
   ],
   "metadata": {}
  },
  {
   "cell_type": "code",
   "execution_count": 9,
   "source": [
    "#calculate interquartile range for Ba\n",
    "q3, q1 = np.percentile(data['Ba'], [75 ,25])\n",
    "iqr_BA = q3 - q1\n",
    "#display interquartile range \n",
    "iqr_BA"
   ],
   "outputs": [
    {
     "output_type": "execute_result",
     "data": {
      "text/plain": [
       "1.35"
      ]
     },
     "metadata": {},
     "execution_count": 9
    }
   ],
   "metadata": {}
  },
  {
   "cell_type": "code",
   "execution_count": 11,
   "source": [
    "#calculate interquartile range for Ba\n",
    "q3, q1 = np.percentile(data['wtd_gmean_ThermalConductivity'], [75 ,25])\n",
    "iqr_Ther_gmean = q3 - q1\n",
    "#display interquartile range \n",
    "iqr_Ther_gmean"
   ],
   "outputs": [
    {
     "output_type": "execute_result",
     "data": {
      "text/plain": [
       "46.220757864326025"
      ]
     },
     "metadata": {},
     "execution_count": 11
    }
   ],
   "metadata": {}
  },
  {
   "cell_type": "code",
   "execution_count": 12,
   "source": [
    "#calculate interquartile range for Ba\n",
    "q3, q1 = np.percentile(data['wtd_mean_ThermalConductivity'], [75 ,25])\n",
    "iqr_Ther_mean = q3 - q1\n",
    "#display interquartile range \n",
    "iqr_Ther_mean"
   ],
   "outputs": [
    {
     "output_type": "execute_result",
     "data": {
      "text/plain": [
       "44.881957804581404"
      ]
     },
     "metadata": {},
     "execution_count": 12
    }
   ],
   "metadata": {}
  },
  {
   "cell_type": "markdown",
   "source": [
    "We decided to use the Lasso model because the performance as explained above. The most important variable in the lasso model were the following:\n",
    "\n",
    "'Ba': 12.747910288530564,\n",
    "\n",
    "'wtd_gmean_ThermalConductivity': 12.364521222651712,\n",
    "\n",
    "'wtd_mean_ThermalConductivity': 11.947603500510484\n",
    "\n",
    "As you can see these 3 variables are the only variables among the 159 variables choosen to run the model that have a weight above 10. Therefore, the 3 mentioned variables are the most important variable to predict critical temperature by the lasso model.\n",
    "\n",
    "Because we had the necessity to normalize our data due to different distribution of values from the variables to provide appropriate variables to compare and work for the model, we interpret the variables accounting for our normalized data. We used the robust scalar for normalization. This Scaler removes the median and scales the data according to the quantile range (defaults to IQR: Interquartile Range). The IQR is the range between the 1st quartile (25th quantile) and the 3rd quartile (75th quantile).\n",
    "Therefore, the interpretation of the most important 3 variables mentioned above are the following:\n",
    "BA= for any increase in 1.35 of the BA variables we will have an increase in the critical temperature of 12.75, when we keep constant the othe variables.\n",
    "Wtd_gmean_ThermalConductivity= for any increase in 46.22 of the wtd_gmean_ThermalConductivity variable we will have an increase in the critical temperature of 12.36, hen we keep constant the othe variables.\n",
    "Wtd_mean_ThermalConductivity= for any increase in 44.89 of the wtd_mean_ThermalConductivity variable we will have an increase in the critical temperature of 11.95, hen we keep constant the othe variables.\n",
    "\n",
    "The lasso model has MAE= 13.6; the general interpretation of this model for the user is that any prediction with this model will have a mean error of plus/minus 13.6.\n"
   ],
   "metadata": {}
  },
  {
   "cell_type": "markdown",
   "source": [
    "## Case Conclusions\n",
    "After all of your technical analysis and modeling; what are you proposing to your audience and why?  How should they view your results and what should they consider when moving forward?  Are there other approaches you'd recommend exploring?  This is where you \"bring it all home\" in language they understand."
   ],
   "metadata": {}
  },
  {
   "cell_type": "markdown",
   "source": [
    "We will recommend to our audience to keep in mind that the most important variables to relate to critical high temperature are Ba wtd_gmean_ThermalConductivity, wtd_mean_ThermalConductivity. Because those variables turned out to have the highest weight in the lasso regularization model. So, moving forward the audience should concentrate in these 3 variables in the control or manipulation of critical high temperature. Furthermore, it is very reassurance that the same variables came out in the other models that we run as the variables with higher weight of importance. For the future, it can be done a prospective study looking the relation with of these 3 variables and critical high temperature. "
   ],
   "metadata": {}
  },
  {
   "cell_type": "code",
   "execution_count": null,
   "source": [],
   "outputs": [],
   "metadata": {}
  }
 ],
 "metadata": {
  "interpreter": {
   "hash": "eaa798b471aa1a0109429a408b0faab53065248ef7f5a5989f90756771672ef6"
  },
  "kernelspec": {
   "display_name": "Python 3",
   "language": "python",
   "name": "python3"
  },
  "language_info": {
   "codemirror_mode": {
    "name": "ipython",
    "version": 3
   },
   "file_extension": ".py",
   "mimetype": "text/x-python",
   "name": "python",
   "nbconvert_exporter": "python",
   "pygments_lexer": "ipython3",
   "version": "3.7.4"
  }
 },
 "nbformat": 4,
 "nbformat_minor": 4
}