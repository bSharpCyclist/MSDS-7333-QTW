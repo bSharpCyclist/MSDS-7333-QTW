{
 "cells": [
  {
   "cell_type": "markdown",
   "metadata": {},
   "source": [
    "# MSDS 7331 - Case Study 3 - Clasification of e-mail as ham or spam\n",
    "Daniel Crouthamel\n",
    "\n",
    "Sophia Wu\n",
    "\n",
    "Fabio Savorgnan\n",
    "\n",
    "Bo Yun\n",
    "\n",
    "# Introduction\n",
    "\n",
    "In this study, we will be building a classifier to predict email that are spam or ham. \n",
    "\n",
    "Business Understanding\n",
    "\n",
    "Data Evaluation / Engineering\n",
    "\n",
    "Modeling Preparations\n",
    "\n",
    "Model Building & Evaluation\n",
    "\n",
    "Model Interpretability & Explainability\n",
    "\n",
    "Case Conclusions"
   ]
  },
  {
   "cell_type": "markdown",
   "metadata": {},
   "source": [
    "# Business Understanding"
   ]
  },
  {
   "cell_type": "markdown",
   "metadata": {},
   "source": [
    "The business is receiving multiples email that are spam. This cause that the member of the business miss important email because the member erase multiples e mail that are spam and among those the member erase ham email which can be important.\n",
    "\n",
    "An internal IT department has raised an alarm that the staff is receiving a large amount of spam email. They have requested the rock star data scicence team at SMU to build a solution that not only minimizes the number of spam emails, but also keeps important emails from getting flagged as spam and missed.\n",
    "\n",
    "With that in mind, Precision will be and important classification metric to use in our.\n",
    "\n",
    "Our team will build a Naive Bayes model for classification, and use clustering and other techniques during the EDA process to identify ."
   ]
  },
  {
   "cell_type": "markdown",
   "metadata": {},
   "source": [
    "# Data Evaluation / Engineering"
   ]
  },
  {
   "cell_type": "code",
   "execution_count": 1,
   "metadata": {},
   "outputs": [],
   "source": [
    "#importing libraries and reading in file\n",
    "import numpy as np\n",
    "import pandas as pd\n",
    "import matplotlib.pyplot as plt\n",
    "import seaborn as sns\n",
    "\n",
    "#general sklearn libraries\n",
    "from sklearn.model_selection import train_test_split\n",
    "from sklearn.model_selection import GridSearchCV\n",
    "from sklearn.preprocessing import StandardScaler\n",
    "from sklearn.preprocessing import RobustScaler\n",
    "from sklearn.preprocessing import MinMaxScaler\n",
    "from sklearn.naive_bayes import MultinomialNB\n",
    "from sklearn.metrics import accuracy_score\n",
    "from sklearn.metrics import recall_score\n",
    "from sklearn.metrics import precision_score\n",
    "from sklearn.metrics import f1_score\n",
    "\n",
    "#NB\n",
    "from sklearn.pipeline import make_pipeline\n",
    "\n",
    "\n",
    "# Files\n",
    "from os import listdir, getcwd, chdir\n",
    "from os.path import isfile, join, dirname, realpath\n",
    "import email\n",
    "import email.parser\n",
    "from email.parser import Parser\n",
    "\n",
    "#NLP\n",
    "import nltk\n",
    "import re \n",
    "from sklearn.feature_extraction.text import TfidfVectorizer\n",
    "from sklearn.feature_extraction.text import CountVectorizer\n",
    "from sklearn.cluster import KMeans\n",
    "from sklearn.metrics import silhouette_samples, silhouette_score"
   ]
  },
  {
   "cell_type": "code",
   "execution_count": 2,
   "metadata": {},
   "outputs": [],
   "source": [
    "def get_cwd():\n",
    "    try:\n",
    "        chdir(dirname(realpath(__file__)))\n",
    "    except:\n",
    "        ##chdir('/Users/fabiosavorgnan/Desktop/QTW/Week_1/Data/MSDS-7333-QTW')\n",
    "        chdir('D:\\Projects\\MSDS-7333-QTW')\n",
    "\n",
    "    active_dir = getcwd()\n",
    "       \n",
    "    return active_dir\n",
    "\n",
    "def main():\n",
    "    \n",
    "    get_cwd()\n",
    "    \n",
    "    directories = [\n",
    "            'easy_ham',\n",
    "            'easy_ham_2',\n",
    "            'hard_ham',\n",
    "            'spam',\n",
    "            'spam_2'\n",
    "            ] \n",
    "    \n",
    "    res_frame = pd.DataFrame()\n",
    "\n",
    "    # *dc - Added to keep a collection of email text\n",
    "    emails = []\n",
    "\n",
    "    bodies = []\n",
    "        \n",
    "    for d in directories:\n",
    "        mypath = getcwd() + '/data/' + d + '/'\n",
    "        onlyfiles = [f for f in listdir(mypath) if isfile(join(mypath, f))]\n",
    "    \n",
    "        try:\n",
    "            onlyfiles.remove('.DS_Store')\n",
    "        except:\n",
    "            pass\n",
    "        \n",
    "        for file in onlyfiles:\n",
    "            with open(mypath + file, encoding='latin1') as f:\n",
    "                lines = f.readlines()\n",
    "                f.close()\n",
    "            \n",
    "            with open(mypath + file, encoding='latin1') as f:\n",
    "                body = f.read()\n",
    "                f.close()\n",
    "                \n",
    "            msg = email.message_from_string(str(body))\n",
    "            tmpStr = ''\n",
    "            \n",
    "            if msg.is_multipart():\n",
    "                for payload in msg.get_payload():\n",
    "                    #tmp.append(str(payload.get_payload()))\n",
    "                    \n",
    "                    tmpStr = ' '.join(str(payload.get_payload()))\n",
    "                bodies.append(tmpStr)\n",
    "            else:\n",
    "                bodies.append(str(msg.get_payload()))\n",
    "                \n",
    "            in_reply_count = 0\n",
    "            sub_line_all_caps = 0\n",
    "            attachments = 0\n",
    "            subject_line = []\n",
    "            n_lines = 0\n",
    "            blank_lines = []\n",
    "            \n",
    "            for line in lines:\n",
    "\n",
    "                n_lines += 1\n",
    "                if \"Subject: Re: \" in line:\n",
    "                   in_reply_count += 1\n",
    "                if \"Subject: \" in line:\n",
    "                   s_line = line.strip().replace('Subject: ','')\n",
    "                   s_line = ''.join(e for e in s_line if e.isalnum())\n",
    "                   num_upper = sum(1 for c in s_line if c.isupper())\n",
    "                   ttl_chars = len(s_line)\n",
    "                   if num_upper == ttl_chars:\n",
    "                       sub_line_all_caps += 1\n",
    "                   subject_line.append(s_line)\n",
    "                if \"content-type: multipart\" in line.lower():\n",
    "                   attachments += 1\n",
    "                if line == \"\\n\":\n",
    "                   blank_lines.append(n_lines)\n",
    "        \n",
    "            temp_frame = pd.DataFrame({\n",
    "                        'directory':d,    \n",
    "                        'filename':file,\n",
    "                        'is_spam':['Y' if 'spam' in d else 'N'],\n",
    "                        'in_reply': ['Y' if in_reply_count > 0 else 'N'], \n",
    "                        'subj_caps': ['Y' if sub_line_all_caps > 0 else 'N'], \n",
    "                        'attachments': ['Y' if attachments > 0 else 'N'],\n",
    "                        ## *dc+3 \n",
    "                        #'body_lines': n_lines - min(blank_lines)\n",
    "                        'body_lines': [0 if len(blank_lines) == 0 else min(blank_lines)]\n",
    "                        }, index=[0])\n",
    "           \n",
    "            res_frame = res_frame.append(temp_frame, ignore_index=True)\n",
    "\n",
    "            ## *dc+2\n",
    "            #append body of email to collection\n",
    "            text = ' '.join(lines)\n",
    "            emails.append(text)\n",
    "            \n",
    "    #res_frame.to_csv('output_file.csv', index=False)\n",
    "    \n",
    "    ## *dc - add emails\n",
    "    return res_frame, emails, bodies\n",
    "\n",
    "df, emails, bodies = main()"
   ]
  },
  {
   "cell_type": "markdown",
   "metadata": {},
   "source": [
    "Above we loaded the data set provided to us, along with creating data sets that represent the entire file (emails) and the body of the email (bodies). To pull the body of the email we used an EmailParser libary. We'll use this information later during clustering.\n",
    "\n",
    "Below we do a quick data set summary, outputing our features, names and a few sampled rows. We created the directory attribute, in case it comes in handy. There are no missing values in the data set. There is only one numberic feature, the number of lines in the email, along 3 categorical features and 1 target feature. For modeling later, filename and directory will be removed."
   ]
  },
  {
   "cell_type": "code",
   "execution_count": 3,
   "metadata": {},
   "outputs": [
    {
     "name": "stdout",
     "output_type": "stream",
     "text": [
      "<class 'pandas.core.frame.DataFrame'>\n",
      "RangeIndex: 9353 entries, 0 to 9352\n",
      "Data columns (total 7 columns):\n",
      " #   Column       Non-Null Count  Dtype \n",
      "---  ------       --------------  ----- \n",
      " 0   directory    9353 non-null   object\n",
      " 1   filename     9353 non-null   object\n",
      " 2   is_spam      9353 non-null   object\n",
      " 3   in_reply     9353 non-null   object\n",
      " 4   subj_caps    9353 non-null   object\n",
      " 5   attachments  9353 non-null   object\n",
      " 6   body_lines   9353 non-null   int64 \n",
      "dtypes: int64(1), object(6)\n",
      "memory usage: 511.6+ KB\n"
     ]
    },
    {
     "data": {
      "text/html": [
       "<div>\n",
       "<style scoped>\n",
       "    .dataframe tbody tr th:only-of-type {\n",
       "        vertical-align: middle;\n",
       "    }\n",
       "\n",
       "    .dataframe tbody tr th {\n",
       "        vertical-align: top;\n",
       "    }\n",
       "\n",
       "    .dataframe thead th {\n",
       "        text-align: right;\n",
       "    }\n",
       "</style>\n",
       "<table border=\"1\" class=\"dataframe\">\n",
       "  <thead>\n",
       "    <tr style=\"text-align: right;\">\n",
       "      <th></th>\n",
       "      <th>directory</th>\n",
       "      <th>filename</th>\n",
       "      <th>is_spam</th>\n",
       "      <th>in_reply</th>\n",
       "      <th>subj_caps</th>\n",
       "      <th>attachments</th>\n",
       "      <th>body_lines</th>\n",
       "    </tr>\n",
       "  </thead>\n",
       "  <tbody>\n",
       "    <tr>\n",
       "      <th>6670</th>\n",
       "      <td>hard_ham</td>\n",
       "      <td>00199.a69d994a7a76f49be4f4e8b839adc00a</td>\n",
       "      <td>N</td>\n",
       "      <td>N</td>\n",
       "      <td>N</td>\n",
       "      <td>Y</td>\n",
       "      <td>35</td>\n",
       "    </tr>\n",
       "    <tr>\n",
       "      <th>7030</th>\n",
       "      <td>spam</td>\n",
       "      <td>00070.ab34b6c044a55bef3d6c1f64b7521773</td>\n",
       "      <td>Y</td>\n",
       "      <td>N</td>\n",
       "      <td>N</td>\n",
       "      <td>N</td>\n",
       "      <td>20</td>\n",
       "    </tr>\n",
       "    <tr>\n",
       "      <th>9091</th>\n",
       "      <td>spam_2</td>\n",
       "      <td>01140.c37701901dbb63bc34e8db544f431557</td>\n",
       "      <td>Y</td>\n",
       "      <td>N</td>\n",
       "      <td>N</td>\n",
       "      <td>N</td>\n",
       "      <td>44</td>\n",
       "    </tr>\n",
       "    <tr>\n",
       "      <th>4963</th>\n",
       "      <td>easy_ham</td>\n",
       "      <td>2464.0c973fb4c6105b3cdc0ce5c786ed6b0c</td>\n",
       "      <td>N</td>\n",
       "      <td>N</td>\n",
       "      <td>N</td>\n",
       "      <td>N</td>\n",
       "      <td>23</td>\n",
       "    </tr>\n",
       "    <tr>\n",
       "      <th>8343</th>\n",
       "      <td>spam_2</td>\n",
       "      <td>00389.a4504d4c023b095c4907db14c65ea28f</td>\n",
       "      <td>Y</td>\n",
       "      <td>N</td>\n",
       "      <td>N</td>\n",
       "      <td>N</td>\n",
       "      <td>17</td>\n",
       "    </tr>\n",
       "  </tbody>\n",
       "</table>\n",
       "</div>"
      ],
      "text/plain": [
       "     directory                                filename is_spam in_reply  \\\n",
       "6670  hard_ham  00199.a69d994a7a76f49be4f4e8b839adc00a       N        N   \n",
       "7030      spam  00070.ab34b6c044a55bef3d6c1f64b7521773       Y        N   \n",
       "9091    spam_2  01140.c37701901dbb63bc34e8db544f431557       Y        N   \n",
       "4963  easy_ham   2464.0c973fb4c6105b3cdc0ce5c786ed6b0c       N        N   \n",
       "8343    spam_2  00389.a4504d4c023b095c4907db14c65ea28f       Y        N   \n",
       "\n",
       "     subj_caps attachments  body_lines  \n",
       "6670         N           Y          35  \n",
       "7030         N           N          20  \n",
       "9091         N           N          44  \n",
       "4963         N           N          23  \n",
       "8343         N           N          17  "
      ]
     },
     "execution_count": 3,
     "metadata": {},
     "output_type": "execute_result"
    }
   ],
   "source": [
    "df.info()\n",
    "df.sample(5)"
   ]
  },
  {
   "cell_type": "markdown",
   "metadata": {},
   "source": [
    "Below we will replace the 'Y' and 'N' values with 1 and 0, respectively."
   ]
  },
  {
   "cell_type": "code",
   "execution_count": 4,
   "metadata": {},
   "outputs": [
    {
     "data": {
      "text/html": [
       "<div>\n",
       "<style scoped>\n",
       "    .dataframe tbody tr th:only-of-type {\n",
       "        vertical-align: middle;\n",
       "    }\n",
       "\n",
       "    .dataframe tbody tr th {\n",
       "        vertical-align: top;\n",
       "    }\n",
       "\n",
       "    .dataframe thead th {\n",
       "        text-align: right;\n",
       "    }\n",
       "</style>\n",
       "<table border=\"1\" class=\"dataframe\">\n",
       "  <thead>\n",
       "    <tr style=\"text-align: right;\">\n",
       "      <th></th>\n",
       "      <th>directory</th>\n",
       "      <th>filename</th>\n",
       "      <th>is_spam</th>\n",
       "      <th>in_reply</th>\n",
       "      <th>subj_caps</th>\n",
       "      <th>attachments</th>\n",
       "      <th>body_lines</th>\n",
       "    </tr>\n",
       "  </thead>\n",
       "  <tbody>\n",
       "    <tr>\n",
       "      <th>1329</th>\n",
       "      <td>easy_ham</td>\n",
       "      <td>0121.b475478456e52de66ef0b0fb501bbfd3</td>\n",
       "      <td>0</td>\n",
       "      <td>0</td>\n",
       "      <td>0</td>\n",
       "      <td>0</td>\n",
       "      <td>44</td>\n",
       "    </tr>\n",
       "    <tr>\n",
       "      <th>4146</th>\n",
       "      <td>easy_ham</td>\n",
       "      <td>1647.e868de6866be80866e13b1660d95537c</td>\n",
       "      <td>0</td>\n",
       "      <td>0</td>\n",
       "      <td>0</td>\n",
       "      <td>0</td>\n",
       "      <td>58</td>\n",
       "    </tr>\n",
       "    <tr>\n",
       "      <th>8954</th>\n",
       "      <td>spam_2</td>\n",
       "      <td>01003.d15cfb579697f595c4aff7197433cd72</td>\n",
       "      <td>1</td>\n",
       "      <td>0</td>\n",
       "      <td>0</td>\n",
       "      <td>0</td>\n",
       "      <td>47</td>\n",
       "    </tr>\n",
       "    <tr>\n",
       "      <th>5976</th>\n",
       "      <td>easy_ham_2</td>\n",
       "      <td>00925.02443d63888a5691bc8ea440fa9feeef</td>\n",
       "      <td>0</td>\n",
       "      <td>1</td>\n",
       "      <td>0</td>\n",
       "      <td>0</td>\n",
       "      <td>49</td>\n",
       "    </tr>\n",
       "    <tr>\n",
       "      <th>692</th>\n",
       "      <td>easy_ham</td>\n",
       "      <td>00630.d4dad4b8734a30afbf8c80499e652c2c</td>\n",
       "      <td>0</td>\n",
       "      <td>1</td>\n",
       "      <td>0</td>\n",
       "      <td>0</td>\n",
       "      <td>44</td>\n",
       "    </tr>\n",
       "  </tbody>\n",
       "</table>\n",
       "</div>"
      ],
      "text/plain": [
       "       directory                                filename  is_spam  in_reply  \\\n",
       "1329    easy_ham   0121.b475478456e52de66ef0b0fb501bbfd3        0         0   \n",
       "4146    easy_ham   1647.e868de6866be80866e13b1660d95537c        0         0   \n",
       "8954      spam_2  01003.d15cfb579697f595c4aff7197433cd72        1         0   \n",
       "5976  easy_ham_2  00925.02443d63888a5691bc8ea440fa9feeef        0         1   \n",
       "692     easy_ham  00630.d4dad4b8734a30afbf8c80499e652c2c        0         1   \n",
       "\n",
       "      subj_caps  attachments  body_lines  \n",
       "1329          0            0          44  \n",
       "4146          0            0          58  \n",
       "8954          0            0          47  \n",
       "5976          0            0          49  \n",
       "692           0            0          44  "
      ]
     },
     "execution_count": 4,
     "metadata": {},
     "output_type": "execute_result"
    }
   ],
   "source": [
    "df = df.replace(['Y','N'],[1,0])\n",
    "df.sample(5)"
   ]
  },
  {
   "cell_type": "markdown",
   "metadata": {},
   "source": [
    "Below we lift some code I (Dan) used in a recent NLP class. Here we use nltk to remove stop words, etc, from the bodies in our emails. This will be used in our EDA and modeling later."
   ]
  },
  {
   "cell_type": "code",
   "execution_count": 5,
   "metadata": {},
   "outputs": [
    {
     "name": "stdout",
     "output_type": "stream",
     "text": [
      "<class 'numpy.ndarray'> 9353\n"
     ]
    }
   ],
   "source": [
    "stop_words = nltk.corpus.stopwords.words('english')\n",
    "\n",
    "def normalize_document(doc):\n",
    "    # lowercase and remove special characters to form a normalized document\n",
    "    doc = re.sub(r'[^a-zA-Z0-9\\s]', ' ', doc, re.I|re.A)\n",
    "    doc = doc.lower()\n",
    "    doc = doc.strip()\n",
    "\n",
    "    # tokenize document\n",
    "    tokens = nltk.word_tokenize(doc)\n",
    "    \n",
    "    # filter out stop words\n",
    "    filtered_tokens = [token for token in tokens if token not in stop_words]\n",
    "\n",
    "    # Remove numbers\n",
    "    filtered_tokens = [token for token in filtered_tokens if not token.isdigit()]\n",
    "\n",
    "    # Remove short tokens\n",
    "    filtered_tokens = [token for token in filtered_tokens if len(token) > 2]\n",
    "\n",
    "    # stem tokens - Skipping for now\n",
    "    #filtered_tokens = [stemming.stem(token) for token in filtered_tokens]\n",
    "\n",
    "    # re-create a normalized document\n",
    "    doc = ' '.join(filtered_tokens)\n",
    "    return doc\n",
    "\n",
    "normalize_text = np.vectorize(normalize_document)\n",
    "norm_text = normalize_text(emails)\n",
    "\n",
    "print(type(norm_text),len(norm_text))"
   ]
  },
  {
   "cell_type": "markdown",
   "metadata": {},
   "source": [
    "## -- Bo's explanation for setting up this data"
   ]
  },
  {
   "cell_type": "code",
   "execution_count": 25,
   "metadata": {},
   "outputs": [
    {
     "data": {
      "text/html": [
       "<div>\n",
       "<style scoped>\n",
       "    .dataframe tbody tr th:only-of-type {\n",
       "        vertical-align: middle;\n",
       "    }\n",
       "\n",
       "    .dataframe tbody tr th {\n",
       "        vertical-align: top;\n",
       "    }\n",
       "\n",
       "    .dataframe thead th {\n",
       "        text-align: right;\n",
       "    }\n",
       "</style>\n",
       "<table border=\"1\" class=\"dataframe\">\n",
       "  <thead>\n",
       "    <tr style=\"text-align: right;\">\n",
       "      <th></th>\n",
       "      <th>text</th>\n",
       "      <th>directory</th>\n",
       "    </tr>\n",
       "  </thead>\n",
       "  <tbody>\n",
       "    <tr>\n",
       "      <th>0</th>\n",
       "      <td>[exmh, workers, admin, redhat, com, thu, aug, ...</td>\n",
       "      <td>easy_ham</td>\n",
       "    </tr>\n",
       "    <tr>\n",
       "      <th>1</th>\n",
       "      <td>[steve, burt, cursor, system, com, thu, aug, r...</td>\n",
       "      <td>easy_ham</td>\n",
       "    </tr>\n",
       "    <tr>\n",
       "      <th>2</th>\n",
       "      <td>[timc, 2ubh, com, thu, aug, return, path, timc...</td>\n",
       "      <td>easy_ham</td>\n",
       "    </tr>\n",
       "    <tr>\n",
       "      <th>3</th>\n",
       "      <td>[irregulars, admin, thu, aug, return, path, ir...</td>\n",
       "      <td>easy_ham</td>\n",
       "    </tr>\n",
       "    <tr>\n",
       "      <th>4</th>\n",
       "      <td>[stewart, smith, thu, aug, return, path, stewa...</td>\n",
       "      <td>easy_ham</td>\n",
       "    </tr>\n",
       "    <tr>\n",
       "      <th>...</th>\n",
       "      <td>...</td>\n",
       "      <td>...</td>\n",
       "    </tr>\n",
       "    <tr>\n",
       "      <th>9348</th>\n",
       "      <td>[tba, insiq, wed, dec, return, path, tba, insi...</td>\n",
       "      <td>spam_2</td>\n",
       "    </tr>\n",
       "    <tr>\n",
       "      <th>9349</th>\n",
       "      <td>[return, path, raye, yahoo, received, user2, p...</td>\n",
       "      <td>spam_2</td>\n",
       "    </tr>\n",
       "    <tr>\n",
       "      <th>9350</th>\n",
       "      <td>[cweqx, dialix, tue, aug, return, path, cweqx,...</td>\n",
       "      <td>spam_2</td>\n",
       "    </tr>\n",
       "    <tr>\n",
       "      <th>9351</th>\n",
       "      <td>[ilug, admin, linux, wed, dec, return, path, i...</td>\n",
       "      <td>spam_2</td>\n",
       "    </tr>\n",
       "    <tr>\n",
       "      <th>9352</th>\n",
       "      <td>[317e78fa8ee2f54cd4890fdc09ba8176, 317e78fa8ee...</td>\n",
       "      <td>spam_2</td>\n",
       "    </tr>\n",
       "  </tbody>\n",
       "</table>\n",
       "<p>9353 rows × 2 columns</p>\n",
       "</div>"
      ],
      "text/plain": [
       "                                                   text directory\n",
       "0     [exmh, workers, admin, redhat, com, thu, aug, ...  easy_ham\n",
       "1     [steve, burt, cursor, system, com, thu, aug, r...  easy_ham\n",
       "2     [timc, 2ubh, com, thu, aug, return, path, timc...  easy_ham\n",
       "3     [irregulars, admin, thu, aug, return, path, ir...  easy_ham\n",
       "4     [stewart, smith, thu, aug, return, path, stewa...  easy_ham\n",
       "...                                                 ...       ...\n",
       "9348  [tba, insiq, wed, dec, return, path, tba, insi...    spam_2\n",
       "9349  [return, path, raye, yahoo, received, user2, p...    spam_2\n",
       "9350  [cweqx, dialix, tue, aug, return, path, cweqx,...    spam_2\n",
       "9351  [ilug, admin, linux, wed, dec, return, path, i...    spam_2\n",
       "9352  [317e78fa8ee2f54cd4890fdc09ba8176, 317e78fa8ee...    spam_2\n",
       "\n",
       "[9353 rows x 2 columns]"
      ]
     },
     "execution_count": 25,
     "metadata": {},
     "output_type": "execute_result"
    }
   ],
   "source": [
    "norm_text = pd.DataFrame(norm_text)\n",
    "directory = pd.DataFrame(df['directory'])\n",
    "combined_df = pd.concat([norm_text,directory],axis=1)\n",
    "combined_df.columns = ['text','directory']\n",
    "combined_df['text'] = combined_df['text'].apply(lambda x: x.split())\n",
    "combined_df"
   ]
  },
  {
   "cell_type": "markdown",
   "metadata": {},
   "source": [
    "# Data engeniering"
   ]
  },
  {
   "cell_type": "markdown",
   "metadata": {},
   "source": [
    "Feature Set:\n",
    "\n",
    "1-\twe will create a variable which states the replay or not replay (n_reply_count)\n",
    "\n",
    "2-\twe will create a variable which states if all the subject lines are capital or not (sub_line_all_caps).\n",
    "\n",
    "3-\twe will create a variable which states if the email has attachment or not (attachments).\n",
    "\n",
    "4-\twe will create a variable which states the number of lines in the subject (subject_line).\n",
    "\n",
    "5-\twe will create a variable which states the number of lines if it is more than 0 (n_lines) in the e mail.\n",
    "\n",
    "6-\twe will create a variable which states the number of black lines in the email (blank_lines).\n",
    "\n",
    "7-\tWe will extract the body from the email, then we will run the TDIDF in the body; furthermore , we will run a k-mean  to cluster the TDIDF that we extracted from the body.\n",
    "\n",
    "We will calculate the bag of words. A bag-of-words model, or BoW for short, is a way of extracting features from text for use in modeling, such as with machine learning algorithms. The approach is very simple and flexible and can be used in a myriad of ways for extracting features from documents. A bag-of-words is a representation of text that describes the occurrence of words within a document. It involves two things:\n",
    "\n",
    "\tA vocabulary of known words.\n",
    "\tA measure of the presence of known words.\n",
    "\n",
    "It is called a “bag” of words because any information about the order or structure of words in the document is discarded. The model is only concerned with whether known words occur in the document, not where in the document.\n",
    "\n",
    "TF-IDF (term frequency-inverse document frequency) is a statistical measure that evaluates how relevant a word is to a document in a collection of documents.\n",
    "\n",
    "This is done by multiplying two metrics: how many times a word appears in a document, and the inverse document frequency of the word across a set of documents.\n",
    "\n",
    "It has many uses, most importantly in automated text analysis, and is very useful for scoring words in machine learning algorithms for Natural Language Processing (NLP).\n",
    "\n",
    "TF-IDF was invented for document search and information retrieval. It works by increasing proportionally to the number of times a word appears in a document but is offset by the number of documents that contain the word. So, words that are common in every document, such as this, what, and if, rank low even though they may appear many times, since they don’t mean much to that document in particular.\n",
    "\n",
    "However, if the word Bug appears many times in a document, while not appearing many times in others, it probably means that it’s very relevant. For example, if what we’re doing is trying to find out which topics some NPS responses belong to, the word Bug would probably end up being tied to the topic Reliability, since most responses containing that word would be about that topic."
   ]
  },
  {
   "cell_type": "markdown",
   "metadata": {},
   "source": [
    "The code below is used to create a TfIDF matrix that will be used later in clustering. In this case, we arbitarly chose grams up to 3 words, shoudl appear in at least 5 emails, and at in no more than 80% of all emails."
   ]
  },
  {
   "cell_type": "code",
   "execution_count": 6,
   "metadata": {},
   "outputs": [
    {
     "name": "stdout",
     "output_type": "stream",
     "text": [
      "(9353, 166742)\n"
     ]
    }
   ],
   "source": [
    "tf = TfidfVectorizer(ngram_range=(1,3), min_df=5, max_df=.8, stop_words=stop_words, norm='l2')\n",
    "tf_matrix = tf.fit_transform(norm_text)\n",
    "\n",
    "print(tf_matrix.shape)"
   ]
  },
  {
   "cell_type": "markdown",
   "metadata": {},
   "source": [
    "# EDA\n",
    "### `Latent Dirichlet Allocation (LDA) Topic Modeling`\n",
    "- Topic modeling using LDA will be utilized for the EDA to extract main topics of the given email content and see how certain lemmatized texts correlate with each email directory. \n",
    "- LDA is a type of statistical modeling used to classify text in a document to a particular topic. Dirichlet distribution is used here to calculate a topic per document model and words per topic model. \n",
    "- Due to the newest version of Gensim package removing one of key LDA wrappers, Mallet's LDA result cannot be transferred to a Gensim model for PCA visualization. Gensim will be separately modeled and the results will be compared against Mallet's version to verify both results and enhance the insights."
   ]
  },
  {
   "cell_type": "markdown",
   "metadata": {},
   "source": [
    "### Training Mallet's topic model"
   ]
  },
  {
   "cell_type": "code",
   "execution_count": 27,
   "metadata": {},
   "outputs": [
    {
     "name": "stdout",
     "output_type": "stream",
     "text": [
      "Importing data...\n",
      "Complete\n",
      "Training topic model...\n",
      "Complete\n"
     ]
    },
    {
     "ename": "FileNotFoundError",
     "evalue": "[Errno 2] No such file or directory: 'D:/Projects/MSDS-7333-QTW/mallet.topic_keys.15'",
     "output_type": "error",
     "traceback": [
      "\u001b[1;31m---------------------------------------------------------------------------\u001b[0m",
      "\u001b[1;31mFileNotFoundError\u001b[0m                         Traceback (most recent call last)",
      "\u001b[1;32m~\\AppData\\Local\\Temp/ipykernel_22904/2718713348.py\u001b[0m in \u001b[0;36m<module>\u001b[1;34m\u001b[0m\n\u001b[0;32m     20\u001b[0m \u001b[0moutput_directory_path\u001b[0m \u001b[1;33m=\u001b[0m \u001b[1;34m'D:/Projects/MSDS-7333-QTW'\u001b[0m \u001b[1;31m# CHANGE THIS TO YOUR OUTPUT DIRECTORY\u001b[0m\u001b[1;33m\u001b[0m\u001b[1;33m\u001b[0m\u001b[0m\n\u001b[0;32m     21\u001b[0m \u001b[1;33m\u001b[0m\u001b[0m\n\u001b[1;32m---> 22\u001b[1;33m topic_keys, topic_distributions = lmw.quick_train_topic_model(path_to_mallet, \n\u001b[0m\u001b[0;32m     23\u001b[0m                                                               \u001b[0moutput_directory_path\u001b[0m\u001b[1;33m,\u001b[0m\u001b[1;33m\u001b[0m\u001b[1;33m\u001b[0m\u001b[0m\n\u001b[0;32m     24\u001b[0m                                                               \u001b[0mnum_topics\u001b[0m\u001b[1;33m,\u001b[0m\u001b[1;33m\u001b[0m\u001b[1;33m\u001b[0m\u001b[0m\n",
      "\u001b[1;32m~\\miniconda3\\envs\\NLP\\lib\\site-packages\\little_mallet_wrapper\\little_mallet_wrapper.py\u001b[0m in \u001b[0;36mquick_train_topic_model\u001b[1;34m(path_to_mallet, output_directory_path, num_topics, training_data)\u001b[0m\n\u001b[0;32m     88\u001b[0m                       num_topics)\n\u001b[0;32m     89\u001b[0m \u001b[1;33m\u001b[0m\u001b[0m\n\u001b[1;32m---> 90\u001b[1;33m     \u001b[0mtopic_keys\u001b[0m \u001b[1;33m=\u001b[0m \u001b[0mload_topic_keys\u001b[0m\u001b[1;33m(\u001b[0m\u001b[0mpath_to_topic_keys\u001b[0m\u001b[1;33m)\u001b[0m\u001b[1;33m\u001b[0m\u001b[1;33m\u001b[0m\u001b[0m\n\u001b[0m\u001b[0;32m     91\u001b[0m     \u001b[0mtopic_distributions\u001b[0m \u001b[1;33m=\u001b[0m \u001b[0mload_topic_distributions\u001b[0m\u001b[1;33m(\u001b[0m\u001b[0mpath_to_topic_distributions\u001b[0m\u001b[1;33m)\u001b[0m\u001b[1;33m\u001b[0m\u001b[1;33m\u001b[0m\u001b[0m\n\u001b[0;32m     92\u001b[0m \u001b[1;33m\u001b[0m\u001b[0m\n",
      "\u001b[1;32m~\\miniconda3\\envs\\NLP\\lib\\site-packages\\little_mallet_wrapper\\little_mallet_wrapper.py\u001b[0m in \u001b[0;36mload_topic_keys\u001b[1;34m(topic_keys_path)\u001b[0m\n\u001b[0;32m    150\u001b[0m \u001b[1;33m\u001b[0m\u001b[0m\n\u001b[0;32m    151\u001b[0m \u001b[1;32mdef\u001b[0m \u001b[0mload_topic_keys\u001b[0m\u001b[1;33m(\u001b[0m\u001b[0mtopic_keys_path\u001b[0m\u001b[1;33m)\u001b[0m\u001b[1;33m:\u001b[0m\u001b[1;33m\u001b[0m\u001b[1;33m\u001b[0m\u001b[0m\n\u001b[1;32m--> 152\u001b[1;33m     \u001b[1;32mreturn\u001b[0m \u001b[1;33m[\u001b[0m\u001b[0mline\u001b[0m\u001b[1;33m.\u001b[0m\u001b[0msplit\u001b[0m\u001b[1;33m(\u001b[0m\u001b[1;34m'\\t'\u001b[0m\u001b[1;33m)\u001b[0m\u001b[1;33m[\u001b[0m\u001b[1;36m2\u001b[0m\u001b[1;33m]\u001b[0m\u001b[1;33m.\u001b[0m\u001b[0msplit\u001b[0m\u001b[1;33m(\u001b[0m\u001b[1;33m)\u001b[0m \u001b[1;32mfor\u001b[0m \u001b[0mline\u001b[0m \u001b[1;32min\u001b[0m \u001b[0mopen\u001b[0m\u001b[1;33m(\u001b[0m\u001b[0mtopic_keys_path\u001b[0m\u001b[1;33m,\u001b[0m \u001b[1;34m'r'\u001b[0m\u001b[1;33m)\u001b[0m\u001b[1;33m]\u001b[0m\u001b[1;33m\u001b[0m\u001b[1;33m\u001b[0m\u001b[0m\n\u001b[0m\u001b[0;32m    153\u001b[0m \u001b[1;33m\u001b[0m\u001b[0m\n\u001b[0;32m    154\u001b[0m \u001b[1;33m\u001b[0m\u001b[0m\n",
      "\u001b[1;31mFileNotFoundError\u001b[0m: [Errno 2] No such file or directory: 'D:/Projects/MSDS-7333-QTW/mallet.topic_keys.15'"
     ]
    }
   ],
   "source": [
    "from gensim.corpora import Dictionary\n",
    "from gensim.models.coherencemodel import CoherenceModel\n",
    "from gensim.models.ldamodel import LdaModel\n",
    "import little_mallet_wrapper as lmw\n",
    "\n",
    "combined_df['text_2'] = combined_df['text'].apply(lambda x: ' '.join(x))\n",
    "\n",
    "# Download File: http://mallet.cs.umass.edu/dist/mallet-2.0.8.zip\n",
    "\n",
    "#path_to_mallet = \"/Users/boyun/Desktop/SMU/DS7333-QuantifyingTheWorld/CaseStudy_Bo/CS3/mallet-2.0.8/bin/mallet\" # update this path\n",
    "path_to_mallet = \"D:/Projects/MSDS-7333-QTW/mallet-2.0.8/bin/mallet\" # update this path\n",
    "\n",
    "training_data = [lmw.process_string(t) for t in combined_df['text_2']]\n",
    "training_data = [d for d in training_data if d.strip()]\n",
    "\n",
    "\n",
    "# Number of topics that user specifies\n",
    "num_topics = 15  # CHANGE THIS TO YOUR PREFERRED NUMBER OF TOPICS\n",
    "\n",
    "output_directory_path = 'D:/Projects/MSDS-7333-QTW' # CHANGE THIS TO YOUR OUTPUT DIRECTORY\n",
    "\n",
    "topic_keys, topic_distributions = lmw.quick_train_topic_model(path_to_mallet, \n",
    "                                                              output_directory_path, \n",
    "                                                              num_topics, \n",
    "                                                              training_data)"
   ]
  },
  {
   "cell_type": "code",
   "execution_count": 28,
   "metadata": {},
   "outputs": [
    {
     "ename": "NameError",
     "evalue": "name 'topic_distributions' is not defined",
     "output_type": "error",
     "traceback": [
      "\u001b[1;31m---------------------------------------------------------------------------\u001b[0m",
      "\u001b[1;31mNameError\u001b[0m                                 Traceback (most recent call last)",
      "\u001b[1;32m~\\AppData\\Local\\Temp/ipykernel_22904/3356354025.py\u001b[0m in \u001b[0;36m<module>\u001b[1;34m\u001b[0m\n\u001b[1;32m----> 1\u001b[1;33m \u001b[1;32massert\u001b[0m\u001b[1;33m(\u001b[0m\u001b[0mlen\u001b[0m\u001b[1;33m(\u001b[0m\u001b[0mtopic_distributions\u001b[0m\u001b[1;33m)\u001b[0m \u001b[1;33m==\u001b[0m \u001b[0mlen\u001b[0m\u001b[1;33m(\u001b[0m\u001b[0mtraining_data\u001b[0m\u001b[1;33m)\u001b[0m\u001b[1;33m)\u001b[0m\u001b[1;33m\u001b[0m\u001b[1;33m\u001b[0m\u001b[0m\n\u001b[0m\u001b[0;32m      2\u001b[0m \u001b[1;33m\u001b[0m\u001b[0m\n\u001b[0;32m      3\u001b[0m \u001b[1;32mfor\u001b[0m \u001b[0mi\u001b[0m\u001b[1;33m,\u001b[0m \u001b[0mt\u001b[0m \u001b[1;32min\u001b[0m \u001b[0menumerate\u001b[0m\u001b[1;33m(\u001b[0m\u001b[0mtopic_keys\u001b[0m\u001b[1;33m)\u001b[0m\u001b[1;33m:\u001b[0m\u001b[1;33m\u001b[0m\u001b[1;33m\u001b[0m\u001b[0m\n\u001b[0;32m      4\u001b[0m     \u001b[0mprint\u001b[0m\u001b[1;33m(\u001b[0m\u001b[0mi\u001b[0m\u001b[1;33m,\u001b[0m \u001b[1;34m'\\t'\u001b[0m\u001b[1;33m,\u001b[0m \u001b[1;34m' '\u001b[0m\u001b[1;33m.\u001b[0m\u001b[0mjoin\u001b[0m\u001b[1;33m(\u001b[0m\u001b[0mt\u001b[0m\u001b[1;33m[\u001b[0m\u001b[1;33m:\u001b[0m\u001b[1;36m10\u001b[0m\u001b[1;33m]\u001b[0m\u001b[1;33m)\u001b[0m\u001b[1;33m)\u001b[0m\u001b[1;33m\u001b[0m\u001b[1;33m\u001b[0m\u001b[0m\n",
      "\u001b[1;31mNameError\u001b[0m: name 'topic_distributions' is not defined"
     ]
    }
   ],
   "source": [
    "assert(len(topic_distributions) == len(training_data))\n",
    "\n",
    "for i, t in enumerate(topic_keys):\n",
    "    print(i, '\\t', ' '.join(t[:10]))"
   ]
  },
  {
   "cell_type": "code",
   "execution_count": null,
   "metadata": {},
   "outputs": [],
   "source": [
    "# Organizing the result into a dictionary\n",
    "\n",
    "topic_word_probability_dict = lmw.load_topic_word_distributions(output_directory_path + '/mallet.word_weights.' + str(num_topics))\n",
    "len(topic_word_probability_dict)"
   ]
  },
  {
   "cell_type": "markdown",
   "metadata": {},
   "source": [
    "#### Each topic and its weight distribution of words "
   ]
  },
  {
   "cell_type": "code",
   "execution_count": null,
   "metadata": {},
   "outputs": [],
   "source": [
    "for _topic, _word_probability_dict in topic_word_probability_dict.items():\n",
    "    print('Topic', _topic)\n",
    "    for _word, _probability in sorted(_word_probability_dict.items(), key=lambda x: x[1], reverse=True)[:15]:\n",
    "        print(round(_probability, 4), '\\t', _word)\n",
    "    print()"
   ]
  },
  {
   "cell_type": "markdown",
   "metadata": {},
   "source": [
    "### Results from the heatmap and box and whisker plots below suggest that __Topic 2 and 14 are highly correlated with 'Spam'__ directory and __Topic 2, 5 and 11 are highly correlated with 'Spam_2'__ directory. This shows the correlation of certain words with directories and address the need to include clustering of lemmatized texts as a feature in the prediction model."
   ]
  },
  {
   "cell_type": "code",
   "execution_count": null,
   "metadata": {},
   "outputs": [],
   "source": [
    "directory = combined_df['directory'].tolist()\n",
    "\n",
    "target_labels = [\"easy_ham\", \"easy_ham_2\", \"hard_ham\", \"spam\", \"spam_2\"]\n",
    "\n",
    "lmw.plot_categories_by_topics_heatmap(directory,\n",
    "                                      topic_distributions,\n",
    "                                      topic_keys, \n",
    "                                      output_directory_path + '/categories_by_topics.pdf',\n",
    "                                      target_labels=target_labels,\n",
    "                                      dim=(14,6))"
   ]
  },
  {
   "cell_type": "code",
   "execution_count": null,
   "metadata": {},
   "outputs": [],
   "source": [
    "print('Spam directory is related to the following topics : \\n', pd.DataFrame([','.join(i) for i in topic_keys]).iloc[2,0],'\\t', pd.DataFrame([','.join(i) for i in topic_keys]).iloc[14,0],'\\t')\n",
    "print('\\n','Spam_2 directory is related to the following topics : \\n', pd.DataFrame([','.join(i) for i in topic_keys]).iloc[2,0],'\\n',pd.DataFrame([','.join(i) for i in topic_keys]).iloc[5,0],'\\n',pd.DataFrame([','.join(i) for i in topic_keys]).iloc[11,0])"
   ]
  },
  {
   "cell_type": "code",
   "execution_count": null,
   "metadata": {},
   "outputs": [],
   "source": [
    "target_labels = [\"easy_ham\", \"easy_ham_2\", \"hard_ham\", \"spam\", \"spam_2\"]\n",
    "\n",
    "for _topic_index in range(0, len(topic_keys)):\n",
    "    \n",
    "    lmw.plot_categories_by_topic_boxplots(directory,\n",
    "                                          topic_distributions,\n",
    "                                          topic_keys, \n",
    "                                          _topic_index,\n",
    "                                          output_path=output_directory_path + '/boxplot.' + str(_topic_index) + '.pdf',\n",
    "                                          target_labels=target_labels,\n",
    "                                          dim=(4,4))"
   ]
  },
  {
   "cell_type": "markdown",
   "metadata": {},
   "source": [
    "### PCA plot using Gensim package\n",
    "\n",
    "From Mallet's LDA model, it is observed that topic 2,5,11 and 14 make up the the emails in the spam directories. \n",
    "From the Gensim's interactive PCA plot below, it appears that words that make up clusters of topic 1,5,7 and 9 are very similar to the topic 2,5,11 and 14 of Mallet's model. Thus we can conclude that those clusters make up the spam directories. \n",
    "Below are some of the observed characteristics of topics from the spam directory. \n",
    "\n",
    "- Topic 1 from the PCA plot below mainly talk about font sizes, styles of the email using words such as \"font\",\"width\",\"color\",\"verdana\". \n",
    "- Topic 5 talks about sending money to a certain address using words such as \"send\", \"free\", \"money\", \"address\", \"investment\", \"services\"\n",
    "- The overall term frequencies of the words in Topic 1 and 5 are very low, meaning they are very specific to each individual topic. This tells that these words are very unique in spam directories and can be used as features for modeling. \n",
    "- Looking at the shape of the PCA plot, the number of clusters could be reduced down to 3 for further research. "
   ]
  },
  {
   "cell_type": "code",
   "execution_count": null,
   "metadata": {},
   "outputs": [],
   "source": [
    "import gensim\n",
    "from gensim.corpora import Dictionary\n",
    "import pickle\n",
    "import pandas as pd\n",
    "import pyLDAvis\n",
    "import gensim\n",
    "import gensim.corpora as corpora\n",
    "from gensim.corpora import Dictionary\n",
    "from gensim.models.coherencemodel import CoherenceModel\n",
    "from gensim.models.ldamodel import LdaModel\n",
    "import pyLDAvis\n",
    "import pyLDAvis.gensim_models\n",
    "from pprint import pprint\n",
    "import spacy\n",
    "import re \n",
    "import pyLDAvis\n",
    "import matplotlib.pyplot as plt \n",
    "import pandas as pd\n",
    "import gensim.corpora as corpora\n",
    "\n",
    "# Create Dictionary\n",
    "dictionary = corpora.Dictionary(combined_df['text'])\n",
    "\n",
    "# Create Corpus\n",
    "texts = combined_df['text']\n",
    "\n",
    "# Term Document Frequency\n",
    "doc_term_matrix = [dictionary.doc2bow(text) for text in texts]\n",
    "\n",
    "# Creating the object for LDA model using gensim library\n",
    "LDA = gensim.models.ldamodel.LdaModel\n",
    "\n",
    "# Build LDA model\n",
    "lda_model = LDA(corpus=doc_term_matrix, id2word=dictionary, num_topics=15, random_state=100,\n",
    "                chunksize=1000, passes=50)\n",
    "\n",
    "lda_model.print_topics()"
   ]
  },
  {
   "cell_type": "code",
   "execution_count": null,
   "metadata": {},
   "outputs": [],
   "source": [
    "# Visualize the topics\n",
    "pyLDAvis.enable_notebook()\n",
    "vis = pyLDAvis.gensim_models.prepare(lda_model, doc_term_matrix, dictionary)\n",
    "vis"
   ]
  },
  {
   "cell_type": "markdown",
   "metadata": {},
   "source": [
    "### Clustering\n",
    "\n",
    "Below we attempt to use clustering on our data set to see if we can find any patterns in the data."
   ]
  },
  {
   "cell_type": "code",
   "execution_count": 7,
   "metadata": {},
   "outputs": [
    {
     "name": "stderr",
     "output_type": "stream",
     "text": [
      "C:\\Users\\dancr\\miniconda3\\envs\\NLP\\lib\\site-packages\\sklearn\\utils\\deprecation.py:87: FutureWarning: Function get_feature_names is deprecated; get_feature_names is deprecated in 1.0 and will be removed in 1.2. Please use get_feature_names_out instead.\n",
      "  warnings.warn(msg, category=FutureWarning)\n"
     ]
    },
    {
     "name": "stdout",
     "output_type": "stream",
     "text": [
      "CLUSTER #1 : 0.08418295404425712\n",
      "Cluster Size 689\n",
      "Key Features: ['oct', 'rssfeeds', 'tue oct', 'oct ist received', 'oct ist', 'tue', 'example com', 'spamassassin taint org', 'spamassassin taint', 'taint org', 'taint', 'example', 'rssfeeds spamassassin', 'rssfeeds spamassassin taint', 'jmason org']\n",
      "--------------------------------------------------------------------------------\n",
      "CLUSTER #2 : 0.3515590026855842\n",
      "Cluster Size 658\n",
      "Key Features: ['rpm', 'freshrpms', 'freshrpms net', 'zzzlist', 'rpm zzzlist', 'net', 'rpm list', 'egwn', 'list', 'egwn net', 'zzzlist freshrpms', 'zzzlist freshrpms net', 'rpm zzzlist freshrpms', 'http lists freshrpms', 'lists freshrpms']\n",
      "--------------------------------------------------------------------------------\n",
      "CLUSTER #3 : 0.05249950816939316\n",
      "Cluster Size 715\n",
      "Key Features: ['font', 'width', 'td', 'size', 'nbsp', 'height', 'href http', 'src http', 'face', 'color', 'href', 'border', 'img', 'src', 'font face']\n",
      "--------------------------------------------------------------------------------\n",
      "CLUSTER #4 : -0.03267184607611213\n",
      "Cluster Size 245\n",
      "Key Features: ['fork', 'xent com', 'xent', 'admin xent', 'admin xent com', 'fork admin', 'fork admin xent', 'sep', 'mailto fork', 'people', 'list', 'report', 'http xent', 'http xent com', 'said']\n",
      "--------------------------------------------------------------------------------\n",
      "CLUSTER #5 : 0.17752881393656597\n",
      "Cluster Size 799\n",
      "Key Features: ['ilug', 'linux', 'ie', 'linux ie', 'lugh', 'ilug linux', 'tuatha org', 'tuatha', 'lugh tuatha', 'lugh tuatha org', 'admin linux', 'ilug admin', 'ilug admin linux', 'aug', 'ilug linux ie']\n",
      "--------------------------------------------------------------------------------\n",
      "CLUSTER #6 : 0.2620858740274013\n",
      "Cluster Size 203\n",
      "Key Features: ['exmh', 'exmh workers', 'workers', 'redhat com', 'listman', 'redhat', 'deepeddy', 'mx1', 'spamassassin taint org', 'spamassassin taint', 'taint org', 'taint', 'vircio', 'spamassassin', 'vircio com']\n",
      "--------------------------------------------------------------------------------\n",
      "CLUSTER #7 : 0.3264143353582599\n",
      "Cluster Size 295\n",
      "Key Features: ['razor', 'razor users', 'sourceforge net', 'sourceforge', 'users', 'net', 'example sourceforge', 'example sourceforge net', 'lists', 'lists sourceforge', 'lists sourceforge net', 'usw', 'example', 'users example sourceforge', 'razor users example']\n",
      "--------------------------------------------------------------------------------\n",
      "CLUSTER #8 : -0.013105398992069318\n",
      "Cluster Size 2149\n",
      "Key Features: ['net', 'sep', 'zzzz', 'aug', 'jul', 'netnoteinc', 'netnoteinc com', 'mail', 'mon', 'zzzz localhost', 'webnote net', 'webnote', 'html', 'fri', 'iiu']\n",
      "--------------------------------------------------------------------------------\n",
      "CLUSTER #9 : 0.1506731181955181\n",
      "Cluster Size 472\n",
      "Key Features: ['sourceforge net', 'sourceforge', 'spamassassin talk', 'talk', 'net', 'spamassassin', 'example sourceforge', 'example sourceforge net', 'lists', 'usw', 'lists sourceforge', 'lists sourceforge net', 'spamassassin devel', 'example', 'devel']\n",
      "--------------------------------------------------------------------------------\n",
      "CLUSTER #10 : 0.24640983160022667\n",
      "Cluster Size 206\n",
      "Key Features: ['exmh users', 'exmh', 'users', 'redhat com', 'listman', 'redhat', 'mx1', 'example com', 'spamassassin taint org', 'spamassassin taint', 'taint org', 'taint', 'spamassassin', 'listman redhat com', 'listman redhat']\n",
      "--------------------------------------------------------------------------------\n",
      "CLUSTER #11 : 0.21124597851712237\n",
      "Cluster Size 474\n",
      "Key Features: ['3d', 'font', 'width 3d', 'size 3d', 'width', 'size', 'color 3d', 'td', 'color', 'face 3d', 'face', '3d http', '20', 'font face 3d', 'align']\n",
      "--------------------------------------------------------------------------------\n",
      "CLUSTER #12 : 0.24866286706429042\n",
      "Cluster Size 218\n",
      "Key Features: ['yahoo', 'yahoogroups com', 'yahoogroups', 'zzzzteana', 'yahoo com', 'grp scd', 'grp scd yahoo', 'scd', 'scd yahoo com', 'scd yahoo', 'grp', 'zzzzteana yahoogroups', 'zzzzteana yahoogroups com', 'groups', 'forteana']\n",
      "--------------------------------------------------------------------------------\n",
      "CLUSTER #13 : 0.4749578394586939\n",
      "Cluster Size 131\n",
      "Key Features: ['perl', 'use perl', 'perl org', 'use', 'pudge', 'use perl org', 'http use perl', 'http use', 'pudge perl', 'pudge perl org', 'cpu59', 'cpu59 osdn', 'cpu59 osdn com', 'osdn com', 'osdn']\n",
      "--------------------------------------------------------------------------------\n",
      "CLUSTER #14 : 0.12509472160980775\n",
      "Cluster Size 1591\n",
      "Key Features: ['fork', 'xent com', 'xent', 'fork admin', 'fork admin xent', 'admin xent', 'admin xent com', 'mailto fork', 'sep', 'http xent com', 'http xent', 'list', 'xent com subject', 'fork request', 'fork request xent']\n",
      "--------------------------------------------------------------------------------\n",
      "CLUSTER #15 : 0.05718222656234242\n",
      "Cluster Size 508\n",
      "Key Features: ['sep', 'rssfeeds', 'thu sep', 'thu', 'example com', 'sep ist received', 'sep ist', 'spamassassin taint org', 'spamassassin taint', 'jmason org', 'jmason', 'taint org', 'taint', 'example', 'sep content type']\n",
      "--------------------------------------------------------------------------------\n"
     ]
    }
   ],
   "source": [
    "\n",
    "NUM_CLUSTERS = 15\n",
    "km = KMeans(n_clusters=NUM_CLUSTERS, max_iter=10000, n_init=10, random_state=42).fit(tf_matrix)\n",
    "km\n",
    "\n",
    "df['kmeans_cluster'] = km.labels_\n",
    "\n",
    "email_clusters = (df[['directory', 'kmeans_cluster']]\n",
    "                  .sort_values(by=['kmeans_cluster'], \n",
    "                               ascending=False)\n",
    "                  .groupby('kmeans_cluster').head(20))  # top 20 movies for each cluster\n",
    "email_clusters = email_clusters.copy(deep=True)\n",
    "\n",
    "feature_names = tf.get_feature_names()\n",
    "topn_features = 15\n",
    "ordered_centroids = km.cluster_centers_.argsort()[:, ::-1]\n",
    "\n",
    "sample_silhouette_values = silhouette_samples(tf_matrix, km.labels_)\n",
    "\n",
    "# get key features for each cluster\n",
    "for cluster_num in range(NUM_CLUSTERS):\n",
    "\n",
    "    cluster_silhouette_values = sample_silhouette_values[km.labels_ == cluster_num]\n",
    "\n",
    "    key_features = [feature_names[index] \n",
    "                        for index in ordered_centroids[cluster_num, :topn_features]]\n",
    "    print('CLUSTER #'+str(cluster_num+1), \":\", cluster_silhouette_values.mean())\n",
    "    print('Cluster Size', cluster_silhouette_values.shape[0])\n",
    "    print('Key Features:', key_features)\n",
    "    print('-'*80)"
   ]
  },
  {
   "cell_type": "markdown",
   "metadata": {},
   "source": [
    "#### Output a quick pivot table to see distribution of clusters vs spam/ham\n",
    "\n",
    "Below we do see an interesting case where no clusters have spam, but those do have spam also have a fair amount of non-spam emails as well, with the excpetion of cluster 10."
   ]
  },
  {
   "cell_type": "code",
   "execution_count": 8,
   "metadata": {},
   "outputs": [
    {
     "data": {
      "text/html": [
       "<div>\n",
       "<style scoped>\n",
       "    .dataframe tbody tr th:only-of-type {\n",
       "        vertical-align: middle;\n",
       "    }\n",
       "\n",
       "    .dataframe tbody tr th {\n",
       "        vertical-align: top;\n",
       "    }\n",
       "\n",
       "    .dataframe thead th {\n",
       "        text-align: right;\n",
       "    }\n",
       "</style>\n",
       "<table border=\"1\" class=\"dataframe\">\n",
       "  <thead>\n",
       "    <tr style=\"text-align: right;\">\n",
       "      <th>is_spam</th>\n",
       "      <th>0</th>\n",
       "      <th>1</th>\n",
       "    </tr>\n",
       "    <tr>\n",
       "      <th>kmeans_cluster</th>\n",
       "      <th></th>\n",
       "      <th></th>\n",
       "    </tr>\n",
       "  </thead>\n",
       "  <tbody>\n",
       "    <tr>\n",
       "      <th>0</th>\n",
       "      <td>689.0</td>\n",
       "      <td>NaN</td>\n",
       "    </tr>\n",
       "    <tr>\n",
       "      <th>1</th>\n",
       "      <td>658.0</td>\n",
       "      <td>NaN</td>\n",
       "    </tr>\n",
       "    <tr>\n",
       "      <th>2</th>\n",
       "      <td>257.0</td>\n",
       "      <td>458.0</td>\n",
       "    </tr>\n",
       "    <tr>\n",
       "      <th>3</th>\n",
       "      <td>211.0</td>\n",
       "      <td>34.0</td>\n",
       "    </tr>\n",
       "    <tr>\n",
       "      <th>4</th>\n",
       "      <td>691.0</td>\n",
       "      <td>108.0</td>\n",
       "    </tr>\n",
       "    <tr>\n",
       "      <th>5</th>\n",
       "      <td>203.0</td>\n",
       "      <td>NaN</td>\n",
       "    </tr>\n",
       "    <tr>\n",
       "      <th>6</th>\n",
       "      <td>295.0</td>\n",
       "      <td>NaN</td>\n",
       "    </tr>\n",
       "    <tr>\n",
       "      <th>7</th>\n",
       "      <td>830.0</td>\n",
       "      <td>1319.0</td>\n",
       "    </tr>\n",
       "    <tr>\n",
       "      <th>8</th>\n",
       "      <td>453.0</td>\n",
       "      <td>19.0</td>\n",
       "    </tr>\n",
       "    <tr>\n",
       "      <th>9</th>\n",
       "      <td>206.0</td>\n",
       "      <td>NaN</td>\n",
       "    </tr>\n",
       "    <tr>\n",
       "      <th>10</th>\n",
       "      <td>59.0</td>\n",
       "      <td>415.0</td>\n",
       "    </tr>\n",
       "    <tr>\n",
       "      <th>11</th>\n",
       "      <td>218.0</td>\n",
       "      <td>NaN</td>\n",
       "    </tr>\n",
       "    <tr>\n",
       "      <th>12</th>\n",
       "      <td>131.0</td>\n",
       "      <td>NaN</td>\n",
       "    </tr>\n",
       "    <tr>\n",
       "      <th>13</th>\n",
       "      <td>1545.0</td>\n",
       "      <td>46.0</td>\n",
       "    </tr>\n",
       "    <tr>\n",
       "      <th>14</th>\n",
       "      <td>508.0</td>\n",
       "      <td>NaN</td>\n",
       "    </tr>\n",
       "  </tbody>\n",
       "</table>\n",
       "</div>"
      ],
      "text/plain": [
       "is_spam              0       1\n",
       "kmeans_cluster                \n",
       "0                689.0     NaN\n",
       "1                658.0     NaN\n",
       "2                257.0   458.0\n",
       "3                211.0    34.0\n",
       "4                691.0   108.0\n",
       "5                203.0     NaN\n",
       "6                295.0     NaN\n",
       "7                830.0  1319.0\n",
       "8                453.0    19.0\n",
       "9                206.0     NaN\n",
       "10                59.0   415.0\n",
       "11               218.0     NaN\n",
       "12               131.0     NaN\n",
       "13              1545.0    46.0\n",
       "14               508.0     NaN"
      ]
     },
     "execution_count": 8,
     "metadata": {},
     "output_type": "execute_result"
    }
   ],
   "source": [
    "df.pivot_table(index='kmeans_cluster', columns='is_spam', values='directory', aggfunc='count')"
   ]
  },
  {
   "cell_type": "markdown",
   "metadata": {},
   "source": [
    "#### Elbow to find the best k number\n",
    "\n",
    "Below we do an elbow plot to find the best k number for k-means clustering, confirming our value of 15 above. No need to run the code again below, output is already saved."
   ]
  },
  {
   "cell_type": "code",
   "execution_count": null,
   "metadata": {},
   "outputs": [],
   "source": [
    "scores = []\n",
    "\n",
    "for k in range(1, 20):\n",
    "    kmeans = KMeans(init=\"random\", n_clusters=k, n_init=10, max_iter=300, random_state=42)\n",
    "    kmeans.fit(tf_matrix)\n",
    "    scores.append(kmeans.inertia_)"
   ]
  },
  {
   "cell_type": "code",
   "execution_count": 14,
   "metadata": {},
   "outputs": [
    {
     "data": {
      "image/png": "[encoded data removed]",
      "text/plain": [
       "<Figure size 864x432 with 1 Axes>"
      ]
     },
     "metadata": {},
     "output_type": "display_data"
    }
   ],
   "source": [
    "plt.style.use(\"fivethirtyeight\")\n",
    "plt.figure(figsize=(12,6))\n",
    "plt.plot(range(1, 20), scores)\n",
    "plt.xticks(range(1, 20))\n",
    "plt.xlabel(\"Number of Clusters\")\n",
    "plt.ylabel(\"SSE\")\n",
    "plt.show()"
   ]
  },
  {
   "cell_type": "markdown",
   "metadata": {},
   "source": [
    "# Model Building and Evaluation\n",
    "Below we will build two Naive Bayes Classifier models, one with and another without the clusters as features. We use the standard sklearn pipeline approach. Although we do have an inbalanced set, we decided to leave SMOTE out and see how our model performs on the data itself."
   ]
  },
  {
   "cell_type": "code",
   "execution_count": 16,
   "metadata": {},
   "outputs": [
    {
     "name": "stdout",
     "output_type": "stream",
     "text": [
      "Accurracy: 0.7792624265098878\n",
      "Recall: 0.20625\n",
      "Precision: 0.7557251908396947\n",
      "F1 0.32405891980360063\n"
     ]
    }
   ],
   "source": [
    "from imblearn.pipeline import Pipeline as imbpipeline\n",
    "from sklearn.compose import ColumnTransformer\n",
    "from sklearn.calibration import CalibratedClassifierCV\n",
    "from imblearn.over_sampling import SMOTE\n",
    "from imblearn.pipeline import Pipeline as imbpipeline\n",
    "from sklearn.pipeline import Pipeline\n",
    "from sklearn.preprocessing import OneHotEncoder\n",
    "from sklearn.compose import ColumnTransformer\n",
    "from sklearn.model_selection import train_test_split\n",
    "from sklearn.model_selection import StratifiedKFold\n",
    "from sklearn.model_selection import KFold\n",
    "from sklearn.impute import SimpleImputer\n",
    "from sklearn.compose import make_column_selector as selector\n",
    "\n",
    "categorical_features = ['in_reply','subj_caps','attachments']\n",
    "numeric_features = ['body_lines']\n",
    "\n",
    "X = df[categorical_features + numeric_features]\n",
    "y = df['is_spam']\n",
    "\n",
    "X_train, X_test, y_train, y_test = train_test_split(X,\n",
    "                                                    y,\n",
    "                                                    test_size=0.2,\n",
    "                                                    stratify=y,\n",
    "                                                    random_state=11)\n",
    "\n",
    "numeric_transformer = Pipeline(steps=[\n",
    "    ('imputer', SimpleImputer(missing_values=np.nan, strategy=\"median\")),\n",
    "    ('scaler', RobustScaler(with_centering=False))])\n",
    "\n",
    "categorical_transformer = Pipeline(steps=[\n",
    "    ('imputer', SimpleImputer(missing_values=np.nan, strategy=\"most_frequent\")),\n",
    "    ('onehot', OneHotEncoder(handle_unknown='ignore'))])\n",
    "\n",
    "preprocessor = ColumnTransformer(\n",
    "    transformers=[\n",
    "        ('num', numeric_transformer, numeric_features),\n",
    "        ('cat', categorical_transformer, categorical_features)])\n",
    "\n",
    "\n",
    "pipeline = imbpipeline(steps = [['preprocessor', preprocessor],\n",
    "                                #['smote', SMOTE(random_state=11)],\n",
    "                                ['classifier', MultinomialNB()]])\n",
    "\n",
    "\n",
    "pipeline.fit(X_train, y_train)\n",
    "\n",
    "y_pred = pipeline.predict(X_test)\n",
    "\n",
    "print(\"Accurracy:\", accuracy_score(y_test, y_pred))\n",
    "print(\"Recall:\", recall_score(y_test, y_pred))\n",
    "print(\"Precision:\", precision_score(y_test, y_pred))\n",
    "print(\"F1\", f1_score(y_test, y_pred))"
   ]
  },
  {
   "cell_type": "code",
   "execution_count": 10,
   "metadata": {},
   "outputs": [
    {
     "data": {
      "image/png": "[encoded data removed]",
      "text/plain": [
       "<Figure size 432x288 with 1 Axes>"
      ]
     },
     "metadata": {
      "needs_background": "light"
     },
     "output_type": "display_data"
    },
    {
     "data": {
      "image/png": "[encoded data removed]",
      "text/plain": [
       "<Figure size 432x288 with 2 Axes>"
      ]
     },
     "metadata": {
      "needs_background": "light"
     },
     "output_type": "display_data"
    }
   ],
   "source": [
    "from sklearn.metrics import RocCurveDisplay\n",
    "from sklearn.metrics import ConfusionMatrixDisplay\n",
    "\n",
    "disp = RocCurveDisplay.from_estimator(pipeline, X_test, y_test)\n",
    "disp = ConfusionMatrixDisplay.from_estimator(pipeline, X_test, y_test)"
   ]
  },
  {
   "cell_type": "markdown",
   "metadata": {},
   "source": [
    "The above results aren't too bad with respect to precision. However, recall is quite low. This means we will show a lot of spam in our inbox, which our clients do not want.\n",
    "\n",
    "Let's create another model but this time use the cluster we created previously to see if it can improve our model."
   ]
  },
  {
   "cell_type": "code",
   "execution_count": 15,
   "metadata": {},
   "outputs": [
    {
     "name": "stdout",
     "output_type": "stream",
     "text": [
      "Accurracy: 0.8792089791555318\n",
      "Recall: 0.9083333333333333\n",
      "Precision: 0.7055016181229773\n",
      "F1 0.7941712204007285\n"
     ]
    }
   ],
   "source": [
    "categorical_features = ['in_reply','subj_caps','attachments','kmeans_cluster']\n",
    "numeric_features = ['body_lines']\n",
    "\n",
    "X = df[categorical_features + numeric_features]\n",
    "y = df['is_spam']\n",
    "\n",
    "X_train, X_test, y_train, y_test = train_test_split(X,\n",
    "                                                    y,\n",
    "                                                    test_size=0.2,\n",
    "                                                    stratify=y,\n",
    "                                                    random_state=11)\n",
    "\n",
    "numeric_transformer = Pipeline(steps=[\n",
    "    ('imputer', SimpleImputer(missing_values=np.nan, strategy=\"median\")),\n",
    "    ('scaler', RobustScaler(with_centering=False))])\n",
    "\n",
    "categorical_transformer = Pipeline(steps=[\n",
    "    ('imputer', SimpleImputer(missing_values=np.nan, strategy=\"most_frequent\")),\n",
    "    ('onehot', OneHotEncoder(handle_unknown='ignore'))])\n",
    "\n",
    "preprocessor = ColumnTransformer(\n",
    "    transformers=[\n",
    "        ('num', numeric_transformer, numeric_features),\n",
    "        ('cat', categorical_transformer, categorical_features)])\n",
    "\n",
    "\n",
    "pipeline = imbpipeline(steps = [['preprocessor', preprocessor],\n",
    "                                #['smote', SMOTE(random_state=11)],\n",
    "                                ['classifier', MultinomialNB()]])\n",
    "\n",
    "\n",
    "pipeline.fit(X_train, y_train)\n",
    "\n",
    "y_pred = pipeline.predict(X_test)\n",
    "\n",
    "print(\"Accurracy:\", accuracy_score(y_test, y_pred))\n",
    "print(\"Recall:\", recall_score(y_test, y_pred))\n",
    "print(\"Precision:\", precision_score(y_test, y_pred))\n",
    "print(\"F1\", f1_score(y_test, y_pred))"
   ]
  },
  {
   "cell_type": "code",
   "execution_count": 12,
   "metadata": {},
   "outputs": [
    {
     "data": {
      "image/png": "[encoded data removed]",
      "text/plain": [
       "<Figure size 432x288 with 1 Axes>"
      ]
     },
     "metadata": {
      "needs_background": "light"
     },
     "output_type": "display_data"
    },
    {
     "data": {
      "image/png": "[encoded data removed]",
      "text/plain": [
       "<Figure size 432x288 with 2 Axes>"
      ]
     },
     "metadata": {
      "needs_background": "light"
     },
     "output_type": "display_data"
    }
   ],
   "source": [
    "disp = RocCurveDisplay.from_estimator(pipeline, X_test, y_test)\n",
    "disp = ConfusionMatrixDisplay.from_estimator(pipeline, X_test, y_test)"
   ]
  },
  {
   "cell_type": "markdown",
   "metadata": {},
   "source": [
    "As can be seen above, or model as greatly improved!"
   ]
  },
  {
   "cell_type": "markdown",
   "metadata": {},
   "source": [
    "# Modeling Interpretability and Explainability\n",
    "\n",
    "Above we show 4 different metrics for each model. Which is more imporant here? The model that doesn't use the K-means feature as a feature has a higher precision, but with also a much lower recall. If we include the cluster as a feature, the precision takes a small hit, but the recall is much higher, meaning we won't be showing so many spam emails in our inbox. The F1 score with the cluster as a feature is also much higher, indicating a more balanced model with respect to precision and recall."
   ]
  },
  {
   "cell_type": "markdown",
   "metadata": {},
   "source": [
    "# Case Conclusions\n",
    "\n",
    "Our recommendation is leverag the clustering found using NLP analysis on our emails to provide a more balanced prediction model. It provides a relatively high accuracy of 70% while maintaining a recall of near 90%"
   ]
  }
 ],
 "metadata": {
  "interpreter": {
   "hash": "eaa798b471aa1a0109429a408b0faab53065248ef7f5a5989f90756771672ef6"
  },
  "kernelspec": {
   "display_name": "Python 3.9.6 64-bit ('NLP': conda)",
   "name": "python3"
  },
  "language_info": {
   "codemirror_mode": {
    "name": "ipython",
    "version": 3
   },
   "file_extension": ".py",
   "mimetype": "text/x-python",
   "name": "python",
   "nbconvert_exporter": "python",
   "pygments_lexer": "ipython3",
   "version": "3.9.6"
  }
 },
 "nbformat": 4,
 "nbformat_minor": 4
}
