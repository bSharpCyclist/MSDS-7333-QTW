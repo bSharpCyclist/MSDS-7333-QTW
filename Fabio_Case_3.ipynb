{
 "cells": [
  {
   "cell_type": "code",
   "execution_count": 20,
   "source": [
    "#importing libraries and reading in file\n",
    "import numpy as np\n",
    "import pandas as pd\n",
    "import matplotlib.pyplot as plt\n",
    "import seaborn as sns\n",
    "\n",
    "#general sklearn libraries\n",
    "from sklearn.model_selection import train_test_split\n",
    "from sklearn.model_selection import GridSearchCV\n",
    "from sklearn.preprocessing import StandardScaler\n",
    "from sklearn.preprocessing import RobustScaler\n",
    "from sklearn.preprocessing import MinMaxScaler\n",
    "from sklearn.naive_bayes import MultinomialNB\n",
    "from sklearn.metrics import accuracy_score\n",
    "from sklearn.metrics import recall_score\n",
    "from sklearn.metrics import precision_score\n",
    "\n",
    "#NB\n",
    "from sklearn.pipeline import make_pipeline\n",
    "\n",
    "\n",
    "# Files\n",
    "from os import listdir, getcwd, chdir\n",
    "from os.path import isfile, join, dirname, realpath\n",
    "import email\n",
    "import email.parser\n",
    "from email.parser import Parser\n",
    "\n",
    "#NLP\n",
    "import nltk\n",
    "import re \n",
    "from sklearn.feature_extraction.text import TfidfVectorizer\n",
    "from sklearn.feature_extraction.text import CountVectorizer\n",
    "from sklearn.cluster import KMeans\n",
    "from sklearn.metrics import silhouette_samples, silhouette_score\n"
   ],
   "outputs": [],
   "metadata": {}
  },
  {
   "cell_type": "code",
   "execution_count": 2,
   "source": [
    "def get_cwd():\n",
    "    try:\n",
    "        chdir(dirname(realpath(__file__)))\n",
    "    except:\n",
    "        chdir('/Users/fabiosavorgnan/Desktop/QTW/Week_1/Data/MSDS-7333-QTW')\n",
    "\n",
    "    active_dir = getcwd()\n",
    "       \n",
    "    return active_dir\n",
    "\n",
    "def main():\n",
    "    \n",
    "    get_cwd()\n",
    "    \n",
    "    directories = [\n",
    "            'easy_ham',\n",
    "            'easy_ham_2',\n",
    "            'hard_ham',\n",
    "            'spam',\n",
    "            'spam_2'\n",
    "            ] \n",
    "    \n",
    "    res_frame = pd.DataFrame()\n",
    "\n",
    "    # *dc - Added to keep a collection of email text\n",
    "    emails = []\n",
    "\n",
    "    tmp = []\n",
    "        \n",
    "    for d in directories:\n",
    "        mypath = getcwd() + '/data/' + d + '/'\n",
    "        onlyfiles = [f for f in listdir(mypath) if isfile(join(mypath, f))]\n",
    "    \n",
    "        try:\n",
    "            onlyfiles.remove('.DS_Store')\n",
    "        except:\n",
    "            pass\n",
    "        \n",
    "        for file in onlyfiles:\n",
    "            with open(mypath + file, encoding='latin1') as f:\n",
    "                lines = f.readlines()\n",
    "                f.close()\n",
    "            \n",
    "            with open(mypath + file, encoding='latin1') as f:\n",
    "                body = f.read()\n",
    "                f.close()\n",
    "                \n",
    "            msg = email.message_from_string(str(body))\n",
    "            tmpStr = ''\n",
    "            \n",
    "            if msg.is_multipart():\n",
    "                for payload in msg.get_payload():\n",
    "                    #tmp.append(str(payload.get_payload()))\n",
    "                    \n",
    "                    tmpStr = ' '.join(str(payload.get_payload()))\n",
    "                tmp.append(tmpStr)\n",
    "            else:\n",
    "                tmp.append(str(msg.get_payload()))\n",
    "                \n",
    "            in_reply_count = 0\n",
    "            sub_line_all_caps = 0\n",
    "            attachments = 0\n",
    "            subject_line = []\n",
    "            n_lines = 0\n",
    "            blank_lines = []\n",
    "            \n",
    "            for line in lines:\n",
    "\n",
    "                n_lines += 1\n",
    "                if \"Subject: Re: \" in line:\n",
    "                   in_reply_count += 1\n",
    "                if \"Subject: \" in line:\n",
    "                   s_line = line.strip().replace('Subject: ','')\n",
    "                   s_line = ''.join(e for e in s_line if e.isalnum())\n",
    "                   num_upper = sum(1 for c in s_line if c.isupper())\n",
    "                   ttl_chars = len(s_line)\n",
    "                   if num_upper == ttl_chars:\n",
    "                       sub_line_all_caps += 1\n",
    "                   subject_line.append(s_line)\n",
    "                if \"content-type: multipart\" in line.lower():\n",
    "                   attachments += 1\n",
    "                if line == \"\\n\":\n",
    "                   blank_lines.append(n_lines)\n",
    "        \n",
    "            temp_frame = pd.DataFrame({\n",
    "                        'directory':d,    \n",
    "                        'filename':file,\n",
    "                        'is_spam':['Y' if 'spam' in d else 'N'],\n",
    "                        'in_reply': ['Y' if in_reply_count > 0 else 'N'], \n",
    "                        'subj_caps': ['Y' if sub_line_all_caps > 0 else 'N'], \n",
    "                        'attachments': ['Y' if attachments > 0 else 'N'],\n",
    "                        ## *dc+3 \n",
    "                        #'body_lines': n_lines - min(blank_lines)\n",
    "                        'body_lines': [0 if len(blank_lines) == 0 else min(blank_lines)]\n",
    "                        }, index=[0])\n",
    "           \n",
    "            res_frame = res_frame.append(temp_frame, ignore_index=True)\n",
    "\n",
    "            ## *dc+2\n",
    "            #append body of email to collection\n",
    "            text = ' '.join(lines)\n",
    "            emails.append(text)\n",
    "            \n",
    "    #res_frame.to_csv('output_file.csv', index=False)\n",
    "    \n",
    "    ## *dc - add emails\n",
    "    return res_frame,   emails, tmp\n",
    "\n",
    "df,   emails, tmp = main()"
   ],
   "outputs": [],
   "metadata": {}
  },
  {
   "cell_type": "code",
   "execution_count": 3,
   "source": [
    " ########################################\n",
    "     ##### Main Function\n",
    " ########################################   \n",
    "  \n",
    "print(len(df),len(tmp), len(emails))\n",
    "print(tmp[0])\n",
    " "
   ],
   "outputs": [
    {
     "output_type": "stream",
     "name": "stdout",
     "text": [
      "9353 9353 9353\n",
      "URL: http://www.newsisfree.com/click/-1,8381145,215/\n",
      "Date: 2002-09-30T03:04:58+01:00\n",
      "\n",
      "*Arts:* Fourth art raid on philanthropist's home once targeted by the IRA and \n",
      "Dublin gangster Martin Cahill.\n",
      "\n",
      "\n",
      "\n"
     ]
    }
   ],
   "metadata": {}
  },
  {
   "cell_type": "markdown",
   "source": [
    "# Set up the data to cluster the body of the email"
   ],
   "metadata": {}
  },
  {
   "cell_type": "code",
   "execution_count": 4,
   "source": [
    "\n",
    "stop_words = nltk.corpus.stopwords.words('english')\n",
    "\n",
    "def normalize_document(doc):\n",
    "    # lowercase and remove special characters to form a normalized document\n",
    "    doc = re.sub(r'[^a-zA-Z0-9\\s]', ' ', doc, re.I|re.A)\n",
    "    doc = doc.lower()\n",
    "    doc = doc.strip()\n",
    "\n",
    "    # tokenize document\n",
    "    tokens = nltk.word_tokenize(doc)\n",
    "    \n",
    "    # filter out stop words\n",
    "    filtered_tokens = [token for token in tokens if token not in stop_words]\n",
    "\n",
    "    # Remove numbers\n",
    "    filtered_tokens = [token for token in filtered_tokens if not token.isdigit()]\n",
    "\n",
    "    # Remove short tokens\n",
    "    filtered_tokens = [token for token in filtered_tokens if len(token) > 2]\n",
    "\n",
    "    # stem tokens - Skipping for now\n",
    "    #filtered_tokens = [stemming.stem(token) for token in filtered_tokens]\n",
    "\n",
    "    # re-create a normalized document\n",
    "    doc = ' '.join(filtered_tokens)\n",
    "    return doc\n",
    "\n",
    "normalize_text = np.vectorize(normalize_document)\n",
    "norm_text = normalize_text(tmp)\n",
    "\n",
    "print(type(norm_text),len(norm_text))"
   ],
   "outputs": [
    {
     "output_type": "stream",
     "name": "stdout",
     "text": [
      "<class 'numpy.ndarray'> 9353\n"
     ]
    }
   ],
   "metadata": {}
  },
  {
   "cell_type": "code",
   "execution_count": 5,
   "source": [
    "tf = TfidfVectorizer(ngram_range=(1,3), min_df=5, max_df=.8, stop_words=stop_words, norm='l2')\n",
    "tf_matrix = tf.fit_transform(norm_text)\n",
    "\n",
    "print(tf_matrix.shape)"
   ],
   "outputs": [
    {
     "output_type": "stream",
     "name": "stdout",
     "text": [
      "(9353, 113747)\n"
     ]
    }
   ],
   "metadata": {}
  },
  {
   "cell_type": "code",
   "execution_count": 6,
   "source": [
    "\n",
    "cv = CountVectorizer(min_df=0, max_df=1., stop_words=stop_words)\n",
    "cv_matrix = cv.fit_transform(norm_text)\n",
    "\n",
    "print(cv_matrix.shape)"
   ],
   "outputs": [
    {
     "output_type": "stream",
     "name": "stdout",
     "text": [
      "(9353, 85476)\n"
     ]
    }
   ],
   "metadata": {}
  },
  {
   "cell_type": "code",
   "execution_count": 7,
   "source": [
    "print(df.columns)"
   ],
   "outputs": [
    {
     "output_type": "stream",
     "name": "stdout",
     "text": [
      "Index(['directory', 'filename', 'is_spam', 'in_reply', 'subj_caps',\n",
      "       'attachments', 'body_lines'],\n",
      "      dtype='object')\n"
     ]
    }
   ],
   "metadata": {}
  },
  {
   "cell_type": "code",
   "execution_count": 8,
   "source": [
    "# replace all Y/N with 1/0\n",
    "\n",
    "df = df.replace(['Y','N'],[1,0])\n",
    "\n",
    "df.sample(5)"
   ],
   "outputs": [
    {
     "output_type": "execute_result",
     "data": {
      "text/html": [
       "<div>\n",
       "<style scoped>\n",
       "    .dataframe tbody tr th:only-of-type {\n",
       "        vertical-align: middle;\n",
       "    }\n",
       "\n",
       "    .dataframe tbody tr th {\n",
       "        vertical-align: top;\n",
       "    }\n",
       "\n",
       "    .dataframe thead th {\n",
       "        text-align: right;\n",
       "    }\n",
       "</style>\n",
       "<table border=\"1\" class=\"dataframe\">\n",
       "  <thead>\n",
       "    <tr style=\"text-align: right;\">\n",
       "      <th></th>\n",
       "      <th>directory</th>\n",
       "      <th>filename</th>\n",
       "      <th>is_spam</th>\n",
       "      <th>in_reply</th>\n",
       "      <th>subj_caps</th>\n",
       "      <th>attachments</th>\n",
       "      <th>body_lines</th>\n",
       "    </tr>\n",
       "  </thead>\n",
       "  <tbody>\n",
       "    <tr>\n",
       "      <th>1631</th>\n",
       "      <td>easy_ham</td>\n",
       "      <td>0794.cf41a55933ae8896b668864d7b57b177</td>\n",
       "      <td>0</td>\n",
       "      <td>1</td>\n",
       "      <td>0</td>\n",
       "      <td>0</td>\n",
       "      <td>54</td>\n",
       "    </tr>\n",
       "    <tr>\n",
       "      <th>382</th>\n",
       "      <td>easy_ham</td>\n",
       "      <td>1060.f4a2a100431a65ef190bfdeae5a044b2</td>\n",
       "      <td>0</td>\n",
       "      <td>1</td>\n",
       "      <td>0</td>\n",
       "      <td>0</td>\n",
       "      <td>65</td>\n",
       "    </tr>\n",
       "    <tr>\n",
       "      <th>7613</th>\n",
       "      <td>spam</td>\n",
       "      <td>0114.c104ada3a249e1e1846c0cd156a303e9</td>\n",
       "      <td>1</td>\n",
       "      <td>0</td>\n",
       "      <td>0</td>\n",
       "      <td>0</td>\n",
       "      <td>22</td>\n",
       "    </tr>\n",
       "    <tr>\n",
       "      <th>2366</th>\n",
       "      <td>easy_ham</td>\n",
       "      <td>00289.759738dc8d12e85d6e26b866faa94337</td>\n",
       "      <td>0</td>\n",
       "      <td>1</td>\n",
       "      <td>0</td>\n",
       "      <td>0</td>\n",
       "      <td>53</td>\n",
       "    </tr>\n",
       "    <tr>\n",
       "      <th>165</th>\n",
       "      <td>easy_ham</td>\n",
       "      <td>1076.da788224ea4526c1e8e2a5840c9acf73</td>\n",
       "      <td>0</td>\n",
       "      <td>1</td>\n",
       "      <td>0</td>\n",
       "      <td>0</td>\n",
       "      <td>64</td>\n",
       "    </tr>\n",
       "  </tbody>\n",
       "</table>\n",
       "</div>"
      ],
      "text/plain": [
       "     directory                                filename  is_spam  in_reply  \\\n",
       "1631  easy_ham   0794.cf41a55933ae8896b668864d7b57b177        0         1   \n",
       "382   easy_ham   1060.f4a2a100431a65ef190bfdeae5a044b2        0         1   \n",
       "7613      spam   0114.c104ada3a249e1e1846c0cd156a303e9        1         0   \n",
       "2366  easy_ham  00289.759738dc8d12e85d6e26b866faa94337        0         1   \n",
       "165   easy_ham   1076.da788224ea4526c1e8e2a5840c9acf73        0         1   \n",
       "\n",
       "      subj_caps  attachments  body_lines  \n",
       "1631          0            0          54  \n",
       "382           0            0          65  \n",
       "7613          0            0          22  \n",
       "2366          0            0          53  \n",
       "165           0            0          64  "
      ]
     },
     "metadata": {},
     "execution_count": 8
    }
   ],
   "metadata": {}
  },
  {
   "cell_type": "markdown",
   "source": [
    "# Cluster"
   ],
   "metadata": {}
  },
  {
   "cell_type": "code",
   "execution_count": 9,
   "source": [
    "\n",
    "NUM_CLUSTERS = 5\n",
    "km = KMeans(n_clusters=NUM_CLUSTERS, max_iter=10000, n_init=10, random_state=42).fit(tf_matrix)\n",
    "km\n",
    "\n",
    "df['kmeans_cluster'] = km.labels_\n",
    "\n",
    "email_clusters = (df[['directory', 'kmeans_cluster']]\n",
    "                  .sort_values(by=['kmeans_cluster'], \n",
    "                               ascending=False)\n",
    "                  .groupby('kmeans_cluster').head(20))  # top 20 movies for each cluster\n",
    "email_clusters = email_clusters.copy(deep=True)\n",
    "\n",
    "feature_names = tf.get_feature_names()\n",
    "topn_features = 50\n",
    "ordered_centroids = km.cluster_centers_.argsort()[:, ::-1]\n",
    "\n",
    "sample_silhouette_values = silhouette_samples(tf_matrix, km.labels_)\n",
    "\n",
    "# get key features for each cluster\n",
    "for cluster_num in range(NUM_CLUSTERS):\n",
    "\n",
    "    cluster_silhouette_values = sample_silhouette_values[km.labels_ == cluster_num]\n",
    "\n",
    "    key_features = [feature_names[index] \n",
    "                        for index in ordered_centroids[cluster_num, :topn_features]]\n",
    "    print('CLUSTER #'+str(cluster_num+1), \":\", cluster_silhouette_values.mean())\n",
    "    print('Cluster Size', cluster_silhouette_values.shape[0])\n",
    "    print('Key Features:', key_features)\n",
    "    print('-'*80)"
   ],
   "outputs": [
    {
     "output_type": "stream",
     "name": "stderr",
     "text": [
      "/Users/fabiosavorgnan/opt/anaconda3/envs/SMU/lib/python3.7/site-packages/sklearn/utils/deprecation.py:87: FutureWarning: Function get_feature_names is deprecated; get_feature_names is deprecated in 1.0 and will be removed in 1.2. Please use get_feature_names_out instead.\n",
      "  warnings.warn(msg, category=FutureWarning)\n"
     ]
    },
    {
     "output_type": "stream",
     "name": "stdout",
     "text": [
      "CLUSTER #1 : 0.04655946091863279\n",
      "Cluster Size 5738\n",
      "Key Features: ['com', 'http', 'www', 'http www', 'exmh', 'use', 'html', 'one', 'org', 'fork', 'like', 'people', 'perl', 'would', 'yahoo', 'get', 'xent com', 'xent', 'email', 'time', 'date', 'com mailman', 'com mailman listinfo', 'free', 'use perl', 'mail', 'net', 'wrote', 'url', 'url http', 'message', 'new', 'said', 'please', 'make', 'exmh users', 'mailman', 'xent com mailman', 'http xent', 'mailman listinfo fork', 'http xent com', 'listinfo fork', 'list', 'mailman listinfo', 'even', 'spam', 'know', 'first', 'subject', 'think']\n",
      "--------------------------------------------------------------------------------\n",
      "CLUSTER #2 : 0.07719819684644352\n",
      "Cluster Size 1004\n",
      "Key Features: ['font', '3d', 'width', 'size', 'color', 'nbsp', 'face', 'td', 'height', 'font face', 'font font', 'href', 'arial', 'align', 'table', 'border', 'href http', 'center', 'src', 'img', 'font size', 'src http', 'http', 'tr', 'com', 'td tr', 'gif', 'font color', 'img src', 'face arial', 'img src http', 'width height', 'bgcolor', 'gif width', 'nbsp nbsp', 'helvetica', 'arial helvetica', 'font face arial', 'align center', 'http www', 'www', 'html', 'src http www', 'href http www', 'cnet', 'serif', 'nbsp nbsp nbsp', 'div', 'sans', 'sans serif']\n",
      "--------------------------------------------------------------------------------\n",
      "CLUSTER #3 : 0.14493469451941407\n",
      "Cluster Size 583\n",
      "Key Features: ['www newsisfree', 'newsisfree', 'newsisfree com', 'http www newsisfree', 'www newsisfree com', 'com click date', 'newsisfree com click', 'click date', 'url http www', 'com click', 'url http', 'url', 'date', 'click', 'http www', 'www', 'com', 'http', 'click date supplied', 'date supplied', 'supplied', 'newsisfree com images', 'fark', 'images fark', 'com images fark', 'img http www', 'img http', 'com images', 'images', 'gif', 'img', '01t04', 'click date 01t04', 'date 01t04', '08t03', 'click date 08t03', 'date 08t03', 'latest', '05t03', 'click date 05t03', 'date 05t03', 'date 10t03', '10t03', 'click date 10t03', 'world latest', 'world', 'date 07t03', '07t03', 'click date 07t03', 'date 03t04']\n",
      "--------------------------------------------------------------------------------\n",
      "CLUSTER #4 : 0.019314171160471075\n",
      "Cluster Size 1325\n",
      "Key Features: ['rpm', 'net', 'lists', 'rpm list', 'list', 'spamassassin', 'razor', 'freshrpms', 'freshrpms net', 'sourceforge net', 'sourceforge', 'lists sourceforge', 'lists sourceforge net', 'razor users', 'spamassassin talk', 'talk', 'mailing list', 'mailing', 'thinkgeek', 'https', 'listinfo', 'users', 'sourceforge net lists', 'net lists', 'net lists listinfo', 'lists listinfo', 'sourceforge net https', 'https lists', 'net https lists', 'https lists sourceforge', 'net https', 'email sponsored', 'net email sponsored', 'net email', 'sponsored', 'list rpm', 'list rpm list', 'list mailing', 'list mailing list', 'mailing list rpm', 'list freshrpms net', 'list freshrpms', 'rpm list mailing', 'rpm list freshrpms', 'http', 'http lists freshrpms', 'lists freshrpms', 'lists freshrpms net', 'freshrpms net http', 'freshrpms net mailman']\n",
      "--------------------------------------------------------------------------------\n",
      "CLUSTER #5 : 0.057988299887188975\n",
      "Cluster Size 703\n",
      "Key Features: ['linux', 'ilug', 'irish', 'ilug linux', 'irish linux', 'irish linux users', 'maintainer', 'linux users group', 'users group', 'maintainer listmaster', 'maintainer listmaster linux', 'listmaster linux', 'list maintainer listmaster', 'list maintainer', 'information list', 'information list maintainer', 'subscription information list', 'listmaster', 'subscription information', 'linux users', 'www linux', 'http www linux', 'linux http www', 'linux mailman', 'linux http', 'linux mailman listinfo', 'www linux mailman', 'group ilug', 'users group ilug', 'group ilug linux', 'listinfo ilug', 'mailman listinfo ilug', 'listinfo ilug subscription', 'ilug subscription information', 'ilug subscription', 'ilug linux http', 'subscription', 'group', 'users', 'information', 'mailman', 'mailman listinfo', 'www', 'http www', 'list', 'listinfo', 'http', 'social', 'one', 'kevin']\n",
      "--------------------------------------------------------------------------------\n"
     ]
    }
   ],
   "metadata": {}
  },
  {
   "cell_type": "markdown",
   "source": [
    "# Output a quick pivot table to see distribution of clusters vs spam/ham"
   ],
   "metadata": {}
  },
  {
   "cell_type": "code",
   "execution_count": 10,
   "source": [
    "\n",
    "df.pivot_table(index='kmeans_cluster', columns='is_spam', values='directory', aggfunc='count')"
   ],
   "outputs": [
    {
     "output_type": "execute_result",
     "data": {
      "text/html": [
       "<div>\n",
       "<style scoped>\n",
       "    .dataframe tbody tr th:only-of-type {\n",
       "        vertical-align: middle;\n",
       "    }\n",
       "\n",
       "    .dataframe tbody tr th {\n",
       "        vertical-align: top;\n",
       "    }\n",
       "\n",
       "    .dataframe thead th {\n",
       "        text-align: right;\n",
       "    }\n",
       "</style>\n",
       "<table border=\"1\" class=\"dataframe\">\n",
       "  <thead>\n",
       "    <tr style=\"text-align: right;\">\n",
       "      <th>is_spam</th>\n",
       "      <th>0</th>\n",
       "      <th>1</th>\n",
       "    </tr>\n",
       "    <tr>\n",
       "      <th>kmeans_cluster</th>\n",
       "      <th></th>\n",
       "      <th></th>\n",
       "    </tr>\n",
       "  </thead>\n",
       "  <tbody>\n",
       "    <tr>\n",
       "      <th>0</th>\n",
       "      <td>4230.0</td>\n",
       "      <td>1508.0</td>\n",
       "    </tr>\n",
       "    <tr>\n",
       "      <th>1</th>\n",
       "      <td>237.0</td>\n",
       "      <td>767.0</td>\n",
       "    </tr>\n",
       "    <tr>\n",
       "      <th>2</th>\n",
       "      <td>583.0</td>\n",
       "      <td>NaN</td>\n",
       "    </tr>\n",
       "    <tr>\n",
       "      <th>3</th>\n",
       "      <td>1265.0</td>\n",
       "      <td>60.0</td>\n",
       "    </tr>\n",
       "    <tr>\n",
       "      <th>4</th>\n",
       "      <td>639.0</td>\n",
       "      <td>64.0</td>\n",
       "    </tr>\n",
       "  </tbody>\n",
       "</table>\n",
       "</div>"
      ],
      "text/plain": [
       "is_spam              0       1\n",
       "kmeans_cluster                \n",
       "0               4230.0  1508.0\n",
       "1                237.0   767.0\n",
       "2                583.0     NaN\n",
       "3               1265.0    60.0\n",
       "4                639.0    64.0"
      ]
     },
     "metadata": {},
     "execution_count": 10
    }
   ],
   "metadata": {}
  },
  {
   "cell_type": "code",
   "execution_count": 11,
   "source": [
    "df['directory'].value_counts()"
   ],
   "outputs": [
    {
     "output_type": "execute_result",
     "data": {
      "text/plain": [
       "easy_ham      5052\n",
       "easy_ham_2    1401\n",
       "spam_2        1398\n",
       "spam          1001\n",
       "hard_ham       501\n",
       "Name: directory, dtype: int64"
      ]
     },
     "metadata": {},
     "execution_count": 11
    }
   ],
   "metadata": {}
  },
  {
   "cell_type": "code",
   "execution_count": 12,
   "source": [
    "df.pivot_table(index='kmeans_cluster', columns='directory', values='filename', aggfunc='count')"
   ],
   "outputs": [
    {
     "output_type": "execute_result",
     "data": {
      "text/html": [
       "<div>\n",
       "<style scoped>\n",
       "    .dataframe tbody tr th:only-of-type {\n",
       "        vertical-align: middle;\n",
       "    }\n",
       "\n",
       "    .dataframe tbody tr th {\n",
       "        vertical-align: top;\n",
       "    }\n",
       "\n",
       "    .dataframe thead th {\n",
       "        text-align: right;\n",
       "    }\n",
       "</style>\n",
       "<table border=\"1\" class=\"dataframe\">\n",
       "  <thead>\n",
       "    <tr style=\"text-align: right;\">\n",
       "      <th>directory</th>\n",
       "      <th>easy_ham</th>\n",
       "      <th>easy_ham_2</th>\n",
       "      <th>hard_ham</th>\n",
       "      <th>spam</th>\n",
       "      <th>spam_2</th>\n",
       "    </tr>\n",
       "    <tr>\n",
       "      <th>kmeans_cluster</th>\n",
       "      <th></th>\n",
       "      <th></th>\n",
       "      <th></th>\n",
       "      <th></th>\n",
       "      <th></th>\n",
       "    </tr>\n",
       "  </thead>\n",
       "  <tbody>\n",
       "    <tr>\n",
       "      <th>0</th>\n",
       "      <td>3338.0</td>\n",
       "      <td>636.0</td>\n",
       "      <td>256.0</td>\n",
       "      <td>673.0</td>\n",
       "      <td>835.0</td>\n",
       "    </tr>\n",
       "    <tr>\n",
       "      <th>1</th>\n",
       "      <td>2.0</td>\n",
       "      <td>NaN</td>\n",
       "      <td>235.0</td>\n",
       "      <td>273.0</td>\n",
       "      <td>494.0</td>\n",
       "    </tr>\n",
       "    <tr>\n",
       "      <th>2</th>\n",
       "      <td>583.0</td>\n",
       "      <td>NaN</td>\n",
       "      <td>NaN</td>\n",
       "      <td>NaN</td>\n",
       "      <td>NaN</td>\n",
       "    </tr>\n",
       "    <tr>\n",
       "      <th>3</th>\n",
       "      <td>938.0</td>\n",
       "      <td>320.0</td>\n",
       "      <td>7.0</td>\n",
       "      <td>6.0</td>\n",
       "      <td>54.0</td>\n",
       "    </tr>\n",
       "    <tr>\n",
       "      <th>4</th>\n",
       "      <td>191.0</td>\n",
       "      <td>445.0</td>\n",
       "      <td>3.0</td>\n",
       "      <td>49.0</td>\n",
       "      <td>15.0</td>\n",
       "    </tr>\n",
       "  </tbody>\n",
       "</table>\n",
       "</div>"
      ],
      "text/plain": [
       "directory       easy_ham  easy_ham_2  hard_ham   spam  spam_2\n",
       "kmeans_cluster                                               \n",
       "0                 3338.0       636.0     256.0  673.0   835.0\n",
       "1                    2.0         NaN     235.0  273.0   494.0\n",
       "2                  583.0         NaN       NaN    NaN     NaN\n",
       "3                  938.0       320.0       7.0    6.0    54.0\n",
       "4                  191.0       445.0       3.0   49.0    15.0"
      ]
     },
     "metadata": {},
     "execution_count": 12
    }
   ],
   "metadata": {}
  },
  {
   "cell_type": "markdown",
   "source": [
    "# Elbow to find the best k number"
   ],
   "metadata": {}
  },
  {
   "cell_type": "code",
   "execution_count": 13,
   "source": [
    "scores = []\n",
    "\n",
    "for k in range(1, 20):\n",
    "    kmeans = KMeans(init=\"random\", n_clusters=k, n_init=10, max_iter=300, random_state=42)\n",
    "    kmeans.fit(tf_matrix)\n",
    "    scores.append(kmeans.inertia_)"
   ],
   "outputs": [],
   "metadata": {}
  },
  {
   "cell_type": "code",
   "execution_count": 14,
   "source": [
    "plt.style.use(\"fivethirtyeight\")\n",
    "plt.figure(figsize=(12,6))\n",
    "plt.plot(range(1, 20), scores)\n",
    "plt.xticks(range(1, 20))\n",
    "plt.xlabel(\"Number of Clusters\")\n",
    "plt.ylabel(\"SSE\")\n",
    "plt.show()"
   ],
   "outputs": [
    {
     "output_type": "display_data",
     "data": {
      "image/png": "[encoded data removed]",
      "text/plain": [
       "<Figure size 864x432 with 1 Axes>"
      ]
     },
     "metadata": {}
    }
   ],
   "metadata": {}
  },
  {
   "cell_type": "markdown",
   "source": [
    "# Building the model"
   ],
   "metadata": {}
  },
  {
   "cell_type": "code",
   "execution_count": 17,
   "source": [
    "from imblearn.pipeline import Pipeline as imbpipeline\n",
    "from sklearn.compose import ColumnTransformer\n",
    "from sklearn.calibration import CalibratedClassifierCV\n",
    "from imblearn.over_sampling import SMOTE\n",
    "from imblearn.pipeline import Pipeline as imbpipeline\n",
    "from sklearn.pipeline import Pipeline\n",
    "from sklearn.preprocessing import OneHotEncoder\n",
    "from sklearn.compose import ColumnTransformer\n",
    "from sklearn.model_selection import train_test_split\n",
    "from sklearn.model_selection import StratifiedKFold\n",
    "from sklearn.model_selection import KFold\n",
    "from sklearn.impute import SimpleImputer\n",
    "from sklearn.compose import make_column_selector as selector\n",
    "\n",
    "\n",
    "\n",
    "categorical_features = ['in_reply','subj_caps','attachments','kmeans_cluster']\n",
    "numeric_features = ['body_lines']\n",
    "\n",
    "X = df[categorical_features + numeric_features]\n",
    "y = df['is_spam']\n",
    "\n",
    "X_train, X_test, y_train, y_test = train_test_split(X,\n",
    "                                                    y,\n",
    "                                                    test_size=0.2,\n",
    "                                                    stratify=y,\n",
    "                                                    random_state=11)\n",
    "\n",
    "numeric_transformer = Pipeline(steps=[\n",
    "    ('imputer', SimpleImputer(missing_values=np.nan, strategy=\"median\")),\n",
    "    ('scaler', RobustScaler(with_centering=False))])\n",
    "\n",
    "categorical_transformer = Pipeline(steps=[\n",
    "    ('imputer', SimpleImputer(missing_values=np.nan, strategy=\"most_frequent\")),\n",
    "    ('onehot', OneHotEncoder(handle_unknown='ignore'))])\n",
    "\n",
    "preprocessor = ColumnTransformer(\n",
    "    transformers=[\n",
    "        ('num', numeric_transformer, numeric_features),\n",
    "        ('cat', categorical_transformer, categorical_features)])\n",
    "\n",
    "\n",
    "pipeline = imbpipeline(steps = [['preprocessor', preprocessor],\n",
    "                                ['smote', SMOTE(random_state=11)],\n",
    "                                ['classifier', MultinomialNB()]])\n",
    "\n",
    "\n",
    "pipeline.fit(X_train, y_train)\n",
    "\n",
    "y_pred = pipeline.predict(X_test)\n",
    "\n",
    "print(accuracy_score(y_test, y_pred))\n",
    "print(recall_score(y_test, y_pred))\n",
    "print(precision_score(y_test, y_pred))"
   ],
   "outputs": [
    {
     "output_type": "stream",
     "name": "stdout",
     "text": [
      "0.6884019241047569\n",
      "0.925\n",
      "0.44803229061553984\n"
     ]
    }
   ],
   "metadata": {}
  },
  {
   "cell_type": "markdown",
   "source": [
    "# Test without upsampling"
   ],
   "metadata": {}
  },
  {
   "cell_type": "code",
   "execution_count": 18,
   "source": [
    "clf = MultinomialNB()\n",
    "\n",
    "clf.fit(X_train, y_train)\n",
    "\n",
    "y_pred = clf.predict(X_test)\n",
    "\n",
    "print(accuracy_score(y_test, y_pred))\n",
    "print(recall_score(y_test, y_pred))\n",
    "print(precision_score(y_test, y_pred))"
   ],
   "outputs": [
    {
     "output_type": "stream",
     "name": "stdout",
     "text": [
      "0.7862105825761625\n",
      "0.23958333333333334\n",
      "0.7666666666666667\n"
     ]
    }
   ],
   "metadata": {}
  },
  {
   "cell_type": "markdown",
   "source": [
    "# Grid search with parameter"
   ],
   "metadata": {}
  },
  {
   "cell_type": "code",
   "execution_count": 21,
   "source": [
    "categorical_features = ['in_reply','subj_caps','attachments','kmeans_cluster']\n",
    "numeric_features = ['body_lines']\n",
    "\n",
    "X = df[categorical_features + numeric_features]\n",
    "y = df['is_spam']\n",
    "\n",
    "X_train, X_test, y_train, y_test = train_test_split(X,\n",
    "                                                    y,\n",
    "                                                    test_size=0.2,\n",
    "                                                    stratify=y,\n",
    "                                                    random_state=11)\n",
    "\n",
    "numeric_transformer = Pipeline(steps=[\n",
    "    ('imputer', SimpleImputer(missing_values=np.nan, strategy=\"median\"))]) #,\n",
    "    #('scaler', RobustScaler(with_centering=False))])\n",
    "\n",
    "categorical_transformer = Pipeline(steps=[\n",
    "    ('imputer', SimpleImputer(missing_values=np.nan, strategy=\"most_frequent\")),\n",
    "    ('onehot', OneHotEncoder(handle_unknown='ignore'))])\n",
    "\n",
    "preprocessor = ColumnTransformer(\n",
    "    transformers=[\n",
    "        ('num', numeric_transformer, numeric_features),\n",
    "        ('cat', categorical_transformer, categorical_features)])\n",
    "\n",
    "\n",
    "pipeline = imbpipeline(steps = [['preprocessor', preprocessor],\n",
    "                                ['smote', SMOTE(random_state=11)],\n",
    "                                ['classifier', MultinomialNB()]])\n",
    "\n",
    "stratified_kfold = StratifiedKFold(n_splits=3,\n",
    "                                       shuffle=True,\n",
    "                                       random_state=11)\n",
    "\n",
    "# param_grid = [{'classifier__C': [0.001, 0.01, 0.1, 1, 10, 100, 1000],\n",
    "#                'classifier__penalty': ['l1'],\n",
    "#                'classifier__solver': ['saga']},\n",
    "#               {'classifier__C': [0.001, 0.01, 0.1, 1, 10, 100, 1000],\n",
    "#                'classifier__penalty': ['l2'],\n",
    "#                'classifier__solver': ['lbfgs']}\n",
    "#              ]\n",
    "\n",
    "param_grid = [{'classifier__alpha': [0.0001, 0.001, 0.01, 0.1, 1]}]\n",
    "              \n",
    "grid_search = GridSearchCV(estimator=pipeline,\n",
    "                           param_grid=param_grid,\n",
    "                           scoring='precision',\n",
    "                           cv=stratified_kfold,\n",
    "                           n_jobs=-1)\n",
    "\n",
    "grid_search.fit(X_train, y_train)\n",
    "cv_score = grid_search.best_score_\n",
    "test_score = grid_search.score(X_test, y_test)\n",
    "print(f'Cross-validation score: {cv_score}\\nTest score: {test_score}')"
   ],
   "outputs": [
    {
     "output_type": "stream",
     "name": "stdout",
     "text": [
      "Cross-validation score: 0.5058082160938598\n",
      "Test score: 0.5023474178403756\n"
     ]
    }
   ],
   "metadata": {}
  },
  {
   "cell_type": "code",
   "execution_count": null,
   "source": [],
   "outputs": [],
   "metadata": {}
  }
 ],
 "metadata": {
  "interpreter": {
   "hash": "dc77dc135269c51807c41f729eb5bb02452ccbe9cffcc1fe76852c9e784edfe4"
  },
  "kernelspec": {
   "display_name": "Python 3",
   "language": "python",
   "name": "python3"
  },
  "language_info": {
   "codemirror_mode": {
    "name": "ipython",
    "version": 3
   },
   "file_extension": ".py",
   "mimetype": "text/x-python",
   "name": "python",
   "nbconvert_exporter": "python",
   "pygments_lexer": "ipython3",
   "version": "3.7.4"
  }
 },
 "nbformat": 4,
 "nbformat_minor": 4
}