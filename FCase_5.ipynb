{
 "cells": [
  {
   "cell_type": "markdown",
   "metadata": {},
   "source": [
    "## MSDS 7331 - Case Study 5- Classifier to accept or deny receiving email\n",
    "Daniel Crouthamel\n",
    "\n",
    "Sophia Wu\n",
    "\n",
    "Fabio Savorgnan\n",
    "\n",
    "Bo Yun\n",
    "\n"
   ]
  },
  {
   "cell_type": "code",
   "execution_count": 1,
   "metadata": {},
   "outputs": [],
   "source": [
    "#importing libraries and reading in file\n",
    "import numpy as np\n",
    "import pandas as pd\n",
    "import matplotlib.pyplot as plt\n",
    "import seaborn as sns\n",
    "from time import time\n",
    "from scipy.stats import randint as sp_randint\n",
    "\n",
    "#general sklearn libraries\n",
    "from sklearn.model_selection import train_test_split\n",
    "from sklearn.model_selection import GridSearchCV\n",
    "from sklearn.preprocessing import StandardScaler\n",
    "from sklearn.preprocessing import RobustScaler\n",
    "from sklearn.preprocessing import MinMaxScaler\n",
    "from sklearn.metrics import accuracy_score\n",
    "from sklearn.metrics import recall_score\n",
    "from sklearn.metrics import precision_score\n",
    "from sklearn.metrics import f1_score\n",
    "from sklearn.impute import SimpleImputer\n",
    "from sklearn.model_selection import RandomizedSearchCV\n",
    "from sklearn.ensemble import RandomForestClassifier\n",
    "from sklearn.metrics import average_precision_score\n",
    "from sklearn.metrics import precision_recall_curve\n",
    "from sklearn.metrics import plot_precision_recall_curve\n",
    "from sklearn.metrics import confusion_matrix\n",
    "from sklearn.ensemble import GradientBoostingClassifier\n",
    "from sklearn.metrics import RocCurveDisplay\n",
    "from sklearn.metrics import ConfusionMatrixDisplay\n",
    "from sklearn.metrics import PrecisionRecallDisplay\n",
    "\n",
    "# Yellowbrick\n",
    "from yellowbrick.model_selection import FeatureImportances\n",
    "\n",
    "#Pipeline\n",
    "from sklearn.pipeline import make_pipeline\n",
    "\n",
    "# Files\n",
    "from os import listdir, getcwd, chdir\n",
    "from os.path import isfile, join, dirname, realpath\n",
    "from scipy.io import arff"
   ]
  },
  {
   "cell_type": "markdown",
   "metadata": {},
   "source": [
    "# Introduction"
   ]
  },
  {
   "cell_type": "markdown",
   "metadata": {},
   "source": [
    "In this study, we will be building a classifier to predict the email that will be accepted or denied"
   ]
  },
  {
   "cell_type": "markdown",
   "metadata": {},
   "source": [
    "# Bussiness understanding"
   ]
  },
  {
   "cell_type": "markdown",
   "metadata": {},
   "source": [
    "This company is receiving multiples email, and there is a necessity to automatize the acceptance and denial of the email request, therefore with the given dataset we will be building a model that automatically will accept and deny email. This process will allow the company to in a more efficient way utilize its resources, it seems now that the deny e mail is utilizing a lot of recourses that could be focus on the allow e mail. That way the company will be able to lower the overhead. "
   ]
  },
  {
   "cell_type": "markdown",
   "metadata": {},
   "source": [
    "# Data Engineering"
   ]
  },
  {
   "cell_type": "markdown",
   "metadata": {},
   "source": [
    "We load the data which has 65532 and 12 columns including the target. We found that the dataset does not have any missing values. All the columns are numbers and are skew, please see the graph below. We will be using for our selected model svm, therefore, the skew shape of the data is not going to be a problem. The target values are multiclass. But it would make send due to the objective at hand to convert the multi class target to binary classification, which would be allow and deny. Therefore, the target values drop, and reset-both are being put together in the deny value for our binary classification. The final target class has 37640 allow and 27892 deny is mildly unbalanced but in our model with the balanced hyperparameter in the SGD will take care of the mildly unbalanced target. Finally we checked for missing values where we found no missing values, therefore there is not a necessity to impute any missing data. "
   ]
  },
  {
   "cell_type": "markdown",
   "metadata": {},
   "source": []
  },
  {
   "cell_type": "markdown",
   "metadata": {},
   "source": [
    "# Load the data"
   ]
  },
  {
   "cell_type": "code",
   "execution_count": 2,
   "metadata": {},
   "outputs": [
    {
     "data": {
      "text/html": [
       "<div>\n",
       "<style scoped>\n",
       "    .dataframe tbody tr th:only-of-type {\n",
       "        vertical-align: middle;\n",
       "    }\n",
       "\n",
       "    .dataframe tbody tr th {\n",
       "        vertical-align: top;\n",
       "    }\n",
       "\n",
       "    .dataframe thead th {\n",
       "        text-align: right;\n",
       "    }\n",
       "</style>\n",
       "<table border=\"1\" class=\"dataframe\">\n",
       "  <thead>\n",
       "    <tr style=\"text-align: right;\">\n",
       "      <th></th>\n",
       "      <th>Source Port</th>\n",
       "      <th>Destination Port</th>\n",
       "      <th>NAT Source Port</th>\n",
       "      <th>NAT Destination Port</th>\n",
       "      <th>Action</th>\n",
       "      <th>Bytes</th>\n",
       "      <th>Bytes Sent</th>\n",
       "      <th>Bytes Received</th>\n",
       "      <th>Packets</th>\n",
       "      <th>Elapsed Time (sec)</th>\n",
       "      <th>pkts_sent</th>\n",
       "      <th>pkts_received</th>\n",
       "    </tr>\n",
       "  </thead>\n",
       "  <tbody>\n",
       "    <tr>\n",
       "      <th>0</th>\n",
       "      <td>57222</td>\n",
       "      <td>53</td>\n",
       "      <td>54587</td>\n",
       "      <td>53</td>\n",
       "      <td>allow</td>\n",
       "      <td>177</td>\n",
       "      <td>94</td>\n",
       "      <td>83</td>\n",
       "      <td>2</td>\n",
       "      <td>30</td>\n",
       "      <td>1</td>\n",
       "      <td>1</td>\n",
       "    </tr>\n",
       "    <tr>\n",
       "      <th>1</th>\n",
       "      <td>56258</td>\n",
       "      <td>3389</td>\n",
       "      <td>56258</td>\n",
       "      <td>3389</td>\n",
       "      <td>allow</td>\n",
       "      <td>4768</td>\n",
       "      <td>1600</td>\n",
       "      <td>3168</td>\n",
       "      <td>19</td>\n",
       "      <td>17</td>\n",
       "      <td>10</td>\n",
       "      <td>9</td>\n",
       "    </tr>\n",
       "    <tr>\n",
       "      <th>2</th>\n",
       "      <td>6881</td>\n",
       "      <td>50321</td>\n",
       "      <td>43265</td>\n",
       "      <td>50321</td>\n",
       "      <td>allow</td>\n",
       "      <td>238</td>\n",
       "      <td>118</td>\n",
       "      <td>120</td>\n",
       "      <td>2</td>\n",
       "      <td>1199</td>\n",
       "      <td>1</td>\n",
       "      <td>1</td>\n",
       "    </tr>\n",
       "    <tr>\n",
       "      <th>3</th>\n",
       "      <td>50553</td>\n",
       "      <td>3389</td>\n",
       "      <td>50553</td>\n",
       "      <td>3389</td>\n",
       "      <td>allow</td>\n",
       "      <td>3327</td>\n",
       "      <td>1438</td>\n",
       "      <td>1889</td>\n",
       "      <td>15</td>\n",
       "      <td>17</td>\n",
       "      <td>8</td>\n",
       "      <td>7</td>\n",
       "    </tr>\n",
       "    <tr>\n",
       "      <th>4</th>\n",
       "      <td>50002</td>\n",
       "      <td>443</td>\n",
       "      <td>45848</td>\n",
       "      <td>443</td>\n",
       "      <td>allow</td>\n",
       "      <td>25358</td>\n",
       "      <td>6778</td>\n",
       "      <td>18580</td>\n",
       "      <td>31</td>\n",
       "      <td>16</td>\n",
       "      <td>13</td>\n",
       "      <td>18</td>\n",
       "    </tr>\n",
       "  </tbody>\n",
       "</table>\n",
       "</div>"
      ],
      "text/plain": [
       "   Source Port  Destination Port  NAT Source Port  NAT Destination Port  \\\n",
       "0        57222                53            54587                    53   \n",
       "1        56258              3389            56258                  3389   \n",
       "2         6881             50321            43265                 50321   \n",
       "3        50553              3389            50553                  3389   \n",
       "4        50002               443            45848                   443   \n",
       "\n",
       "  Action  Bytes  Bytes Sent  Bytes Received  Packets  Elapsed Time (sec)  \\\n",
       "0  allow    177          94              83        2                  30   \n",
       "1  allow   4768        1600            3168       19                  17   \n",
       "2  allow    238         118             120        2                1199   \n",
       "3  allow   3327        1438            1889       15                  17   \n",
       "4  allow  25358        6778           18580       31                  16   \n",
       "\n",
       "   pkts_sent  pkts_received  \n",
       "0          1              1  \n",
       "1         10              9  \n",
       "2          1              1  \n",
       "3          8              7  \n",
       "4         13             18  "
      ]
     },
     "execution_count": 2,
     "metadata": {},
     "output_type": "execute_result"
    }
   ],
   "source": [
    "df = pd.read_csv('data/log2.csv')\n",
    "df.head()"
   ]
  },
  {
   "cell_type": "code",
   "execution_count": 3,
   "metadata": {},
   "outputs": [
    {
     "data": {
      "text/plain": [
       "(65532, 12)"
      ]
     },
     "execution_count": 3,
     "metadata": {},
     "output_type": "execute_result"
    }
   ],
   "source": [
    "df.shape"
   ]
  },
  {
   "cell_type": "markdown",
   "metadata": {},
   "source": [
    "# EDA"
   ]
  },
  {
   "cell_type": "code",
   "execution_count": 4,
   "metadata": {},
   "outputs": [
    {
     "data": {
      "text/html": [
       "<div>\n",
       "<style scoped>\n",
       "    .dataframe tbody tr th:only-of-type {\n",
       "        vertical-align: middle;\n",
       "    }\n",
       "\n",
       "    .dataframe tbody tr th {\n",
       "        vertical-align: top;\n",
       "    }\n",
       "\n",
       "    .dataframe thead th {\n",
       "        text-align: right;\n",
       "    }\n",
       "</style>\n",
       "<table border=\"1\" class=\"dataframe\">\n",
       "  <thead>\n",
       "    <tr style=\"text-align: right;\">\n",
       "      <th></th>\n",
       "      <th>Source Port</th>\n",
       "      <th>Destination Port</th>\n",
       "      <th>NAT Source Port</th>\n",
       "      <th>NAT Destination Port</th>\n",
       "      <th>Bytes</th>\n",
       "      <th>Bytes Sent</th>\n",
       "      <th>Bytes Received</th>\n",
       "      <th>Packets</th>\n",
       "      <th>Elapsed Time (sec)</th>\n",
       "      <th>pkts_sent</th>\n",
       "      <th>pkts_received</th>\n",
       "    </tr>\n",
       "  </thead>\n",
       "  <tbody>\n",
       "    <tr>\n",
       "      <th>count</th>\n",
       "      <td>65532.000000</td>\n",
       "      <td>65532.000000</td>\n",
       "      <td>65532.000000</td>\n",
       "      <td>65532.000000</td>\n",
       "      <td>6.553200e+04</td>\n",
       "      <td>6.553200e+04</td>\n",
       "      <td>6.553200e+04</td>\n",
       "      <td>6.553200e+04</td>\n",
       "      <td>65532.000000</td>\n",
       "      <td>65532.000000</td>\n",
       "      <td>65532.000000</td>\n",
       "    </tr>\n",
       "    <tr>\n",
       "      <th>mean</th>\n",
       "      <td>49391.969343</td>\n",
       "      <td>10577.385812</td>\n",
       "      <td>19282.972761</td>\n",
       "      <td>2671.049930</td>\n",
       "      <td>9.712395e+04</td>\n",
       "      <td>2.238580e+04</td>\n",
       "      <td>7.473815e+04</td>\n",
       "      <td>1.028660e+02</td>\n",
       "      <td>65.833577</td>\n",
       "      <td>41.399530</td>\n",
       "      <td>61.466505</td>\n",
       "    </tr>\n",
       "    <tr>\n",
       "      <th>std</th>\n",
       "      <td>15255.712537</td>\n",
       "      <td>18466.027039</td>\n",
       "      <td>21970.689669</td>\n",
       "      <td>9739.162278</td>\n",
       "      <td>5.618439e+06</td>\n",
       "      <td>3.828139e+06</td>\n",
       "      <td>2.463208e+06</td>\n",
       "      <td>5.133002e+03</td>\n",
       "      <td>302.461762</td>\n",
       "      <td>3218.871288</td>\n",
       "      <td>2223.332271</td>\n",
       "    </tr>\n",
       "    <tr>\n",
       "      <th>min</th>\n",
       "      <td>0.000000</td>\n",
       "      <td>0.000000</td>\n",
       "      <td>0.000000</td>\n",
       "      <td>0.000000</td>\n",
       "      <td>6.000000e+01</td>\n",
       "      <td>6.000000e+01</td>\n",
       "      <td>0.000000e+00</td>\n",
       "      <td>1.000000e+00</td>\n",
       "      <td>0.000000</td>\n",
       "      <td>1.000000</td>\n",
       "      <td>0.000000</td>\n",
       "    </tr>\n",
       "    <tr>\n",
       "      <th>25%</th>\n",
       "      <td>49183.000000</td>\n",
       "      <td>80.000000</td>\n",
       "      <td>0.000000</td>\n",
       "      <td>0.000000</td>\n",
       "      <td>6.600000e+01</td>\n",
       "      <td>6.600000e+01</td>\n",
       "      <td>0.000000e+00</td>\n",
       "      <td>1.000000e+00</td>\n",
       "      <td>0.000000</td>\n",
       "      <td>1.000000</td>\n",
       "      <td>0.000000</td>\n",
       "    </tr>\n",
       "    <tr>\n",
       "      <th>50%</th>\n",
       "      <td>53776.500000</td>\n",
       "      <td>445.000000</td>\n",
       "      <td>8820.500000</td>\n",
       "      <td>53.000000</td>\n",
       "      <td>1.680000e+02</td>\n",
       "      <td>9.000000e+01</td>\n",
       "      <td>7.900000e+01</td>\n",
       "      <td>2.000000e+00</td>\n",
       "      <td>15.000000</td>\n",
       "      <td>1.000000</td>\n",
       "      <td>1.000000</td>\n",
       "    </tr>\n",
       "    <tr>\n",
       "      <th>75%</th>\n",
       "      <td>58638.000000</td>\n",
       "      <td>15000.000000</td>\n",
       "      <td>38366.250000</td>\n",
       "      <td>443.000000</td>\n",
       "      <td>7.522500e+02</td>\n",
       "      <td>2.100000e+02</td>\n",
       "      <td>4.490000e+02</td>\n",
       "      <td>6.000000e+00</td>\n",
       "      <td>30.000000</td>\n",
       "      <td>3.000000</td>\n",
       "      <td>2.000000</td>\n",
       "    </tr>\n",
       "    <tr>\n",
       "      <th>max</th>\n",
       "      <td>65534.000000</td>\n",
       "      <td>65535.000000</td>\n",
       "      <td>65535.000000</td>\n",
       "      <td>65535.000000</td>\n",
       "      <td>1.269359e+09</td>\n",
       "      <td>9.484772e+08</td>\n",
       "      <td>3.208818e+08</td>\n",
       "      <td>1.036116e+06</td>\n",
       "      <td>10824.000000</td>\n",
       "      <td>747520.000000</td>\n",
       "      <td>327208.000000</td>\n",
       "    </tr>\n",
       "  </tbody>\n",
       "</table>\n",
       "</div>"
      ],
      "text/plain": [
       "        Source Port  Destination Port  NAT Source Port  NAT Destination Port  \\\n",
       "count  65532.000000      65532.000000     65532.000000          65532.000000   \n",
       "mean   49391.969343      10577.385812     19282.972761           2671.049930   \n",
       "std    15255.712537      18466.027039     21970.689669           9739.162278   \n",
       "min        0.000000          0.000000         0.000000              0.000000   \n",
       "25%    49183.000000         80.000000         0.000000              0.000000   \n",
       "50%    53776.500000        445.000000      8820.500000             53.000000   \n",
       "75%    58638.000000      15000.000000     38366.250000            443.000000   \n",
       "max    65534.000000      65535.000000     65535.000000          65535.000000   \n",
       "\n",
       "              Bytes    Bytes Sent  Bytes Received       Packets  \\\n",
       "count  6.553200e+04  6.553200e+04    6.553200e+04  6.553200e+04   \n",
       "mean   9.712395e+04  2.238580e+04    7.473815e+04  1.028660e+02   \n",
       "std    5.618439e+06  3.828139e+06    2.463208e+06  5.133002e+03   \n",
       "min    6.000000e+01  6.000000e+01    0.000000e+00  1.000000e+00   \n",
       "25%    6.600000e+01  6.600000e+01    0.000000e+00  1.000000e+00   \n",
       "50%    1.680000e+02  9.000000e+01    7.900000e+01  2.000000e+00   \n",
       "75%    7.522500e+02  2.100000e+02    4.490000e+02  6.000000e+00   \n",
       "max    1.269359e+09  9.484772e+08    3.208818e+08  1.036116e+06   \n",
       "\n",
       "       Elapsed Time (sec)      pkts_sent  pkts_received  \n",
       "count        65532.000000   65532.000000   65532.000000  \n",
       "mean            65.833577      41.399530      61.466505  \n",
       "std            302.461762    3218.871288    2223.332271  \n",
       "min              0.000000       1.000000       0.000000  \n",
       "25%              0.000000       1.000000       0.000000  \n",
       "50%             15.000000       1.000000       1.000000  \n",
       "75%             30.000000       3.000000       2.000000  \n",
       "max          10824.000000  747520.000000  327208.000000  "
      ]
     },
     "execution_count": 4,
     "metadata": {},
     "output_type": "execute_result"
    }
   ],
   "source": [
    "p = df.describe()\n",
    "p"
   ]
  },
  {
   "cell_type": "code",
   "execution_count": 5,
   "metadata": {},
   "outputs": [
    {
     "name": "stdout",
     "output_type": "stream",
     "text": [
      "No missing data\n"
     ]
    }
   ],
   "source": [
    "# Check for missing data\n",
    "for i in df.columns:\n",
    "    if i == \"Action\":\n",
    "        continue\n",
    "    if p.loc[\"count\", i] != df.shape[0]:\n",
    "        print (i)\n",
    "print(\"No missing data\")"
   ]
  },
  {
   "cell_type": "code",
   "execution_count": 6,
   "metadata": {},
   "outputs": [
    {
     "data": {
      "text/plain": [
       "array([[<AxesSubplot:title={'center':'Source Port'}>,\n",
       "        <AxesSubplot:title={'center':'Destination Port'}>,\n",
       "        <AxesSubplot:title={'center':'NAT Source Port'}>],\n",
       "       [<AxesSubplot:title={'center':'NAT Destination Port'}>,\n",
       "        <AxesSubplot:title={'center':'Bytes'}>,\n",
       "        <AxesSubplot:title={'center':'Bytes Sent'}>],\n",
       "       [<AxesSubplot:title={'center':'Bytes Received'}>,\n",
       "        <AxesSubplot:title={'center':'Packets'}>,\n",
       "        <AxesSubplot:title={'center':'Elapsed Time (sec)'}>],\n",
       "       [<AxesSubplot:title={'center':'pkts_sent'}>,\n",
       "        <AxesSubplot:title={'center':'pkts_received'}>, <AxesSubplot:>]],\n",
       "      dtype=object)"
      ]
     },
     "execution_count": 6,
     "metadata": {},
     "output_type": "execute_result"
    },
    {
     "data": {
      "image/png": "[encoded data removed]",
      "text/plain": [
       "<Figure size 1008x1008 with 12 Axes>"
      ]
     },
     "metadata": {},
     "output_type": "display_data"
    }
   ],
   "source": [
    "df.hist(figsize=(14,14), xrot=50)"
   ]
  },
  {
   "cell_type": "markdown",
   "metadata": {},
   "source": [
    "# Explore the target"
   ]
  },
  {
   "cell_type": "code",
   "execution_count": 7,
   "metadata": {},
   "outputs": [
    {
     "data": {
      "text/plain": [
       "allow         37640\n",
       "deny          14987\n",
       "drop          12851\n",
       "reset-both       54\n",
       "Name: Action, dtype: int64"
      ]
     },
     "execution_count": 7,
     "metadata": {},
     "output_type": "execute_result"
    }
   ],
   "source": [
    "df[\"Action\"].unique\n",
    "# This show that the target is very inbalanced\n",
    "df[\"Action\"].value_counts(normalize=False)\n"
   ]
  },
  {
   "cell_type": "code",
   "execution_count": 8,
   "metadata": {},
   "outputs": [
    {
     "data": {
      "text/plain": [
       "(array([37640.,     0.,     0., 12851.,     0.,     0., 14987.,     0.,\n",
       "            0.,    54.]),\n",
       " array([0. , 0.3, 0.6, 0.9, 1.2, 1.5, 1.8, 2.1, 2.4, 2.7, 3. ]),\n",
       " <BarContainer object of 10 artists>)"
      ]
     },
     "execution_count": 8,
     "metadata": {},
     "output_type": "execute_result"
    },
    {
     "data": {
      "image/png": "[encoded data removed]",
      "text/plain": [
       "<Figure size 576x396 with 1 Axes>"
      ]
     },
     "metadata": {},
     "output_type": "display_data"
    }
   ],
   "source": [
    "# Plot to better show the inbalanced target\n",
    "plt.hist(df[\"Action\"])"
   ]
  },
  {
   "cell_type": "markdown",
   "metadata": {},
   "source": [
    "# We made the target binary"
   ]
  },
  {
   "cell_type": "code",
   "execution_count": 9,
   "metadata": {},
   "outputs": [],
   "source": [
    "# Make the target binary\n",
    "# target= []\n",
    "\n",
    "# for i in df[\"Action\"]:\n",
    "#     if i == \"allow\":\n",
    "#         target.append(\"Allow\")\n",
    "#     if i == \"deny\":\n",
    "#         target.append(\"Deny\")\n",
    "#     if i == \"drop\":\n",
    "#         target.append(\"Deny\")\n",
    "#     if i == \"reset-both\":\n",
    "#         target.append(\"Deny\")\n",
    "\n",
    "# df[\"target\"]= target\n",
    "\n",
    "\n",
    "df['target'] = df['Action'].map({'allow': \"Allow\", 'deny': \"Deny\", 'drop': \"Deny\", 'reset-both': \"Deny\"})"
   ]
  },
  {
   "cell_type": "code",
   "execution_count": 10,
   "metadata": {},
   "outputs": [
    {
     "data": {
      "text/plain": [
       "Allow    37640\n",
       "Deny     27892\n",
       "Name: target, dtype: int64"
      ]
     },
     "execution_count": 10,
     "metadata": {},
     "output_type": "execute_result"
    }
   ],
   "source": [
    "df[\"target\"].value_counts(normalize=False)"
   ]
  },
  {
   "cell_type": "markdown",
   "metadata": {},
   "source": [
    "# Final detaset"
   ]
  },
  {
   "cell_type": "code",
   "execution_count": 11,
   "metadata": {},
   "outputs": [
    {
     "data": {
      "text/html": [
       "<div>\n",
       "<style scoped>\n",
       "    .dataframe tbody tr th:only-of-type {\n",
       "        vertical-align: middle;\n",
       "    }\n",
       "\n",
       "    .dataframe tbody tr th {\n",
       "        vertical-align: top;\n",
       "    }\n",
       "\n",
       "    .dataframe thead th {\n",
       "        text-align: right;\n",
       "    }\n",
       "</style>\n",
       "<table border=\"1\" class=\"dataframe\">\n",
       "  <thead>\n",
       "    <tr style=\"text-align: right;\">\n",
       "      <th></th>\n",
       "      <th>Source Port</th>\n",
       "      <th>Destination Port</th>\n",
       "      <th>NAT Source Port</th>\n",
       "      <th>NAT Destination Port</th>\n",
       "      <th>Bytes</th>\n",
       "      <th>Bytes Sent</th>\n",
       "      <th>Bytes Received</th>\n",
       "      <th>Packets</th>\n",
       "      <th>Elapsed Time (sec)</th>\n",
       "      <th>pkts_sent</th>\n",
       "      <th>pkts_received</th>\n",
       "      <th>target</th>\n",
       "    </tr>\n",
       "  </thead>\n",
       "  <tbody>\n",
       "    <tr>\n",
       "      <th>0</th>\n",
       "      <td>57222</td>\n",
       "      <td>53</td>\n",
       "      <td>54587</td>\n",
       "      <td>53</td>\n",
       "      <td>177</td>\n",
       "      <td>94</td>\n",
       "      <td>83</td>\n",
       "      <td>2</td>\n",
       "      <td>30</td>\n",
       "      <td>1</td>\n",
       "      <td>1</td>\n",
       "      <td>Allow</td>\n",
       "    </tr>\n",
       "    <tr>\n",
       "      <th>1</th>\n",
       "      <td>56258</td>\n",
       "      <td>3389</td>\n",
       "      <td>56258</td>\n",
       "      <td>3389</td>\n",
       "      <td>4768</td>\n",
       "      <td>1600</td>\n",
       "      <td>3168</td>\n",
       "      <td>19</td>\n",
       "      <td>17</td>\n",
       "      <td>10</td>\n",
       "      <td>9</td>\n",
       "      <td>Allow</td>\n",
       "    </tr>\n",
       "    <tr>\n",
       "      <th>2</th>\n",
       "      <td>6881</td>\n",
       "      <td>50321</td>\n",
       "      <td>43265</td>\n",
       "      <td>50321</td>\n",
       "      <td>238</td>\n",
       "      <td>118</td>\n",
       "      <td>120</td>\n",
       "      <td>2</td>\n",
       "      <td>1199</td>\n",
       "      <td>1</td>\n",
       "      <td>1</td>\n",
       "      <td>Allow</td>\n",
       "    </tr>\n",
       "    <tr>\n",
       "      <th>3</th>\n",
       "      <td>50553</td>\n",
       "      <td>3389</td>\n",
       "      <td>50553</td>\n",
       "      <td>3389</td>\n",
       "      <td>3327</td>\n",
       "      <td>1438</td>\n",
       "      <td>1889</td>\n",
       "      <td>15</td>\n",
       "      <td>17</td>\n",
       "      <td>8</td>\n",
       "      <td>7</td>\n",
       "      <td>Allow</td>\n",
       "    </tr>\n",
       "    <tr>\n",
       "      <th>4</th>\n",
       "      <td>50002</td>\n",
       "      <td>443</td>\n",
       "      <td>45848</td>\n",
       "      <td>443</td>\n",
       "      <td>25358</td>\n",
       "      <td>6778</td>\n",
       "      <td>18580</td>\n",
       "      <td>31</td>\n",
       "      <td>16</td>\n",
       "      <td>13</td>\n",
       "      <td>18</td>\n",
       "      <td>Allow</td>\n",
       "    </tr>\n",
       "  </tbody>\n",
       "</table>\n",
       "</div>"
      ],
      "text/plain": [
       "   Source Port  Destination Port  NAT Source Port  NAT Destination Port  \\\n",
       "0        57222                53            54587                    53   \n",
       "1        56258              3389            56258                  3389   \n",
       "2         6881             50321            43265                 50321   \n",
       "3        50553              3389            50553                  3389   \n",
       "4        50002               443            45848                   443   \n",
       "\n",
       "   Bytes  Bytes Sent  Bytes Received  Packets  Elapsed Time (sec)  pkts_sent  \\\n",
       "0    177          94              83        2                  30          1   \n",
       "1   4768        1600            3168       19                  17         10   \n",
       "2    238         118             120        2                1199          1   \n",
       "3   3327        1438            1889       15                  17          8   \n",
       "4  25358        6778           18580       31                  16         13   \n",
       "\n",
       "   pkts_received target  \n",
       "0              1  Allow  \n",
       "1              9  Allow  \n",
       "2              1  Allow  \n",
       "3              7  Allow  \n",
       "4             18  Allow  "
      ]
     },
     "execution_count": 11,
     "metadata": {},
     "output_type": "execute_result"
    }
   ],
   "source": [
    "\n",
    "df.drop(columns=\"Action\", inplace= True)\n",
    "df.head()"
   ]
  },
  {
   "cell_type": "markdown",
   "metadata": {},
   "source": [
    "# Mdel preparetion"
   ]
  },
  {
   "cell_type": "markdown",
   "metadata": {},
   "source": [
    "We will split our dataset in train and test with 70% train and 30% test. \n",
    "\n",
    "Then we will prepare our SVM model. We set up a grid search, in the gird search we will explore the best kernel and the best C hyperparameter.\n",
    "Cfloat, default=1.0\n",
    "Regularization parameter. The strength of the regularization is inversely proportional to C. Must be strictly positive. The penalty is a squared l2 penalty.\n",
    "kernel{‘linear’, ‘rbf}, default=’rbf’\n",
    "Specifies the kernel type to be used in the algorithm. It must be one of ‘linear’, ‘poly’, ‘rbf’, ‘sigmoid’, ‘precomputed’ or a callable. If none is given, ‘rbf’ will be used. If a callable is given it is used to pre-compute the kernel matrix from data matrices; that matrix should be an array of shape (n_samples, n_samples).\n",
    "\n",
    "The second model that we will use to compare with the SVM model is the SGD.\n",
    "In the SGM classifier we decided to use the logistic regression classifier with a penalty of l2. Then we run a grid search to find the best alpha value. \n"
   ]
  },
  {
   "cell_type": "markdown",
   "metadata": {},
   "source": [
    "# SVM"
   ]
  },
  {
   "cell_type": "code",
   "execution_count": 13,
   "metadata": {},
   "outputs": [],
   "source": [
    "# prepare test and train data\n",
    "\n",
    "X = df.loc[:, df.columns != 'target'].values\n",
    "y = df['target'].values\n",
    "\n",
    "X_train, X_test, y_train, y_test = train_test_split(\n",
    "    X, y, test_size=0.33, random_state=42)"
   ]
  },
  {
   "cell_type": "code",
   "execution_count": 14,
   "metadata": {},
   "outputs": [
    {
     "name": "stdout",
     "output_type": "stream",
     "text": [
      "GridSearchCV took 0.01 seconds for 8 candidate parameter settings.\n"
     ]
    }
   ],
   "source": [
    "from sklearn.svm import SVC\n",
    "import pickle\n",
    "\n",
    "param_grid= {'kernel': ('linear', 'rbf'),\n",
    "            'C': [0.1, 1, 10, 100]}\n",
    "\n",
    "base_estimator = SVC(gamma='scale')\n",
    "\n",
    "start = time()\n",
    "\n",
    "# grid_search = GridSearchCV(base_estimator, param_grid= param_grid)\n",
    "# grid_search.fit(X_train, y_train)\n",
    "grid_file = open(\"data/gridsearch.pickle\", \"rb\")\n",
    "grid_search = pickle.load(grid_file)\n",
    "\n",
    "print(\"GridSearchCV took %.2f seconds for %d candidate parameter settings.\"\n",
    "       % (time() - start, len(grid_search.cv_results_['params'])))\n",
    "\n",
    "\n",
    "# You can use the code below to save the grid search object\n",
    "# import pickle\n",
    "\n",
    "# gs_file = open(\"data/gridsearch.pickle\", \"wb\")\n",
    "# pickle.dump(grid_search, gs_file)\n",
    "# gs_file.close()\n"
   ]
  },
  {
   "cell_type": "markdown",
   "metadata": {},
   "source": [
    "# Number of support vectors"
   ]
  },
  {
   "cell_type": "code",
   "execution_count": 15,
   "metadata": {},
   "outputs": [
    {
     "data": {
      "text/plain": [
       "2"
      ]
     },
     "execution_count": 15,
     "metadata": {},
     "output_type": "execute_result"
    }
   ],
   "source": [
    "len(grid_search.best_estimator_.n_support_)"
   ]
  },
  {
   "cell_type": "markdown",
   "metadata": {},
   "source": [
    "# Evaluation of the model"
   ]
  },
  {
   "cell_type": "markdown",
   "metadata": {},
   "source": [
    "We decided that for the objective at hand the accuracy is the most important parameter to keep in mind. We want to make sure that we get it right.\n",
    "\n",
    "The accuracy formula helps to know the errors in the measurement of values. If the measured value is equal to the actual value, then it is said to be highly accurate and with low errors. Accuracy and error rate are inversely related. High accuracy refers to low error rate, and high error rate refers to low accuracy. The accuracy formula gives the accuracy as a percentage value, and the sum of accuracy and error rate is equal to 100 percent. Therefore, the accuracy will be the evaluating measure for selection of our model.\n",
    "\n",
    "We decided that for the objective at hand the accuracy is the most important parameter to keep in mind. We want to make sure that we get it right.\n",
    "\n",
    "The accuracy formula helps to know the errors in the measurement of values. If the measured value is equal to the actual value, then it is said to be highly accurate and with low errors. Accuracy and error rate are inversely related. High accuracy refers to low error rate, and high error rate refers to low accuracy. The accuracy formula gives the accuracy as a percentage value, and the sum of accuracy and error rate is equal to 100 percent. Therefore, the accuracy will be the evaluating measure for selection of our model.\n",
    "\n",
    "We decided to select the svm model with an accuracy of 99.7%. There are only 55 misclassifications from 21626 classification target. For completeness the recall is 99.6% and the precision is 99.5%. The best hyperparameters were the linear kernel and the penalty of 1. \n",
    "The feature that contributes the most for this svm classifier were ‘Elapsed Time’, ‘Packets’ and ‘pkts_sent’. This model builds 2 support vectors as the classification boundary. \n",
    "\n",
    "The competing model has high accuracy and recall also, please see the code, accuracy 99.3% recall 99.6% and precision 99.5%. The best hyperparameters used in this competing model were 'alpha': 0.01, 'loss': 'log', 'penalty': 'l2'. The most important feature in this model were ‘Bytes received’, ‘Bytes’, ‘Elapsed Time’ as the previous selected model. \n",
    "\n",
    "\n"
   ]
  },
  {
   "cell_type": "markdown",
   "metadata": {},
   "source": [
    "# Evaluation of the svm model"
   ]
  },
  {
   "cell_type": "code",
   "execution_count": 16,
   "metadata": {},
   "outputs": [
    {
     "data": {
      "text/plain": [
       "0.9975174235867535"
      ]
     },
     "execution_count": 16,
     "metadata": {},
     "output_type": "execute_result"
    }
   ],
   "source": [
    "y_hat_rf_train = grid_search.predict(X_train)\n",
    "accuracy_score(y_hat_rf_train, y_train)"
   ]
  },
  {
   "cell_type": "code",
   "execution_count": 17,
   "metadata": {},
   "outputs": [
    {
     "data": {
      "image/png": "[encoded data removed]",
      "text/plain": [
       "<Figure size 576x396 with 2 Axes>"
      ]
     },
     "metadata": {},
     "output_type": "display_data"
    }
   ],
   "source": [
    "# Confusion matrix train\n",
    "confusion_matrix(y_train, y_hat_rf_train)\n",
    "disp = ConfusionMatrixDisplay.from_estimator(grid_search, X_test, y_test)"
   ]
  },
  {
   "cell_type": "code",
   "execution_count": 18,
   "metadata": {},
   "outputs": [
    {
     "data": {
      "text/plain": [
       "0.9974567650050865"
      ]
     },
     "execution_count": 18,
     "metadata": {},
     "output_type": "execute_result"
    }
   ],
   "source": [
    "y_hat_rf_test = grid_search.predict(X_test)\n",
    "accuracy_score(y_hat_rf_test, y_test)"
   ]
  },
  {
   "cell_type": "code",
   "execution_count": 19,
   "metadata": {},
   "outputs": [
    {
     "name": "stdout",
     "output_type": "stream",
     "text": [
      "Recall: 0.9965375634109026\n",
      "Precision: 0.9953453128382767\n"
     ]
    }
   ],
   "source": [
    "# Precision and recall\n",
    "print(\"Recall:\", recall_score(y_test, y_hat_rf_test, pos_label=\"Allow\", average='binary'))\n",
    "print(\"Precision:\", precision_score(y_test, y_hat_rf_test, pos_label=\"Deny\", average='binary'))"
   ]
  },
  {
   "cell_type": "markdown",
   "metadata": {},
   "source": [
    "# Plot"
   ]
  },
  {
   "cell_type": "code",
   "execution_count": 20,
   "metadata": {},
   "outputs": [
    {
     "name": "stderr",
     "output_type": "stream",
     "text": [
      "C:\\Users\\dancr\\miniconda3\\envs\\NLP\\lib\\site-packages\\sklearn\\utils\\deprecation.py:87: FutureWarning: Function plot_precision_recall_curve is deprecated; Function `plot_precision_recall_curve` is deprecated in 1.0 and will be removed in 1.2. Use one of the class methods: PrecisionRecallDisplay.from_predictions or PrecisionRecallDisplay.from_estimator.\n",
      "  warnings.warn(msg, category=FutureWarning)\n"
     ]
    },
    {
     "data": {
      "text/plain": [
       "Text(0.5, 1.0, 'Precision-Recall Curve')"
      ]
     },
     "execution_count": 20,
     "metadata": {},
     "output_type": "execute_result"
    },
    {
     "data": {
      "image/png": "[encoded data removed]",
      "text/plain": [
       "<Figure size 576x396 with 1 Axes>"
      ]
     },
     "metadata": {},
     "output_type": "display_data"
    }
   ],
   "source": [
    "disp = plot_precision_recall_curve(grid_search, X_test, y_test,)\n",
    "disp.ax_.set_title('Precision-Recall Curve')"
   ]
  },
  {
   "cell_type": "markdown",
   "metadata": {},
   "source": [
    "# ROC"
   ]
  },
  {
   "cell_type": "code",
   "execution_count": 21,
   "metadata": {},
   "outputs": [
    {
     "data": {
      "image/png": "[encoded data removed]",
      "text/plain": [
       "<Figure size 576x396 with 1 Axes>"
      ]
     },
     "metadata": {},
     "output_type": "display_data"
    }
   ],
   "source": [
    "Disp = RocCurveDisplay.from_estimator(grid_search, X_test, y_test)"
   ]
  },
  {
   "cell_type": "markdown",
   "metadata": {},
   "source": [
    "# Evaluation of the hyperparameters"
   ]
  },
  {
   "cell_type": "code",
   "execution_count": 22,
   "metadata": {},
   "outputs": [
    {
     "name": "stdout",
     "output_type": "stream",
     "text": [
      "0.9974567650050865\n",
      "0.6335429575510959\n"
     ]
    }
   ],
   "source": [
    "p=  ['linear', 'rbf']\n",
    "\n",
    "for i in p:\n",
    "    model = SVC(kernel= i)\n",
    "    model.fit(X_train, y_train)\n",
    "    y_hat_rf_test = model.predict(X_test)\n",
    "    print(accuracy_score(y_hat_rf_test, y_test)) \n",
    "\n"
   ]
  },
  {
   "cell_type": "code",
   "execution_count": 23,
   "metadata": {},
   "outputs": [
    {
     "name": "stdout",
     "output_type": "stream",
     "text": [
      "0.5742624618514751\n",
      "0.6335429575510959\n",
      "0.8671044113567002\n"
     ]
    }
   ],
   "source": [
    "C= [0.1, 1, 10]\n",
    "\n",
    "for i in C:\n",
    "    model = SVC(C= i)\n",
    "    model.fit(X_train, y_train)\n",
    "    y_hat_rf_test = model.predict(X_test)\n",
    "    print(accuracy_score(y_hat_rf_test, y_test)) "
   ]
  },
  {
   "cell_type": "markdown",
   "metadata": {},
   "source": [
    "# Best hyperparams after the gridsearch evaluated above"
   ]
  },
  {
   "cell_type": "code",
   "execution_count": 24,
   "metadata": {},
   "outputs": [
    {
     "data": {
      "text/plain": [
       "{'C': 1, 'kernel': 'linear'}"
      ]
     },
     "execution_count": 24,
     "metadata": {},
     "output_type": "execute_result"
    }
   ],
   "source": [
    "grid_search.best_params_\n"
   ]
  },
  {
   "cell_type": "markdown",
   "metadata": {},
   "source": [
    "# Feature importance"
   ]
  },
  {
   "cell_type": "code",
   "execution_count": 25,
   "metadata": {},
   "outputs": [
    {
     "name": "stderr",
     "output_type": "stream",
     "text": [
      "C:\\Users\\dancr\\miniconda3\\envs\\NLP\\lib\\site-packages\\yellowbrick\\model_selection\\importances.py:194: YellowbrickWarning: detected multi-dimensional feature importances but stack=False, using mean to aggregate them.\n",
      "  warnings.warn(\n"
     ]
    },
    {
     "data": {
      "image/png": "[encoded data removed]",
      "text/plain": [
       "<Figure size 576x396 with 1 Axes>"
      ]
     },
     "metadata": {},
     "output_type": "display_data"
    },
    {
     "data": {
      "text/plain": [
       "<AxesSubplot:title={'center':'Feature Importances of Top 6 Features using SVC'}, xlabel='coefficient value'>"
      ]
     },
     "execution_count": 25,
     "metadata": {},
     "output_type": "execute_result"
    }
   ],
   "source": [
    "best= grid_search.best_estimator_\n",
    "viz = FeatureImportances(best, topn=6, relative=False, labels=df.columns.to_list())\n",
    "viz.fit(X_test, y_test)\n",
    "viz.show()"
   ]
  },
  {
   "cell_type": "markdown",
   "metadata": {},
   "source": [
    "# SGD"
   ]
  },
  {
   "cell_type": "code",
   "execution_count": 41,
   "metadata": {},
   "outputs": [
    {
     "name": "stderr",
     "output_type": "stream",
     "text": [
      "/Users/fabiosavorgnan/opt/anaconda3/lib/python3.7/site-packages/sklearn/linear_model/_stochastic_gradient.py:707: ConvergenceWarning: Maximum number of iteration reached before convergence. Consider increasing max_iter to improve the fit.\n",
      "  ConvergenceWarning,\n"
     ]
    },
    {
     "data": {
      "text/plain": [
       "0.9935088598369244"
      ]
     },
     "execution_count": 41,
     "metadata": {},
     "output_type": "execute_result"
    }
   ],
   "source": [
    "from sklearn.linear_model import SGDClassifier\n",
    "from sklearn.pipeline import make_pipeline\n",
    "\n",
    "param_grid = {\n",
    "    'loss': ['log'],\n",
    "    'penalty': ['l2'],\n",
    "    'alpha': [10 ** x for x in range(-3, 1)],\n",
    "}\n",
    "clf = SGDClassifier(random_state=0, class_weight='balanced', max_iter=100)\n",
    "\n",
    "clf_grid = GridSearchCV(estimator=clf, param_grid=param_grid,\n",
    "                                    n_jobs=-1, scoring='accuracy')\n",
    "\n",
    "clf_grid.fit(X_train, y_train)\n",
    "y_hat_rf_train = clf_grid.predict(X_train)\n",
    "accuracy_score(y_hat_rf_train, y_train)"
   ]
  },
  {
   "cell_type": "markdown",
   "metadata": {},
   "source": [
    "# SGD best parameter"
   ]
  },
  {
   "cell_type": "code",
   "execution_count": 46,
   "metadata": {},
   "outputs": [
    {
     "data": {
      "text/plain": [
       "{'alpha': 0.01, 'loss': 'log', 'penalty': 'l2'}"
      ]
     },
     "execution_count": 46,
     "metadata": {},
     "output_type": "execute_result"
    }
   ],
   "source": [
    "clf_grid.best_params_"
   ]
  },
  {
   "cell_type": "markdown",
   "metadata": {},
   "source": [
    "# Evaluation of the SGD model"
   ]
  },
  {
   "cell_type": "code",
   "execution_count": 42,
   "metadata": {},
   "outputs": [
    {
     "data": {
      "text/plain": [
       "0.9935088598369244"
      ]
     },
     "execution_count": 42,
     "metadata": {},
     "output_type": "execute_result"
    }
   ],
   "source": [
    "y_hat_rf_train = clf_grid.predict(X_train)\n",
    "accuracy_score(y_hat_rf_train, y_train)"
   ]
  },
  {
   "cell_type": "code",
   "execution_count": 43,
   "metadata": {},
   "outputs": [
    {
     "name": "stdout",
     "output_type": "stream",
     "text": [
      "Recall: 0.9965375634109026\n",
      "Precision: 0.9953453128382767\n"
     ]
    }
   ],
   "source": [
    "# Precision and recall\n",
    "print(\"Recall:\", recall_score(y_test, y_hat_rf_test, pos_label=\"Allow\", average='binary'))\n",
    "print(\"Precision:\", precision_score(y_test, y_hat_rf_test, pos_label=\"Deny\", average='binary'))"
   ]
  },
  {
   "cell_type": "code",
   "execution_count": 47,
   "metadata": {},
   "outputs": [
    {
     "data": {
      "image/png": "[encoded data removed]",
      "text/plain": [
       "<Figure size 432x288 with 2 Axes>"
      ]
     },
     "metadata": {
      "needs_background": "light"
     },
     "output_type": "display_data"
    }
   ],
   "source": [
    "disp = ConfusionMatrixDisplay.from_estimator(clf_grid, X_test, y_test)"
   ]
  },
  {
   "cell_type": "markdown",
   "metadata": {},
   "source": [
    "# Plot precision and recall"
   ]
  },
  {
   "cell_type": "code",
   "execution_count": 44,
   "metadata": {},
   "outputs": [
    {
     "name": "stderr",
     "output_type": "stream",
     "text": [
      "/Users/fabiosavorgnan/opt/anaconda3/lib/python3.7/site-packages/sklearn/utils/deprecation.py:87: FutureWarning: Function plot_precision_recall_curve is deprecated; Function `plot_precision_recall_curve` is deprecated in 1.0 and will be removed in 1.2. Use one of the class methods: PrecisionRecallDisplay.from_predictions or PrecisionRecallDisplay.from_estimator.\n",
      "  warnings.warn(msg, category=FutureWarning)\n"
     ]
    },
    {
     "data": {
      "text/plain": [
       "Text(0.5, 1.0, 'Precision-Recall Curve')"
      ]
     },
     "execution_count": 44,
     "metadata": {},
     "output_type": "execute_result"
    },
    {
     "data": {
      "image/png": "[encoded data removed]",
      "text/plain": [
       "<Figure size 432x288 with 1 Axes>"
      ]
     },
     "metadata": {
      "needs_background": "light"
     },
     "output_type": "display_data"
    }
   ],
   "source": [
    "disp = plot_precision_recall_curve(grid_search, X_test, y_test,)\n",
    "disp.ax_.set_title('Precision-Recall Curve')"
   ]
  },
  {
   "cell_type": "markdown",
   "metadata": {},
   "source": [
    "# AUC"
   ]
  },
  {
   "cell_type": "code",
   "execution_count": 57,
   "metadata": {},
   "outputs": [
    {
     "data": {
      "image/png": "[encoded data removed]",
      "text/plain": [
       "<Figure size 576x396 with 1 Axes>"
      ]
     },
     "metadata": {},
     "output_type": "display_data"
    }
   ],
   "source": [
    "Disp = RocCurveDisplay.from_estimator(clf_grid, X_test, y_test)"
   ]
  },
  {
   "cell_type": "markdown",
   "metadata": {},
   "source": [
    "# Feature importance"
   ]
  },
  {
   "cell_type": "code",
   "execution_count": 62,
   "metadata": {},
   "outputs": [
    {
     "name": "stderr",
     "output_type": "stream",
     "text": [
      "/Users/fabiosavorgnan/opt/anaconda3/lib/python3.7/site-packages/yellowbrick/model_selection/importances.py:199: YellowbrickWarning: detected multi-dimensional feature importances but stack=False, using mean to aggregate them.\n",
      "  YellowbrickWarning,\n"
     ]
    },
    {
     "data": {
      "image/png": "[encoded data removed]",
      "text/plain": [
       "<Figure size 576x396 with 1 Axes>"
      ]
     },
     "metadata": {},
     "output_type": "display_data"
    },
    {
     "data": {
      "text/plain": [
       "<AxesSubplot:title={'center':'Feature Importances of Top 6 Features using SGDClassifier'}, xlabel='coefficient value'>"
      ]
     },
     "execution_count": 62,
     "metadata": {},
     "output_type": "execute_result"
    }
   ],
   "source": [
    "best= clf_grid.best_estimator_\n",
    "viz = FeatureImportances(best, topn=6, relative=False, labels=df.columns.to_list())\n",
    "viz.fit(X_test, y_test)\n",
    "viz.show()"
   ]
  },
  {
   "cell_type": "markdown",
   "metadata": {},
   "source": [
    "# Reduced Dataset Model using AR Rules\n",
    "\n",
    "Let's take a look at using Association Rules to see if we can skim off some what appear to be known facts, i.e., that certain ports will probably always be Allow or Deny. This is information we should share with our stakeholders to determine accuracy, since we are not experts in Cybersecurity.\n",
    "\n",
    "We will first reduce the data set to just the port columns and target, and then use the apriori algorithm to find the association rules.\n",
    "\n",
    "Recommended Reading:\n",
    "https://medium.com/analytics-vidhya/association-analysis-in-python-2b955d0180c\n",
    "https://towardsdatascience.com/using-association-rules-with-categorical-data-e984f8bb8ee4\n",
    "http://rasbt.github.io/mlxtend/"
   ]
  },
  {
   "cell_type": "code",
   "execution_count": 28,
   "metadata": {},
   "outputs": [
    {
     "data": {
      "text/html": [
       "<div>\n",
       "<style scoped>\n",
       "    .dataframe tbody tr th:only-of-type {\n",
       "        vertical-align: middle;\n",
       "    }\n",
       "\n",
       "    .dataframe tbody tr th {\n",
       "        vertical-align: top;\n",
       "    }\n",
       "\n",
       "    .dataframe thead th {\n",
       "        text-align: right;\n",
       "    }\n",
       "</style>\n",
       "<table border=\"1\" class=\"dataframe\">\n",
       "  <thead>\n",
       "    <tr style=\"text-align: right;\">\n",
       "      <th></th>\n",
       "      <th>Source Port</th>\n",
       "      <th>Destination Port</th>\n",
       "      <th>NAT Source Port</th>\n",
       "      <th>NAT Destination Port</th>\n",
       "      <th>target</th>\n",
       "    </tr>\n",
       "  </thead>\n",
       "  <tbody>\n",
       "    <tr>\n",
       "      <th>43957</th>\n",
       "      <td>51313</td>\n",
       "      <td>64147</td>\n",
       "      <td>0</td>\n",
       "      <td>0</td>\n",
       "      <td>Deny</td>\n",
       "    </tr>\n",
       "    <tr>\n",
       "      <th>4530</th>\n",
       "      <td>49949</td>\n",
       "      <td>443</td>\n",
       "      <td>7206</td>\n",
       "      <td>443</td>\n",
       "      <td>Allow</td>\n",
       "    </tr>\n",
       "    <tr>\n",
       "      <th>6666</th>\n",
       "      <td>64070</td>\n",
       "      <td>53</td>\n",
       "      <td>27144</td>\n",
       "      <td>53</td>\n",
       "      <td>Allow</td>\n",
       "    </tr>\n",
       "    <tr>\n",
       "      <th>25400</th>\n",
       "      <td>61279</td>\n",
       "      <td>445</td>\n",
       "      <td>0</td>\n",
       "      <td>0</td>\n",
       "      <td>Deny</td>\n",
       "    </tr>\n",
       "    <tr>\n",
       "      <th>36054</th>\n",
       "      <td>51983</td>\n",
       "      <td>443</td>\n",
       "      <td>27301</td>\n",
       "      <td>443</td>\n",
       "      <td>Allow</td>\n",
       "    </tr>\n",
       "    <tr>\n",
       "      <th>...</th>\n",
       "      <td>...</td>\n",
       "      <td>...</td>\n",
       "      <td>...</td>\n",
       "      <td>...</td>\n",
       "      <td>...</td>\n",
       "    </tr>\n",
       "    <tr>\n",
       "      <th>51022</th>\n",
       "      <td>58944</td>\n",
       "      <td>445</td>\n",
       "      <td>0</td>\n",
       "      <td>0</td>\n",
       "      <td>Deny</td>\n",
       "    </tr>\n",
       "    <tr>\n",
       "      <th>6128</th>\n",
       "      <td>33733</td>\n",
       "      <td>443</td>\n",
       "      <td>7805</td>\n",
       "      <td>443</td>\n",
       "      <td>Allow</td>\n",
       "    </tr>\n",
       "    <tr>\n",
       "      <th>46494</th>\n",
       "      <td>50095</td>\n",
       "      <td>30188</td>\n",
       "      <td>0</td>\n",
       "      <td>0</td>\n",
       "      <td>Deny</td>\n",
       "    </tr>\n",
       "    <tr>\n",
       "      <th>25996</th>\n",
       "      <td>36881</td>\n",
       "      <td>443</td>\n",
       "      <td>36881</td>\n",
       "      <td>443</td>\n",
       "      <td>Allow</td>\n",
       "    </tr>\n",
       "    <tr>\n",
       "      <th>46839</th>\n",
       "      <td>57018</td>\n",
       "      <td>53</td>\n",
       "      <td>10253</td>\n",
       "      <td>53</td>\n",
       "      <td>Allow</td>\n",
       "    </tr>\n",
       "  </tbody>\n",
       "</table>\n",
       "<p>6553 rows × 5 columns</p>\n",
       "</div>"
      ],
      "text/plain": [
       "       Source Port  Destination Port  NAT Source Port  NAT Destination Port  \\\n",
       "43957        51313             64147                0                     0   \n",
       "4530         49949               443             7206                   443   \n",
       "6666         64070                53            27144                    53   \n",
       "25400        61279               445                0                     0   \n",
       "36054        51983               443            27301                   443   \n",
       "...            ...               ...              ...                   ...   \n",
       "51022        58944               445                0                     0   \n",
       "6128         33733               443             7805                   443   \n",
       "46494        50095             30188                0                     0   \n",
       "25996        36881               443            36881                   443   \n",
       "46839        57018                53            10253                    53   \n",
       "\n",
       "      target  \n",
       "43957   Deny  \n",
       "4530   Allow  \n",
       "6666   Allow  \n",
       "25400   Deny  \n",
       "36054  Allow  \n",
       "...      ...  \n",
       "51022   Deny  \n",
       "6128   Allow  \n",
       "46494   Deny  \n",
       "25996  Allow  \n",
       "46839  Allow  \n",
       "\n",
       "[6553 rows x 5 columns]"
      ]
     },
     "execution_count": 28,
     "metadata": {},
     "output_type": "execute_result"
    }
   ],
   "source": [
    "from mlxtend.frequent_patterns import apriori, association_rules\n",
    "\n",
    "reduced_df = df[['Source Port', 'Destination Port', 'NAT Source Port', 'NAT Destination Port', 'target']].copy(deep=True)\n",
    "\n",
    "reduced_df.sample(frac=0.1, random_state=42)"
   ]
  },
  {
   "cell_type": "markdown",
   "metadata": {},
   "source": [
    "We are going to treat the ports as categorical data, and then use the apriori algorithm to find the association rules between this items, along with finding those rules that end with Deny or Allow. Let's use the Pandas get_dummies function to convert our matrix to a spare matrix."
   ]
  },
  {
   "cell_type": "code",
   "execution_count": 29,
   "metadata": {},
   "outputs": [
    {
     "data": {
      "text/html": [
       "<div>\n",
       "<style scoped>\n",
       "    .dataframe tbody tr th:only-of-type {\n",
       "        vertical-align: middle;\n",
       "    }\n",
       "\n",
       "    .dataframe tbody tr th {\n",
       "        vertical-align: top;\n",
       "    }\n",
       "\n",
       "    .dataframe thead th {\n",
       "        text-align: right;\n",
       "    }\n",
       "</style>\n",
       "<table border=\"1\" class=\"dataframe\">\n",
       "  <thead>\n",
       "    <tr style=\"text-align: right;\">\n",
       "      <th></th>\n",
       "      <th>Source Port_0</th>\n",
       "      <th>Source Port_5</th>\n",
       "      <th>Source Port_20</th>\n",
       "      <th>Source Port_22</th>\n",
       "      <th>Source Port_25</th>\n",
       "      <th>Source Port_50</th>\n",
       "      <th>Source Port_67</th>\n",
       "      <th>Source Port_68</th>\n",
       "      <th>Source Port_80</th>\n",
       "      <th>Source Port_123</th>\n",
       "      <th>...</th>\n",
       "      <th>NAT Destination Port_65100</th>\n",
       "      <th>NAT Destination Port_65128</th>\n",
       "      <th>NAT Destination Port_65253</th>\n",
       "      <th>NAT Destination Port_65264</th>\n",
       "      <th>NAT Destination Port_65387</th>\n",
       "      <th>NAT Destination Port_65427</th>\n",
       "      <th>NAT Destination Port_65534</th>\n",
       "      <th>NAT Destination Port_65535</th>\n",
       "      <th>target_Allow</th>\n",
       "      <th>target_Deny</th>\n",
       "    </tr>\n",
       "  </thead>\n",
       "  <tbody>\n",
       "    <tr>\n",
       "      <th>43957</th>\n",
       "      <td>0</td>\n",
       "      <td>0</td>\n",
       "      <td>0</td>\n",
       "      <td>0</td>\n",
       "      <td>0</td>\n",
       "      <td>0</td>\n",
       "      <td>0</td>\n",
       "      <td>0</td>\n",
       "      <td>0</td>\n",
       "      <td>0</td>\n",
       "      <td>...</td>\n",
       "      <td>0</td>\n",
       "      <td>0</td>\n",
       "      <td>0</td>\n",
       "      <td>0</td>\n",
       "      <td>0</td>\n",
       "      <td>0</td>\n",
       "      <td>0</td>\n",
       "      <td>0</td>\n",
       "      <td>0</td>\n",
       "      <td>1</td>\n",
       "    </tr>\n",
       "    <tr>\n",
       "      <th>4530</th>\n",
       "      <td>0</td>\n",
       "      <td>0</td>\n",
       "      <td>0</td>\n",
       "      <td>0</td>\n",
       "      <td>0</td>\n",
       "      <td>0</td>\n",
       "      <td>0</td>\n",
       "      <td>0</td>\n",
       "      <td>0</td>\n",
       "      <td>0</td>\n",
       "      <td>...</td>\n",
       "      <td>0</td>\n",
       "      <td>0</td>\n",
       "      <td>0</td>\n",
       "      <td>0</td>\n",
       "      <td>0</td>\n",
       "      <td>0</td>\n",
       "      <td>0</td>\n",
       "      <td>0</td>\n",
       "      <td>1</td>\n",
       "      <td>0</td>\n",
       "    </tr>\n",
       "    <tr>\n",
       "      <th>6666</th>\n",
       "      <td>0</td>\n",
       "      <td>0</td>\n",
       "      <td>0</td>\n",
       "      <td>0</td>\n",
       "      <td>0</td>\n",
       "      <td>0</td>\n",
       "      <td>0</td>\n",
       "      <td>0</td>\n",
       "      <td>0</td>\n",
       "      <td>0</td>\n",
       "      <td>...</td>\n",
       "      <td>0</td>\n",
       "      <td>0</td>\n",
       "      <td>0</td>\n",
       "      <td>0</td>\n",
       "      <td>0</td>\n",
       "      <td>0</td>\n",
       "      <td>0</td>\n",
       "      <td>0</td>\n",
       "      <td>1</td>\n",
       "      <td>0</td>\n",
       "    </tr>\n",
       "    <tr>\n",
       "      <th>25400</th>\n",
       "      <td>0</td>\n",
       "      <td>0</td>\n",
       "      <td>0</td>\n",
       "      <td>0</td>\n",
       "      <td>0</td>\n",
       "      <td>0</td>\n",
       "      <td>0</td>\n",
       "      <td>0</td>\n",
       "      <td>0</td>\n",
       "      <td>0</td>\n",
       "      <td>...</td>\n",
       "      <td>0</td>\n",
       "      <td>0</td>\n",
       "      <td>0</td>\n",
       "      <td>0</td>\n",
       "      <td>0</td>\n",
       "      <td>0</td>\n",
       "      <td>0</td>\n",
       "      <td>0</td>\n",
       "      <td>0</td>\n",
       "      <td>1</td>\n",
       "    </tr>\n",
       "    <tr>\n",
       "      <th>36054</th>\n",
       "      <td>0</td>\n",
       "      <td>0</td>\n",
       "      <td>0</td>\n",
       "      <td>0</td>\n",
       "      <td>0</td>\n",
       "      <td>0</td>\n",
       "      <td>0</td>\n",
       "      <td>0</td>\n",
       "      <td>0</td>\n",
       "      <td>0</td>\n",
       "      <td>...</td>\n",
       "      <td>0</td>\n",
       "      <td>0</td>\n",
       "      <td>0</td>\n",
       "      <td>0</td>\n",
       "      <td>0</td>\n",
       "      <td>0</td>\n",
       "      <td>0</td>\n",
       "      <td>0</td>\n",
       "      <td>1</td>\n",
       "      <td>0</td>\n",
       "    </tr>\n",
       "    <tr>\n",
       "      <th>...</th>\n",
       "      <td>...</td>\n",
       "      <td>...</td>\n",
       "      <td>...</td>\n",
       "      <td>...</td>\n",
       "      <td>...</td>\n",
       "      <td>...</td>\n",
       "      <td>...</td>\n",
       "      <td>...</td>\n",
       "      <td>...</td>\n",
       "      <td>...</td>\n",
       "      <td>...</td>\n",
       "      <td>...</td>\n",
       "      <td>...</td>\n",
       "      <td>...</td>\n",
       "      <td>...</td>\n",
       "      <td>...</td>\n",
       "      <td>...</td>\n",
       "      <td>...</td>\n",
       "      <td>...</td>\n",
       "      <td>...</td>\n",
       "      <td>...</td>\n",
       "    </tr>\n",
       "    <tr>\n",
       "      <th>51022</th>\n",
       "      <td>0</td>\n",
       "      <td>0</td>\n",
       "      <td>0</td>\n",
       "      <td>0</td>\n",
       "      <td>0</td>\n",
       "      <td>0</td>\n",
       "      <td>0</td>\n",
       "      <td>0</td>\n",
       "      <td>0</td>\n",
       "      <td>0</td>\n",
       "      <td>...</td>\n",
       "      <td>0</td>\n",
       "      <td>0</td>\n",
       "      <td>0</td>\n",
       "      <td>0</td>\n",
       "      <td>0</td>\n",
       "      <td>0</td>\n",
       "      <td>0</td>\n",
       "      <td>0</td>\n",
       "      <td>0</td>\n",
       "      <td>1</td>\n",
       "    </tr>\n",
       "    <tr>\n",
       "      <th>6128</th>\n",
       "      <td>0</td>\n",
       "      <td>0</td>\n",
       "      <td>0</td>\n",
       "      <td>0</td>\n",
       "      <td>0</td>\n",
       "      <td>0</td>\n",
       "      <td>0</td>\n",
       "      <td>0</td>\n",
       "      <td>0</td>\n",
       "      <td>0</td>\n",
       "      <td>...</td>\n",
       "      <td>0</td>\n",
       "      <td>0</td>\n",
       "      <td>0</td>\n",
       "      <td>0</td>\n",
       "      <td>0</td>\n",
       "      <td>0</td>\n",
       "      <td>0</td>\n",
       "      <td>0</td>\n",
       "      <td>1</td>\n",
       "      <td>0</td>\n",
       "    </tr>\n",
       "    <tr>\n",
       "      <th>46494</th>\n",
       "      <td>0</td>\n",
       "      <td>0</td>\n",
       "      <td>0</td>\n",
       "      <td>0</td>\n",
       "      <td>0</td>\n",
       "      <td>0</td>\n",
       "      <td>0</td>\n",
       "      <td>0</td>\n",
       "      <td>0</td>\n",
       "      <td>0</td>\n",
       "      <td>...</td>\n",
       "      <td>0</td>\n",
       "      <td>0</td>\n",
       "      <td>0</td>\n",
       "      <td>0</td>\n",
       "      <td>0</td>\n",
       "      <td>0</td>\n",
       "      <td>0</td>\n",
       "      <td>0</td>\n",
       "      <td>0</td>\n",
       "      <td>1</td>\n",
       "    </tr>\n",
       "    <tr>\n",
       "      <th>25996</th>\n",
       "      <td>0</td>\n",
       "      <td>0</td>\n",
       "      <td>0</td>\n",
       "      <td>0</td>\n",
       "      <td>0</td>\n",
       "      <td>0</td>\n",
       "      <td>0</td>\n",
       "      <td>0</td>\n",
       "      <td>0</td>\n",
       "      <td>0</td>\n",
       "      <td>...</td>\n",
       "      <td>0</td>\n",
       "      <td>0</td>\n",
       "      <td>0</td>\n",
       "      <td>0</td>\n",
       "      <td>0</td>\n",
       "      <td>0</td>\n",
       "      <td>0</td>\n",
       "      <td>0</td>\n",
       "      <td>1</td>\n",
       "      <td>0</td>\n",
       "    </tr>\n",
       "    <tr>\n",
       "      <th>46839</th>\n",
       "      <td>0</td>\n",
       "      <td>0</td>\n",
       "      <td>0</td>\n",
       "      <td>0</td>\n",
       "      <td>0</td>\n",
       "      <td>0</td>\n",
       "      <td>0</td>\n",
       "      <td>0</td>\n",
       "      <td>0</td>\n",
       "      <td>0</td>\n",
       "      <td>...</td>\n",
       "      <td>0</td>\n",
       "      <td>0</td>\n",
       "      <td>0</td>\n",
       "      <td>0</td>\n",
       "      <td>0</td>\n",
       "      <td>0</td>\n",
       "      <td>0</td>\n",
       "      <td>0</td>\n",
       "      <td>1</td>\n",
       "      <td>0</td>\n",
       "    </tr>\n",
       "  </tbody>\n",
       "</table>\n",
       "<p>6553 rows × 57684 columns</p>\n",
       "</div>"
      ],
      "text/plain": [
       "       Source Port_0  Source Port_5  Source Port_20  Source Port_22  \\\n",
       "43957              0              0               0               0   \n",
       "4530               0              0               0               0   \n",
       "6666               0              0               0               0   \n",
       "25400              0              0               0               0   \n",
       "36054              0              0               0               0   \n",
       "...              ...            ...             ...             ...   \n",
       "51022              0              0               0               0   \n",
       "6128               0              0               0               0   \n",
       "46494              0              0               0               0   \n",
       "25996              0              0               0               0   \n",
       "46839              0              0               0               0   \n",
       "\n",
       "       Source Port_25  Source Port_50  Source Port_67  Source Port_68  \\\n",
       "43957               0               0               0               0   \n",
       "4530                0               0               0               0   \n",
       "6666                0               0               0               0   \n",
       "25400               0               0               0               0   \n",
       "36054               0               0               0               0   \n",
       "...               ...             ...             ...             ...   \n",
       "51022               0               0               0               0   \n",
       "6128                0               0               0               0   \n",
       "46494               0               0               0               0   \n",
       "25996               0               0               0               0   \n",
       "46839               0               0               0               0   \n",
       "\n",
       "       Source Port_80  Source Port_123  ...  NAT Destination Port_65100  \\\n",
       "43957               0                0  ...                           0   \n",
       "4530                0                0  ...                           0   \n",
       "6666                0                0  ...                           0   \n",
       "25400               0                0  ...                           0   \n",
       "36054               0                0  ...                           0   \n",
       "...               ...              ...  ...                         ...   \n",
       "51022               0                0  ...                           0   \n",
       "6128                0                0  ...                           0   \n",
       "46494               0                0  ...                           0   \n",
       "25996               0                0  ...                           0   \n",
       "46839               0                0  ...                           0   \n",
       "\n",
       "       NAT Destination Port_65128  NAT Destination Port_65253  \\\n",
       "43957                           0                           0   \n",
       "4530                            0                           0   \n",
       "6666                            0                           0   \n",
       "25400                           0                           0   \n",
       "36054                           0                           0   \n",
       "...                           ...                         ...   \n",
       "51022                           0                           0   \n",
       "6128                            0                           0   \n",
       "46494                           0                           0   \n",
       "25996                           0                           0   \n",
       "46839                           0                           0   \n",
       "\n",
       "       NAT Destination Port_65264  NAT Destination Port_65387  \\\n",
       "43957                           0                           0   \n",
       "4530                            0                           0   \n",
       "6666                            0                           0   \n",
       "25400                           0                           0   \n",
       "36054                           0                           0   \n",
       "...                           ...                         ...   \n",
       "51022                           0                           0   \n",
       "6128                            0                           0   \n",
       "46494                           0                           0   \n",
       "25996                           0                           0   \n",
       "46839                           0                           0   \n",
       "\n",
       "       NAT Destination Port_65427  NAT Destination Port_65534  \\\n",
       "43957                           0                           0   \n",
       "4530                            0                           0   \n",
       "6666                            0                           0   \n",
       "25400                           0                           0   \n",
       "36054                           0                           0   \n",
       "...                           ...                         ...   \n",
       "51022                           0                           0   \n",
       "6128                            0                           0   \n",
       "46494                           0                           0   \n",
       "25996                           0                           0   \n",
       "46839                           0                           0   \n",
       "\n",
       "       NAT Destination Port_65535  target_Allow  target_Deny  \n",
       "43957                           0             0            1  \n",
       "4530                            0             1            0  \n",
       "6666                            0             1            0  \n",
       "25400                           0             0            1  \n",
       "36054                           0             1            0  \n",
       "...                           ...           ...          ...  \n",
       "51022                           0             0            1  \n",
       "6128                            0             1            0  \n",
       "46494                           0             0            1  \n",
       "25996                           0             1            0  \n",
       "46839                           0             1            0  \n",
       "\n",
       "[6553 rows x 57684 columns]"
      ]
     },
     "execution_count": 29,
     "metadata": {},
     "output_type": "execute_result"
    }
   ],
   "source": [
    "reduced_df = pd.get_dummies(reduced_df, columns=reduced_df.columns)\n",
    "reduced_df.sample(frac=0.1, random_state=42)"
   ]
  },
  {
   "cell_type": "markdown",
   "metadata": {},
   "source": [
    "Supply discussion on lift, support, confdience"
   ]
  },
  {
   "cell_type": "code",
   "execution_count": 31,
   "metadata": {},
   "outputs": [
    {
     "data": {
      "text/html": [
       "<div>\n",
       "<style scoped>\n",
       "    .dataframe tbody tr th:only-of-type {\n",
       "        vertical-align: middle;\n",
       "    }\n",
       "\n",
       "    .dataframe tbody tr th {\n",
       "        vertical-align: top;\n",
       "    }\n",
       "\n",
       "    .dataframe thead th {\n",
       "        text-align: right;\n",
       "    }\n",
       "</style>\n",
       "<table border=\"1\" class=\"dataframe\">\n",
       "  <thead>\n",
       "    <tr style=\"text-align: right;\">\n",
       "      <th></th>\n",
       "      <th>antecedents</th>\n",
       "      <th>consequents</th>\n",
       "      <th>antecedent support</th>\n",
       "      <th>consequent support</th>\n",
       "      <th>support</th>\n",
       "      <th>confidence</th>\n",
       "      <th>lift</th>\n",
       "      <th>leverage</th>\n",
       "      <th>conviction</th>\n",
       "    </tr>\n",
       "  </thead>\n",
       "  <tbody>\n",
       "    <tr>\n",
       "      <th>4</th>\n",
       "      <td>(NAT Destination Port_80)</td>\n",
       "      <td>(Destination Port_80)</td>\n",
       "      <td>0.061466</td>\n",
       "      <td>0.061573</td>\n",
       "      <td>0.061466</td>\n",
       "      <td>1.000000</td>\n",
       "      <td>16.240892</td>\n",
       "      <td>0.057682</td>\n",
       "      <td>inf</td>\n",
       "    </tr>\n",
       "    <tr>\n",
       "      <th>5</th>\n",
       "      <td>(Destination Port_80)</td>\n",
       "      <td>(NAT Destination Port_80)</td>\n",
       "      <td>0.061573</td>\n",
       "      <td>0.061466</td>\n",
       "      <td>0.061466</td>\n",
       "      <td>0.998265</td>\n",
       "      <td>16.240892</td>\n",
       "      <td>0.057682</td>\n",
       "      <td>540.997724</td>\n",
       "    </tr>\n",
       "    <tr>\n",
       "      <th>8</th>\n",
       "      <td>(NAT Destination Port_443)</td>\n",
       "      <td>(Destination Port_443)</td>\n",
       "      <td>0.178203</td>\n",
       "      <td>0.178295</td>\n",
       "      <td>0.178203</td>\n",
       "      <td>1.000000</td>\n",
       "      <td>5.608696</td>\n",
       "      <td>0.146430</td>\n",
       "      <td>inf</td>\n",
       "    </tr>\n",
       "    <tr>\n",
       "      <th>9</th>\n",
       "      <td>(Destination Port_443)</td>\n",
       "      <td>(NAT Destination Port_443)</td>\n",
       "      <td>0.178295</td>\n",
       "      <td>0.178203</td>\n",
       "      <td>0.178203</td>\n",
       "      <td>0.999486</td>\n",
       "      <td>5.608696</td>\n",
       "      <td>0.146430</td>\n",
       "      <td>1600.312661</td>\n",
       "    </tr>\n",
       "    <tr>\n",
       "      <th>0</th>\n",
       "      <td>(Destination Port_53)</td>\n",
       "      <td>(NAT Destination Port_53)</td>\n",
       "      <td>0.235213</td>\n",
       "      <td>0.230330</td>\n",
       "      <td>0.230330</td>\n",
       "      <td>0.979240</td>\n",
       "      <td>4.251460</td>\n",
       "      <td>0.176153</td>\n",
       "      <td>37.074031</td>\n",
       "    </tr>\n",
       "    <tr>\n",
       "      <th>1</th>\n",
       "      <td>(NAT Destination Port_53)</td>\n",
       "      <td>(Destination Port_53)</td>\n",
       "      <td>0.230330</td>\n",
       "      <td>0.235213</td>\n",
       "      <td>0.230330</td>\n",
       "      <td>1.000000</td>\n",
       "      <td>4.251460</td>\n",
       "      <td>0.176153</td>\n",
       "      <td>inf</td>\n",
       "    </tr>\n",
       "    <tr>\n",
       "      <th>6</th>\n",
       "      <td>(target_Allow)</td>\n",
       "      <td>(Destination Port_80)</td>\n",
       "      <td>0.574376</td>\n",
       "      <td>0.061573</td>\n",
       "      <td>0.061466</td>\n",
       "      <td>0.107014</td>\n",
       "      <td>1.738000</td>\n",
       "      <td>0.026100</td>\n",
       "      <td>1.050886</td>\n",
       "    </tr>\n",
       "    <tr>\n",
       "      <th>7</th>\n",
       "      <td>(Destination Port_80)</td>\n",
       "      <td>(target_Allow)</td>\n",
       "      <td>0.061573</td>\n",
       "      <td>0.574376</td>\n",
       "      <td>0.061466</td>\n",
       "      <td>0.998265</td>\n",
       "      <td>1.738000</td>\n",
       "      <td>0.026100</td>\n",
       "      <td>245.341905</td>\n",
       "    </tr>\n",
       "    <tr>\n",
       "      <th>3</th>\n",
       "      <td>(Destination Port_53)</td>\n",
       "      <td>(target_Allow)</td>\n",
       "      <td>0.235213</td>\n",
       "      <td>0.574376</td>\n",
       "      <td>0.234771</td>\n",
       "      <td>0.998119</td>\n",
       "      <td>1.737745</td>\n",
       "      <td>0.099670</td>\n",
       "      <td>226.226559</td>\n",
       "    </tr>\n",
       "    <tr>\n",
       "      <th>2</th>\n",
       "      <td>(target_Allow)</td>\n",
       "      <td>(Destination Port_53)</td>\n",
       "      <td>0.574376</td>\n",
       "      <td>0.235213</td>\n",
       "      <td>0.234771</td>\n",
       "      <td>0.408741</td>\n",
       "      <td>1.737745</td>\n",
       "      <td>0.099670</td>\n",
       "      <td>1.293488</td>\n",
       "    </tr>\n",
       "  </tbody>\n",
       "</table>\n",
       "</div>"
      ],
      "text/plain": [
       "                  antecedents                 consequents  antecedent support  \\\n",
       "4   (NAT Destination Port_80)       (Destination Port_80)            0.061466   \n",
       "5       (Destination Port_80)   (NAT Destination Port_80)            0.061573   \n",
       "8  (NAT Destination Port_443)      (Destination Port_443)            0.178203   \n",
       "9      (Destination Port_443)  (NAT Destination Port_443)            0.178295   \n",
       "0       (Destination Port_53)   (NAT Destination Port_53)            0.235213   \n",
       "1   (NAT Destination Port_53)       (Destination Port_53)            0.230330   \n",
       "6              (target_Allow)       (Destination Port_80)            0.574376   \n",
       "7       (Destination Port_80)              (target_Allow)            0.061573   \n",
       "3       (Destination Port_53)              (target_Allow)            0.235213   \n",
       "2              (target_Allow)       (Destination Port_53)            0.574376   \n",
       "\n",
       "   consequent support   support  confidence       lift  leverage   conviction  \n",
       "4            0.061573  0.061466    1.000000  16.240892  0.057682          inf  \n",
       "5            0.061466  0.061466    0.998265  16.240892  0.057682   540.997724  \n",
       "8            0.178295  0.178203    1.000000   5.608696  0.146430          inf  \n",
       "9            0.178203  0.178203    0.999486   5.608696  0.146430  1600.312661  \n",
       "0            0.230330  0.230330    0.979240   4.251460  0.176153    37.074031  \n",
       "1            0.235213  0.230330    1.000000   4.251460  0.176153          inf  \n",
       "6            0.061573  0.061466    0.107014   1.738000  0.026100     1.050886  \n",
       "7            0.574376  0.061466    0.998265   1.738000  0.026100   245.341905  \n",
       "3            0.574376  0.234771    0.998119   1.737745  0.099670   226.226559  \n",
       "2            0.235213  0.234771    0.408741   1.737745  0.099670     1.293488  "
      ]
     },
     "execution_count": 31,
     "metadata": {},
     "output_type": "execute_result"
    }
   ],
   "source": [
    "frequent_itemsets = apriori(reduced_df, min_support=0.05, use_colnames=True)\n",
    "rules = association_rules(frequent_itemsets, metric='lift', min_threshold=1)\n",
    "rules.head(10).sort_values('lift', ascending=False)"
   ]
  },
  {
   "cell_type": "code",
   "execution_count": 32,
   "metadata": {},
   "outputs": [
    {
     "data": {
      "text/html": [
       "<div>\n",
       "<style scoped>\n",
       "    .dataframe tbody tr th:only-of-type {\n",
       "        vertical-align: middle;\n",
       "    }\n",
       "\n",
       "    .dataframe tbody tr th {\n",
       "        vertical-align: top;\n",
       "    }\n",
       "\n",
       "    .dataframe thead th {\n",
       "        text-align: right;\n",
       "    }\n",
       "</style>\n",
       "<table border=\"1\" class=\"dataframe\">\n",
       "  <thead>\n",
       "    <tr style=\"text-align: right;\">\n",
       "      <th></th>\n",
       "      <th>antecedents</th>\n",
       "      <th>consequents</th>\n",
       "      <th>antecedent support</th>\n",
       "      <th>consequent support</th>\n",
       "      <th>support</th>\n",
       "      <th>confidence</th>\n",
       "      <th>lift</th>\n",
       "      <th>leverage</th>\n",
       "      <th>conviction</th>\n",
       "    </tr>\n",
       "  </thead>\n",
       "  <tbody>\n",
       "    <tr>\n",
       "      <th>25</th>\n",
       "      <td>(NAT Destination Port_53)</td>\n",
       "      <td>(target_Allow)</td>\n",
       "      <td>0.230330</td>\n",
       "      <td>0.574376</td>\n",
       "      <td>0.230330</td>\n",
       "      <td>1.000000</td>\n",
       "      <td>1.741020</td>\n",
       "      <td>0.098034</td>\n",
       "      <td>inf</td>\n",
       "    </tr>\n",
       "    <tr>\n",
       "      <th>27</th>\n",
       "      <td>(NAT Destination Port_80)</td>\n",
       "      <td>(target_Allow)</td>\n",
       "      <td>0.061466</td>\n",
       "      <td>0.574376</td>\n",
       "      <td>0.061466</td>\n",
       "      <td>1.000000</td>\n",
       "      <td>1.741020</td>\n",
       "      <td>0.026161</td>\n",
       "      <td>inf</td>\n",
       "    </tr>\n",
       "    <tr>\n",
       "      <th>32</th>\n",
       "      <td>(Destination Port_53, NAT Destination Port_53)</td>\n",
       "      <td>(target_Allow)</td>\n",
       "      <td>0.230330</td>\n",
       "      <td>0.574376</td>\n",
       "      <td>0.230330</td>\n",
       "      <td>1.000000</td>\n",
       "      <td>1.741020</td>\n",
       "      <td>0.098034</td>\n",
       "      <td>inf</td>\n",
       "    </tr>\n",
       "    <tr>\n",
       "      <th>38</th>\n",
       "      <td>(NAT Destination Port_80, Destination Port_80)</td>\n",
       "      <td>(target_Allow)</td>\n",
       "      <td>0.061466</td>\n",
       "      <td>0.574376</td>\n",
       "      <td>0.061466</td>\n",
       "      <td>1.000000</td>\n",
       "      <td>1.741020</td>\n",
       "      <td>0.026161</td>\n",
       "      <td>inf</td>\n",
       "    </tr>\n",
       "    <tr>\n",
       "      <th>28</th>\n",
       "      <td>(NAT Destination Port_443)</td>\n",
       "      <td>(target_Allow)</td>\n",
       "      <td>0.178203</td>\n",
       "      <td>0.574376</td>\n",
       "      <td>0.178188</td>\n",
       "      <td>0.999914</td>\n",
       "      <td>1.740871</td>\n",
       "      <td>0.075832</td>\n",
       "      <td>4970.438503</td>\n",
       "    </tr>\n",
       "    <tr>\n",
       "      <th>43</th>\n",
       "      <td>(NAT Destination Port_443, Destination Port_443)</td>\n",
       "      <td>(target_Allow)</td>\n",
       "      <td>0.178203</td>\n",
       "      <td>0.574376</td>\n",
       "      <td>0.178188</td>\n",
       "      <td>0.999914</td>\n",
       "      <td>1.740871</td>\n",
       "      <td>0.075832</td>\n",
       "      <td>4970.438503</td>\n",
       "    </tr>\n",
       "    <tr>\n",
       "      <th>11</th>\n",
       "      <td>(Destination Port_443)</td>\n",
       "      <td>(target_Allow)</td>\n",
       "      <td>0.178295</td>\n",
       "      <td>0.574376</td>\n",
       "      <td>0.178188</td>\n",
       "      <td>0.999401</td>\n",
       "      <td>1.739977</td>\n",
       "      <td>0.075780</td>\n",
       "      <td>710.427464</td>\n",
       "    </tr>\n",
       "    <tr>\n",
       "      <th>7</th>\n",
       "      <td>(Destination Port_80)</td>\n",
       "      <td>(target_Allow)</td>\n",
       "      <td>0.061573</td>\n",
       "      <td>0.574376</td>\n",
       "      <td>0.061466</td>\n",
       "      <td>0.998265</td>\n",
       "      <td>1.738000</td>\n",
       "      <td>0.026100</td>\n",
       "      <td>245.341905</td>\n",
       "    </tr>\n",
       "    <tr>\n",
       "      <th>3</th>\n",
       "      <td>(Destination Port_53)</td>\n",
       "      <td>(target_Allow)</td>\n",
       "      <td>0.235213</td>\n",
       "      <td>0.574376</td>\n",
       "      <td>0.234771</td>\n",
       "      <td>0.998119</td>\n",
       "      <td>1.737745</td>\n",
       "      <td>0.099670</td>\n",
       "      <td>226.226559</td>\n",
       "    </tr>\n",
       "  </tbody>\n",
       "</table>\n",
       "</div>"
      ],
      "text/plain": [
       "                                         antecedents     consequents  \\\n",
       "25                         (NAT Destination Port_53)  (target_Allow)   \n",
       "27                         (NAT Destination Port_80)  (target_Allow)   \n",
       "32    (Destination Port_53, NAT Destination Port_53)  (target_Allow)   \n",
       "38    (NAT Destination Port_80, Destination Port_80)  (target_Allow)   \n",
       "28                        (NAT Destination Port_443)  (target_Allow)   \n",
       "43  (NAT Destination Port_443, Destination Port_443)  (target_Allow)   \n",
       "11                            (Destination Port_443)  (target_Allow)   \n",
       "7                              (Destination Port_80)  (target_Allow)   \n",
       "3                              (Destination Port_53)  (target_Allow)   \n",
       "\n",
       "    antecedent support  consequent support   support  confidence      lift  \\\n",
       "25            0.230330            0.574376  0.230330    1.000000  1.741020   \n",
       "27            0.061466            0.574376  0.061466    1.000000  1.741020   \n",
       "32            0.230330            0.574376  0.230330    1.000000  1.741020   \n",
       "38            0.061466            0.574376  0.061466    1.000000  1.741020   \n",
       "28            0.178203            0.574376  0.178188    0.999914  1.740871   \n",
       "43            0.178203            0.574376  0.178188    0.999914  1.740871   \n",
       "11            0.178295            0.574376  0.178188    0.999401  1.739977   \n",
       "7             0.061573            0.574376  0.061466    0.998265  1.738000   \n",
       "3             0.235213            0.574376  0.234771    0.998119  1.737745   \n",
       "\n",
       "    leverage   conviction  \n",
       "25  0.098034          inf  \n",
       "27  0.026161          inf  \n",
       "32  0.098034          inf  \n",
       "38  0.026161          inf  \n",
       "28  0.075832  4970.438503  \n",
       "43  0.075832  4970.438503  \n",
       "11  0.075780   710.427464  \n",
       "7   0.026100   245.341905  \n",
       "3   0.099670   226.226559  "
      ]
     },
     "execution_count": 32,
     "metadata": {},
     "output_type": "execute_result"
    }
   ],
   "source": [
    "target = '{\\'target_Allow\\'}'\n",
    "\n",
    "results_filter = rules[rules['consequents'].astype(str).str.contains(target, na=False)].sort_values(by='confidence', ascending=False)\n",
    "results_filter.head(10)"
   ]
  },
  {
   "cell_type": "code",
   "execution_count": 33,
   "metadata": {},
   "outputs": [
    {
     "data": {
      "text/html": [
       "<div>\n",
       "<style scoped>\n",
       "    .dataframe tbody tr th:only-of-type {\n",
       "        vertical-align: middle;\n",
       "    }\n",
       "\n",
       "    .dataframe tbody tr th {\n",
       "        vertical-align: top;\n",
       "    }\n",
       "\n",
       "    .dataframe thead th {\n",
       "        text-align: right;\n",
       "    }\n",
       "</style>\n",
       "<table border=\"1\" class=\"dataframe\">\n",
       "  <thead>\n",
       "    <tr style=\"text-align: right;\">\n",
       "      <th></th>\n",
       "      <th>antecedents</th>\n",
       "      <th>consequents</th>\n",
       "      <th>antecedent support</th>\n",
       "      <th>consequent support</th>\n",
       "      <th>support</th>\n",
       "      <th>confidence</th>\n",
       "      <th>lift</th>\n",
       "      <th>leverage</th>\n",
       "      <th>conviction</th>\n",
       "    </tr>\n",
       "  </thead>\n",
       "  <tbody>\n",
       "    <tr>\n",
       "      <th>16</th>\n",
       "      <td>(Destination Port_445)</td>\n",
       "      <td>(target_Deny)</td>\n",
       "      <td>0.196713</td>\n",
       "      <td>0.425624</td>\n",
       "      <td>0.196713</td>\n",
       "      <td>1.000000</td>\n",
       "      <td>2.349491</td>\n",
       "      <td>0.112987</td>\n",
       "      <td>inf</td>\n",
       "    </tr>\n",
       "    <tr>\n",
       "      <th>54</th>\n",
       "      <td>(Destination Port_445, NAT Source Port_0)</td>\n",
       "      <td>(target_Deny)</td>\n",
       "      <td>0.196713</td>\n",
       "      <td>0.425624</td>\n",
       "      <td>0.196713</td>\n",
       "      <td>1.000000</td>\n",
       "      <td>2.349491</td>\n",
       "      <td>0.112987</td>\n",
       "      <td>inf</td>\n",
       "    </tr>\n",
       "    <tr>\n",
       "      <th>61</th>\n",
       "      <td>(Destination Port_445, NAT Destination Port_0)</td>\n",
       "      <td>(target_Deny)</td>\n",
       "      <td>0.196713</td>\n",
       "      <td>0.425624</td>\n",
       "      <td>0.196713</td>\n",
       "      <td>1.000000</td>\n",
       "      <td>2.349491</td>\n",
       "      <td>0.112987</td>\n",
       "      <td>inf</td>\n",
       "    </tr>\n",
       "    <tr>\n",
       "      <th>73</th>\n",
       "      <td>(Destination Port_445, NAT Source Port_0, NAT ...</td>\n",
       "      <td>(target_Deny)</td>\n",
       "      <td>0.196713</td>\n",
       "      <td>0.425624</td>\n",
       "      <td>0.196713</td>\n",
       "      <td>1.000000</td>\n",
       "      <td>2.349491</td>\n",
       "      <td>0.112987</td>\n",
       "      <td>inf</td>\n",
       "    </tr>\n",
       "    <tr>\n",
       "      <th>21</th>\n",
       "      <td>(NAT Source Port_0)</td>\n",
       "      <td>(target_Deny)</td>\n",
       "      <td>0.433864</td>\n",
       "      <td>0.425624</td>\n",
       "      <td>0.425258</td>\n",
       "      <td>0.980163</td>\n",
       "      <td>2.302885</td>\n",
       "      <td>0.240595</td>\n",
       "      <td>28.955062</td>\n",
       "    </tr>\n",
       "    <tr>\n",
       "      <th>23</th>\n",
       "      <td>(NAT Destination Port_0)</td>\n",
       "      <td>(target_Deny)</td>\n",
       "      <td>0.433864</td>\n",
       "      <td>0.425624</td>\n",
       "      <td>0.425258</td>\n",
       "      <td>0.980163</td>\n",
       "      <td>2.302885</td>\n",
       "      <td>0.240595</td>\n",
       "      <td>28.955062</td>\n",
       "    </tr>\n",
       "    <tr>\n",
       "      <th>68</th>\n",
       "      <td>(NAT Destination Port_0, NAT Source Port_0)</td>\n",
       "      <td>(target_Deny)</td>\n",
       "      <td>0.433864</td>\n",
       "      <td>0.425624</td>\n",
       "      <td>0.425258</td>\n",
       "      <td>0.980163</td>\n",
       "      <td>2.302885</td>\n",
       "      <td>0.240595</td>\n",
       "      <td>28.955062</td>\n",
       "    </tr>\n",
       "  </tbody>\n",
       "</table>\n",
       "</div>"
      ],
      "text/plain": [
       "                                          antecedents    consequents  \\\n",
       "16                             (Destination Port_445)  (target_Deny)   \n",
       "54          (Destination Port_445, NAT Source Port_0)  (target_Deny)   \n",
       "61     (Destination Port_445, NAT Destination Port_0)  (target_Deny)   \n",
       "73  (Destination Port_445, NAT Source Port_0, NAT ...  (target_Deny)   \n",
       "21                                (NAT Source Port_0)  (target_Deny)   \n",
       "23                           (NAT Destination Port_0)  (target_Deny)   \n",
       "68        (NAT Destination Port_0, NAT Source Port_0)  (target_Deny)   \n",
       "\n",
       "    antecedent support  consequent support   support  confidence      lift  \\\n",
       "16            0.196713            0.425624  0.196713    1.000000  2.349491   \n",
       "54            0.196713            0.425624  0.196713    1.000000  2.349491   \n",
       "61            0.196713            0.425624  0.196713    1.000000  2.349491   \n",
       "73            0.196713            0.425624  0.196713    1.000000  2.349491   \n",
       "21            0.433864            0.425624  0.425258    0.980163  2.302885   \n",
       "23            0.433864            0.425624  0.425258    0.980163  2.302885   \n",
       "68            0.433864            0.425624  0.425258    0.980163  2.302885   \n",
       "\n",
       "    leverage  conviction  \n",
       "16  0.112987         inf  \n",
       "54  0.112987         inf  \n",
       "61  0.112987         inf  \n",
       "73  0.112987         inf  \n",
       "21  0.240595   28.955062  \n",
       "23  0.240595   28.955062  \n",
       "68  0.240595   28.955062  "
      ]
     },
     "execution_count": 33,
     "metadata": {},
     "output_type": "execute_result"
    }
   ],
   "source": [
    "target = '{\\'target_Deny\\'}'\n",
    "\n",
    "results_filter = rules[rules['consequents'].astype(str).str.contains(target, na=False)].sort_values(by='confidence', ascending=False)\n",
    "results_filter.head(10)"
   ]
  },
  {
   "cell_type": "markdown",
   "metadata": {},
   "source": [
    "Let's remove data related to the following dervied rules.\n",
    "\n",
    "Allow Case\n",
    "We can see that if the NAT Destination Port is either 53 or 80, it's always going to be Allow. You can almost make the same argument for the Destination Port. It's confidence is near 1. We do have some data that shows it could be Deny, but let's make the assumption that it's always Allow. This is something we can discuss with our stakeholders.\n",
    "\n",
    "Let's remove those rows were either "
   ]
  },
  {
   "cell_type": "code",
   "execution_count": 12,
   "metadata": {},
   "outputs": [
    {
     "name": "stdout",
     "output_type": "stream",
     "text": [
      "<class 'pandas.core.frame.DataFrame'>\n",
      "Int64Index: 46410 entries, 1 to 65531\n",
      "Data columns (total 12 columns):\n",
      " #   Column                Non-Null Count  Dtype \n",
      "---  ------                --------------  ----- \n",
      " 0   Source Port           46410 non-null  int64 \n",
      " 1   Destination Port      46410 non-null  int64 \n",
      " 2   NAT Source Port       46410 non-null  int64 \n",
      " 3   NAT Destination Port  46410 non-null  int64 \n",
      " 4   Bytes                 46410 non-null  int64 \n",
      " 5   Bytes Sent            46410 non-null  int64 \n",
      " 6   Bytes Received        46410 non-null  int64 \n",
      " 7   Packets               46410 non-null  int64 \n",
      " 8   Elapsed Time (sec)    46410 non-null  int64 \n",
      " 9   pkts_sent             46410 non-null  int64 \n",
      " 10  pkts_received         46410 non-null  int64 \n",
      " 11  target                46410 non-null  object\n",
      "dtypes: int64(11), object(1)\n",
      "memory usage: 4.6+ MB\n"
     ]
    }
   ],
   "source": [
    "reduced_df = df.copy(deep=True)\n",
    "\n",
    "reduced_df.drop(reduced_df[reduced_df['NAT Destination Port'] == 53].index, inplace=True)\n",
    "reduced_df.drop(reduced_df[reduced_df['NAT Destination Port'] == 80].index, inplace=True)\n",
    "reduced_df.info()"
   ]
  },
  {
   "cell_type": "markdown",
   "metadata": {},
   "source": [
    "Deny Case\n",
    "\n",
    "We see above that if the Destination Port is 445, it's always deny. So we can remove that data. We do also see that if the NAT Source or NAT Destination Port is 0, it's almost always deny. It's tempting to remove this data, but if we do it will almost all of the data for the Deny case, so we left that in."
   ]
  },
  {
   "cell_type": "code",
   "execution_count": 13,
   "metadata": {},
   "outputs": [
    {
     "name": "stdout",
     "output_type": "stream",
     "text": [
      "<class 'pandas.core.frame.DataFrame'>\n",
      "Int64Index: 33519 entries, 1 to 65526\n",
      "Data columns (total 12 columns):\n",
      " #   Column                Non-Null Count  Dtype \n",
      "---  ------                --------------  ----- \n",
      " 0   Source Port           33519 non-null  int64 \n",
      " 1   Destination Port      33519 non-null  int64 \n",
      " 2   NAT Source Port       33519 non-null  int64 \n",
      " 3   NAT Destination Port  33519 non-null  int64 \n",
      " 4   Bytes                 33519 non-null  int64 \n",
      " 5   Bytes Sent            33519 non-null  int64 \n",
      " 6   Bytes Received        33519 non-null  int64 \n",
      " 7   Packets               33519 non-null  int64 \n",
      " 8   Elapsed Time (sec)    33519 non-null  int64 \n",
      " 9   pkts_sent             33519 non-null  int64 \n",
      " 10  pkts_received         33519 non-null  int64 \n",
      " 11  target                33519 non-null  object\n",
      "dtypes: int64(11), object(1)\n",
      "memory usage: 3.3+ MB\n"
     ]
    }
   ],
   "source": [
    "reduced_df.drop(reduced_df[reduced_df['Destination Port'] == 445].index, inplace=True)\n",
    "reduced_df.info()"
   ]
  },
  {
   "cell_type": "code",
   "execution_count": 14,
   "metadata": {},
   "outputs": [
    {
     "data": {
      "text/plain": [
       "Allow    37640\n",
       "Deny     27892\n",
       "Name: target, dtype: int64"
      ]
     },
     "execution_count": 14,
     "metadata": {},
     "output_type": "execute_result"
    }
   ],
   "source": [
    "df['target'].value_counts()"
   ]
  },
  {
   "cell_type": "markdown",
   "metadata": {},
   "source": [
    "Above we see we have a almost balanced set, good enough.\n",
    "\n",
    "Below we train a simple SVC mode on the reduced data set, using the best params found earlier using grid search. As can be seen, we acheive nearly the same results as before. So we could either go with a simpler engineering approach, and train one model on all the data. Or pull out data that follow certain rules, and train on less data."
   ]
  },
  {
   "cell_type": "code",
   "execution_count": 17,
   "metadata": {},
   "outputs": [
    {
     "name": "stdout",
     "output_type": "stream",
     "text": [
      "0.9974567650050865\n",
      "0.9965375634109026\n",
      "0.9990313206328705\n"
     ]
    }
   ],
   "source": [
    "from sklearn.svm import SVC\n",
    "\n",
    "X = df.loc[:, df.columns != 'target'].values\n",
    "y = df['target'].values\n",
    "\n",
    "X_train, X_test, y_train, y_test = train_test_split(\n",
    "    X, y, test_size=0.33, random_state=42)\n",
    "\n",
    "estimator = SVC(gamma='scale', kernel='linear', random_state=42, C=1)\n",
    "model = estimator.fit(X_train, y_train)\n",
    "\n",
    "print(model.score(X_test, y_test))\n",
    "print(recall_score(y_test, model.predict(X_test), pos_label=\"Allow\", average='binary'))\n",
    "print(precision_score(y_test, model.predict(X_test), pos_label=\"Allow\", average='binary'))"
   ]
  }
 ],
 "metadata": {
  "interpreter": {
   "hash": "1bf1873395ae5d6e5ffb7db4d3d821fcd0a30c70b1311d166bbca9826675945f"
  },
  "kernelspec": {
   "display_name": "Python 3.7.11 64-bit ('SMU': conda)",
   "name": "python3"
  },
  "language_info": {
   "codemirror_mode": {
    "name": "ipython",
    "version": 3
   },
   "file_extension": ".py",
   "mimetype": "text/x-python",
   "name": "python",
   "nbconvert_exporter": "python",
   "pygments_lexer": "ipython3",
   "version": "3.9.6"
  }
 },
 "nbformat": 4,
 "nbformat_minor": 2
}
