{
 "cells": [
  {
   "cell_type": "markdown",
   "source": [
    "# Case Study 1\r\n",
    "\r\n",
    "## Business Understanding\r\n",
    "You should always state the objective at the beginning of every case (a guideline you should follow in real life as well) and provide some initial \"Business Understanding\" statements (i.e., what is trying to be solved for and why might it be important)\r\n",
    "\r\n",
    "build a linear regression model using L1 or L2 regularization (or both) to predict the critical temperature. In addition, include in your write-up which variable carries the most importance."
   ],
   "metadata": {}
  },
  {
   "cell_type": "markdown",
   "source": [
    "## Data Evaluation and Engineering\r\n",
    "Summarize the data being used in the case using appropriate mediums (charts, graphs, tables); address questions such as: Are there missing values? Which variables are needed (which ones are not)? What assumptions or conclusions are you drawing that need to be relayed to your audience?"
   ],
   "metadata": {}
  },
  {
   "cell_type": "code",
   "execution_count": null,
   "source": [
    "import numpy as np\r\n",
    "import pandas as pd\r\n",
    "\r\n",
    "# Load Data\r\n",
    "data_train = pd.read_csv('./data/train.csv')\r\n",
    "data_materials = pd.read_csv('./data/unique_m.csv')\r\n",
    "\r\n",
    "# Drop the duplicate column 'critical_temp' in the\r\n",
    "\r\n",
    "data_train = data_train.drop(['critical_temp'], axis=1)\r\n",
    "\r\n",
    "# Merge the two frames\r\n",
    "data = pd.merge(data_train, data_materials, left_index=True, right_index=True)\r\n",
    "\r\n",
    "data.info()\r\n",
    "data.describe()"
   ],
   "outputs": [],
   "metadata": {}
  },
  {
   "cell_type": "code",
   "execution_count": null,
   "source": [
    "# Columns with missing data?\r\n",
    "print(data.columns[data.isnull().any()])"
   ],
   "outputs": [],
   "metadata": {}
  },
  {
   "cell_type": "code",
   "execution_count": null,
   "source": [
    "# Columns with a Constant value\r\n",
    "data.columns[data.nunique() <= 1]"
   ],
   "outputs": [],
   "metadata": {}
  },
  {
   "cell_type": "code",
   "execution_count": null,
   "source": [
    "# Drop columns with constant values\r\n",
    "data.drop(columns=['material', 'He', 'Ne', 'Ar', 'Kr', 'Xe', 'Pm', 'Po', 'At', 'Rn'], inplace=True)\r\n",
    "print(data.shape)"
   ],
   "outputs": [],
   "metadata": {}
  },
  {
   "cell_type": "code",
   "execution_count": null,
   "source": [
    "# Create our standard numpy stuff\r\n",
    "X = data.drop(columns=['critical_temp']).values\r\n",
    "y = data.loc[:,'critical_temp'].values"
   ],
   "outputs": [],
   "metadata": {}
  },
  {
   "cell_type": "code",
   "execution_count": null,
   "source": [
    "from sklearn.model_selection import train_test_split\r\n",
    "from sklearn.model_selection import GridSearchCV\r\n",
    "from sklearn.preprocessing import StandardScaler\r\n",
    "from sklearn.linear_model import Lasso\r\n",
    "from sklearn.pipeline import make_pipeline\r\n",
    "\r\n",
    "X_train, X_test, y_train, y_test =\\\r\n",
    "    train_test_split(X, y,\r\n",
    "    test_size=0.2,\r\n",
    "    random_state=1)\r\n",
    "\r\n",
    "pipe_svc = make_pipeline(StandardScaler(), Lasso(random_state=1))\r\n",
    "\r\n",
    "param_range = [0.001, 0.01, 0.1, 1, 10, 100, 1000]\r\n",
    "\r\n",
    "param_grid = [{'lasso__alpha': param_range}]\r\n",
    "\r\n",
    "gs = GridSearchCV(estimator=pipe_svc, param_grid=param_grid, scoring='r2', cv=5, n_jobs=-1)\r\n",
    "\r\n",
    "gs = gs.fit(X_train, y_train)\r\n",
    "\r\n",
    "print(gs.best_score_)\r\n",
    "print(gs.best_params_)"
   ],
   "outputs": [],
   "metadata": {}
  },
  {
   "cell_type": "code",
   "execution_count": null,
   "source": [
    "#print()\r\n",
    "#print(gs.best_estimator_['lasso'].coef_)\r\n",
    "idx = 0\r\n",
    "\r\n",
    "for x in gs.best_estimator_['lasso'].coef_:\r\n",
    "    print(data.columns[idx], x)\r\n",
    "    idx += 1"
   ],
   "outputs": [],
   "metadata": {}
  },
  {
   "cell_type": "code",
   "execution_count": null,
   "source": [
    "## install pandas 1.2.4\r\n",
    "## pip install pandas-profiling==2.8.0\r\n",
    "\r\n",
    "from pandas_profiling import ProfileReport\r\n",
    "\r\n",
    "profile = ProfileReport(data, title=\"Pandas Profiling Report\", minimal=True)\r\n",
    "\r\n",
    "profile.to_file(output_file=\"PandasProfile.html\")"
   ],
   "outputs": [],
   "metadata": {}
  },
  {
   "cell_type": "markdown",
   "source": [
    "## Modeling Preparations\r\n",
    "Which methods are you proposing to utilize to solve the problem?  Why is this method appropriate given the business objective? How will you determine if your approach is useful (or how will you differentiate which approach is more useful than another)?  More specifically, what evaluation metrics are most useful given that the problem is a regression one (ex., RMSE, logloss, MAE, etc.)?"
   ],
   "metadata": {}
  },
  {
   "cell_type": "markdown",
   "source": [
    "## Model Building and Evaluation\r\n",
    "In this case, your primary task is to build a linear regression model using L1 or L2 regularization (or both) to predict the critical temperature and will involve the following steps:\r\n",
    "\r\n",
    "- Specify your sampling methodology\r\n",
    "- Setup your model(s) - specifying the regularization type chosen and including the parameters utilized by the model\r\n",
    "- Analyze your model's performance - referencing your chosen evaluation metric (including supplemental visuals and analysis where appropriate)"
   ],
   "metadata": {}
  },
  {
   "cell_type": "markdown",
   "source": [
    "## Model Interpretability & Explainability\r\n",
    "Using at least one of your models above (if multiple were trained):\r\n",
    "\r\n",
    "- Which variable(s) was (were) \"\"most important\"\" and why?  How did you come to the conclusion and how should your audience interpret this?"
   ],
   "metadata": {}
  },
  {
   "cell_type": "markdown",
   "source": [
    "## Case Conclusions\r\n",
    "After all of your technical analysis and modeling; what are you proposing to your audience and why?  How should they view your results and what should they consider when moving forward?  Are there other approaches you'd recommend exploring?  This is where you \"bring it all home\" in language they understand."
   ],
   "metadata": {}
  }
 ],
 "metadata": {
  "orig_nbformat": 4,
  "language_info": {
   "name": "python",
   "version": "3.9.6",
   "mimetype": "text/x-python",
   "codemirror_mode": {
    "name": "ipython",
    "version": 3
   },
   "pygments_lexer": "ipython3",
   "nbconvert_exporter": "python",
   "file_extension": ".py"
  },
  "kernelspec": {
   "name": "python3",
   "display_name": "Python 3.9.6 64-bit ('NLP': conda)"
  },
  "interpreter": {
   "hash": "eaa798b471aa1a0109429a408b0faab53065248ef7f5a5989f90756771672ef6"
  }
 },
 "nbformat": 4,
 "nbformat_minor": 2
}