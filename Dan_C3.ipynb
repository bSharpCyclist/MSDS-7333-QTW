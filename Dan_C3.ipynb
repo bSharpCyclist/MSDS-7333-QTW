{
 "cells": [
  {
   "cell_type": "code",
   "execution_count": null,
   "source": [
    "# understand matrix structure of vectorizer\r\n",
    "from sklearn.feature_extraction.text import CountVectorizer\r\n",
    "\r\n",
    "words = ['one two three','one four five','two three six']\r\n",
    "vectorizer = CountVectorizer()\r\n",
    "\r\n",
    "vectorizer.fit(words)\r\n",
    "\r\n",
    "print(vectorizer.vocabulary_)"
   ],
   "outputs": [],
   "metadata": {}
  },
  {
   "cell_type": "code",
   "execution_count": null,
   "source": [
    "sample = vectorizer.transform([words[0]])\r\n",
    "\r\n",
    "print(sample.toarray())"
   ],
   "outputs": [],
   "metadata": {}
  },
  {
   "cell_type": "code",
   "execution_count": 1,
   "source": [
    "from os import listdir, getcwd, chdir\r\n",
    "from os.path import isfile, join, dirname, realpath\r\n",
    "import pandas as pd\r\n",
    "\r\n",
    "import email\r\n",
    "import email.parser\r\n",
    "from email.parser import Parser\r\n",
    "\r\n",
    "def get_cwd():\r\n",
    "    try:\r\n",
    "        chdir(dirname(realpath(__file__)))\r\n",
    "    except:\r\n",
    "        chdir('D:\\Projects\\MSDS-7333-QTW')\r\n",
    "\r\n",
    "    active_dir = getcwd()\r\n",
    "       \r\n",
    "    return active_dir\r\n",
    "\r\n",
    "def main():\r\n",
    "    \r\n",
    "    get_cwd()\r\n",
    "    \r\n",
    "    directories = [\r\n",
    "            'easy_ham',\r\n",
    "            'easy_ham_2',\r\n",
    "            'hard_ham',\r\n",
    "            'spam',\r\n",
    "            'spam_2'\r\n",
    "        ]\r\n",
    "    \r\n",
    "    res_frame = pd.DataFrame()\r\n",
    "\r\n",
    "    # *dc - Added to keep a collection of email text\r\n",
    "    emails = []\r\n",
    "\r\n",
    "    emails_body = []\r\n",
    "        \r\n",
    "    for d in directories:\r\n",
    "        mypath = getcwd() + '/SpamAssassinMessages/' + d + '/'\r\n",
    "        onlyfiles = [f for f in listdir(mypath) if isfile(join(mypath, f))]\r\n",
    "    \r\n",
    "        try:\r\n",
    "            onlyfiles.remove('.DS_Store')\r\n",
    "        except:\r\n",
    "            pass\r\n",
    "        \r\n",
    "        for file in onlyfiles:\r\n",
    "            with open(mypath + file, encoding='latin1') as f:\r\n",
    "                lines = f.readlines()\r\n",
    "                f.seek(0) # reset file pointer to beginning\r\n",
    "                body = f.read()\r\n",
    "                f.close()\r\n",
    "            \r\n",
    "            # with open(mypath + file, encoding='latin1') as f:\r\n",
    "            #     body = f.read()\r\n",
    "            #     f.close()\r\n",
    "                \r\n",
    "            msg = email.message_from_string(str(body))\r\n",
    "            tmpStr = ''\r\n",
    "            \r\n",
    "            if msg.is_multipart():\r\n",
    "                for payload in msg.get_payload():\r\n",
    "                    #tmp.append(str(payload.get_payload()))\r\n",
    "                    \r\n",
    "                    tmpStr = ' '.join(str(payload.get_payload()))\r\n",
    "                emails_body.append(tmpStr)\r\n",
    "            else:\r\n",
    "                emails_body.append(str(msg.get_payload()))\r\n",
    "                \r\n",
    "            in_reply_count = 0\r\n",
    "            sub_line_all_caps = 0\r\n",
    "            attachments = 0\r\n",
    "            subject_line = []\r\n",
    "            n_lines = 0\r\n",
    "            blank_lines = []\r\n",
    "            \r\n",
    "            for line in lines:\r\n",
    "\r\n",
    "                n_lines += 1\r\n",
    "                if \"Subject: Re: \" in line:\r\n",
    "                   in_reply_count += 1\r\n",
    "                if \"Subject: \" in line:\r\n",
    "                   s_line = line.strip().replace('Subject: ','')\r\n",
    "                   s_line = ''.join(e for e in s_line if e.isalnum())\r\n",
    "                   num_upper = sum(1 for c in s_line if c.isupper())\r\n",
    "                   ttl_chars = len(s_line)\r\n",
    "                   if num_upper == ttl_chars:\r\n",
    "                       sub_line_all_caps += 1\r\n",
    "                   subject_line.append(s_line)\r\n",
    "                if \"content-type: multipart\" in line.lower():\r\n",
    "                   attachments += 1\r\n",
    "                if line == \"\\n\":\r\n",
    "                   blank_lines.append(n_lines)\r\n",
    "        \r\n",
    "            temp_frame = pd.DataFrame({\r\n",
    "                        'directory':d,    \r\n",
    "                        'filename':file,\r\n",
    "                        'is_spam':['Y' if 'spam' in d else 'N'],\r\n",
    "                        'in_reply': ['Y' if in_reply_count > 0 else 'N'], \r\n",
    "                        'subj_caps': ['Y' if sub_line_all_caps > 0 else 'N'], \r\n",
    "                        'attachments': ['Y' if attachments > 0 else 'N'],\r\n",
    "                        ## *dc+3 \r\n",
    "                        #'body_lines': n_lines - min(blank_lines)\r\n",
    "                        'body_lines': [0 if len(blank_lines) == 0 else min(blank_lines)]\r\n",
    "                        }, index=[0])\r\n",
    "           \r\n",
    "            res_frame = res_frame.append(temp_frame, ignore_index=True)\r\n",
    "\r\n",
    "            ## *dc+2\r\n",
    "            # append body of email to collection\r\n",
    "            text = ' '.join(lines)\r\n",
    "            emails.append(text)\r\n",
    "            \r\n",
    "    #res_frame.to_csv('output_file.csv', index=False)\r\n",
    "    \r\n",
    "    ## *dc - add emails\r\n",
    "    return res_frame, emails, emails_body\r\n",
    "\r\n",
    "## *dc - Working from a notebook instead of py file.\r\n",
    "df, emails, emails_body = main()\r\n",
    "# ########################################\r\n",
    "# ##### Main Function\r\n",
    "# ########################################    \r\n",
    "# if __name__ == \"__main__\":\r\n",
    "#     res_frame, emails = main()\r\n",
    "#     pass   "
   ],
   "outputs": [],
   "metadata": {}
  },
  {
   "cell_type": "code",
   "execution_count": 2,
   "source": [
    "print(len(df),len(emails),len(emails_body))\r\n",
    "\r\n",
    "print(emails_body[3])"
   ],
   "outputs": [
    {
     "output_type": "stream",
     "name": "stdout",
     "text": [
      "9353 9353 9353\n",
      "Klez: The Virus That Won't Die\n",
      " \n",
      "Already the most prolific virus ever, Klez continues to wreak havoc.\n",
      "\n",
      "Andrew Brandt\n",
      ">>From the September 2002 issue of PC World magazine\n",
      "Posted Thursday, August 01, 2002\n",
      "\n",
      "\n",
      "The Klez worm is approaching its seventh month of wriggling across \n",
      "the Web, making it one of the most persistent viruses ever. And \n",
      "experts warn that it may be a harbinger of new viruses that use a \n",
      "combination of pernicious approaches to go from PC to PC.\n",
      "\n",
      "Antivirus software makers Symantec and McAfee both report more than \n",
      "2000 new infections daily, with no sign of letup at press time. The \n",
      "British security firm MessageLabs estimates that 1 in every 300 \n",
      "e-mail messages holds a variation of the Klez virus, and says that \n",
      "Klez has already surpassed last summer's SirCam as the most prolific \n",
      "virus ever.\n",
      "\n",
      "And some newer Klez variants aren't merely nuisances--they can carry \n",
      "other viruses in them that corrupt your data.\n",
      "\n",
      "...\n",
      "\n",
      "http://www.pcworld.com/news/article/0,aid,103259,00.asp\n",
      "_______________________________________________\n",
      "Irregulars mailing list\n",
      "Irregulars@tb.tf\n",
      "http://tb.tf/mailman/listinfo/irregulars\n",
      "\n",
      "\n"
     ]
    }
   ],
   "metadata": {}
  },
  {
   "cell_type": "code",
   "execution_count": 3,
   "source": [
    "import nltk\r\n",
    "import re \r\n",
    "import numpy as np\r\n",
    "\r\n",
    "stop_words = nltk.corpus.stopwords.words('english')\r\n",
    "\r\n",
    "def normalize_document(doc):\r\n",
    "    # lowercase and remove special characters to form a normalized document\r\n",
    "    doc = re.sub(r'[^a-zA-Z0-9\\s]', ' ', doc, re.I|re.A)\r\n",
    "    doc = doc.lower()\r\n",
    "    doc = doc.strip()\r\n",
    "\r\n",
    "    # tokenize document\r\n",
    "    tokens = nltk.word_tokenize(doc)\r\n",
    "    \r\n",
    "    # filter out stop words\r\n",
    "    filtered_tokens = [token for token in tokens if token not in stop_words]\r\n",
    "\r\n",
    "    # Remove numbers\r\n",
    "    filtered_tokens = [token for token in filtered_tokens if not token.isdigit()]\r\n",
    "\r\n",
    "    # Remove short tokens\r\n",
    "    filtered_tokens = [token for token in filtered_tokens if len(token) > 2]\r\n",
    "\r\n",
    "    # stem tokens - Skipping for now\r\n",
    "    #filtered_tokens = [stemming.stem(token) for token in filtered_tokens]\r\n",
    "\r\n",
    "    # re-create a normalized document\r\n",
    "    doc = ' '.join(filtered_tokens)\r\n",
    "    return doc\r\n",
    "\r\n",
    "normalize_text = np.vectorize(normalize_document)\r\n",
    "norm_text = normalize_text(emails)\r\n",
    "\r\n",
    "print(type(norm_text),len(norm_text))"
   ],
   "outputs": [
    {
     "output_type": "stream",
     "name": "stdout",
     "text": [
      "<class 'numpy.ndarray'> 9353\n"
     ]
    }
   ],
   "metadata": {}
  },
  {
   "cell_type": "code",
   "execution_count": 4,
   "source": [
    "from sklearn.feature_extraction.text import TfidfVectorizer\r\n",
    "\r\n",
    "tf = TfidfVectorizer(ngram_range=(1,3), min_df=5, max_df=.8, stop_words=stop_words, norm='l2')\r\n",
    "tf_matrix = tf.fit_transform(norm_text)\r\n",
    "\r\n",
    "print(tf_matrix.shape)"
   ],
   "outputs": [
    {
     "output_type": "stream",
     "name": "stdout",
     "text": [
      "(9353, 166742)\n"
     ]
    }
   ],
   "metadata": {}
  },
  {
   "cell_type": "code",
   "execution_count": 5,
   "source": [
    "from sklearn.feature_extraction.text import CountVectorizer\r\n",
    "\r\n",
    "cv = CountVectorizer(min_df=0, max_df=1., stop_words=stop_words)\r\n",
    "cv_matrix = cv.fit_transform(norm_text)\r\n",
    "\r\n",
    "print(cv_matrix.shape)"
   ],
   "outputs": [
    {
     "output_type": "stream",
     "name": "stdout",
     "text": [
      "(9353, 180059)\n"
     ]
    }
   ],
   "metadata": {}
  },
  {
   "cell_type": "code",
   "execution_count": 6,
   "source": [
    "print(df.columns)"
   ],
   "outputs": [
    {
     "output_type": "stream",
     "name": "stdout",
     "text": [
      "Index(['directory', 'filename', 'is_spam', 'in_reply', 'subj_caps',\n",
      "       'attachments', 'body_lines'],\n",
      "      dtype='object')\n"
     ]
    }
   ],
   "metadata": {}
  },
  {
   "cell_type": "code",
   "execution_count": 7,
   "source": [
    "from sklearn.cluster import KMeans\r\n",
    "from sklearn.metrics import silhouette_samples, silhouette_score\r\n",
    "\r\n",
    "NUM_CLUSTERS = 5\r\n",
    "km = KMeans(n_clusters=NUM_CLUSTERS, max_iter=10000, n_init=50, random_state=42).fit(tf_matrix)\r\n",
    "km\r\n",
    "\r\n",
    "df['kmeans_cluster'] = km.labels_\r\n",
    "\r\n",
    "email_clusters = (df[['directory', 'kmeans_cluster']]\r\n",
    "                  .sort_values(by=['kmeans_cluster'], \r\n",
    "                               ascending=False)\r\n",
    "                  .groupby('kmeans_cluster').head(20))  # top 20 movies for each cluster\r\n",
    "email_clusters = email_clusters.copy(deep=True)\r\n",
    "\r\n",
    "feature_names = tf.get_feature_names()\r\n",
    "topn_features = 50\r\n",
    "ordered_centroids = km.cluster_centers_.argsort()[:, ::-1]\r\n",
    "\r\n",
    "sample_silhouette_values = silhouette_samples(tf_matrix, km.labels_)\r\n",
    "\r\n",
    "# get key features for each cluster\r\n",
    "for cluster_num in range(NUM_CLUSTERS):\r\n",
    "\r\n",
    "    cluster_silhouette_values = sample_silhouette_values[km.labels_ == cluster_num]\r\n",
    "\r\n",
    "    key_features = [feature_names[index] \r\n",
    "                        for index in ordered_centroids[cluster_num, :topn_features]]\r\n",
    "    print('CLUSTER #'+str(cluster_num+1), \":\", cluster_silhouette_values.mean())\r\n",
    "    print('Cluster Size', cluster_silhouette_values.shape[0])\r\n",
    "    print('Key Features:', key_features)\r\n",
    "    print('-'*80)"
   ],
   "outputs": [
    {
     "output_type": "stream",
     "name": "stdout",
     "text": [
      "CLUSTER #1 : 0.2410520400548465\n",
      "Cluster Size 771\n",
      "Key Features: ['sourceforge net', 'sourceforge', 'net', 'razor', 'razor users', 'example sourceforge net', 'example sourceforge', 'spamassassin talk', 'talk', 'lists', 'spamassassin', 'lists sourceforge net', 'lists sourceforge', 'usw', 'users', 'example', 'spamassassin devel', 'devel', 'sourceforge net subject', 'aug', 'list', 'sf', 'list1 sourceforge', 'list1 sourceforge net', 'list1', 'admin example sourceforge', 'usw list1 sourceforge', 'usw list1', 'sourceforge net lists', 'net lists', 'lists listinfo', 'net lists listinfo', 'https', 'admin example', 'mailto spamassassin', 'net subject', 'net usw', 'talk admin', 'mailto spamassassin talk', 'talk example', 'talk example sourceforge', 'spamassassin talk admin', 'received usw', 'sourceforge net usw', 'thu', 'spamassassin talk example', 'list2 sourceforge', 'list2', 'list2 sourceforge net', 'usw list2 sourceforge']\n",
      "--------------------------------------------------------------------------------\n",
      "CLUSTER #2 : 0.008204633306760849\n",
      "Cluster Size 5372\n",
      "Key Features: ['3d', 'font', 'oct', 'rssfeeds', 'sep', 'exmh', 'taint org', 'taint', 'example com', 'spamassassin taint', 'spamassassin taint org', 'spamassassin', 'width', 'example', 'tue', 'size', 'net', 'thu', 'td', 'www', 'jmason', 'jmason org', 'http www', 'tue oct', 'aug', 'jalapeno', 'wed', 'zzzz', 'exmh users', 'nbsp', 'color', 'mon', 'face', 'thu sep', 'yahoo', 'html', 'rssfeeds spamassassin taint', 'rssfeeds spamassassin', 'redhat com', 'yyyy', 'rssfeeds example', 'rssfeeds example com', 'exmh workers', 'height', 'oct ist', 'oct ist received', 'href', 'workers', 'perl', 'yahoo com']\n",
      "--------------------------------------------------------------------------------\n",
      "CLUSTER #3 : 0.1803789278946065\n",
      "Cluster Size 802\n",
      "Key Features: ['ilug', 'linux', 'ie', 'linux ie', 'lugh', 'ilug linux', 'tuatha org', 'tuatha', 'lugh tuatha org', 'lugh tuatha', 'admin linux', 'ilug admin', 'ilug admin linux', 'aug', 'ilug linux ie', 'irish', 'irish linux', 'irish linux users', 'linux users group', 'users group', 'linux users', 'users group ilug', 'group ilug', 'group ilug linux', 'received lugh', 'root', 'admin', 'ie mailman', 'linux ie mailman', 'social', 'group', 'tuatha org esmtp', 'users', 'jul', 'admin linux ie', 'www linux', 'http www linux', 'tue aug', 'www linux ie', 'root localhost', 'fri', 'ie mailman listinfo', 'tue', 'fri aug', 'listinfo ilug', 'mailman listinfo ilug', 'list', 'mailman', 'received lugh tuatha', 'zzzz']\n",
      "--------------------------------------------------------------------------------\n",
      "CLUSTER #4 : 0.18631600295736175\n",
      "Cluster Size 1750\n",
      "Key Features: ['fork', 'xent com', 'xent', 'fork admin', 'fork admin xent', 'admin xent', 'admin xent com', 'mailto fork', 'sep', 'http xent com', 'http xent', 'list', 'xent com subject', 'fork request xent', 'request xent com', 'fork request', 'request xent', 'mailto fork request', 'fork spamassassin', 'fork spamassassin taint', 'admin', 'mailto', 'com mailman', 'fork xent', 'fork xent com', 'xent com mailman', 'listinfo fork', 'mailman listinfo fork', 'com subject', 'mailman', 'com mailman listinfo', 'spamassassin taint', 'spamassassin taint org', 'request', 'taint org', 'fork example', 'fork example com', 'taint', 'aug', 'xent com postfix', 'fork mailto fork', 'fork mailto', 'listinfo fork mailto', 'pdt', 'spamassassin', 'mailman listinfo', 'example com', 'mon', 'com postfix', 'listinfo']\n",
      "--------------------------------------------------------------------------------\n",
      "CLUSTER #5 : 0.3525919250064833\n",
      "Cluster Size 658\n",
      "Key Features: ['rpm', 'freshrpms', 'freshrpms net', 'zzzlist', 'rpm zzzlist', 'net', 'rpm list', 'egwn', 'list', 'egwn net', 'zzzlist freshrpms', 'zzzlist freshrpms net', 'rpm zzzlist freshrpms', 'http lists freshrpms', 'lists freshrpms', 'lists freshrpms net', 'freshrpms net mailman', 'http lists', 'admin freshrpms', 'admin freshrpms net', 'mailto rpm', 'freshrpms net subject', 'net mailman', 'mailman listinfo rpm', 'listinfo rpm', 'net mailman listinfo', 'request freshrpms', 'request freshrpms net', 'zzzlist admin freshrpms', 'zzzlist admin', 'rpm zzzlist admin', 'freshrpms net list', 'matthias', 'list freshrpms', 'rpm list freshrpms', 'list freshrpms net', 'lists', 'net subject', 'oct', 'net list', 'net egwn', 'list rpm', 'mailto rpm list', 'rpm list request', 'list request freshrpms', 'list request', 'egwn net egwn', 'mailto rpm zzzlist', 'listinfo rpm zzzlist', 'rpm zzzlist mailto']\n",
      "--------------------------------------------------------------------------------\n"
     ]
    }
   ],
   "metadata": {}
  },
  {
   "cell_type": "code",
   "execution_count": 8,
   "source": [
    "## Output a quick pivot table to see distribution of clusters vs spam/ham\r\n",
    "\r\n",
    "df.pivot_table(index='kmeans_cluster', columns='is_spam', values='directory', aggfunc='count')"
   ],
   "outputs": [
    {
     "output_type": "execute_result",
     "data": {
      "text/html": [
       "<div>\n",
       "<style scoped>\n",
       "    .dataframe tbody tr th:only-of-type {\n",
       "        vertical-align: middle;\n",
       "    }\n",
       "\n",
       "    .dataframe tbody tr th {\n",
       "        vertical-align: top;\n",
       "    }\n",
       "\n",
       "    .dataframe thead th {\n",
       "        text-align: right;\n",
       "    }\n",
       "</style>\n",
       "<table border=\"1\" class=\"dataframe\">\n",
       "  <thead>\n",
       "    <tr style=\"text-align: right;\">\n",
       "      <th>is_spam</th>\n",
       "      <th>N</th>\n",
       "      <th>Y</th>\n",
       "    </tr>\n",
       "    <tr>\n",
       "      <th>kmeans_cluster</th>\n",
       "      <th></th>\n",
       "      <th></th>\n",
       "    </tr>\n",
       "  </thead>\n",
       "  <tbody>\n",
       "    <tr>\n",
       "      <th>0</th>\n",
       "      <td>748.0</td>\n",
       "      <td>23.0</td>\n",
       "    </tr>\n",
       "    <tr>\n",
       "      <th>1</th>\n",
       "      <td>3158.0</td>\n",
       "      <td>2214.0</td>\n",
       "    </tr>\n",
       "    <tr>\n",
       "      <th>2</th>\n",
       "      <td>692.0</td>\n",
       "      <td>110.0</td>\n",
       "    </tr>\n",
       "    <tr>\n",
       "      <th>3</th>\n",
       "      <td>1698.0</td>\n",
       "      <td>52.0</td>\n",
       "    </tr>\n",
       "    <tr>\n",
       "      <th>4</th>\n",
       "      <td>658.0</td>\n",
       "      <td>NaN</td>\n",
       "    </tr>\n",
       "  </tbody>\n",
       "</table>\n",
       "</div>"
      ],
      "text/plain": [
       "is_spam              N       Y\n",
       "kmeans_cluster                \n",
       "0                748.0    23.0\n",
       "1               3158.0  2214.0\n",
       "2                692.0   110.0\n",
       "3               1698.0    52.0\n",
       "4                658.0     NaN"
      ]
     },
     "metadata": {},
     "execution_count": 8
    }
   ],
   "metadata": {}
  },
  {
   "cell_type": "code",
   "execution_count": 9,
   "source": [
    "df['directory'].value_counts()"
   ],
   "outputs": [
    {
     "output_type": "execute_result",
     "data": {
      "text/plain": [
       "easy_ham      5052\n",
       "easy_ham_2    1401\n",
       "spam_2        1398\n",
       "spam          1001\n",
       "hard_ham       501\n",
       "Name: directory, dtype: int64"
      ]
     },
     "metadata": {},
     "execution_count": 9
    }
   ],
   "metadata": {}
  },
  {
   "cell_type": "code",
   "execution_count": 10,
   "source": [
    "df.pivot_table(index='kmeans_cluster', columns='directory', values='filename', aggfunc='count')\r\n"
   ],
   "outputs": [
    {
     "output_type": "execute_result",
     "data": {
      "text/html": [
       "<div>\n",
       "<style scoped>\n",
       "    .dataframe tbody tr th:only-of-type {\n",
       "        vertical-align: middle;\n",
       "    }\n",
       "\n",
       "    .dataframe tbody tr th {\n",
       "        vertical-align: top;\n",
       "    }\n",
       "\n",
       "    .dataframe thead th {\n",
       "        text-align: right;\n",
       "    }\n",
       "</style>\n",
       "<table border=\"1\" class=\"dataframe\">\n",
       "  <thead>\n",
       "    <tr style=\"text-align: right;\">\n",
       "      <th>directory</th>\n",
       "      <th>easy_ham</th>\n",
       "      <th>easy_ham_2</th>\n",
       "      <th>hard_ham</th>\n",
       "      <th>spam</th>\n",
       "      <th>spam_2</th>\n",
       "    </tr>\n",
       "    <tr>\n",
       "      <th>kmeans_cluster</th>\n",
       "      <th></th>\n",
       "      <th></th>\n",
       "      <th></th>\n",
       "      <th></th>\n",
       "      <th></th>\n",
       "    </tr>\n",
       "  </thead>\n",
       "  <tbody>\n",
       "    <tr>\n",
       "      <th>0</th>\n",
       "      <td>551.0</td>\n",
       "      <td>190.0</td>\n",
       "      <td>7.0</td>\n",
       "      <td>10.0</td>\n",
       "      <td>13.0</td>\n",
       "    </tr>\n",
       "    <tr>\n",
       "      <th>1</th>\n",
       "      <td>2477.0</td>\n",
       "      <td>194.0</td>\n",
       "      <td>487.0</td>\n",
       "      <td>898.0</td>\n",
       "      <td>1316.0</td>\n",
       "    </tr>\n",
       "    <tr>\n",
       "      <th>2</th>\n",
       "      <td>199.0</td>\n",
       "      <td>490.0</td>\n",
       "      <td>3.0</td>\n",
       "      <td>93.0</td>\n",
       "      <td>17.0</td>\n",
       "    </tr>\n",
       "    <tr>\n",
       "      <th>3</th>\n",
       "      <td>1319.0</td>\n",
       "      <td>379.0</td>\n",
       "      <td>NaN</td>\n",
       "      <td>NaN</td>\n",
       "      <td>52.0</td>\n",
       "    </tr>\n",
       "    <tr>\n",
       "      <th>4</th>\n",
       "      <td>506.0</td>\n",
       "      <td>148.0</td>\n",
       "      <td>4.0</td>\n",
       "      <td>NaN</td>\n",
       "      <td>NaN</td>\n",
       "    </tr>\n",
       "  </tbody>\n",
       "</table>\n",
       "</div>"
      ],
      "text/plain": [
       "directory       easy_ham  easy_ham_2  hard_ham   spam  spam_2\n",
       "kmeans_cluster                                               \n",
       "0                  551.0       190.0       7.0   10.0    13.0\n",
       "1                 2477.0       194.0     487.0  898.0  1316.0\n",
       "2                  199.0       490.0       3.0   93.0    17.0\n",
       "3                 1319.0       379.0       NaN    NaN    52.0\n",
       "4                  506.0       148.0       4.0    NaN     NaN"
      ]
     },
     "metadata": {},
     "execution_count": 10
    }
   ],
   "metadata": {}
  },
  {
   "cell_type": "code",
   "execution_count": 11,
   "source": [
    "# KMeans(n_clusters=NUM_CLUSTERS, max_iter=10000, n_init=50, random_state=42).fit(tf_matrix)\r\n",
    "scores = []\r\n",
    "\r\n",
    "for k in range(1, 20):\r\n",
    "    kmeans = KMeans(init=\"random\", n_clusters=k, n_init=10, max_iter=300, random_state=42)\r\n",
    "    kmeans.fit(tf_matrix)\r\n",
    "    scores.append(kmeans.inertia_)"
   ],
   "outputs": [],
   "metadata": {}
  },
  {
   "cell_type": "code",
   "execution_count": 12,
   "source": [
    "import matplotlib.pyplot as plt\r\n",
    "\r\n",
    "\r\n",
    "plt.style.use(\"fivethirtyeight\")\r\n",
    "plt.figure(figsize=(12,6))\r\n",
    "plt.plot(range(1, 20), scores)\r\n",
    "plt.xticks(range(1, 20))\r\n",
    "plt.xlabel(\"Number of Clusters\")\r\n",
    "plt.ylabel(\"SSE\")\r\n",
    "plt.show()"
   ],
   "outputs": [
    {
     "output_type": "display_data",
     "data": {
      "image/png": "[encoded data removed]",
      "text/plain": [
       "<Figure size 864x432 with 1 Axes>"
      ]
     },
     "metadata": {}
    }
   ],
   "metadata": {}
  },
  {
   "cell_type": "code",
   "execution_count": 15,
   "source": [
    "df['kmeans_cluster'] = df['kmeans_cluster'].astype(object)\r\n",
    "df.info()"
   ],
   "outputs": [
    {
     "output_type": "stream",
     "name": "stdout",
     "text": [
      "<class 'pandas.core.frame.DataFrame'>\n",
      "RangeIndex: 9353 entries, 0 to 9352\n",
      "Data columns (total 8 columns):\n",
      " #   Column          Non-Null Count  Dtype \n",
      "---  ------          --------------  ----- \n",
      " 0   directory       9353 non-null   object\n",
      " 1   filename        9353 non-null   object\n",
      " 2   is_spam         9353 non-null   object\n",
      " 3   in_reply        9353 non-null   object\n",
      " 4   subj_caps       9353 non-null   object\n",
      " 5   attachments     9353 non-null   object\n",
      " 6   body_lines      9353 non-null   int64 \n",
      " 7   kmeans_cluster  9353 non-null   object\n",
      "dtypes: int64(1), object(7)\n",
      "memory usage: 584.7+ KB\n"
     ]
    }
   ],
   "metadata": {}
  },
  {
   "cell_type": "markdown",
   "source": [
    "# Prediction Without K-Means Feature"
   ],
   "metadata": {}
  },
  {
   "cell_type": "code",
   "execution_count": 19,
   "source": [
    "import numpy as np\r\n",
    "import pandas as pd\r\n",
    "from sklearn.preprocessing import StandardScaler\r\n",
    "from sklearn.pipeline import Pipeline\r\n",
    "from sklearn.linear_model import SGDClassifier\r\n",
    "from sklearn.model_selection import cross_val_score\r\n",
    "from sklearn.preprocessing import OneHotEncoder\r\n",
    "from sklearn.model_selection import ShuffleSplit\r\n",
    "from sklearn import metrics as mt\r\n",
    "from sklearn.svm import SVC\r\n",
    "from sklearn.linear_model import LogisticRegression\r\n",
    "from sklearn.model_selection import GridSearchCV\r\n",
    "from sklearn.metrics import roc_auc_score\r\n",
    "from sklearn.model_selection import train_test_split\r\n",
    "from sklearn.metrics import roc_curve\r\n",
    "from matplotlib import pyplot\r\n",
    "from sklearn.compose import ColumnTransformer\r\n",
    "from sklearn.calibration import CalibratedClassifierCV\r\n",
    "import matplotlib.pyplot as plt\r\n",
    "from sklearn.model_selection import train_test_split\r\n",
    "from sklearn.model_selection import StratifiedKFold\r\n",
    "from sklearn.model_selection import KFold\r\n",
    "from sklearn.metrics import confusion_matrix\r\n",
    "import seaborn as sns\r\n",
    "from sklearn.metrics import plot_confusion_matrix\r\n",
    "from sklearn.metrics import classification_report,confusion_matrix\r\n",
    "from sklearn.impute import SimpleImputer\r\n",
    "from sklearn.compose import make_column_selector as selector\r\n",
    "from sklearn.preprocessing import RobustScaler\r\n",
    "# Imbalanced Data\r\n",
    "from imblearn.over_sampling import SMOTE\r\n",
    "from imblearn.pipeline import Pipeline as imbpipeline\r\n",
    "from sklearn.pipeline import Pipeline\r\n",
    "from sklearn.model_selection import train_test_split, GridSearchCV, StratifiedKFold\r\n",
    "\r\n",
    "# Pre-Processing\r\n",
    "from sklearn.preprocessing import RobustScaler\r\n",
    "from sklearn.preprocessing import StandardScaler\r\n",
    "from sklearn.preprocessing import OneHotEncoder\r\n",
    "from sklearn.impute import SimpleImputer\r\n",
    "from sklearn.compose import ColumnTransformer\r\n",
    "\r\n",
    "from sklearn.metrics import make_scorer\r\n",
    "from sklearn.metrics import accuracy_score\r\n",
    "from sklearn.metrics import recall_score\r\n",
    "from sklearn.metrics import precision_score\r\n",
    "from sklearn.metrics import f1_score\r\n",
    "\r\n",
    "\r\n",
    "categorical_features = ['in_reply','subj_caps','attachments']\r\n",
    "numeric_features = ['body_lines']\r\n",
    "\r\n",
    "X = df[categorical_features + numeric_features]\r\n",
    "y = df['is_spam']\r\n",
    "\r\n",
    "X_train, X_test, y_train, y_test = train_test_split(X,\r\n",
    "                                                    y,\r\n",
    "                                                    test_size=0.2,\r\n",
    "                                                    stratify=y,\r\n",
    "                                                    random_state=11)"
   ],
   "outputs": [],
   "metadata": {}
  },
  {
   "cell_type": "code",
   "execution_count": 20,
   "source": [
    "numeric_transformer = Pipeline(steps=[\r\n",
    "    ('imputer', SimpleImputer(missing_values=np.nan, strategy=\"median\")),\r\n",
    "    ('scaler', RobustScaler(with_centering=False))])\r\n",
    "\r\n",
    "categorical_transformer = Pipeline(steps=[\r\n",
    "    ('imputer', SimpleImputer(missing_values=np.nan, strategy=\"most_frequent\")),\r\n",
    "    ('onehot', OneHotEncoder(handle_unknown='ignore'))])\r\n",
    "\r\n",
    "preprocessor = ColumnTransformer(\r\n",
    "    transformers=[\r\n",
    "        ('num', numeric_transformer, numeric_features),\r\n",
    "        ('cat', categorical_transformer, categorical_features)])\r\n",
    "\r\n",
    "\r\n",
    "pipeline = imbpipeline(steps = [['preprocessor', preprocessor],\r\n",
    "                                ['smote', SMOTE(random_state=11)],\r\n",
    "                                ['classifier', LogisticRegression(random_state=11,\r\n",
    "                                                                  max_iter=1000, n_jobs=-1)]])\r\n",
    "\r\n",
    "stratified_kfold = StratifiedKFold(n_splits=3,\r\n",
    "                                       shuffle=True,\r\n",
    "                                       random_state=11)\r\n",
    "\r\n",
    "param_grid = [{'classifier__C': [0.001, 0.01, 0.1, 1, 10, 100, 1000],\r\n",
    "               'classifier__penalty': ['l1'],\r\n",
    "               'classifier__solver': ['saga']},\r\n",
    "              {'classifier__C': [0.001, 0.01, 0.1, 1, 10, 100, 1000],\r\n",
    "               'classifier__penalty': ['l2'],\r\n",
    "               'classifier__solver': ['lbfgs']}\r\n",
    "             ]\r\n",
    "              \r\n",
    "grid_search = GridSearchCV(estimator=pipeline,\r\n",
    "                           param_grid=param_grid,\r\n",
    "                           scoring='roc_auc',\r\n",
    "                           cv=stratified_kfold,\r\n",
    "                           n_jobs=-1)\r\n",
    "\r\n",
    "grid_search.fit(X_train, y_train)\r\n",
    "cv_score = grid_search.best_score_\r\n",
    "test_score = grid_search.score(X_test, y_test)\r\n",
    "print(f'Cross-validation score: {cv_score}\\nTest score: {test_score}')"
   ],
   "outputs": [
    {
     "output_type": "stream",
     "name": "stdout",
     "text": [
      "Cross-validation score: 0.7708899855641707\n",
      "Test score: 0.7732244488377666\n"
     ]
    }
   ],
   "metadata": {}
  },
  {
   "cell_type": "code",
   "execution_count": 21,
   "source": [
    "print(grid_search.best_params_)"
   ],
   "outputs": [
    {
     "output_type": "stream",
     "name": "stdout",
     "text": [
      "{'classifier__C': 0.1, 'classifier__penalty': 'l1', 'classifier__solver': 'saga'}\n"
     ]
    }
   ],
   "metadata": {}
  },
  {
   "cell_type": "markdown",
   "source": [
    "# Prediction Using K-Means as a Feature"
   ],
   "metadata": {}
  },
  {
   "cell_type": "code",
   "execution_count": 22,
   "source": [
    "categorical_features = ['in_reply','subj_caps','attachments','kmeans_cluster']\r\n",
    "numeric_features = ['body_lines']\r\n",
    "\r\n",
    "X = df[categorical_features + numeric_features]\r\n",
    "y = df['is_spam']\r\n",
    "\r\n",
    "X_train, X_test, y_train, y_test = train_test_split(X,\r\n",
    "                                                    y,\r\n",
    "                                                    test_size=0.2,\r\n",
    "                                                    stratify=y,\r\n",
    "                                                    random_state=11)\r\n",
    "\r\n",
    "numeric_transformer = Pipeline(steps=[\r\n",
    "    ('imputer', SimpleImputer(missing_values=np.nan, strategy=\"median\")),\r\n",
    "    ('scaler', RobustScaler(with_centering=False))])\r\n",
    "\r\n",
    "categorical_transformer = Pipeline(steps=[\r\n",
    "    ('imputer', SimpleImputer(missing_values=np.nan, strategy=\"most_frequent\")),\r\n",
    "    ('onehot', OneHotEncoder(handle_unknown='ignore'))])\r\n",
    "\r\n",
    "preprocessor = ColumnTransformer(\r\n",
    "    transformers=[\r\n",
    "        ('num', numeric_transformer, numeric_features),\r\n",
    "        ('cat', categorical_transformer, categorical_features)])\r\n",
    "\r\n",
    "\r\n",
    "pipeline = imbpipeline(steps = [['preprocessor', preprocessor],\r\n",
    "                                ['smote', SMOTE(random_state=11)],\r\n",
    "                                ['classifier', LogisticRegression(random_state=11,\r\n",
    "                                                                  max_iter=1000, n_jobs=-1)]])\r\n",
    "\r\n",
    "stratified_kfold = StratifiedKFold(n_splits=3,\r\n",
    "                                       shuffle=True,\r\n",
    "                                       random_state=11)\r\n",
    "\r\n",
    "param_grid = [{'classifier__C': [0.001, 0.01, 0.1, 1, 10, 100, 1000],\r\n",
    "               'classifier__penalty': ['l1'],\r\n",
    "               'classifier__solver': ['saga']},\r\n",
    "              {'classifier__C': [0.001, 0.01, 0.1, 1, 10, 100, 1000],\r\n",
    "               'classifier__penalty': ['l2'],\r\n",
    "               'classifier__solver': ['lbfgs']}\r\n",
    "             ]\r\n",
    "              \r\n",
    "grid_search = GridSearchCV(estimator=pipeline,\r\n",
    "                           param_grid=param_grid,\r\n",
    "                           scoring='roc_auc',\r\n",
    "                           cv=stratified_kfold,\r\n",
    "                           n_jobs=-1)\r\n",
    "\r\n",
    "grid_search.fit(X_train, y_train)\r\n",
    "cv_score = grid_search.best_score_\r\n",
    "test_score = grid_search.score(X_test, y_test)\r\n",
    "print(f'Cross-validation score: {cv_score}\\nTest score: {test_score}')"
   ],
   "outputs": [
    {
     "output_type": "stream",
     "name": "stdout",
     "text": [
      "Cross-validation score: 0.8683494568404027\n",
      "Test score: 0.8682370297148335\n"
     ]
    }
   ],
   "metadata": {}
  },
  {
   "cell_type": "code",
   "execution_count": 23,
   "source": [
    "print(grid_search.best_params_)"
   ],
   "outputs": [
    {
     "output_type": "stream",
     "name": "stdout",
     "text": [
      "{'classifier__C': 0.1, 'classifier__penalty': 'l1', 'classifier__solver': 'saga'}\n"
     ]
    }
   ],
   "metadata": {}
  },
  {
   "cell_type": "code",
   "execution_count": null,
   "source": [],
   "outputs": [],
   "metadata": {}
  }
 ],
 "metadata": {
  "orig_nbformat": 4,
  "language_info": {
   "name": "python",
   "version": "3.9.6",
   "mimetype": "text/x-python",
   "codemirror_mode": {
    "name": "ipython",
    "version": 3
   },
   "pygments_lexer": "ipython3",
   "nbconvert_exporter": "python",
   "file_extension": ".py"
  },
  "kernelspec": {
   "name": "python3",
   "display_name": "Python 3.9.6 64-bit ('NLP': conda)"
  },
  "interpreter": {
   "hash": "eaa798b471aa1a0109429a408b0faab53065248ef7f5a5989f90756771672ef6"
  }
 },
 "nbformat": 4,
 "nbformat_minor": 2
}