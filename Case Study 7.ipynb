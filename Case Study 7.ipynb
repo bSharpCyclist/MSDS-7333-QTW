{
 "cells": [
  {
   "cell_type": "markdown",
   "metadata": {},
   "source": [
    "## MSDS 7331 - Case Study 7 - Minimizing Monetary Loss Using a Cost Matrix\n",
    "Daniel Crouthamel\n",
    "\n",
    "Sophia Wu\n",
    "\n",
    "Fabio Savorgnan\n",
    "\n",
    "Bo Yun"
   ]
  },
  {
   "cell_type": "markdown",
   "metadata": {},
   "source": [
    "# Introduction\n",
    "\n",
    "You should always state the objective at the beginning of every case (a guideline you should follow in real life as well) and provide some initial \"Business Understanding\" statements (i.e., what is trying to be solved for and why might it be important)"
   ]
  },
  {
   "cell_type": "markdown",
   "metadata": {},
   "source": [
    "# Data Engineering and Analysis\n",
    "\n",
    "Summarize the data being used in the case using appropriate mediums (charts, graphs, tables); address questions such as: Are there missing values? Which variables are needed (which ones are not)? What assumptions or conclusions are you drawing that need to be relayed to your audience?"
   ]
  },
  {
   "cell_type": "code",
   "execution_count": 1,
   "metadata": {},
   "outputs": [
    {
     "name": "stdout",
     "output_type": "stream",
     "text": [
      "<class 'pandas.core.frame.DataFrame'>\n",
      "RangeIndex: 160000 entries, 0 to 159999\n",
      "Data columns (total 51 columns):\n",
      " #   Column  Non-Null Count   Dtype  \n",
      "---  ------  --------------   -----  \n",
      " 0   x0      159974 non-null  float64\n",
      " 1   x1      159975 non-null  float64\n",
      " 2   x2      159962 non-null  float64\n",
      " 3   x3      159963 non-null  float64\n",
      " 4   x4      159974 non-null  float64\n",
      " 5   x5      159963 non-null  float64\n",
      " 6   x6      159974 non-null  float64\n",
      " 7   x7      159973 non-null  float64\n",
      " 8   x8      159979 non-null  float64\n",
      " 9   x9      159970 non-null  float64\n",
      " 10  x10     159957 non-null  float64\n",
      " 11  x11     159970 non-null  float64\n",
      " 12  x12     159964 non-null  float64\n",
      " 13  x13     159969 non-null  float64\n",
      " 14  x14     159966 non-null  float64\n",
      " 15  x15     159965 non-null  float64\n",
      " 16  x16     159974 non-null  float64\n",
      " 17  x17     159973 non-null  float64\n",
      " 18  x18     159960 non-null  float64\n",
      " 19  x19     159965 non-null  float64\n",
      " 20  x20     159962 non-null  float64\n",
      " 21  x21     159971 non-null  float64\n",
      " 22  x22     159973 non-null  float64\n",
      " 23  x23     159953 non-null  float64\n",
      " 24  x24     159972 non-null  object \n",
      " 25  x25     159978 non-null  float64\n",
      " 26  x26     159964 non-null  float64\n",
      " 27  x27     159970 non-null  float64\n",
      " 28  x28     159965 non-null  float64\n",
      " 29  x29     159970 non-null  object \n",
      " 30  x30     159970 non-null  object \n",
      " 31  x31     159961 non-null  float64\n",
      " 32  x32     159969 non-null  object \n",
      " 33  x33     159959 non-null  float64\n",
      " 34  x34     159959 non-null  float64\n",
      " 35  x35     159970 non-null  float64\n",
      " 36  x36     159973 non-null  float64\n",
      " 37  x37     159977 non-null  object \n",
      " 38  x38     159969 non-null  float64\n",
      " 39  x39     159977 non-null  float64\n",
      " 40  x40     159964 non-null  float64\n",
      " 41  x41     159960 non-null  float64\n",
      " 42  x42     159974 non-null  float64\n",
      " 43  x43     159963 non-null  float64\n",
      " 44  x44     159960 non-null  float64\n",
      " 45  x45     159971 non-null  float64\n",
      " 46  x46     159969 non-null  float64\n",
      " 47  x47     159963 non-null  float64\n",
      " 48  x48     159968 non-null  float64\n",
      " 49  x49     159968 non-null  float64\n",
      " 50  y       160000 non-null  int64  \n",
      "dtypes: float64(45), int64(1), object(5)\n",
      "memory usage: 62.3+ MB\n"
     ]
    }
   ],
   "source": [
    "import pandas as pd\n",
    "import tensorflow as tf \n",
    "import numpy as np\n",
    "\n",
    "from sklearn.preprocessing import StandardScaler\n",
    "from sklearn.model_selection import train_test_split\n",
    "import os\n",
    "\n",
    "df = pd.read_csv('data/final_project(5).csv')\n",
    "\n",
    "df.info()"
   ]
  },
  {
   "cell_type": "code",
   "execution_count": 2,
   "metadata": {},
   "outputs": [
    {
     "data": {
      "text/plain": [
       "0    95803\n",
       "1    64197\n",
       "Name: y, dtype: int64"
      ]
     },
     "execution_count": 2,
     "metadata": {},
     "output_type": "execute_result"
    }
   ],
   "source": [
    "df['y'].value_counts()"
   ]
  },
  {
   "cell_type": "code",
   "execution_count": 3,
   "metadata": {},
   "outputs": [
    {
     "data": {
      "text/plain": [
       "array([[<AxesSubplot:title={'center':'x0'}>,\n",
       "        <AxesSubplot:title={'center':'x1'}>,\n",
       "        <AxesSubplot:title={'center':'x2'}>,\n",
       "        <AxesSubplot:title={'center':'x3'}>,\n",
       "        <AxesSubplot:title={'center':'x4'}>,\n",
       "        <AxesSubplot:title={'center':'x5'}>,\n",
       "        <AxesSubplot:title={'center':'x6'}>],\n",
       "       [<AxesSubplot:title={'center':'x7'}>,\n",
       "        <AxesSubplot:title={'center':'x8'}>,\n",
       "        <AxesSubplot:title={'center':'x9'}>,\n",
       "        <AxesSubplot:title={'center':'x10'}>,\n",
       "        <AxesSubplot:title={'center':'x11'}>,\n",
       "        <AxesSubplot:title={'center':'x12'}>,\n",
       "        <AxesSubplot:title={'center':'x13'}>],\n",
       "       [<AxesSubplot:title={'center':'x14'}>,\n",
       "        <AxesSubplot:title={'center':'x15'}>,\n",
       "        <AxesSubplot:title={'center':'x16'}>,\n",
       "        <AxesSubplot:title={'center':'x17'}>,\n",
       "        <AxesSubplot:title={'center':'x18'}>,\n",
       "        <AxesSubplot:title={'center':'x19'}>,\n",
       "        <AxesSubplot:title={'center':'x20'}>],\n",
       "       [<AxesSubplot:title={'center':'x21'}>,\n",
       "        <AxesSubplot:title={'center':'x22'}>,\n",
       "        <AxesSubplot:title={'center':'x23'}>,\n",
       "        <AxesSubplot:title={'center':'x25'}>,\n",
       "        <AxesSubplot:title={'center':'x26'}>,\n",
       "        <AxesSubplot:title={'center':'x27'}>,\n",
       "        <AxesSubplot:title={'center':'x28'}>],\n",
       "       [<AxesSubplot:title={'center':'x31'}>,\n",
       "        <AxesSubplot:title={'center':'x33'}>,\n",
       "        <AxesSubplot:title={'center':'x34'}>,\n",
       "        <AxesSubplot:title={'center':'x35'}>,\n",
       "        <AxesSubplot:title={'center':'x36'}>,\n",
       "        <AxesSubplot:title={'center':'x38'}>,\n",
       "        <AxesSubplot:title={'center':'x39'}>],\n",
       "       [<AxesSubplot:title={'center':'x40'}>,\n",
       "        <AxesSubplot:title={'center':'x41'}>,\n",
       "        <AxesSubplot:title={'center':'x42'}>,\n",
       "        <AxesSubplot:title={'center':'x43'}>,\n",
       "        <AxesSubplot:title={'center':'x44'}>,\n",
       "        <AxesSubplot:title={'center':'x45'}>,\n",
       "        <AxesSubplot:title={'center':'x46'}>],\n",
       "       [<AxesSubplot:title={'center':'x47'}>,\n",
       "        <AxesSubplot:title={'center':'x48'}>,\n",
       "        <AxesSubplot:title={'center':'x49'}>,\n",
       "        <AxesSubplot:title={'center':'y'}>, <AxesSubplot:>,\n",
       "        <AxesSubplot:>, <AxesSubplot:>]], dtype=object)"
      ]
     },
     "execution_count": 3,
     "metadata": {},
     "output_type": "execute_result"
    },
    {
     "data": {
      "image/png": "[encoded data removed]",
      "text/plain": [
       "<Figure size 1008x1008 with 49 Axes>"
      ]
     },
     "metadata": {
      "needs_background": "light"
     },
     "output_type": "display_data"
    }
   ],
   "source": [
    "df.hist(figsize=(14,14), xrot=50)"
   ]
  },
  {
   "cell_type": "code",
   "execution_count": 4,
   "metadata": {},
   "outputs": [
    {
     "data": {
      "text/html": [
       "<div>\n",
       "<style scoped>\n",
       "    .dataframe tbody tr th:only-of-type {\n",
       "        vertical-align: middle;\n",
       "    }\n",
       "\n",
       "    .dataframe tbody tr th {\n",
       "        vertical-align: top;\n",
       "    }\n",
       "\n",
       "    .dataframe thead th {\n",
       "        text-align: right;\n",
       "    }\n",
       "</style>\n",
       "<table border=\"1\" class=\"dataframe\">\n",
       "  <thead>\n",
       "    <tr style=\"text-align: right;\">\n",
       "      <th></th>\n",
       "      <th>x24</th>\n",
       "      <th>x29</th>\n",
       "      <th>x30</th>\n",
       "      <th>x32</th>\n",
       "      <th>x37</th>\n",
       "      <th>y</th>\n",
       "    </tr>\n",
       "  </thead>\n",
       "  <tbody>\n",
       "    <tr>\n",
       "      <th>17683</th>\n",
       "      <td>asia</td>\n",
       "      <td>Jun</td>\n",
       "      <td>wednesday</td>\n",
       "      <td>0.01%</td>\n",
       "      <td>$-718.53</td>\n",
       "      <td>1</td>\n",
       "    </tr>\n",
       "    <tr>\n",
       "      <th>64951</th>\n",
       "      <td>asia</td>\n",
       "      <td>May</td>\n",
       "      <td>tuesday</td>\n",
       "      <td>-0.01%</td>\n",
       "      <td>$-490.88</td>\n",
       "      <td>0</td>\n",
       "    </tr>\n",
       "    <tr>\n",
       "      <th>26153</th>\n",
       "      <td>euorpe</td>\n",
       "      <td>July</td>\n",
       "      <td>wednesday</td>\n",
       "      <td>-0.01%</td>\n",
       "      <td>$554.64</td>\n",
       "      <td>1</td>\n",
       "    </tr>\n",
       "    <tr>\n",
       "      <th>16329</th>\n",
       "      <td>euorpe</td>\n",
       "      <td>Apr</td>\n",
       "      <td>wednesday</td>\n",
       "      <td>-0.0%</td>\n",
       "      <td>$-1164.1</td>\n",
       "      <td>0</td>\n",
       "    </tr>\n",
       "    <tr>\n",
       "      <th>32990</th>\n",
       "      <td>asia</td>\n",
       "      <td>May</td>\n",
       "      <td>tuesday</td>\n",
       "      <td>0.02%</td>\n",
       "      <td>$535.4</td>\n",
       "      <td>0</td>\n",
       "    </tr>\n",
       "    <tr>\n",
       "      <th>153495</th>\n",
       "      <td>asia</td>\n",
       "      <td>Aug</td>\n",
       "      <td>thurday</td>\n",
       "      <td>0.0%</td>\n",
       "      <td>$-178.17</td>\n",
       "      <td>1</td>\n",
       "    </tr>\n",
       "    <tr>\n",
       "      <th>150260</th>\n",
       "      <td>asia</td>\n",
       "      <td>Aug</td>\n",
       "      <td>wednesday</td>\n",
       "      <td>0.01%</td>\n",
       "      <td>$-96.97</td>\n",
       "      <td>0</td>\n",
       "    </tr>\n",
       "    <tr>\n",
       "      <th>35527</th>\n",
       "      <td>asia</td>\n",
       "      <td>Jun</td>\n",
       "      <td>wednesday</td>\n",
       "      <td>0.01%</td>\n",
       "      <td>$-2668.52</td>\n",
       "      <td>0</td>\n",
       "    </tr>\n",
       "    <tr>\n",
       "      <th>45426</th>\n",
       "      <td>asia</td>\n",
       "      <td>Jun</td>\n",
       "      <td>wednesday</td>\n",
       "      <td>0.0%</td>\n",
       "      <td>$-548.45</td>\n",
       "      <td>0</td>\n",
       "    </tr>\n",
       "    <tr>\n",
       "      <th>124736</th>\n",
       "      <td>asia</td>\n",
       "      <td>May</td>\n",
       "      <td>wednesday</td>\n",
       "      <td>0.02%</td>\n",
       "      <td>$-1181.15</td>\n",
       "      <td>1</td>\n",
       "    </tr>\n",
       "  </tbody>\n",
       "</table>\n",
       "</div>"
      ],
      "text/plain": [
       "           x24   x29        x30     x32        x37  y\n",
       "17683     asia   Jun  wednesday   0.01%   $-718.53  1\n",
       "64951     asia   May    tuesday  -0.01%   $-490.88  0\n",
       "26153   euorpe  July  wednesday  -0.01%    $554.64  1\n",
       "16329   euorpe   Apr  wednesday   -0.0%   $-1164.1  0\n",
       "32990     asia   May    tuesday   0.02%     $535.4  0\n",
       "153495    asia   Aug    thurday    0.0%   $-178.17  1\n",
       "150260    asia   Aug  wednesday   0.01%    $-96.97  0\n",
       "35527     asia   Jun  wednesday   0.01%  $-2668.52  0\n",
       "45426     asia   Jun  wednesday    0.0%   $-548.45  0\n",
       "124736    asia   May  wednesday   0.02%  $-1181.15  1"
      ]
     },
     "execution_count": 4,
     "metadata": {},
     "output_type": "execute_result"
    }
   ],
   "source": [
    "cat_with_target = df.select_dtypes(include=['object', 'int64']).columns.tolist()\n",
    "df[cat_with_target].sample(10)"
   ]
  },
  {
   "cell_type": "code",
   "execution_count": 5,
   "metadata": {},
   "outputs": [
    {
     "data": {
      "text/plain": [
       "asia       138965\n",
       "euorpe      16538\n",
       "america      4469\n",
       "Name: x24, dtype: int64"
      ]
     },
     "execution_count": 5,
     "metadata": {},
     "output_type": "execute_result"
    }
   ],
   "source": [
    "df['x24'].value_counts()"
   ]
  },
  {
   "cell_type": "code",
   "execution_count": 6,
   "metadata": {},
   "outputs": [
    {
     "data": {
      "text/plain": [
       "July       45569\n",
       "Jun        41329\n",
       "Aug        29406\n",
       "May        21939\n",
       "sept.      10819\n",
       "Apr         6761\n",
       "Oct         2407\n",
       "Mar         1231\n",
       "Nov          337\n",
       "Feb          140\n",
       "Dev           23\n",
       "January        9\n",
       "Name: x29, dtype: int64"
      ]
     },
     "execution_count": 6,
     "metadata": {},
     "output_type": "execute_result"
    }
   ],
   "source": [
    "df['x29'].value_counts()"
   ]
  },
  {
   "cell_type": "code",
   "execution_count": 7,
   "metadata": {},
   "outputs": [
    {
     "data": {
      "text/plain": [
       "wednesday    101535\n",
       "thurday       29429\n",
       "tuesday       27954\n",
       "friday          564\n",
       "monday          488\n",
       "Name: x30, dtype: int64"
      ]
     },
     "execution_count": 7,
     "metadata": {},
     "output_type": "execute_result"
    }
   ],
   "source": [
    "df['x30'].value_counts()"
   ]
  },
  {
   "cell_type": "markdown",
   "metadata": {},
   "source": [
    "## Note, going to make x32 item enum/categorical, see below\n",
    "\n",
    "Also dropping NAs"
   ]
  },
  {
   "cell_type": "code",
   "execution_count": 8,
   "metadata": {},
   "outputs": [
    {
     "data": {
      "text/plain": [
       "0.01%     40767\n",
       "-0.01%    34094\n",
       "0.0%      33923\n",
       "-0.0%     30492\n",
       "-0.02%     9924\n",
       "0.02%      7987\n",
       "-0.03%     1727\n",
       "0.03%       855\n",
       "-0.04%      138\n",
       "0.04%        55\n",
       "-0.05%        6\n",
       "0.05%         1\n",
       "Name: x32, dtype: int64"
      ]
     },
     "execution_count": 8,
     "metadata": {},
     "output_type": "execute_result"
    }
   ],
   "source": [
    "df['x32'].value_counts()"
   ]
  },
  {
   "cell_type": "code",
   "execution_count": 9,
   "metadata": {},
   "outputs": [
    {
     "name": "stdout",
     "output_type": "stream",
     "text": [
      "<class 'pandas.core.frame.DataFrame'>\n",
      "RangeIndex: 158392 entries, 0 to 158391\n",
      "Data columns (total 51 columns):\n",
      " #   Column  Non-Null Count   Dtype   \n",
      "---  ------  --------------   -----   \n",
      " 0   x0      158392 non-null  float64 \n",
      " 1   x1      158392 non-null  float64 \n",
      " 2   x2      158392 non-null  float64 \n",
      " 3   x3      158392 non-null  float64 \n",
      " 4   x4      158392 non-null  float64 \n",
      " 5   x5      158392 non-null  float64 \n",
      " 6   x6      158392 non-null  float64 \n",
      " 7   x7      158392 non-null  float64 \n",
      " 8   x8      158392 non-null  float64 \n",
      " 9   x9      158392 non-null  float64 \n",
      " 10  x10     158392 non-null  float64 \n",
      " 11  x11     158392 non-null  float64 \n",
      " 12  x12     158392 non-null  float64 \n",
      " 13  x13     158392 non-null  float64 \n",
      " 14  x14     158392 non-null  float64 \n",
      " 15  x15     158392 non-null  float64 \n",
      " 16  x16     158392 non-null  float64 \n",
      " 17  x17     158392 non-null  float64 \n",
      " 18  x18     158392 non-null  float64 \n",
      " 19  x19     158392 non-null  float64 \n",
      " 20  x20     158392 non-null  float64 \n",
      " 21  x21     158392 non-null  float64 \n",
      " 22  x22     158392 non-null  float64 \n",
      " 23  x23     158392 non-null  float64 \n",
      " 24  x24     158392 non-null  category\n",
      " 25  x25     158392 non-null  float64 \n",
      " 26  x26     158392 non-null  float64 \n",
      " 27  x27     158392 non-null  float64 \n",
      " 28  x28     158392 non-null  float64 \n",
      " 29  x29     158392 non-null  category\n",
      " 30  x30     158392 non-null  category\n",
      " 31  x31     158392 non-null  float64 \n",
      " 32  x32     158392 non-null  category\n",
      " 33  x33     158392 non-null  float64 \n",
      " 34  x34     158392 non-null  float64 \n",
      " 35  x35     158392 non-null  float64 \n",
      " 36  x36     158392 non-null  float64 \n",
      " 37  x37     158392 non-null  float64 \n",
      " 38  x38     158392 non-null  float64 \n",
      " 39  x39     158392 non-null  float64 \n",
      " 40  x40     158392 non-null  float64 \n",
      " 41  x41     158392 non-null  float64 \n",
      " 42  x42     158392 non-null  float64 \n",
      " 43  x43     158392 non-null  float64 \n",
      " 44  x44     158392 non-null  float64 \n",
      " 45  x45     158392 non-null  float64 \n",
      " 46  x46     158392 non-null  float64 \n",
      " 47  x47     158392 non-null  float64 \n",
      " 48  x48     158392 non-null  float64 \n",
      " 49  x49     158392 non-null  float64 \n",
      " 50  y       158392 non-null  int64   \n",
      "dtypes: category(4), float64(46), int64(1)\n",
      "memory usage: 57.4 MB\n"
     ]
    }
   ],
   "source": [
    "df.dropna(axis=0, inplace=True)\n",
    "df.reset_index(drop=True, inplace=True)\n",
    "\n",
    "df['x24'] = df['x24'].astype('category')\n",
    "df['x29'] = df['x29'].astype('category')\n",
    "df['x30'] = df['x30'].astype('category')\n",
    "\n",
    "df['x32'] = [float(x.replace('%','')) for x in df['x32']]\n",
    "df['x32'] = df['x32'].astype('category')\n",
    "\n",
    "df['x37'] = [float(x.replace('$','')) for x in df['x37']]\n",
    "\n",
    "df.info()"
   ]
  },
  {
   "cell_type": "code",
   "execution_count": 10,
   "metadata": {},
   "outputs": [
    {
     "data": {
      "text/plain": [
       "0.0      63780\n",
       "0.01     40367\n",
       "-0.01    33771\n",
       "-0.02     9812\n",
       "0.02      7911\n",
       "-0.03     1709\n",
       "0.03       845\n",
       "-0.04      136\n",
       "0.04        54\n",
       "-0.05        6\n",
       "0.05         1\n",
       "Name: x32, dtype: int64"
      ]
     },
     "execution_count": 10,
     "metadata": {},
     "output_type": "execute_result"
    }
   ],
   "source": [
    "df['x32'].value_counts()"
   ]
  },
  {
   "cell_type": "code",
   "execution_count": 11,
   "metadata": {},
   "outputs": [],
   "source": [
    "categorical_features = ['x24', 'x29', 'x30', 'x32']\n",
    "\n",
    "cat_with_target = ['x24', 'x29', 'x30', 'x32', 'y']\n",
    "\n",
    "numeric_features = [x for x in df.columns.values.tolist() if x not in cat_with_target]"
   ]
  },
  {
   "cell_type": "code",
   "execution_count": 12,
   "metadata": {},
   "outputs": [
    {
     "name": "stdout",
     "output_type": "stream",
     "text": [
      "<class 'pandas.core.frame.DataFrame'>\n",
      "RangeIndex: 158392 entries, 0 to 158391\n",
      "Data columns (total 78 columns):\n",
      " #   Column              Non-Null Count   Dtype  \n",
      "---  ------              --------------   -----  \n",
      " 0   x0                  158392 non-null  float64\n",
      " 1   x1                  158392 non-null  float64\n",
      " 2   x2                  158392 non-null  float64\n",
      " 3   x3                  158392 non-null  float64\n",
      " 4   x4                  158392 non-null  float64\n",
      " 5   x5                  158392 non-null  float64\n",
      " 6   x6                  158392 non-null  float64\n",
      " 7   x7                  158392 non-null  float64\n",
      " 8   x8                  158392 non-null  float64\n",
      " 9   x9                  158392 non-null  float64\n",
      " 10  x10                 158392 non-null  float64\n",
      " 11  x11                 158392 non-null  float64\n",
      " 12  x12                 158392 non-null  float64\n",
      " 13  x13                 158392 non-null  float64\n",
      " 14  x14                 158392 non-null  float64\n",
      " 15  x15                 158392 non-null  float64\n",
      " 16  x16                 158392 non-null  float64\n",
      " 17  x17                 158392 non-null  float64\n",
      " 18  x18                 158392 non-null  float64\n",
      " 19  x19                 158392 non-null  float64\n",
      " 20  x20                 158392 non-null  float64\n",
      " 21  x21                 158392 non-null  float64\n",
      " 22  x22                 158392 non-null  float64\n",
      " 23  x23                 158392 non-null  float64\n",
      " 24  x25                 158392 non-null  float64\n",
      " 25  x26                 158392 non-null  float64\n",
      " 26  x27                 158392 non-null  float64\n",
      " 27  x28                 158392 non-null  float64\n",
      " 28  x31                 158392 non-null  float64\n",
      " 29  x33                 158392 non-null  float64\n",
      " 30  x34                 158392 non-null  float64\n",
      " 31  x35                 158392 non-null  float64\n",
      " 32  x36                 158392 non-null  float64\n",
      " 33  x37                 158392 non-null  float64\n",
      " 34  x38                 158392 non-null  float64\n",
      " 35  x39                 158392 non-null  float64\n",
      " 36  x40                 158392 non-null  float64\n",
      " 37  x41                 158392 non-null  float64\n",
      " 38  x42                 158392 non-null  float64\n",
      " 39  x43                 158392 non-null  float64\n",
      " 40  x44                 158392 non-null  float64\n",
      " 41  x45                 158392 non-null  float64\n",
      " 42  x46                 158392 non-null  float64\n",
      " 43  x47                 158392 non-null  float64\n",
      " 44  x48                 158392 non-null  float64\n",
      " 45  x49                 158392 non-null  float64\n",
      " 46  y                   158392 non-null  int64  \n",
      " 47  x24_type_america    158392 non-null  uint8  \n",
      " 48  x24_type_asia       158392 non-null  uint8  \n",
      " 49  x24_type_euorpe     158392 non-null  uint8  \n",
      " 50  x29_type_Apr        158392 non-null  uint8  \n",
      " 51  x29_type_Aug        158392 non-null  uint8  \n",
      " 52  x29_type_Dev        158392 non-null  uint8  \n",
      " 53  x29_type_Feb        158392 non-null  uint8  \n",
      " 54  x29_type_January    158392 non-null  uint8  \n",
      " 55  x29_type_July       158392 non-null  uint8  \n",
      " 56  x29_type_Jun        158392 non-null  uint8  \n",
      " 57  x29_type_Mar        158392 non-null  uint8  \n",
      " 58  x29_type_May        158392 non-null  uint8  \n",
      " 59  x29_type_Nov        158392 non-null  uint8  \n",
      " 60  x29_type_Oct        158392 non-null  uint8  \n",
      " 61  x29_type_sept.      158392 non-null  uint8  \n",
      " 62  x30_type_friday     158392 non-null  uint8  \n",
      " 63  x30_type_monday     158392 non-null  uint8  \n",
      " 64  x30_type_thurday    158392 non-null  uint8  \n",
      " 65  x30_type_tuesday    158392 non-null  uint8  \n",
      " 66  x30_type_wednesday  158392 non-null  uint8  \n",
      " 67  x32_type_-0.05      158392 non-null  uint8  \n",
      " 68  x32_type_-0.04      158392 non-null  uint8  \n",
      " 69  x32_type_-0.03      158392 non-null  uint8  \n",
      " 70  x32_type_-0.02      158392 non-null  uint8  \n",
      " 71  x32_type_-0.01      158392 non-null  uint8  \n",
      " 72  x32_type_0.0        158392 non-null  uint8  \n",
      " 73  x32_type_0.01       158392 non-null  uint8  \n",
      " 74  x32_type_0.02       158392 non-null  uint8  \n",
      " 75  x32_type_0.03       158392 non-null  uint8  \n",
      " 76  x32_type_0.04       158392 non-null  uint8  \n",
      " 77  x32_type_0.05       158392 non-null  uint8  \n",
      "dtypes: float64(46), int64(1), uint8(31)\n",
      "memory usage: 61.5 MB\n"
     ]
    }
   ],
   "source": [
    "dum_df = pd.get_dummies(df, columns=['x24', 'x29', 'x30', 'x32'], prefix=['x24_type', 'x29_type', 'x30_type', 'x32_type'])\n",
    "\n",
    "dum_df.info()"
   ]
  },
  {
   "cell_type": "markdown",
   "metadata": {},
   "source": [
    "# Modeling Preparations\n",
    "\n",
    "Which methods are you proposing to utilize to solve the problem?  Why is this method appropriate given the business objective? How will you determine if your approach is useful (or how will you differentiate which approach is more useful than another)?  More specifically, what evaluation metrics are most useful given that the problem is a binary-classification one (ex., Accuracy, F1-score, Precision, Recall, AUC, etc.)?\n",
    "\n",
    "Fill in - Need to explain how we used H2O to find optimal models, choose GBM, etc."
   ]
  },
  {
   "cell_type": "code",
   "execution_count": 13,
   "metadata": {},
   "outputs": [
    {
     "name": "stdout",
     "output_type": "stream",
     "text": [
      "0.9484200890179614\n"
     ]
    }
   ],
   "source": [
    "from sklearn.ensemble import GradientBoostingClassifier \n",
    "\n",
    "\n",
    "# One-hot encoding of categorical variables\n",
    "dum_df = pd.get_dummies(df, columns=['x24', 'x29', 'x30', 'x32'], prefix=['x24_type', 'x29_type', 'x30_type', 'x32_type'])\n",
    "\n",
    "#dum_df = dum_df.sample(frac=.01)\n",
    "\n",
    "X = dum_df.loc[:, dum_df.columns != 'y']\n",
    "\n",
    "y = dum_df['y']\n",
    "\n",
    "X_train, X_test, y_train, y_test = train_test_split(X,\n",
    "                                                    y,\n",
    "                                                    test_size=0.2,\n",
    "                                                    stratify=y,\n",
    "                                                    random_state=11)\n",
    "\n",
    "model = GradientBoostingClassifier(n_estimators=145, max_depth=14, min_samples_leaf=30)\n",
    "\n",
    "model.fit(X_train, y_train)\n",
    "\n",
    "print(model.score(X_test, y_test))"
   ]
  },
  {
   "cell_type": "code",
   "execution_count": null,
   "metadata": {},
   "outputs": [],
   "source": [
    "# This takes about an hour to run, checking cross-validation scores\n",
    "\n",
    "# from sklearn.model_selection import RepeatedStratifiedKFold\n",
    "# from sklearn.model_selection import cross_val_score\n",
    "\n",
    "# cv = RepeatedStratifiedKFold(n_splits=10, n_repeats=3, random_state=1)\n",
    "\n",
    "# n_scores = cross_val_score(model, X, y, scoring='accuracy', cv=cv, n_jobs=-1, error_score='raise')\n",
    "\n",
    "# print('Accuracy: %.3f (%.3f)' % (np.mean(n_scores), np.std(n_scores)))"
   ]
  },
  {
   "cell_type": "markdown",
   "metadata": {},
   "source": [
    "# Model Building & Evaluation\n",
    "\n",
    "\"In this case, your primary task is to train a model (or models) capable of generalizing on a binary-target that will minimize the monetary loss for your customer and will involve the following steps:\n",
    "\n",
    "- Specify your sampling methodology\n",
    "- Setup your model(s) - highlighting any important parameters\n",
    "- Analyze the performance of your model(s) - referencing your chosen evaluation metric (including supplemental visuals and analysis where appropriate)\""
   ]
  },
  {
   "cell_type": "markdown",
   "metadata": {},
   "source": [
    "## Confusion Matrix Test"
   ]
  },
  {
   "cell_type": "code",
   "execution_count": 17,
   "metadata": {},
   "outputs": [
    {
     "name": "stdout",
     "output_type": "stream",
     "text": [
      "[[18275   695]\n",
      " [  939 11770]]\n",
      "              precision    recall  f1-score   support\n",
      "\n",
      "           0       0.95      0.96      0.96     18970\n",
      "           1       0.94      0.93      0.94     12709\n",
      "\n",
      "    accuracy                           0.95     31679\n",
      "   macro avg       0.95      0.94      0.95     31679\n",
      "weighted avg       0.95      0.95      0.95     31679\n",
      "\n"
     ]
    }
   ],
   "source": [
    "from sklearn.metrics import classification_report, confusion_matrix\n",
    "\n",
    "print(confusion_matrix(y_test, model.predict(X_test)))\n",
    "print(classification_report(y_test, model.predict(X_test)))"
   ]
  },
  {
   "cell_type": "markdown",
   "metadata": {},
   "source": [
    "## Confusion Matrix Train"
   ]
  },
  {
   "cell_type": "code",
   "execution_count": 18,
   "metadata": {},
   "outputs": [
    {
     "name": "stdout",
     "output_type": "stream",
     "text": [
      "[[75876     0]\n",
      " [    0 50837]]\n",
      "              precision    recall  f1-score   support\n",
      "\n",
      "           0       1.00      1.00      1.00     75876\n",
      "           1       1.00      1.00      1.00     50837\n",
      "\n",
      "    accuracy                           1.00    126713\n",
      "   macro avg       1.00      1.00      1.00    126713\n",
      "weighted avg       1.00      1.00      1.00    126713\n",
      "\n"
     ]
    }
   ],
   "source": [
    "from sklearn.metrics import classification_report, confusion_matrix\n",
    "\n",
    "print(confusion_matrix(y_train, model.predict(X_train)))\n",
    "print(classification_report(y_train, model.predict(X_train)))"
   ]
  },
  {
   "cell_type": "markdown",
   "metadata": {},
   "source": [
    "# Monetary Outcome\n",
    "\n",
    "What is the expected monetary cost (or loss) associated with your model and how might you best translate this to your customer?  Remember, predicting class 1 incorrectly costs the customer $100 while incorrectly predicting class 0 costs the customer $25; or said another way, False Positives = -$100 and False Negatives = -$25\n",
    "\n",
    "\n",
    "Computate proabilities, and then compute cost for each threshold."
   ]
  },
  {
   "cell_type": "code",
   "execution_count": 19,
   "metadata": {},
   "outputs": [
    {
     "data": {
      "text/plain": [
       "[<matplotlib.lines.Line2D at 0x229cec089d0>]"
      ]
     },
     "execution_count": 19,
     "metadata": {},
     "output_type": "execute_result"
    },
    {
     "data": {
      "image/png": "[encoded data removed]",
      "text/plain": [
       "<Figure size 432x288 with 1 Axes>"
      ]
     },
     "metadata": {
      "needs_background": "light"
     },
     "output_type": "display_data"
    }
   ],
   "source": [
    "import matplotlib.pyplot as plt\n",
    "\n",
    "def compute_costs(thresholds, y_prob, y_true):\n",
    "    all_costs = []\n",
    "\n",
    "    for x in thresholds:\n",
    "        cost = 0\n",
    "\n",
    "        y_map = np.where(y_prob > x, 1, 0)\n",
    "\n",
    "        for i in range(len(y_map)):\n",
    "            \n",
    "            # Cost of False Positive\n",
    "            if y_map[i] - y_true[i] == 1:\n",
    "                cost = cost + 100\n",
    "                \n",
    "            # Cose of False Negative\n",
    "            elif y_map[i] - y_true[i] == -1:\n",
    "                cost = cost + 25\n",
    "\n",
    "        all_costs.append(cost)\n",
    "\n",
    "    return all_costs\n",
    "\n",
    "y_prob = model.predict_proba(X_test)[:,1]\n",
    "thresholds = np.arange(0.01, .99, 0.01)\n",
    "costs = compute_costs(thresholds, y_prob, y_test.values)\n",
    "\n",
    "plt.plot(thresholds, costs)"
   ]
  },
  {
   "cell_type": "markdown",
   "metadata": {},
   "source": [
    "## Find Min Cost and Threshold for Test Set"
   ]
  },
  {
   "cell_type": "code",
   "execution_count": 23,
   "metadata": {},
   "outputs": [
    {
     "name": "stdout",
     "output_type": "stream",
     "text": [
      "Min Cost of 73425 occurs at threshold 0.8200000000000001\n"
     ]
    }
   ],
   "source": [
    "min_idx = np.argmin(costs)\n",
    "print(\"Min Cost of\",costs[min_idx], \"occurs at threshold\", thresholds[min_idx])"
   ]
  },
  {
   "cell_type": "markdown",
   "metadata": {},
   "source": [
    "## Costs across all samples"
   ]
  },
  {
   "cell_type": "code",
   "execution_count": 24,
   "metadata": {},
   "outputs": [
    {
     "data": {
      "text/plain": [
       "[<matplotlib.lines.Line2D at 0x229dd78c2b0>]"
      ]
     },
     "execution_count": 24,
     "metadata": {},
     "output_type": "execute_result"
    },
    {
     "data": {
      "image/png": "[encoded data removed]",
      "text/plain": [
       "<Figure size 432x288 with 1 Axes>"
      ]
     },
     "metadata": {
      "needs_background": "light"
     },
     "output_type": "display_data"
    }
   ],
   "source": [
    "y_prob = model.predict_proba(X)[:,1]\n",
    "thresholds = np.arange(0.01, .99, 0.01)\n",
    "costs = compute_costs(thresholds, y_prob, y.values)\n",
    "\n",
    "plt.plot(thresholds, costs)"
   ]
  },
  {
   "cell_type": "markdown",
   "metadata": {},
   "source": [
    "## Find Min Cost and Threshold for Entire Set"
   ]
  },
  {
   "cell_type": "code",
   "execution_count": 25,
   "metadata": {},
   "outputs": [
    {
     "name": "stdout",
     "output_type": "stream",
     "text": [
      "Min Cost of 74200 occurs at threshold 0.79\n"
     ]
    }
   ],
   "source": [
    "min_idx = np.argmin(costs)\n",
    "print(\"Min Cost of\",costs[min_idx], \"occurs at threshold\", thresholds[min_idx])"
   ]
  },
  {
   "cell_type": "markdown",
   "metadata": {},
   "source": [
    "## Cost per sample"
   ]
  },
  {
   "cell_type": "code",
   "execution_count": 27,
   "metadata": {},
   "outputs": [
    {
     "name": "stdout",
     "output_type": "stream",
     "text": [
      "0.4684580029294409\n"
     ]
    }
   ],
   "source": [
    "print(costs[min_idx] / len(y))"
   ]
  },
  {
   "cell_type": "markdown",
   "metadata": {},
   "source": [
    "# Case Conclusions\n",
    "\n",
    "You have a wide range of formatting options to use (Jupyter Notebook, PDF report, Word Doc, Slide Deck, etc.), but ultimately, you are going to put one thing in your audience's hand first - be thoughtful about what they need to see and why - reports that are too long will likely distract from the main story and reports that are too short are likely to lack important details (you'll need to balance this for each case)"
   ]
  },
  {
   "cell_type": "markdown",
   "metadata": {},
   "source": [
    "# Extra stuff if needed"
   ]
  },
  {
   "cell_type": "code",
   "execution_count": null,
   "metadata": {},
   "outputs": [],
   "source": [
    "import h2o\n",
    "from h2o.automl import H2OAutoML\n",
    "\n",
    "try:\n",
    "    h2o.cluster().shutdown()\n",
    "    h2o.init()\n",
    "except:\n",
    "    h2o.init()"
   ]
  },
  {
   "cell_type": "code",
   "execution_count": 28,
   "metadata": {},
   "outputs": [
    {
     "name": "stdout",
     "output_type": "stream",
     "text": [
      "[LightGBM] [Warning] min_data_in_leaf is set with min_child_samples=20, will be overridden by min_samples_leaf=30. Current value: min_data_in_leaf=30\n",
      "[1]\tvalid_0's binary_logloss: 0.643329\n",
      "[2]\tvalid_0's binary_logloss: 0.616331\n",
      "[3]\tvalid_0's binary_logloss: 0.592686\n",
      "[4]\tvalid_0's binary_logloss: 0.573088\n",
      "[5]\tvalid_0's binary_logloss: 0.556293\n",
      "[6]\tvalid_0's binary_logloss: 0.539638\n",
      "[7]\tvalid_0's binary_logloss: 0.526062\n",
      "[8]\tvalid_0's binary_logloss: 0.513368\n",
      "[9]\tvalid_0's binary_logloss: 0.499837\n",
      "[10]\tvalid_0's binary_logloss: 0.489485\n",
      "[11]\tvalid_0's binary_logloss: 0.479113\n",
      "[12]\tvalid_0's binary_logloss: 0.469441\n",
      "[13]\tvalid_0's binary_logloss: 0.459501\n",
      "[14]\tvalid_0's binary_logloss: 0.450584\n",
      "[15]\tvalid_0's binary_logloss: 0.443017\n",
      "[16]\tvalid_0's binary_logloss: 0.434817\n",
      "[17]\tvalid_0's binary_logloss: 0.426088\n",
      "[18]\tvalid_0's binary_logloss: 0.419359\n",
      "[19]\tvalid_0's binary_logloss: 0.413332\n",
      "[20]\tvalid_0's binary_logloss: 0.406681\n",
      "[21]\tvalid_0's binary_logloss: 0.398082\n",
      "[22]\tvalid_0's binary_logloss: 0.391947\n",
      "[23]\tvalid_0's binary_logloss: 0.385662\n",
      "[24]\tvalid_0's binary_logloss: 0.378811\n",
      "[25]\tvalid_0's binary_logloss: 0.373124\n",
      "[26]\tvalid_0's binary_logloss: 0.367135\n",
      "[27]\tvalid_0's binary_logloss: 0.362412\n",
      "[28]\tvalid_0's binary_logloss: 0.358459\n",
      "[29]\tvalid_0's binary_logloss: 0.354287\n",
      "[30]\tvalid_0's binary_logloss: 0.351117\n",
      "[31]\tvalid_0's binary_logloss: 0.347747\n",
      "[32]\tvalid_0's binary_logloss: 0.343976\n",
      "[33]\tvalid_0's binary_logloss: 0.341041\n",
      "[34]\tvalid_0's binary_logloss: 0.338358\n",
      "[35]\tvalid_0's binary_logloss: 0.335835\n",
      "[36]\tvalid_0's binary_logloss: 0.331992\n",
      "[37]\tvalid_0's binary_logloss: 0.328298\n",
      "[38]\tvalid_0's binary_logloss: 0.324989\n",
      "[39]\tvalid_0's binary_logloss: 0.321805\n",
      "[40]\tvalid_0's binary_logloss: 0.318012\n",
      "[41]\tvalid_0's binary_logloss: 0.314621\n",
      "[42]\tvalid_0's binary_logloss: 0.31216\n",
      "[43]\tvalid_0's binary_logloss: 0.308947\n",
      "[44]\tvalid_0's binary_logloss: 0.306301\n",
      "[45]\tvalid_0's binary_logloss: 0.3037\n",
      "[46]\tvalid_0's binary_logloss: 0.301501\n",
      "[47]\tvalid_0's binary_logloss: 0.299433\n",
      "[48]\tvalid_0's binary_logloss: 0.297565\n",
      "[49]\tvalid_0's binary_logloss: 0.29616\n",
      "[50]\tvalid_0's binary_logloss: 0.294914\n",
      "[51]\tvalid_0's binary_logloss: 0.292999\n",
      "[52]\tvalid_0's binary_logloss: 0.290575\n",
      "[53]\tvalid_0's binary_logloss: 0.289366\n",
      "[54]\tvalid_0's binary_logloss: 0.287989\n",
      "[55]\tvalid_0's binary_logloss: 0.286848\n",
      "[56]\tvalid_0's binary_logloss: 0.285646\n",
      "[57]\tvalid_0's binary_logloss: 0.283976\n",
      "[58]\tvalid_0's binary_logloss: 0.282163\n",
      "[59]\tvalid_0's binary_logloss: 0.280787\n",
      "[60]\tvalid_0's binary_logloss: 0.279339\n",
      "[61]\tvalid_0's binary_logloss: 0.278205\n",
      "[62]\tvalid_0's binary_logloss: 0.277017\n",
      "[63]\tvalid_0's binary_logloss: 0.275358\n",
      "[64]\tvalid_0's binary_logloss: 0.273693\n",
      "[65]\tvalid_0's binary_logloss: 0.272812\n",
      "[66]\tvalid_0's binary_logloss: 0.271731\n",
      "[67]\tvalid_0's binary_logloss: 0.271055\n",
      "[68]\tvalid_0's binary_logloss: 0.270109\n",
      "[69]\tvalid_0's binary_logloss: 0.269504\n",
      "[70]\tvalid_0's binary_logloss: 0.268663\n",
      "[71]\tvalid_0's binary_logloss: 0.267501\n",
      "[72]\tvalid_0's binary_logloss: 0.266868\n",
      "[73]\tvalid_0's binary_logloss: 0.266088\n",
      "[74]\tvalid_0's binary_logloss: 0.26523\n",
      "[75]\tvalid_0's binary_logloss: 0.264324\n",
      "[76]\tvalid_0's binary_logloss: 0.263402\n",
      "[77]\tvalid_0's binary_logloss: 0.262967\n",
      "[78]\tvalid_0's binary_logloss: 0.262365\n",
      "[79]\tvalid_0's binary_logloss: 0.261834\n",
      "[80]\tvalid_0's binary_logloss: 0.260793\n",
      "[81]\tvalid_0's binary_logloss: 0.259633\n",
      "[82]\tvalid_0's binary_logloss: 0.258772\n",
      "[83]\tvalid_0's binary_logloss: 0.258264\n",
      "[84]\tvalid_0's binary_logloss: 0.25781\n",
      "[85]\tvalid_0's binary_logloss: 0.257374\n",
      "[86]\tvalid_0's binary_logloss: 0.256958\n",
      "[87]\tvalid_0's binary_logloss: 0.256621\n",
      "[88]\tvalid_0's binary_logloss: 0.256168\n",
      "[89]\tvalid_0's binary_logloss: 0.255535\n",
      "[90]\tvalid_0's binary_logloss: 0.254803\n",
      "[91]\tvalid_0's binary_logloss: 0.254321\n",
      "[92]\tvalid_0's binary_logloss: 0.253058\n",
      "[93]\tvalid_0's binary_logloss: 0.252129\n",
      "[94]\tvalid_0's binary_logloss: 0.251828\n",
      "[95]\tvalid_0's binary_logloss: 0.251445\n",
      "[96]\tvalid_0's binary_logloss: 0.251075\n",
      "[97]\tvalid_0's binary_logloss: 0.250095\n",
      "[98]\tvalid_0's binary_logloss: 0.249723\n",
      "[99]\tvalid_0's binary_logloss: 0.249495\n",
      "[100]\tvalid_0's binary_logloss: 0.248915\n",
      "[101]\tvalid_0's binary_logloss: 0.248336\n",
      "[102]\tvalid_0's binary_logloss: 0.247977\n",
      "[103]\tvalid_0's binary_logloss: 0.247684\n",
      "[104]\tvalid_0's binary_logloss: 0.247264\n",
      "[105]\tvalid_0's binary_logloss: 0.24679\n",
      "[106]\tvalid_0's binary_logloss: 0.246128\n",
      "[107]\tvalid_0's binary_logloss: 0.24581\n",
      "[108]\tvalid_0's binary_logloss: 0.245013\n",
      "[109]\tvalid_0's binary_logloss: 0.244663\n",
      "[110]\tvalid_0's binary_logloss: 0.243729\n",
      "[111]\tvalid_0's binary_logloss: 0.243385\n",
      "[112]\tvalid_0's binary_logloss: 0.243016\n",
      "[113]\tvalid_0's binary_logloss: 0.242485\n",
      "[114]\tvalid_0's binary_logloss: 0.242124\n",
      "[115]\tvalid_0's binary_logloss: 0.24163\n",
      "[116]\tvalid_0's binary_logloss: 0.241395\n",
      "[117]\tvalid_0's binary_logloss: 0.241041\n",
      "[118]\tvalid_0's binary_logloss: 0.239787\n",
      "[119]\tvalid_0's binary_logloss: 0.239593\n",
      "[120]\tvalid_0's binary_logloss: 0.238862\n",
      "[121]\tvalid_0's binary_logloss: 0.237423\n",
      "[122]\tvalid_0's binary_logloss: 0.237048\n",
      "[123]\tvalid_0's binary_logloss: 0.236466\n",
      "[124]\tvalid_0's binary_logloss: 0.236236\n",
      "[125]\tvalid_0's binary_logloss: 0.235965\n",
      "[126]\tvalid_0's binary_logloss: 0.23554\n",
      "[127]\tvalid_0's binary_logloss: 0.23535\n",
      "[128]\tvalid_0's binary_logloss: 0.23519\n",
      "[129]\tvalid_0's binary_logloss: 0.234755\n",
      "[130]\tvalid_0's binary_logloss: 0.23432\n",
      "[131]\tvalid_0's binary_logloss: 0.234015\n",
      "[132]\tvalid_0's binary_logloss: 0.23385\n",
      "[133]\tvalid_0's binary_logloss: 0.233876\n",
      "[134]\tvalid_0's binary_logloss: 0.233864\n",
      "[135]\tvalid_0's binary_logloss: 0.233636\n",
      "[136]\tvalid_0's binary_logloss: 0.233484\n",
      "[137]\tvalid_0's binary_logloss: 0.232462\n",
      "[138]\tvalid_0's binary_logloss: 0.232295\n",
      "[139]\tvalid_0's binary_logloss: 0.231769\n",
      "[140]\tvalid_0's binary_logloss: 0.231539\n",
      "[141]\tvalid_0's binary_logloss: 0.230327\n",
      "[142]\tvalid_0's binary_logloss: 0.230128\n",
      "[143]\tvalid_0's binary_logloss: 0.230003\n",
      "[144]\tvalid_0's binary_logloss: 0.229698\n",
      "[145]\tvalid_0's binary_logloss: 0.228641\n"
     ]
    }
   ],
   "source": [
    "import lightgbm\n",
    "\n",
    "gbm = lightgbm.LGBMClassifier(n_estimators=145, max_depth=14, min_samples_leaf=30)\n",
    "\n",
    "gbm.fit(\n",
    "    X_train,\n",
    "    y_train,\n",
    "    eval_set=[(X_test, y_test)]\n",
    ")\n",
    "\n",
    "y_pred_light = gbm.predict(X_test)"
   ]
  },
  {
   "cell_type": "code",
   "execution_count": 31,
   "metadata": {},
   "outputs": [
    {
     "name": "stdout",
     "output_type": "stream",
     "text": [
      "[[89829  5017]\n",
      " [ 7184 56362]]\n"
     ]
    }
   ],
   "source": [
    "print(confusion_matrix(y, gbm.predict(X)))"
   ]
  },
  {
   "cell_type": "code",
   "execution_count": 44,
   "metadata": {},
   "outputs": [
    {
     "name": "stdout",
     "output_type": "stream",
     "text": [
      "Epoch 1/100\n",
      "951/951 [==============================] - 5s 5ms/step - loss: 1.6821 - accuracy: 0.6791 - val_loss: 0.4757 - val_accuracy: 0.7841\n",
      "Epoch 2/100\n",
      "951/951 [==============================] - 3s 4ms/step - loss: 0.4619 - accuracy: 0.7852 - val_loss: 0.3769 - val_accuracy: 0.8405\n",
      "Epoch 3/100\n",
      "951/951 [==============================] - 3s 3ms/step - loss: 0.3835 - accuracy: 0.8326 - val_loss: 0.3070 - val_accuracy: 0.8722\n",
      "Epoch 4/100\n",
      "951/951 [==============================] - 3s 4ms/step - loss: 0.3304 - accuracy: 0.8609 - val_loss: 0.2707 - val_accuracy: 0.8903\n",
      "Epoch 5/100\n",
      "951/951 [==============================] - 3s 4ms/step - loss: 0.2851 - accuracy: 0.8829 - val_loss: 0.2330 - val_accuracy: 0.9083\n",
      "Epoch 6/100\n",
      "951/951 [==============================] - 3s 4ms/step - loss: 0.2469 - accuracy: 0.9011 - val_loss: 0.1997 - val_accuracy: 0.9210\n",
      "Epoch 7/100\n",
      "951/951 [==============================] - 3s 4ms/step - loss: 0.2223 - accuracy: 0.9131 - val_loss: 0.1784 - val_accuracy: 0.9322\n",
      "Epoch 8/100\n",
      "951/951 [==============================] - 4s 4ms/step - loss: 0.2027 - accuracy: 0.9229 - val_loss: 0.1715 - val_accuracy: 0.9368\n",
      "Epoch 9/100\n",
      "951/951 [==============================] - 3s 3ms/step - loss: 0.1910 - accuracy: 0.9285 - val_loss: 0.1593 - val_accuracy: 0.9399\n",
      "Epoch 10/100\n",
      "951/951 [==============================] - 3s 4ms/step - loss: 0.1838 - accuracy: 0.9314 - val_loss: 0.1589 - val_accuracy: 0.9434\n",
      "Epoch 11/100\n",
      "951/951 [==============================] - 3s 3ms/step - loss: 0.1764 - accuracy: 0.9362 - val_loss: 0.1559 - val_accuracy: 0.9436\n",
      "Epoch 12/100\n",
      "951/951 [==============================] - 3s 4ms/step - loss: 0.1697 - accuracy: 0.9383 - val_loss: 0.1490 - val_accuracy: 0.9467\n",
      "Epoch 13/100\n",
      "951/951 [==============================] - 3s 4ms/step - loss: 0.1641 - accuracy: 0.9412 - val_loss: 0.1409 - val_accuracy: 0.9498\n",
      "Epoch 14/100\n",
      "951/951 [==============================] - 4s 4ms/step - loss: 0.1607 - accuracy: 0.9427 - val_loss: 0.1414 - val_accuracy: 0.9507\n",
      "Epoch 15/100\n",
      "951/951 [==============================] - 3s 4ms/step - loss: 0.1567 - accuracy: 0.9448 - val_loss: 0.1364 - val_accuracy: 0.9525\n",
      "Epoch 16/100\n",
      "951/951 [==============================] - 4s 4ms/step - loss: 0.1539 - accuracy: 0.9456 - val_loss: 0.1332 - val_accuracy: 0.9538\n",
      "Epoch 17/100\n",
      "951/951 [==============================] - 3s 4ms/step - loss: 0.1522 - accuracy: 0.9462 - val_loss: 0.1295 - val_accuracy: 0.9555\n",
      "Epoch 18/100\n",
      "951/951 [==============================] - 3s 4ms/step - loss: 0.1474 - accuracy: 0.9481 - val_loss: 0.1392 - val_accuracy: 0.9511\n",
      "Epoch 19/100\n",
      "951/951 [==============================] - 3s 4ms/step - loss: 0.1465 - accuracy: 0.9488 - val_loss: 0.1343 - val_accuracy: 0.9539\n",
      "Epoch 20/100\n",
      "951/951 [==============================] - 3s 4ms/step - loss: 0.1424 - accuracy: 0.9505 - val_loss: 0.1290 - val_accuracy: 0.9562\n",
      "Epoch 21/100\n",
      "951/951 [==============================] - 3s 4ms/step - loss: 0.1408 - accuracy: 0.9517 - val_loss: 0.1273 - val_accuracy: 0.9581\n",
      "Epoch 22/100\n",
      "951/951 [==============================] - 3s 3ms/step - loss: 0.1379 - accuracy: 0.9526 - val_loss: 0.1261 - val_accuracy: 0.9585\n",
      "Epoch 23/100\n",
      "951/951 [==============================] - 4s 4ms/step - loss: 0.1356 - accuracy: 0.9538 - val_loss: 0.1293 - val_accuracy: 0.9574\n",
      "Epoch 24/100\n",
      "951/951 [==============================] - 3s 4ms/step - loss: 0.1346 - accuracy: 0.9543 - val_loss: 0.1309 - val_accuracy: 0.9557\n",
      "Epoch 25/100\n",
      "951/951 [==============================] - 3s 4ms/step - loss: 0.1342 - accuracy: 0.9550 - val_loss: 0.1249 - val_accuracy: 0.9581\n",
      "Epoch 26/100\n",
      "951/951 [==============================] - 3s 4ms/step - loss: 0.1318 - accuracy: 0.9552 - val_loss: 0.1235 - val_accuracy: 0.9597\n",
      "Epoch 27/100\n",
      "951/951 [==============================] - 3s 4ms/step - loss: 0.1302 - accuracy: 0.9561 - val_loss: 0.1283 - val_accuracy: 0.9568\n",
      "Epoch 28/100\n",
      "951/951 [==============================] - 3s 4ms/step - loss: 0.1309 - accuracy: 0.9565 - val_loss: 0.1265 - val_accuracy: 0.9575\n",
      "Epoch 29/100\n",
      "951/951 [==============================] - 4s 4ms/step - loss: 0.1265 - accuracy: 0.9578 - val_loss: 0.1248 - val_accuracy: 0.9586\n",
      "317/317 [==============================] - 1s 2ms/step - loss: 0.1251 - accuracy: 0.9605\n"
     ]
    },
    {
     "data": {
      "text/plain": [
       "[0.12507374584674835, 0.9604785442352295]"
      ]
     },
     "execution_count": 44,
     "metadata": {},
     "output_type": "execute_result"
    }
   ],
   "source": [
    "import tensorflow as tf\n",
    "from tensorflow.keras.callbacks import EarlyStopping\n",
    "\n",
    "root_logdir = os.path.join(os.curdir, \"my_logs_case7\")\n",
    "\n",
    "def get_run_logdir():\n",
    "    import time\n",
    "    run_id = time.strftime(\"run_%Y_%m_%d-%H_%M_%S\")\n",
    "    return os.path.join(root_logdir, run_id)\n",
    "\n",
    "run_logdir = get_run_logdir()\n",
    "\n",
    "X = dum_df.loc[:, dum_df.columns != 'y']\n",
    "\n",
    "y = dum_df['y']\n",
    "\n",
    "X_train, X_test, y_train, y_test = train_test_split(X, y, test_size=0.2, random_state=1)\n",
    "\n",
    "X_train, X_val, y_train, y_val = train_test_split(X_train, y_train, test_size=0.25, random_state=1) # 0.25 x 0.8 = 0.2                                                    \n",
    "\n",
    "final_model = tf.keras.Sequential([\n",
    "    tf.keras.layers.Flatten(input_shape=(77,)),\n",
    "    tf.keras.layers.Dense(256, activation='relu'),\n",
    "    tf.keras.layers.Dropout(.2, input_shape=(2,)),\n",
    "    tf.keras.layers.Dense(256, activation='relu'),\n",
    "    tf.keras.layers.Dropout(.2, input_shape=(2,)),\n",
    "    tf.keras.layers.Dense(1, activation='sigmoid')\n",
    "])\n",
    "\n",
    "final_model.compile(optimizer='adam',\n",
    "              loss=tf.keras.losses.BinaryCrossentropy(),\n",
    "              metrics=['accuracy'])\n",
    "\n",
    "tensorboard_cb = tf.keras.callbacks.TensorBoard(get_run_logdir())\n",
    "\n",
    "safety = EarlyStopping(monitor='val_loss', patience=3, min_delta=2e-4)\n",
    "\n",
    "final_model.fit(X_train, y_train, epochs=100, validation_data=(X_test, y_test), \n",
    "          callbacks=[tensorboard_cb, safety], batch_size=100)\n",
    "\n",
    "final_model.evaluate(X_val, y_val, batch_size=100)"
   ]
  },
  {
   "cell_type": "code",
   "execution_count": 45,
   "metadata": {},
   "outputs": [
    {
     "name": "stdout",
     "output_type": "stream",
     "text": [
      "[[18389   570]\n",
      " [  682 12038]]\n"
     ]
    }
   ],
   "source": [
    "y_pred_val = (final_model.predict(X_val) > 0.5).astype('int32')\n",
    "\n",
    "print(confusion_matrix(y_val, y_pred_val))"
   ]
  },
  {
   "cell_type": "code",
   "execution_count": 57,
   "metadata": {},
   "outputs": [
    {
     "data": {
      "text/plain": [
       "[<matplotlib.lines.Line2D at 0x22988e02820>]"
      ]
     },
     "execution_count": 57,
     "metadata": {},
     "output_type": "execute_result"
    },
    {
     "data": {
      "image/png": "[encoded data removed]",
      "text/plain": [
       "<Figure size 432x288 with 1 Axes>"
      ]
     },
     "metadata": {
      "needs_background": "light"
     },
     "output_type": "display_data"
    }
   ],
   "source": [
    "# With tensor flow, use predict_proba is deprecated\n",
    "y_prob = final_model.predict(X_val)\n",
    "thresholds = np.arange(0.01, .99, 0.01)\n",
    "costs = compute_costs(thresholds, y_prob, y_val.values)\n",
    "\n",
    "plt.plot(thresholds, costs)"
   ]
  },
  {
   "cell_type": "code",
   "execution_count": 54,
   "metadata": {},
   "outputs": [
    {
     "name": "stdout",
     "output_type": "stream",
     "text": [
      "Min Cost of 63175 occurs at threshold 0.79\n"
     ]
    }
   ],
   "source": [
    "min_idx = np.argmin(costs)\n",
    "print(\"Min Cost of\",costs[min_idx], \"occurs at threshold\", thresholds[min_idx])"
   ]
  },
  {
   "cell_type": "code",
   "execution_count": 55,
   "metadata": {},
   "outputs": [
    {
     "data": {
      "text/plain": [
       "[<matplotlib.lines.Line2D at 0x229d2e13610>]"
      ]
     },
     "execution_count": 55,
     "metadata": {},
     "output_type": "execute_result"
    },
    {
     "data": {
      "image/png": "[encoded data removed]",
      "text/plain": [
       "<Figure size 432x288 with 1 Axes>"
      ]
     },
     "metadata": {
      "needs_background": "light"
     },
     "output_type": "display_data"
    }
   ],
   "source": [
    "y_prob = final_model.predict(X)\n",
    "thresholds = np.arange(0.01, .99, 0.01)\n",
    "costs = compute_costs(thresholds, y_prob, y.values)\n",
    "\n",
    "plt.plot(thresholds, costs)"
   ]
  },
  {
   "cell_type": "code",
   "execution_count": 56,
   "metadata": {},
   "outputs": [
    {
     "name": "stdout",
     "output_type": "stream",
     "text": [
      "Min Cost of 263750 occurs at threshold 0.72\n"
     ]
    }
   ],
   "source": [
    "min_idx = np.argmin(costs)\n",
    "print(\"Min Cost of\",costs[min_idx], \"occurs at threshold\", thresholds[min_idx])"
   ]
  }
 ],
 "metadata": {
  "interpreter": {
   "hash": "eaa798b471aa1a0109429a408b0faab53065248ef7f5a5989f90756771672ef6"
  },
  "kernelspec": {
   "display_name": "Python 3.9.6 64-bit ('NLP': conda)",
   "language": "python",
   "name": "python3"
  },
  "language_info": {
   "codemirror_mode": {
    "name": "ipython",
    "version": 3
   },
   "file_extension": ".py",
   "mimetype": "text/x-python",
   "name": "python",
   "nbconvert_exporter": "python",
   "pygments_lexer": "ipython3",
   "version": "3.9.6"
  },
  "orig_nbformat": 4
 },
 "nbformat": 4,
 "nbformat_minor": 2
}
