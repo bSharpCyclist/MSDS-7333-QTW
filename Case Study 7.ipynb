{
 "cells": [
  {
   "cell_type": "markdown",
   "metadata": {},
   "source": [
    "## MSDS 7331 - Case Study 7 - Minimizing Monetary Loss Using a Cost Matrix\n",
    "Daniel Crouthamel\n",
    "\n",
    "Sophia Wu\n",
    "\n",
    "Fabio Savorgnan\n",
    "\n",
    "Bo Yun"
   ]
  },
  {
   "cell_type": "markdown",
   "metadata": {},
   "source": [
    "# Introduction\n",
    "\n",
    "We were given a data to accurately predict class 0 and class 1. The wrong prediction from class 1 cost $ 100 and wrong prediction from class 0 cost $25. So the objective is to minimize the cost due to the wrong prediction. We were given a dataset which is read above to accomplish the mentioned objective."
   ]
  },
  {
   "cell_type": "markdown",
   "metadata": {},
   "source": [
    "# Data Engineering and Analysis\n",
    "\n",
    "The dataset has 158392 rows and 50 variables. The target is with fairly well balanced classes. As we can see the display in the histogram the data is very well distributed. The variables x24, x29, x30, x32 are categorical, please see below. Therefore, we hot encode those categorical values. Also, the variables x32 and x37 have extra character which we proceeded to remove. Finally, we have missing values in almost all the variables, but they are less than 10 % of the data, and very balance among all the variables, please see below. Because we don't have information about the variables to engineer the appropriate imputation method, and because it is very balance among all the variables, total being less than 10%, we decided to eliminate. "
   ]
  },
  {
   "cell_type": "code",
   "execution_count": 1,
   "metadata": {},
   "outputs": [
    {
     "name": "stdout",
     "output_type": "stream",
     "text": [
      "<class 'pandas.core.frame.DataFrame'>\n",
      "RangeIndex: 160000 entries, 0 to 159999\n",
      "Data columns (total 51 columns):\n",
      " #   Column  Non-Null Count   Dtype  \n",
      "---  ------  --------------   -----  \n",
      " 0   x0      159974 non-null  float64\n",
      " 1   x1      159975 non-null  float64\n",
      " 2   x2      159962 non-null  float64\n",
      " 3   x3      159963 non-null  float64\n",
      " 4   x4      159974 non-null  float64\n",
      " 5   x5      159963 non-null  float64\n",
      " 6   x6      159974 non-null  float64\n",
      " 7   x7      159973 non-null  float64\n",
      " 8   x8      159979 non-null  float64\n",
      " 9   x9      159970 non-null  float64\n",
      " 10  x10     159957 non-null  float64\n",
      " 11  x11     159970 non-null  float64\n",
      " 12  x12     159964 non-null  float64\n",
      " 13  x13     159969 non-null  float64\n",
      " 14  x14     159966 non-null  float64\n",
      " 15  x15     159965 non-null  float64\n",
      " 16  x16     159974 non-null  float64\n",
      " 17  x17     159973 non-null  float64\n",
      " 18  x18     159960 non-null  float64\n",
      " 19  x19     159965 non-null  float64\n",
      " 20  x20     159962 non-null  float64\n",
      " 21  x21     159971 non-null  float64\n",
      " 22  x22     159973 non-null  float64\n",
      " 23  x23     159953 non-null  float64\n",
      " 24  x24     159972 non-null  object \n",
      " 25  x25     159978 non-null  float64\n",
      " 26  x26     159964 non-null  float64\n",
      " 27  x27     159970 non-null  float64\n",
      " 28  x28     159965 non-null  float64\n",
      " 29  x29     159970 non-null  object \n",
      " 30  x30     159970 non-null  object \n",
      " 31  x31     159961 non-null  float64\n",
      " 32  x32     159969 non-null  object \n",
      " 33  x33     159959 non-null  float64\n",
      " 34  x34     159959 non-null  float64\n",
      " 35  x35     159970 non-null  float64\n",
      " 36  x36     159973 non-null  float64\n",
      " 37  x37     159977 non-null  object \n",
      " 38  x38     159969 non-null  float64\n",
      " 39  x39     159977 non-null  float64\n",
      " 40  x40     159964 non-null  float64\n",
      " 41  x41     159960 non-null  float64\n",
      " 42  x42     159974 non-null  float64\n",
      " 43  x43     159963 non-null  float64\n",
      " 44  x44     159960 non-null  float64\n",
      " 45  x45     159971 non-null  float64\n",
      " 46  x46     159969 non-null  float64\n",
      " 47  x47     159963 non-null  float64\n",
      " 48  x48     159968 non-null  float64\n",
      " 49  x49     159968 non-null  float64\n",
      " 50  y       160000 non-null  int64  \n",
      "dtypes: float64(45), int64(1), object(5)\n",
      "memory usage: 62.3+ MB\n"
     ]
    }
   ],
   "source": [
    "import pandas as pd\n",
    "import tensorflow as tf \n",
    "import numpy as np\n",
    "import pickle\n",
    "import os\n",
    "import matplotlib.pyplot as plt\n",
    "\n",
    "from sklearn.ensemble import GradientBoostingClassifier\n",
    "from sklearn.model_selection import cross_validate\n",
    "\n",
    "from sklearn.model_selection import train_test_split\n",
    "from sklearn.metrics import confusion_matrix\n",
    "from sklearn.metrics import ConfusionMatrixDisplay\n",
    "\n",
    "df = pd.read_csv('data/final_project(5).csv')\n",
    "\n",
    "df.info()"
   ]
  },
  {
   "cell_type": "code",
   "execution_count": 2,
   "metadata": {},
   "outputs": [
    {
     "data": {
      "text/plain": [
       "0    95803\n",
       "1    64197\n",
       "Name: y, dtype: int64"
      ]
     },
     "execution_count": 2,
     "metadata": {},
     "output_type": "execute_result"
    }
   ],
   "source": [
    "df['y'].value_counts()"
   ]
  },
  {
   "cell_type": "code",
   "execution_count": 3,
   "metadata": {},
   "outputs": [
    {
     "data": {
      "text/plain": [
       "array([[<AxesSubplot:title={'center':'x0'}>,\n",
       "        <AxesSubplot:title={'center':'x1'}>,\n",
       "        <AxesSubplot:title={'center':'x2'}>,\n",
       "        <AxesSubplot:title={'center':'x3'}>,\n",
       "        <AxesSubplot:title={'center':'x4'}>,\n",
       "        <AxesSubplot:title={'center':'x5'}>,\n",
       "        <AxesSubplot:title={'center':'x6'}>],\n",
       "       [<AxesSubplot:title={'center':'x7'}>,\n",
       "        <AxesSubplot:title={'center':'x8'}>,\n",
       "        <AxesSubplot:title={'center':'x9'}>,\n",
       "        <AxesSubplot:title={'center':'x10'}>,\n",
       "        <AxesSubplot:title={'center':'x11'}>,\n",
       "        <AxesSubplot:title={'center':'x12'}>,\n",
       "        <AxesSubplot:title={'center':'x13'}>],\n",
       "       [<AxesSubplot:title={'center':'x14'}>,\n",
       "        <AxesSubplot:title={'center':'x15'}>,\n",
       "        <AxesSubplot:title={'center':'x16'}>,\n",
       "        <AxesSubplot:title={'center':'x17'}>,\n",
       "        <AxesSubplot:title={'center':'x18'}>,\n",
       "        <AxesSubplot:title={'center':'x19'}>,\n",
       "        <AxesSubplot:title={'center':'x20'}>],\n",
       "       [<AxesSubplot:title={'center':'x21'}>,\n",
       "        <AxesSubplot:title={'center':'x22'}>,\n",
       "        <AxesSubplot:title={'center':'x23'}>,\n",
       "        <AxesSubplot:title={'center':'x25'}>,\n",
       "        <AxesSubplot:title={'center':'x26'}>,\n",
       "        <AxesSubplot:title={'center':'x27'}>,\n",
       "        <AxesSubplot:title={'center':'x28'}>],\n",
       "       [<AxesSubplot:title={'center':'x31'}>,\n",
       "        <AxesSubplot:title={'center':'x33'}>,\n",
       "        <AxesSubplot:title={'center':'x34'}>,\n",
       "        <AxesSubplot:title={'center':'x35'}>,\n",
       "        <AxesSubplot:title={'center':'x36'}>,\n",
       "        <AxesSubplot:title={'center':'x38'}>,\n",
       "        <AxesSubplot:title={'center':'x39'}>],\n",
       "       [<AxesSubplot:title={'center':'x40'}>,\n",
       "        <AxesSubplot:title={'center':'x41'}>,\n",
       "        <AxesSubplot:title={'center':'x42'}>,\n",
       "        <AxesSubplot:title={'center':'x43'}>,\n",
       "        <AxesSubplot:title={'center':'x44'}>,\n",
       "        <AxesSubplot:title={'center':'x45'}>,\n",
       "        <AxesSubplot:title={'center':'x46'}>],\n",
       "       [<AxesSubplot:title={'center':'x47'}>,\n",
       "        <AxesSubplot:title={'center':'x48'}>,\n",
       "        <AxesSubplot:title={'center':'x49'}>,\n",
       "        <AxesSubplot:title={'center':'y'}>, <AxesSubplot:>,\n",
       "        <AxesSubplot:>, <AxesSubplot:>]], dtype=object)"
      ]
     },
     "execution_count": 3,
     "metadata": {},
     "output_type": "execute_result"
    },
    {
     "data": {
      "image/png": "[encoded data removed]",
      "text/plain": [
       "<Figure size 1008x1008 with 49 Axes>"
      ]
     },
     "metadata": {
      "needs_background": "light"
     },
     "output_type": "display_data"
    }
   ],
   "source": [
    "df.hist(figsize=(14,14), xrot=50)"
   ]
  },
  {
   "cell_type": "code",
   "execution_count": 4,
   "metadata": {},
   "outputs": [
    {
     "data": {
      "text/html": [
       "<div>\n",
       "<style scoped>\n",
       "    .dataframe tbody tr th:only-of-type {\n",
       "        vertical-align: middle;\n",
       "    }\n",
       "\n",
       "    .dataframe tbody tr th {\n",
       "        vertical-align: top;\n",
       "    }\n",
       "\n",
       "    .dataframe thead th {\n",
       "        text-align: right;\n",
       "    }\n",
       "</style>\n",
       "<table border=\"1\" class=\"dataframe\">\n",
       "  <thead>\n",
       "    <tr style=\"text-align: right;\">\n",
       "      <th></th>\n",
       "      <th>x24</th>\n",
       "      <th>x29</th>\n",
       "      <th>x30</th>\n",
       "      <th>x32</th>\n",
       "      <th>x37</th>\n",
       "      <th>y</th>\n",
       "    </tr>\n",
       "  </thead>\n",
       "  <tbody>\n",
       "    <tr>\n",
       "      <th>151021</th>\n",
       "      <td>asia</td>\n",
       "      <td>Aug</td>\n",
       "      <td>tuesday</td>\n",
       "      <td>-0.01%</td>\n",
       "      <td>$-191.31</td>\n",
       "      <td>0</td>\n",
       "    </tr>\n",
       "    <tr>\n",
       "      <th>128614</th>\n",
       "      <td>asia</td>\n",
       "      <td>July</td>\n",
       "      <td>tuesday</td>\n",
       "      <td>-0.0%</td>\n",
       "      <td>$590.65</td>\n",
       "      <td>1</td>\n",
       "    </tr>\n",
       "    <tr>\n",
       "      <th>135648</th>\n",
       "      <td>euorpe</td>\n",
       "      <td>sept.</td>\n",
       "      <td>tuesday</td>\n",
       "      <td>-0.01%</td>\n",
       "      <td>$325.35</td>\n",
       "      <td>1</td>\n",
       "    </tr>\n",
       "    <tr>\n",
       "      <th>62713</th>\n",
       "      <td>asia</td>\n",
       "      <td>July</td>\n",
       "      <td>wednesday</td>\n",
       "      <td>-0.0%</td>\n",
       "      <td>$-495.79</td>\n",
       "      <td>0</td>\n",
       "    </tr>\n",
       "    <tr>\n",
       "      <th>23012</th>\n",
       "      <td>asia</td>\n",
       "      <td>Aug</td>\n",
       "      <td>wednesday</td>\n",
       "      <td>0.01%</td>\n",
       "      <td>$-333.09</td>\n",
       "      <td>0</td>\n",
       "    </tr>\n",
       "    <tr>\n",
       "      <th>27419</th>\n",
       "      <td>asia</td>\n",
       "      <td>July</td>\n",
       "      <td>wednesday</td>\n",
       "      <td>0.0%</td>\n",
       "      <td>$483.84</td>\n",
       "      <td>1</td>\n",
       "    </tr>\n",
       "    <tr>\n",
       "      <th>130270</th>\n",
       "      <td>asia</td>\n",
       "      <td>Aug</td>\n",
       "      <td>wednesday</td>\n",
       "      <td>-0.01%</td>\n",
       "      <td>$1236.78</td>\n",
       "      <td>0</td>\n",
       "    </tr>\n",
       "    <tr>\n",
       "      <th>147079</th>\n",
       "      <td>asia</td>\n",
       "      <td>Jun</td>\n",
       "      <td>wednesday</td>\n",
       "      <td>0.01%</td>\n",
       "      <td>$-753.91</td>\n",
       "      <td>1</td>\n",
       "    </tr>\n",
       "    <tr>\n",
       "      <th>82819</th>\n",
       "      <td>asia</td>\n",
       "      <td>July</td>\n",
       "      <td>thurday</td>\n",
       "      <td>-0.01%</td>\n",
       "      <td>$1375.48</td>\n",
       "      <td>1</td>\n",
       "    </tr>\n",
       "    <tr>\n",
       "      <th>105352</th>\n",
       "      <td>asia</td>\n",
       "      <td>July</td>\n",
       "      <td>wednesday</td>\n",
       "      <td>-0.0%</td>\n",
       "      <td>$324.44</td>\n",
       "      <td>0</td>\n",
       "    </tr>\n",
       "  </tbody>\n",
       "</table>\n",
       "</div>"
      ],
      "text/plain": [
       "           x24    x29        x30     x32       x37  y\n",
       "151021    asia    Aug    tuesday  -0.01%  $-191.31  0\n",
       "128614    asia   July    tuesday   -0.0%   $590.65  1\n",
       "135648  euorpe  sept.    tuesday  -0.01%   $325.35  1\n",
       "62713     asia   July  wednesday   -0.0%  $-495.79  0\n",
       "23012     asia    Aug  wednesday   0.01%  $-333.09  0\n",
       "27419     asia   July  wednesday    0.0%   $483.84  1\n",
       "130270    asia    Aug  wednesday  -0.01%  $1236.78  0\n",
       "147079    asia    Jun  wednesday   0.01%  $-753.91  1\n",
       "82819     asia   July    thurday  -0.01%  $1375.48  1\n",
       "105352    asia   July  wednesday   -0.0%   $324.44  0"
      ]
     },
     "execution_count": 4,
     "metadata": {},
     "output_type": "execute_result"
    }
   ],
   "source": [
    "cat_with_target = df.select_dtypes(include=['object', 'int64']).columns.tolist()\n",
    "df[cat_with_target].sample(10)"
   ]
  },
  {
   "cell_type": "code",
   "execution_count": 5,
   "metadata": {},
   "outputs": [
    {
     "data": {
      "text/plain": [
       "asia       138965\n",
       "euorpe      16538\n",
       "america      4469\n",
       "Name: x24, dtype: int64"
      ]
     },
     "execution_count": 5,
     "metadata": {},
     "output_type": "execute_result"
    }
   ],
   "source": [
    "df['x24'].value_counts()"
   ]
  },
  {
   "cell_type": "code",
   "execution_count": 6,
   "metadata": {},
   "outputs": [
    {
     "data": {
      "text/plain": [
       "July       45569\n",
       "Jun        41329\n",
       "Aug        29406\n",
       "May        21939\n",
       "sept.      10819\n",
       "Apr         6761\n",
       "Oct         2407\n",
       "Mar         1231\n",
       "Nov          337\n",
       "Feb          140\n",
       "Dev           23\n",
       "January        9\n",
       "Name: x29, dtype: int64"
      ]
     },
     "execution_count": 6,
     "metadata": {},
     "output_type": "execute_result"
    }
   ],
   "source": [
    "df['x29'].value_counts()"
   ]
  },
  {
   "cell_type": "code",
   "execution_count": 7,
   "metadata": {},
   "outputs": [
    {
     "data": {
      "text/plain": [
       "wednesday    101535\n",
       "thurday       29429\n",
       "tuesday       27954\n",
       "friday          564\n",
       "monday          488\n",
       "Name: x30, dtype: int64"
      ]
     },
     "execution_count": 7,
     "metadata": {},
     "output_type": "execute_result"
    }
   ],
   "source": [
    "df['x30'].value_counts()"
   ]
  },
  {
   "cell_type": "markdown",
   "metadata": {},
   "source": [
    "## Note, going to make x32 item enum/categorical, see below\n",
    "\n",
    "Also dropping NAs"
   ]
  },
  {
   "cell_type": "code",
   "execution_count": 8,
   "metadata": {},
   "outputs": [
    {
     "data": {
      "text/plain": [
       "0.01%     40767\n",
       "-0.01%    34094\n",
       "0.0%      33923\n",
       "-0.0%     30492\n",
       "-0.02%     9924\n",
       "0.02%      7987\n",
       "-0.03%     1727\n",
       "0.03%       855\n",
       "-0.04%      138\n",
       "0.04%        55\n",
       "-0.05%        6\n",
       "0.05%         1\n",
       "Name: x32, dtype: int64"
      ]
     },
     "execution_count": 8,
     "metadata": {},
     "output_type": "execute_result"
    }
   ],
   "source": [
    "df['x32'].value_counts()"
   ]
  },
  {
   "cell_type": "code",
   "execution_count": 9,
   "metadata": {},
   "outputs": [
    {
     "name": "stdout",
     "output_type": "stream",
     "text": [
      "x0\n",
      "26\n",
      "-------------\n",
      "x1\n",
      "25\n",
      "-------------\n",
      "x2\n",
      "38\n",
      "-------------\n",
      "x3\n",
      "37\n",
      "-------------\n",
      "x4\n",
      "26\n",
      "-------------\n",
      "x5\n",
      "37\n",
      "-------------\n",
      "x6\n",
      "26\n",
      "-------------\n",
      "x7\n",
      "27\n",
      "-------------\n",
      "x8\n",
      "21\n",
      "-------------\n",
      "x9\n",
      "30\n",
      "-------------\n",
      "x10\n",
      "43\n",
      "-------------\n",
      "x11\n",
      "30\n",
      "-------------\n",
      "x12\n",
      "36\n",
      "-------------\n",
      "x13\n",
      "31\n",
      "-------------\n",
      "x14\n",
      "34\n",
      "-------------\n",
      "x15\n",
      "35\n",
      "-------------\n",
      "x16\n",
      "26\n",
      "-------------\n",
      "x17\n",
      "27\n",
      "-------------\n",
      "x18\n",
      "40\n",
      "-------------\n",
      "x19\n",
      "35\n",
      "-------------\n",
      "x20\n",
      "38\n",
      "-------------\n",
      "x21\n",
      "29\n",
      "-------------\n",
      "x22\n",
      "27\n",
      "-------------\n",
      "x23\n",
      "47\n",
      "-------------\n",
      "x24\n",
      "28\n",
      "-------------\n",
      "x25\n",
      "22\n",
      "-------------\n",
      "x26\n",
      "36\n",
      "-------------\n",
      "x27\n",
      "30\n",
      "-------------\n",
      "x28\n",
      "35\n",
      "-------------\n",
      "x29\n",
      "30\n",
      "-------------\n",
      "x30\n",
      "30\n",
      "-------------\n",
      "x31\n",
      "39\n",
      "-------------\n",
      "x32\n",
      "31\n",
      "-------------\n",
      "x33\n",
      "41\n",
      "-------------\n",
      "x34\n",
      "41\n",
      "-------------\n",
      "x35\n",
      "30\n",
      "-------------\n",
      "x36\n",
      "27\n",
      "-------------\n",
      "x37\n",
      "23\n",
      "-------------\n",
      "x38\n",
      "31\n",
      "-------------\n",
      "x39\n",
      "23\n",
      "-------------\n",
      "x40\n",
      "36\n",
      "-------------\n",
      "x41\n",
      "40\n",
      "-------------\n",
      "x42\n",
      "26\n",
      "-------------\n",
      "x43\n",
      "37\n",
      "-------------\n",
      "x44\n",
      "40\n",
      "-------------\n",
      "x45\n",
      "29\n",
      "-------------\n",
      "x46\n",
      "31\n",
      "-------------\n",
      "x47\n",
      "37\n",
      "-------------\n",
      "x48\n",
      "32\n",
      "-------------\n",
      "x49\n",
      "32\n",
      "-------------\n",
      "y\n",
      "0\n",
      "-------------\n"
     ]
    }
   ],
   "source": [
    "# Columns with missing data?\n",
    "for i in df.columns[:]:\n",
    "    print(i)\n",
    "    print(df[i].isnull().sum())\n",
    "    print(\"-------------\")"
   ]
  },
  {
   "cell_type": "code",
   "execution_count": 10,
   "metadata": {},
   "outputs": [
    {
     "name": "stdout",
     "output_type": "stream",
     "text": [
      "<class 'pandas.core.frame.DataFrame'>\n",
      "RangeIndex: 158392 entries, 0 to 158391\n",
      "Data columns (total 51 columns):\n",
      " #   Column  Non-Null Count   Dtype   \n",
      "---  ------  --------------   -----   \n",
      " 0   x0      158392 non-null  float64 \n",
      " 1   x1      158392 non-null  float64 \n",
      " 2   x2      158392 non-null  float64 \n",
      " 3   x3      158392 non-null  float64 \n",
      " 4   x4      158392 non-null  float64 \n",
      " 5   x5      158392 non-null  float64 \n",
      " 6   x6      158392 non-null  float64 \n",
      " 7   x7      158392 non-null  float64 \n",
      " 8   x8      158392 non-null  float64 \n",
      " 9   x9      158392 non-null  float64 \n",
      " 10  x10     158392 non-null  float64 \n",
      " 11  x11     158392 non-null  float64 \n",
      " 12  x12     158392 non-null  float64 \n",
      " 13  x13     158392 non-null  float64 \n",
      " 14  x14     158392 non-null  float64 \n",
      " 15  x15     158392 non-null  float64 \n",
      " 16  x16     158392 non-null  float64 \n",
      " 17  x17     158392 non-null  float64 \n",
      " 18  x18     158392 non-null  float64 \n",
      " 19  x19     158392 non-null  float64 \n",
      " 20  x20     158392 non-null  float64 \n",
      " 21  x21     158392 non-null  float64 \n",
      " 22  x22     158392 non-null  float64 \n",
      " 23  x23     158392 non-null  float64 \n",
      " 24  x24     158392 non-null  category\n",
      " 25  x25     158392 non-null  float64 \n",
      " 26  x26     158392 non-null  float64 \n",
      " 27  x27     158392 non-null  float64 \n",
      " 28  x28     158392 non-null  float64 \n",
      " 29  x29     158392 non-null  category\n",
      " 30  x30     158392 non-null  category\n",
      " 31  x31     158392 non-null  float64 \n",
      " 32  x32     158392 non-null  category\n",
      " 33  x33     158392 non-null  float64 \n",
      " 34  x34     158392 non-null  float64 \n",
      " 35  x35     158392 non-null  float64 \n",
      " 36  x36     158392 non-null  float64 \n",
      " 37  x37     158392 non-null  float64 \n",
      " 38  x38     158392 non-null  float64 \n",
      " 39  x39     158392 non-null  float64 \n",
      " 40  x40     158392 non-null  float64 \n",
      " 41  x41     158392 non-null  float64 \n",
      " 42  x42     158392 non-null  float64 \n",
      " 43  x43     158392 non-null  float64 \n",
      " 44  x44     158392 non-null  float64 \n",
      " 45  x45     158392 non-null  float64 \n",
      " 46  x46     158392 non-null  float64 \n",
      " 47  x47     158392 non-null  float64 \n",
      " 48  x48     158392 non-null  float64 \n",
      " 49  x49     158392 non-null  float64 \n",
      " 50  y       158392 non-null  int64   \n",
      "dtypes: category(4), float64(46), int64(1)\n",
      "memory usage: 57.4 MB\n"
     ]
    }
   ],
   "source": [
    "df.dropna(axis=0, inplace=True)\n",
    "df.reset_index(drop=True, inplace=True)\n",
    "\n",
    "df['x24'] = df['x24'].astype('category')\n",
    "df['x29'] = df['x29'].astype('category')\n",
    "df['x30'] = df['x30'].astype('category')\n",
    "\n",
    "df['x32'] = [float(x.replace('%','')) for x in df['x32']]\n",
    "df['x32'] = df['x32'].astype('category')\n",
    "\n",
    "df['x37'] = [float(x.replace('$','')) for x in df['x37']]\n",
    "\n",
    "df.info()"
   ]
  },
  {
   "cell_type": "code",
   "execution_count": 11,
   "metadata": {},
   "outputs": [
    {
     "data": {
      "text/plain": [
       "0.0      63780\n",
       "0.01     40367\n",
       "-0.01    33771\n",
       "-0.02     9812\n",
       "0.02      7911\n",
       "-0.03     1709\n",
       "0.03       845\n",
       "-0.04      136\n",
       "0.04        54\n",
       "-0.05        6\n",
       "0.05         1\n",
       "Name: x32, dtype: int64"
      ]
     },
     "execution_count": 11,
     "metadata": {},
     "output_type": "execute_result"
    }
   ],
   "source": [
    "df['x32'].value_counts()"
   ]
  },
  {
   "cell_type": "code",
   "execution_count": 12,
   "metadata": {},
   "outputs": [],
   "source": [
    "categorical_features = ['x24', 'x29', 'x30', 'x32']\n",
    "\n",
    "cat_with_target = ['x24', 'x29', 'x30', 'x32', 'y']\n",
    "\n",
    "numeric_features = [x for x in df.columns.values.tolist() if x not in cat_with_target]"
   ]
  },
  {
   "cell_type": "code",
   "execution_count": 13,
   "metadata": {},
   "outputs": [
    {
     "name": "stdout",
     "output_type": "stream",
     "text": [
      "<class 'pandas.core.frame.DataFrame'>\n",
      "RangeIndex: 158392 entries, 0 to 158391\n",
      "Data columns (total 78 columns):\n",
      " #   Column              Non-Null Count   Dtype  \n",
      "---  ------              --------------   -----  \n",
      " 0   x0                  158392 non-null  float64\n",
      " 1   x1                  158392 non-null  float64\n",
      " 2   x2                  158392 non-null  float64\n",
      " 3   x3                  158392 non-null  float64\n",
      " 4   x4                  158392 non-null  float64\n",
      " 5   x5                  158392 non-null  float64\n",
      " 6   x6                  158392 non-null  float64\n",
      " 7   x7                  158392 non-null  float64\n",
      " 8   x8                  158392 non-null  float64\n",
      " 9   x9                  158392 non-null  float64\n",
      " 10  x10                 158392 non-null  float64\n",
      " 11  x11                 158392 non-null  float64\n",
      " 12  x12                 158392 non-null  float64\n",
      " 13  x13                 158392 non-null  float64\n",
      " 14  x14                 158392 non-null  float64\n",
      " 15  x15                 158392 non-null  float64\n",
      " 16  x16                 158392 non-null  float64\n",
      " 17  x17                 158392 non-null  float64\n",
      " 18  x18                 158392 non-null  float64\n",
      " 19  x19                 158392 non-null  float64\n",
      " 20  x20                 158392 non-null  float64\n",
      " 21  x21                 158392 non-null  float64\n",
      " 22  x22                 158392 non-null  float64\n",
      " 23  x23                 158392 non-null  float64\n",
      " 24  x25                 158392 non-null  float64\n",
      " 25  x26                 158392 non-null  float64\n",
      " 26  x27                 158392 non-null  float64\n",
      " 27  x28                 158392 non-null  float64\n",
      " 28  x31                 158392 non-null  float64\n",
      " 29  x33                 158392 non-null  float64\n",
      " 30  x34                 158392 non-null  float64\n",
      " 31  x35                 158392 non-null  float64\n",
      " 32  x36                 158392 non-null  float64\n",
      " 33  x37                 158392 non-null  float64\n",
      " 34  x38                 158392 non-null  float64\n",
      " 35  x39                 158392 non-null  float64\n",
      " 36  x40                 158392 non-null  float64\n",
      " 37  x41                 158392 non-null  float64\n",
      " 38  x42                 158392 non-null  float64\n",
      " 39  x43                 158392 non-null  float64\n",
      " 40  x44                 158392 non-null  float64\n",
      " 41  x45                 158392 non-null  float64\n",
      " 42  x46                 158392 non-null  float64\n",
      " 43  x47                 158392 non-null  float64\n",
      " 44  x48                 158392 non-null  float64\n",
      " 45  x49                 158392 non-null  float64\n",
      " 46  y                   158392 non-null  int64  \n",
      " 47  x24_type_america    158392 non-null  uint8  \n",
      " 48  x24_type_asia       158392 non-null  uint8  \n",
      " 49  x24_type_euorpe     158392 non-null  uint8  \n",
      " 50  x29_type_Apr        158392 non-null  uint8  \n",
      " 51  x29_type_Aug        158392 non-null  uint8  \n",
      " 52  x29_type_Dev        158392 non-null  uint8  \n",
      " 53  x29_type_Feb        158392 non-null  uint8  \n",
      " 54  x29_type_January    158392 non-null  uint8  \n",
      " 55  x29_type_July       158392 non-null  uint8  \n",
      " 56  x29_type_Jun        158392 non-null  uint8  \n",
      " 57  x29_type_Mar        158392 non-null  uint8  \n",
      " 58  x29_type_May        158392 non-null  uint8  \n",
      " 59  x29_type_Nov        158392 non-null  uint8  \n",
      " 60  x29_type_Oct        158392 non-null  uint8  \n",
      " 61  x29_type_sept.      158392 non-null  uint8  \n",
      " 62  x30_type_friday     158392 non-null  uint8  \n",
      " 63  x30_type_monday     158392 non-null  uint8  \n",
      " 64  x30_type_thurday    158392 non-null  uint8  \n",
      " 65  x30_type_tuesday    158392 non-null  uint8  \n",
      " 66  x30_type_wednesday  158392 non-null  uint8  \n",
      " 67  x32_type_-0.05      158392 non-null  uint8  \n",
      " 68  x32_type_-0.04      158392 non-null  uint8  \n",
      " 69  x32_type_-0.03      158392 non-null  uint8  \n",
      " 70  x32_type_-0.02      158392 non-null  uint8  \n",
      " 71  x32_type_-0.01      158392 non-null  uint8  \n",
      " 72  x32_type_0.0        158392 non-null  uint8  \n",
      " 73  x32_type_0.01       158392 non-null  uint8  \n",
      " 74  x32_type_0.02       158392 non-null  uint8  \n",
      " 75  x32_type_0.03       158392 non-null  uint8  \n",
      " 76  x32_type_0.04       158392 non-null  uint8  \n",
      " 77  x32_type_0.05       158392 non-null  uint8  \n",
      "dtypes: float64(46), int64(1), uint8(31)\n",
      "memory usage: 61.5 MB\n"
     ]
    }
   ],
   "source": [
    "dum_df = pd.get_dummies(df, columns=['x24', 'x29', 'x30', 'x32'], prefix=['x24_type', 'x29_type', 'x30_type', 'x32_type'])\n",
    "\n",
    "dum_df.info()"
   ]
  },
  {
   "cell_type": "markdown",
   "metadata": {},
   "source": [
    "# Modeling Preparations\n",
    "\n",
    "We first used H2O AutoML platform to quickly find the most optimal models given the client's time constraint. From that we found the GBM and a NN network work well and we'll explore these two models further. This is a binary classification problem with fairly well balanced classes. Our client is also only interested in minimizing the loss in an environment where only wrong predictions get penalized and are contributed to financial loss. Due to these reasons, we are going to use accuracy as our evaluation metric. The classification result from GBM here will be utilized to create a monetary outcome scenario in the next section."
   ]
  },
  {
   "cell_type": "code",
   "execution_count": 14,
   "metadata": {},
   "outputs": [
    {
     "data": {
      "text/html": [
       "<div>\n",
       "<style scoped>\n",
       "    .dataframe tbody tr th:only-of-type {\n",
       "        vertical-align: middle;\n",
       "    }\n",
       "\n",
       "    .dataframe tbody tr th {\n",
       "        vertical-align: top;\n",
       "    }\n",
       "\n",
       "    .dataframe thead th {\n",
       "        text-align: right;\n",
       "    }\n",
       "</style>\n",
       "<table border=\"1\" class=\"dataframe\">\n",
       "  <thead>\n",
       "    <tr style=\"text-align: right;\">\n",
       "      <th></th>\n",
       "      <th>fit_time</th>\n",
       "      <th>score_time</th>\n",
       "      <th>test_accuracy</th>\n",
       "      <th>train_accuracy</th>\n",
       "      <th>test_precision</th>\n",
       "      <th>train_precision</th>\n",
       "      <th>test_recall</th>\n",
       "      <th>train_recall</th>\n",
       "    </tr>\n",
       "  </thead>\n",
       "  <tbody>\n",
       "    <tr>\n",
       "      <th>0</th>\n",
       "      <td>1285.813733</td>\n",
       "      <td>1.068665</td>\n",
       "      <td>0.945149</td>\n",
       "      <td>1.0</td>\n",
       "      <td>0.941307</td>\n",
       "      <td>1.0</td>\n",
       "      <td>0.920687</td>\n",
       "      <td>1.0</td>\n",
       "    </tr>\n",
       "    <tr>\n",
       "      <th>1</th>\n",
       "      <td>1288.113176</td>\n",
       "      <td>1.037224</td>\n",
       "      <td>0.947554</td>\n",
       "      <td>1.0</td>\n",
       "      <td>0.943965</td>\n",
       "      <td>1.0</td>\n",
       "      <td>0.924134</td>\n",
       "      <td>1.0</td>\n",
       "    </tr>\n",
       "    <tr>\n",
       "      <th>2</th>\n",
       "      <td>1302.184457</td>\n",
       "      <td>0.861843</td>\n",
       "      <td>0.944201</td>\n",
       "      <td>1.0</td>\n",
       "      <td>0.939422</td>\n",
       "      <td>1.0</td>\n",
       "      <td>0.920262</td>\n",
       "      <td>1.0</td>\n",
       "    </tr>\n",
       "  </tbody>\n",
       "</table>\n",
       "</div>"
      ],
      "text/plain": [
       "      fit_time  score_time  test_accuracy  train_accuracy  test_precision  \\\n",
       "0  1285.813733    1.068665       0.945149             1.0        0.941307   \n",
       "1  1288.113176    1.037224       0.947554             1.0        0.943965   \n",
       "2  1302.184457    0.861843       0.944201             1.0        0.939422   \n",
       "\n",
       "   train_precision  test_recall  train_recall  \n",
       "0              1.0     0.920687           1.0  \n",
       "1              1.0     0.924134           1.0  \n",
       "2              1.0     0.920262           1.0  "
      ]
     },
     "execution_count": 14,
     "metadata": {},
     "output_type": "execute_result"
    }
   ],
   "source": [
    "# One-hot encoding of categorical variables\n",
    "dum_df = pd.get_dummies(df, columns=['x24', 'x29', 'x30', 'x32'], prefix=['x24_type', 'x29_type', 'x30_type', 'x32_type'])\n",
    "\n",
    "X = dum_df.loc[:, dum_df.columns != 'y']\n",
    "y = dum_df['y']\n",
    "\n",
    "X_train, X_test, y_train, y_test = train_test_split(X, y, test_size=0.2, stratify=y, random_state=11)\n",
    "\n",
    "model = GradientBoostingClassifier(n_estimators=145, max_depth=14, min_samples_leaf=30)\n",
    "\n",
    "if os.path.isfile('models/gbm_cross_validate.pkl'):\n",
    "    cv_results = pickle.load(open('models/gbm_cross_validate.pkl', 'rb'))\n",
    "else:\n",
    "    cv_results = cross_validate(model, X, y, cv=3, scoring=['accuracy','precision','recall'], n_jobs=-1, return_train_score=True)\n",
    "    pickle.dump(cv_results, open('models/gbm_cross_validate.pkl', 'wb'))\n",
    "\n",
    "pd.DataFrame(cv_results)"
   ]
  },
  {
   "cell_type": "markdown",
   "metadata": {},
   "source": [
    "## Cross Validation Results\n",
    "\n",
    "Cross validation shows evidence of overfitting the training data. Let's fit the model to our training data, and then compute the monetary cost on our test data. We want to see how the model performs on unseen data, and the what the cost per sample is."
   ]
  },
  {
   "cell_type": "code",
   "execution_count": 15,
   "metadata": {},
   "outputs": [],
   "source": [
    "if os.path.isfile('models/gbm_model.pkl'):\n",
    "    model = pickle.load(open('models/gbm_model.pkl', 'rb'))\n",
    "else:\n",
    "    model.fit(X_train, y_train)\n",
    "    pickle.dump(model, open('models/gbm_model.pkl', 'wb'))"
   ]
  },
  {
   "cell_type": "markdown",
   "metadata": {},
   "source": [
    "# Model Building & Evaluation\n",
    "\n",
    "The GBM achieved a great result of an average 94.56% accuracy and 0.00173 standard devation across its cross validation resul. The hyperparameters we used for the GBM model were those that were found with H2O AutoML. As noted above and below we find evidence that we are overfitting the training data.\n",
    "\n",
    "n_estimators = 145\n",
    "max_depth = 14\n",
    "min_sample_leaf = 30\n"
   ]
  },
  {
   "cell_type": "markdown",
   "metadata": {},
   "source": [
    "## Confusion Matrix Test"
   ]
  },
  {
   "cell_type": "code",
   "execution_count": 16,
   "metadata": {},
   "outputs": [
    {
     "data": {
      "text/plain": [
       "<sklearn.metrics._plot.confusion_matrix.ConfusionMatrixDisplay at 0x249d97ce7c0>"
      ]
     },
     "execution_count": 16,
     "metadata": {},
     "output_type": "execute_result"
    },
    {
     "data": {
      "image/png": "[encoded data removed]",
      "text/plain": [
       "<Figure size 432x288 with 2 Axes>"
      ]
     },
     "metadata": {
      "needs_background": "light"
     },
     "output_type": "display_data"
    }
   ],
   "source": [
    "ConfusionMatrixDisplay.from_estimator(model, X_test, y_test)"
   ]
  },
  {
   "cell_type": "markdown",
   "metadata": {},
   "source": [
    "## Confusion Matrix Train"
   ]
  },
  {
   "cell_type": "code",
   "execution_count": 17,
   "metadata": {},
   "outputs": [
    {
     "data": {
      "text/plain": [
       "<sklearn.metrics._plot.confusion_matrix.ConfusionMatrixDisplay at 0x249d96d8c40>"
      ]
     },
     "execution_count": 17,
     "metadata": {},
     "output_type": "execute_result"
    },
    {
     "data": {
      "image/png": "[encoded data removed]",
      "text/plain": [
       "<Figure size 432x288 with 2 Axes>"
      ]
     },
     "metadata": {
      "needs_background": "light"
     },
     "output_type": "display_data"
    }
   ],
   "source": [
    "ConfusionMatrixDisplay.from_estimator(model, X_train, y_train)"
   ]
  },
  {
   "cell_type": "markdown",
   "metadata": {},
   "source": [
    "# Monetary Outcome\n",
    "\n",
    "What is the expected monetary cost (or loss) associated with your model and how might you best translate this to your customer?  Remember, predicting class 1 incorrectly costs the customer $100 while incorrectly predicting class 0 costs the customer $25; or said another way, False Positives = -$100 and False Negatives = -$25\n",
    "\n",
    "\n",
    "- Here we used the classification result from GBM model to tie it to the monetary loss due to incorrect predictions(-$100 for false positives & -$25 for false negatives)\n",
    "- The varying threshold from the graph below indicated that the __minimum loss of $74,425__ occurs at __threshold 0.84__. \n",
    "- We will communicate the importance of the optimal classification setting(threshold=0.84) to our client along with our model performance(accuracy=94.56%) and make sure to update them as we receive more data and retrain the model in the future. \n",
    "- Cost per sample is around $2.4. This cost is based on the test set, data that was not used to train the model."
   ]
  },
  {
   "cell_type": "code",
   "execution_count": 18,
   "metadata": {},
   "outputs": [
    {
     "data": {
      "text/plain": [
       "[<matplotlib.lines.Line2D at 0x249d707bf10>]"
      ]
     },
     "execution_count": 18,
     "metadata": {},
     "output_type": "execute_result"
    },
    {
     "data": {
      "image/png": "[encoded data removed]",
      "text/plain": [
       "<Figure size 432x288 with 1 Axes>"
      ]
     },
     "metadata": {
      "needs_background": "light"
     },
     "output_type": "display_data"
    }
   ],
   "source": [
    "def compute_costs(thresholds, y_prob, y_true):\n",
    "    all_costs = []\n",
    "\n",
    "    for x in thresholds:\n",
    "        cost = 0\n",
    "\n",
    "        y_map = np.where(y_prob > x, 1, 0)\n",
    "\n",
    "        for i in range(len(y_map)):\n",
    "            \n",
    "            # Cost of False Positive\n",
    "            if y_map[i] - y_true[i] == 1:\n",
    "                cost = cost + 100\n",
    "                \n",
    "            # Cose of False Negative\n",
    "            elif y_map[i] - y_true[i] == -1:\n",
    "                cost = cost + 25\n",
    "\n",
    "        all_costs.append(cost)\n",
    "\n",
    "    return all_costs\n",
    "\n",
    "y_prob = model.predict_proba(X_test)[:,1]\n",
    "thresholds = np.arange(0.01, .99, 0.01)\n",
    "costs = compute_costs(thresholds, y_prob, y_test.values)\n",
    "\n",
    "plt.plot(thresholds, costs)"
   ]
  },
  {
   "cell_type": "markdown",
   "metadata": {},
   "source": [
    "## Find Min Cost, Threshold and Cost Per Sample for Test Set\n",
    "\n",
    "Below we find the cost per sample, on unseen data, is around $2.40."
   ]
  },
  {
   "cell_type": "code",
   "execution_count": 19,
   "metadata": {},
   "outputs": [
    {
     "name": "stdout",
     "output_type": "stream",
     "text": [
      "Min Cost of 74425 occurs at threshold 0.8400000000000001\n",
      "Cost per sample: 2.3493481486158023\n"
     ]
    }
   ],
   "source": [
    "min_idx = np.argmin(costs)\n",
    "print(\"Min Cost of\", costs[min_idx], \"occurs at threshold\", thresholds[min_idx])\n",
    "print(\"Cost per sample:\", costs[min_idx] / len(y_test))"
   ]
  },
  {
   "cell_type": "markdown",
   "metadata": {},
   "source": [
    "## NN Network\n",
    "\n",
    "H2OFlow also showed that a deep learning model can perform well. Below we contruct a 3 layer nueral network having 256 nodes in each layer. Drop out layers were used to reduce overfitting. The data sets was broken up into 3 parts, train, test and validation. The validation set is used at the end for a final performance metric, along with computing the monetary cost. Min cost of 56,075 occurs at threshold 0.76 and the cost per sample is $1.77. "
   ]
  },
  {
   "cell_type": "code",
   "execution_count": 31,
   "metadata": {},
   "outputs": [
    {
     "name": "stdout",
     "output_type": "stream",
     "text": [
      "Epoch 1/100\n",
      "951/951 [==============================] - 5s 5ms/step - loss: 1.1263 - accuracy: 0.6361 - val_loss: 0.4818 - val_accuracy: 0.7712\n",
      "Epoch 2/100\n",
      "951/951 [==============================] - 4s 4ms/step - loss: 0.4638 - accuracy: 0.7795 - val_loss: 0.3676 - val_accuracy: 0.8429\n",
      "Epoch 3/100\n",
      "951/951 [==============================] - 4s 4ms/step - loss: 0.3715 - accuracy: 0.8389 - val_loss: 0.2905 - val_accuracy: 0.8804\n",
      "Epoch 4/100\n",
      "951/951 [==============================] - 4s 4ms/step - loss: 0.3034 - accuracy: 0.8736 - val_loss: 0.2387 - val_accuracy: 0.9055\n",
      "Epoch 5/100\n",
      "951/951 [==============================] - 3s 4ms/step - loss: 0.2525 - accuracy: 0.8985 - val_loss: 0.2072 - val_accuracy: 0.9187\n",
      "Epoch 6/100\n",
      "951/951 [==============================] - 4s 4ms/step - loss: 0.2278 - accuracy: 0.9121 - val_loss: 0.1952 - val_accuracy: 0.9238\n",
      "Epoch 7/100\n",
      "951/951 [==============================] - 3s 3ms/step - loss: 0.2040 - accuracy: 0.9224 - val_loss: 0.1729 - val_accuracy: 0.9352\n",
      "Epoch 8/100\n",
      "951/951 [==============================] - 4s 4ms/step - loss: 0.1903 - accuracy: 0.9290 - val_loss: 0.1756 - val_accuracy: 0.9333\n",
      "Epoch 9/100\n",
      "951/951 [==============================] - 3s 4ms/step - loss: 0.1797 - accuracy: 0.9338 - val_loss: 0.1529 - val_accuracy: 0.9461\n",
      "Epoch 10/100\n",
      "951/951 [==============================] - 4s 4ms/step - loss: 0.1702 - accuracy: 0.9377 - val_loss: 0.1401 - val_accuracy: 0.9499\n",
      "Epoch 11/100\n",
      "951/951 [==============================] - 3s 4ms/step - loss: 0.1652 - accuracy: 0.9397 - val_loss: 0.1362 - val_accuracy: 0.9539\n",
      "Epoch 12/100\n",
      "951/951 [==============================] - 4s 4ms/step - loss: 0.1591 - accuracy: 0.9439 - val_loss: 0.1369 - val_accuracy: 0.9512\n",
      "Epoch 13/100\n",
      "951/951 [==============================] - 3s 4ms/step - loss: 0.1539 - accuracy: 0.9459 - val_loss: 0.1399 - val_accuracy: 0.9513\n",
      "Epoch 14/100\n",
      "951/951 [==============================] - 4s 4ms/step - loss: 0.1504 - accuracy: 0.9476 - val_loss: 0.1297 - val_accuracy: 0.9557\n",
      "Epoch 15/100\n",
      "951/951 [==============================] - 3s 4ms/step - loss: 0.1459 - accuracy: 0.9486 - val_loss: 0.1288 - val_accuracy: 0.9568\n",
      "Epoch 16/100\n",
      "951/951 [==============================] - 4s 4ms/step - loss: 0.1451 - accuracy: 0.9501 - val_loss: 0.1273 - val_accuracy: 0.9580\n",
      "Epoch 17/100\n",
      "951/951 [==============================] - 3s 4ms/step - loss: 0.1421 - accuracy: 0.9509 - val_loss: 0.1207 - val_accuracy: 0.9593\n",
      "Epoch 18/100\n",
      "951/951 [==============================] - 4s 4ms/step - loss: 0.1393 - accuracy: 0.9517 - val_loss: 0.1290 - val_accuracy: 0.9577\n",
      "Epoch 19/100\n",
      "951/951 [==============================] - 4s 4ms/step - loss: 0.1358 - accuracy: 0.9531 - val_loss: 0.1256 - val_accuracy: 0.9577\n",
      "Epoch 20/100\n",
      "951/951 [==============================] - 4s 4ms/step - loss: 0.1332 - accuracy: 0.9540 - val_loss: 0.1172 - val_accuracy: 0.9616\n",
      "Epoch 21/100\n",
      "951/951 [==============================] - 4s 4ms/step - loss: 0.1321 - accuracy: 0.9554 - val_loss: 0.1219 - val_accuracy: 0.9597\n",
      "Epoch 22/100\n",
      "951/951 [==============================] - 4s 4ms/step - loss: 0.1318 - accuracy: 0.9559 - val_loss: 0.1257 - val_accuracy: 0.9581\n",
      "Epoch 23/100\n",
      "951/951 [==============================] - 4s 4ms/step - loss: 0.1279 - accuracy: 0.9576 - val_loss: 0.1176 - val_accuracy: 0.9608\n",
      "317/317 [==============================] - 0s 1ms/step - loss: 0.1162 - accuracy: 0.9626\n"
     ]
    },
    {
     "data": {
      "text/plain": [
       "[0.11622995883226395, 0.9625934958457947]"
      ]
     },
     "execution_count": 31,
     "metadata": {},
     "output_type": "execute_result"
    }
   ],
   "source": [
    "import tensorflow as tf\n",
    "from tensorflow.keras.callbacks import EarlyStopping\n",
    "\n",
    "root_logdir = os.path.join(os.curdir, \"my_logs_case7\")\n",
    "\n",
    "def get_run_logdir():\n",
    "    import time\n",
    "    run_id = time.strftime(\"run_%Y_%m_%d-%H_%M_%S\")\n",
    "    return os.path.join(root_logdir, run_id)\n",
    "\n",
    "run_logdir = get_run_logdir()\n",
    "\n",
    "X = dum_df.loc[:, dum_df.columns != 'y']\n",
    "\n",
    "y = dum_df['y']\n",
    "\n",
    "X_train, X_test, y_train, y_test = train_test_split(X, y, test_size=0.2, random_state=1)\n",
    "\n",
    "X_train, X_val, y_train, y_val = train_test_split(X_train, y_train, test_size=0.25, random_state=1) # 0.25 x 0.8 = 0.2                                                    \n",
    "\n",
    "final_model = tf.keras.Sequential([\n",
    "    tf.keras.layers.Flatten(input_shape=(77,)),\n",
    "    tf.keras.layers.Dense(256, activation='relu'),\n",
    "    tf.keras.layers.Dropout(.2, input_shape=(2,)),\n",
    "    tf.keras.layers.Dense(256, activation='relu'),\n",
    "    tf.keras.layers.Dropout(.2, input_shape=(2,)),\n",
    "    tf.keras.layers.Dense(256, activation='relu'),\n",
    "    tf.keras.layers.Dropout(.2, input_shape=(2,)),\n",
    "    tf.keras.layers.Dense(1, activation='sigmoid')\n",
    "])\n",
    "\n",
    "final_model.compile(optimizer='adam',\n",
    "              loss=tf.keras.losses.BinaryCrossentropy(),\n",
    "              metrics=['accuracy'])\n",
    "\n",
    "tensorboard_cb = tf.keras.callbacks.TensorBoard(get_run_logdir())\n",
    "\n",
    "safety = EarlyStopping(monitor='val_loss', patience=3, min_delta=2e-4)\n",
    "\n",
    "final_model.fit(X_train, y_train, epochs=100, validation_data=(X_test, y_test), \n",
    "          callbacks=[tensorboard_cb, safety], batch_size=100)\n",
    "\n",
    "final_model.evaluate(X_val, y_val, batch_size=100)"
   ]
  },
  {
   "cell_type": "code",
   "execution_count": 35,
   "metadata": {},
   "outputs": [
    {
     "data": {
      "text/plain": [
       "<sklearn.metrics._plot.confusion_matrix.ConfusionMatrixDisplay at 0x1b7c8bd2310>"
      ]
     },
     "execution_count": 35,
     "metadata": {},
     "output_type": "execute_result"
    },
    {
     "data": {
      "image/png": "[encoded data removed]",
      "text/plain": [
       "<Figure size 432x288 with 2 Axes>"
      ]
     },
     "metadata": {
      "needs_background": "light"
     },
     "output_type": "display_data"
    }
   ],
   "source": [
    "# With tensor flow, use predict_proba is deprecated\n",
    "y_prob_val = final_model.predict(X_val)\n",
    "\n",
    "y_pred_val = (y_prob_val > 0.5).astype('int32')\n",
    "\n",
    "ConfusionMatrixDisplay.from_predictions(y_val, y_pred_val)"
   ]
  },
  {
   "cell_type": "code",
   "execution_count": 36,
   "metadata": {},
   "outputs": [
    {
     "data": {
      "text/plain": [
       "[<matplotlib.lines.Line2D at 0x1b7e1b1f6d0>]"
      ]
     },
     "execution_count": 36,
     "metadata": {},
     "output_type": "execute_result"
    },
    {
     "data": {
      "image/png": "[encoded data removed]",
      "text/plain": [
       "<Figure size 432x288 with 1 Axes>"
      ]
     },
     "metadata": {
      "needs_background": "light"
     },
     "output_type": "display_data"
    }
   ],
   "source": [
    "thresholds = np.arange(0.01, .99, 0.01)\n",
    "costs = compute_costs(thresholds, y_prob_val, y_val.values)\n",
    "\n",
    "plt.plot(thresholds, costs)"
   ]
  },
  {
   "cell_type": "code",
   "execution_count": 37,
   "metadata": {},
   "outputs": [
    {
     "name": "stdout",
     "output_type": "stream",
     "text": [
      "Min Cost of 56075 occurs at threshold 0.76\n",
      "Cost per sample: 1.7701000662899713\n"
     ]
    }
   ],
   "source": [
    "min_idx = np.argmin(costs)\n",
    "print(\"Min Cost of\",costs[min_idx], \"occurs at threshold\", thresholds[min_idx])\n",
    "print(\"Cost per sample:\", costs[min_idx] / len(y_val))"
   ]
  },
  {
   "cell_type": "markdown",
   "metadata": {},
   "source": [
    "# Case Conclusions\n",
    "\n",
    "Our task was to create a model which minimizes the monetary loss associated with wrong predictions, with false positives costing $100 and false negatives costing $25. We first used H2O AutoML to find an optimal set of models to start with, which turned out to be a Gradient Boosting model and Neural Network model. Both models performed well in accuracy, but the Gradient Boosting model showed evidence of overfitting the training data. Additionally, the Gradient Boosting model took longer and had a higher cost per sample compared with the neural network model. Since model explainability is not a requirement, our recommendation is to use the neural network model."
   ]
  }
 ],
 "metadata": {
  "interpreter": {
   "hash": "eaa798b471aa1a0109429a408b0faab53065248ef7f5a5989f90756771672ef6"
  },
  "kernelspec": {
   "display_name": "Python 3 (ipykernel)",
   "language": "python",
   "name": "python3"
  },
  "language_info": {
   "codemirror_mode": {
    "name": "ipython",
    "version": 3
   },
   "file_extension": ".py",
   "mimetype": "text/x-python",
   "name": "python",
   "nbconvert_exporter": "python",
   "pygments_lexer": "ipython3",
   "version": "3.9.6"
  }
 },
 "nbformat": 4,
 "nbformat_minor": 4
}
