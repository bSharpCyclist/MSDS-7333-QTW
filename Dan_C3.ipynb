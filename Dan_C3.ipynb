{
 "cells": [
  {
   "cell_type": "code",
   "execution_count": 1,
   "source": [
    "# understand matrix structure of vectorizer\r\n",
    "from sklearn.feature_extraction.text import CountVectorizer\r\n",
    "\r\n",
    "words = ['one two three','one four five','two three six']\r\n",
    "vectorizer = CountVectorizer()\r\n",
    "\r\n",
    "vectorizer.fit(words)\r\n",
    "\r\n",
    "print(vectorizer.vocabulary_)"
   ],
   "outputs": [
    {
     "output_type": "stream",
     "name": "stdout",
     "text": [
      "{'one': 2, 'two': 5, 'three': 4, 'four': 1, 'five': 0, 'six': 3}\n"
     ]
    }
   ],
   "metadata": {}
  },
  {
   "cell_type": "code",
   "execution_count": 2,
   "source": [
    "sample = vectorizer.transform([words[0]])\r\n",
    "\r\n",
    "print(sample.toarray())"
   ],
   "outputs": [
    {
     "output_type": "stream",
     "name": "stdout",
     "text": [
      "[[0 0 1 0 1 1]]\n"
     ]
    }
   ],
   "metadata": {}
  },
  {
   "cell_type": "code",
   "execution_count": 3,
   "source": [
    "from os import listdir, getcwd, chdir\r\n",
    "from os.path import isfile, join, dirname, realpath\r\n",
    "import pandas as pd\r\n",
    "\r\n",
    "import email\r\n",
    "import email.parser\r\n",
    "from email.parser import Parser\r\n",
    "\r\n",
    "def get_cwd():\r\n",
    "    try:\r\n",
    "        chdir(dirname(realpath(__file__)))\r\n",
    "    except:\r\n",
    "        chdir('D:\\Projects\\MSDS-7333-QTW')\r\n",
    "\r\n",
    "    active_dir = getcwd()\r\n",
    "       \r\n",
    "    return active_dir\r\n",
    "\r\n",
    "def main():\r\n",
    "    \r\n",
    "    get_cwd()\r\n",
    "    \r\n",
    "    directories = [\r\n",
    "            'easy_ham',\r\n",
    "            'easy_ham_2',\r\n",
    "            'hard_ham',\r\n",
    "            'spam',\r\n",
    "            'spam_2'\r\n",
    "        ]\r\n",
    "    \r\n",
    "    res_frame = pd.DataFrame()\r\n",
    "\r\n",
    "    # *dc - Added to keep a collection of email text\r\n",
    "    emails = []\r\n",
    "\r\n",
    "    emails_body = []\r\n",
    "        \r\n",
    "    for d in directories:\r\n",
    "        mypath = getcwd() + '/SpamAssassinMessages/' + d + '/'\r\n",
    "        onlyfiles = [f for f in listdir(mypath) if isfile(join(mypath, f))]\r\n",
    "    \r\n",
    "        try:\r\n",
    "            onlyfiles.remove('.DS_Store')\r\n",
    "        except:\r\n",
    "            pass\r\n",
    "        \r\n",
    "        for file in onlyfiles:\r\n",
    "            with open(mypath + file, encoding='latin1') as f:\r\n",
    "                lines = f.readlines()\r\n",
    "                f.seek(0) # reset file pointer to beginning\r\n",
    "                body = f.read()\r\n",
    "                f.close()\r\n",
    "            \r\n",
    "            # with open(mypath + file, encoding='latin1') as f:\r\n",
    "            #     body = f.read()\r\n",
    "            #     f.close()\r\n",
    "                \r\n",
    "            msg = email.message_from_string(str(body))\r\n",
    "            tmpStr = ''\r\n",
    "            \r\n",
    "            if msg.is_multipart():\r\n",
    "                for payload in msg.get_payload():\r\n",
    "                    #tmp.append(str(payload.get_payload()))\r\n",
    "                    \r\n",
    "                    tmpStr = ' '.join(str(payload.get_payload()))\r\n",
    "                emails_body.append(tmpStr)\r\n",
    "            else:\r\n",
    "                emails_body.append(str(msg.get_payload()))\r\n",
    "                \r\n",
    "            in_reply_count = 0\r\n",
    "            sub_line_all_caps = 0\r\n",
    "            attachments = 0\r\n",
    "            subject_line = []\r\n",
    "            n_lines = 0\r\n",
    "            blank_lines = []\r\n",
    "            \r\n",
    "            for line in lines:\r\n",
    "\r\n",
    "                n_lines += 1\r\n",
    "                if \"Subject: Re: \" in line:\r\n",
    "                   in_reply_count += 1\r\n",
    "                if \"Subject: \" in line:\r\n",
    "                   s_line = line.strip().replace('Subject: ','')\r\n",
    "                   s_line = ''.join(e for e in s_line if e.isalnum())\r\n",
    "                   num_upper = sum(1 for c in s_line if c.isupper())\r\n",
    "                   ttl_chars = len(s_line)\r\n",
    "                   if num_upper == ttl_chars:\r\n",
    "                       sub_line_all_caps += 1\r\n",
    "                   subject_line.append(s_line)\r\n",
    "                if \"content-type: multipart\" in line.lower():\r\n",
    "                   attachments += 1\r\n",
    "                if line == \"\\n\":\r\n",
    "                   blank_lines.append(n_lines)\r\n",
    "        \r\n",
    "            temp_frame = pd.DataFrame({\r\n",
    "                        'directory':d,    \r\n",
    "                        'filename':file,\r\n",
    "                        'is_spam':['Y' if 'spam' in d else 'N'],\r\n",
    "                        'in_reply': ['Y' if in_reply_count > 0 else 'N'], \r\n",
    "                        'subj_caps': ['Y' if sub_line_all_caps > 0 else 'N'], \r\n",
    "                        'attachments': ['Y' if attachments > 0 else 'N'],\r\n",
    "                        ## *dc+3 \r\n",
    "                        #'body_lines': n_lines - min(blank_lines)\r\n",
    "                        'body_lines': [0 if len(blank_lines) == 0 else min(blank_lines)]\r\n",
    "                        }, index=[0])\r\n",
    "           \r\n",
    "            res_frame = res_frame.append(temp_frame, ignore_index=True)\r\n",
    "\r\n",
    "            ## *dc+2\r\n",
    "            # append body of email to collection\r\n",
    "            text = ' '.join(lines)\r\n",
    "            emails.append(text)\r\n",
    "            \r\n",
    "    #res_frame.to_csv('output_file.csv', index=False)\r\n",
    "    \r\n",
    "    ## *dc - add emails\r\n",
    "    return res_frame, emails, emails_body\r\n",
    "\r\n",
    "## *dc - Working from a notebook instead of py file.\r\n",
    "df, emails, emails_body = main()\r\n",
    "# ########################################\r\n",
    "# ##### Main Function\r\n",
    "# ########################################    \r\n",
    "# if __name__ == \"__main__\":\r\n",
    "#     res_frame, emails = main()\r\n",
    "#     pass   "
   ],
   "outputs": [],
   "metadata": {}
  },
  {
   "cell_type": "code",
   "execution_count": 4,
   "source": [
    "print(len(df),len(emails),len(emails_body))\r\n",
    "\r\n",
    "print(emails_body[3])"
   ],
   "outputs": [
    {
     "output_type": "stream",
     "name": "stdout",
     "text": [
      "9353 9353 9353\n",
      "Klez: The Virus That Won't Die\n",
      " \n",
      "Already the most prolific virus ever, Klez continues to wreak havoc.\n",
      "\n",
      "Andrew Brandt\n",
      ">>From the September 2002 issue of PC World magazine\n",
      "Posted Thursday, August 01, 2002\n",
      "\n",
      "\n",
      "The Klez worm is approaching its seventh month of wriggling across \n",
      "the Web, making it one of the most persistent viruses ever. And \n",
      "experts warn that it may be a harbinger of new viruses that use a \n",
      "combination of pernicious approaches to go from PC to PC.\n",
      "\n",
      "Antivirus software makers Symantec and McAfee both report more than \n",
      "2000 new infections daily, with no sign of letup at press time. The \n",
      "British security firm MessageLabs estimates that 1 in every 300 \n",
      "e-mail messages holds a variation of the Klez virus, and says that \n",
      "Klez has already surpassed last summer's SirCam as the most prolific \n",
      "virus ever.\n",
      "\n",
      "And some newer Klez variants aren't merely nuisances--they can carry \n",
      "other viruses in them that corrupt your data.\n",
      "\n",
      "...\n",
      "\n",
      "http://www.pcworld.com/news/article/0,aid,103259,00.asp\n",
      "_______________________________________________\n",
      "Irregulars mailing list\n",
      "Irregulars@tb.tf\n",
      "http://tb.tf/mailman/listinfo/irregulars\n",
      "\n",
      "\n"
     ]
    }
   ],
   "metadata": {}
  },
  {
   "cell_type": "code",
   "execution_count": 5,
   "source": [
    "import nltk\r\n",
    "import re \r\n",
    "import numpy as np\r\n",
    "\r\n",
    "stop_words = nltk.corpus.stopwords.words('english')\r\n",
    "\r\n",
    "def normalize_document(doc):\r\n",
    "    # lowercase and remove special characters to form a normalized document\r\n",
    "    doc = re.sub(r'[^a-zA-Z0-9\\s]', ' ', doc, re.I|re.A)\r\n",
    "    doc = doc.lower()\r\n",
    "    doc = doc.strip()\r\n",
    "\r\n",
    "    # tokenize document\r\n",
    "    tokens = nltk.word_tokenize(doc)\r\n",
    "    \r\n",
    "    # filter out stop words\r\n",
    "    filtered_tokens = [token for token in tokens if token not in stop_words]\r\n",
    "\r\n",
    "    # Remove numbers\r\n",
    "    filtered_tokens = [token for token in filtered_tokens if not token.isdigit()]\r\n",
    "\r\n",
    "    # Remove short tokens\r\n",
    "    filtered_tokens = [token for token in filtered_tokens if len(token) > 2]\r\n",
    "\r\n",
    "    # stem tokens - Skipping for now\r\n",
    "    #filtered_tokens = [stemming.stem(token) for token in filtered_tokens]\r\n",
    "\r\n",
    "    # re-create a normalized document\r\n",
    "    doc = ' '.join(filtered_tokens)\r\n",
    "    return doc\r\n",
    "\r\n",
    "normalize_text = np.vectorize(normalize_document)\r\n",
    "norm_text = normalize_text(emails)\r\n",
    "\r\n",
    "print(type(norm_text),len(norm_text))"
   ],
   "outputs": [
    {
     "output_type": "stream",
     "name": "stdout",
     "text": [
      "<class 'numpy.ndarray'> 9353\n"
     ]
    }
   ],
   "metadata": {}
  },
  {
   "cell_type": "code",
   "execution_count": 6,
   "source": [
    "from sklearn.feature_extraction.text import TfidfVectorizer\r\n",
    "\r\n",
    "tf = TfidfVectorizer(ngram_range=(1,3), min_df=5, max_df=.8, stop_words=stop_words, norm='l2')\r\n",
    "tf_matrix = tf.fit_transform(norm_text)\r\n",
    "\r\n",
    "print(tf_matrix.shape)"
   ],
   "outputs": [
    {
     "output_type": "stream",
     "name": "stdout",
     "text": [
      "(9353, 166742)\n"
     ]
    }
   ],
   "metadata": {}
  },
  {
   "cell_type": "code",
   "execution_count": 7,
   "source": [
    "from sklearn.feature_extraction.text import CountVectorizer\r\n",
    "\r\n",
    "cv = CountVectorizer(min_df=0, max_df=1., stop_words=stop_words)\r\n",
    "cv_matrix = cv.fit_transform(norm_text)\r\n",
    "\r\n",
    "print(cv_matrix.shape)"
   ],
   "outputs": [
    {
     "output_type": "stream",
     "name": "stdout",
     "text": [
      "(9353, 180059)\n"
     ]
    }
   ],
   "metadata": {}
  },
  {
   "cell_type": "code",
   "execution_count": 8,
   "source": [
    "print(df.columns)\r\n"
   ],
   "outputs": [
    {
     "output_type": "stream",
     "name": "stdout",
     "text": [
      "Index(['directory', 'filename', 'is_spam', 'in_reply', 'subj_caps',\n",
      "       'attachments', 'body_lines'],\n",
      "      dtype='object')\n"
     ]
    }
   ],
   "metadata": {}
  },
  {
   "cell_type": "code",
   "execution_count": 25,
   "source": [
    "df.sample(5)"
   ],
   "outputs": [
    {
     "output_type": "execute_result",
     "data": {
      "text/html": [
       "<div>\n",
       "<style scoped>\n",
       "    .dataframe tbody tr th:only-of-type {\n",
       "        vertical-align: middle;\n",
       "    }\n",
       "\n",
       "    .dataframe tbody tr th {\n",
       "        vertical-align: top;\n",
       "    }\n",
       "\n",
       "    .dataframe thead th {\n",
       "        text-align: right;\n",
       "    }\n",
       "</style>\n",
       "<table border=\"1\" class=\"dataframe\">\n",
       "  <thead>\n",
       "    <tr style=\"text-align: right;\">\n",
       "      <th></th>\n",
       "      <th>directory</th>\n",
       "      <th>filename</th>\n",
       "      <th>is_spam</th>\n",
       "      <th>in_reply</th>\n",
       "      <th>subj_caps</th>\n",
       "      <th>attachments</th>\n",
       "      <th>body_lines</th>\n",
       "      <th>kmeans_cluster</th>\n",
       "    </tr>\n",
       "  </thead>\n",
       "  <tbody>\n",
       "    <tr>\n",
       "      <th>5082</th>\n",
       "      <td>easy_ham_2</td>\n",
       "      <td>00031.7caef7fe7af2114d0e4bf6aa0faf3a03</td>\n",
       "      <td>N</td>\n",
       "      <td>N</td>\n",
       "      <td>N</td>\n",
       "      <td>N</td>\n",
       "      <td>41</td>\n",
       "      <td>0</td>\n",
       "    </tr>\n",
       "    <tr>\n",
       "      <th>3155</th>\n",
       "      <td>easy_ham</td>\n",
       "      <td>0656.dd2af7ab5d99adf717056893adb12a20</td>\n",
       "      <td>N</td>\n",
       "      <td>Y</td>\n",
       "      <td>N</td>\n",
       "      <td>N</td>\n",
       "      <td>42</td>\n",
       "      <td>1</td>\n",
       "    </tr>\n",
       "    <tr>\n",
       "      <th>8020</th>\n",
       "      <td>spam_2</td>\n",
       "      <td>00066.af6bf70ea68b499585a72bdd7d6dd931</td>\n",
       "      <td>Y</td>\n",
       "      <td>N</td>\n",
       "      <td>N</td>\n",
       "      <td>N</td>\n",
       "      <td>24</td>\n",
       "      <td>12</td>\n",
       "    </tr>\n",
       "    <tr>\n",
       "      <th>7721</th>\n",
       "      <td>spam</td>\n",
       "      <td>0268.1aee52bc302bf1d5c2030229b5dbd63e</td>\n",
       "      <td>Y</td>\n",
       "      <td>N</td>\n",
       "      <td>N</td>\n",
       "      <td>N</td>\n",
       "      <td>47</td>\n",
       "      <td>12</td>\n",
       "    </tr>\n",
       "    <tr>\n",
       "      <th>3405</th>\n",
       "      <td>easy_ham</td>\n",
       "      <td>0906.2e604cc2a15e9f2a68c302861ac42ec5</td>\n",
       "      <td>N</td>\n",
       "      <td>Y</td>\n",
       "      <td>N</td>\n",
       "      <td>N</td>\n",
       "      <td>55</td>\n",
       "      <td>1</td>\n",
       "    </tr>\n",
       "  </tbody>\n",
       "</table>\n",
       "</div>"
      ],
      "text/plain": [
       "       directory                                filename is_spam in_reply  \\\n",
       "5082  easy_ham_2  00031.7caef7fe7af2114d0e4bf6aa0faf3a03       N        N   \n",
       "3155    easy_ham   0656.dd2af7ab5d99adf717056893adb12a20       N        Y   \n",
       "8020      spam_2  00066.af6bf70ea68b499585a72bdd7d6dd931       Y        N   \n",
       "7721        spam   0268.1aee52bc302bf1d5c2030229b5dbd63e       Y        N   \n",
       "3405    easy_ham   0906.2e604cc2a15e9f2a68c302861ac42ec5       N        Y   \n",
       "\n",
       "     subj_caps attachments  body_lines kmeans_cluster  \n",
       "5082         N           N          41              0  \n",
       "3155         N           N          42              1  \n",
       "8020         N           N          24             12  \n",
       "7721         N           N          47             12  \n",
       "3405         N           N          55              1  "
      ]
     },
     "metadata": {},
     "execution_count": 25
    }
   ],
   "metadata": {}
  },
  {
   "cell_type": "code",
   "execution_count": 26,
   "source": [
    "# replace all Y/N with 1/0\r\n",
    "\r\n",
    "df = df.replace(['Y','N'],[1,0])\r\n",
    "\r\n",
    "df.sample(5)"
   ],
   "outputs": [
    {
     "output_type": "execute_result",
     "data": {
      "text/html": [
       "<div>\n",
       "<style scoped>\n",
       "    .dataframe tbody tr th:only-of-type {\n",
       "        vertical-align: middle;\n",
       "    }\n",
       "\n",
       "    .dataframe tbody tr th {\n",
       "        vertical-align: top;\n",
       "    }\n",
       "\n",
       "    .dataframe thead th {\n",
       "        text-align: right;\n",
       "    }\n",
       "</style>\n",
       "<table border=\"1\" class=\"dataframe\">\n",
       "  <thead>\n",
       "    <tr style=\"text-align: right;\">\n",
       "      <th></th>\n",
       "      <th>directory</th>\n",
       "      <th>filename</th>\n",
       "      <th>is_spam</th>\n",
       "      <th>in_reply</th>\n",
       "      <th>subj_caps</th>\n",
       "      <th>attachments</th>\n",
       "      <th>body_lines</th>\n",
       "      <th>kmeans_cluster</th>\n",
       "    </tr>\n",
       "  </thead>\n",
       "  <tbody>\n",
       "    <tr>\n",
       "      <th>7299</th>\n",
       "      <td>spam</td>\n",
       "      <td>00315.0ee82a2e087ffcf6efbd30b36499ead6</td>\n",
       "      <td>1</td>\n",
       "      <td>0</td>\n",
       "      <td>0</td>\n",
       "      <td>1</td>\n",
       "      <td>26</td>\n",
       "      <td>12</td>\n",
       "    </tr>\n",
       "    <tr>\n",
       "      <th>5129</th>\n",
       "      <td>easy_ham_2</td>\n",
       "      <td>00078.70afdc10249d68135ead7403a6257858</td>\n",
       "      <td>0</td>\n",
       "      <td>1</td>\n",
       "      <td>0</td>\n",
       "      <td>0</td>\n",
       "      <td>45</td>\n",
       "      <td>5</td>\n",
       "    </tr>\n",
       "    <tr>\n",
       "      <th>6958</th>\n",
       "      <td>spam</td>\n",
       "      <td>00005.57696a39d7d84318ce497886896bf90d</td>\n",
       "      <td>1</td>\n",
       "      <td>0</td>\n",
       "      <td>0</td>\n",
       "      <td>0</td>\n",
       "      <td>41</td>\n",
       "      <td>0</td>\n",
       "    </tr>\n",
       "    <tr>\n",
       "      <th>9255</th>\n",
       "      <td>spam_2</td>\n",
       "      <td>01304.114140cd4c51e9795559b974964aa043</td>\n",
       "      <td>1</td>\n",
       "      <td>0</td>\n",
       "      <td>0</td>\n",
       "      <td>1</td>\n",
       "      <td>39</td>\n",
       "      <td>3</td>\n",
       "    </tr>\n",
       "    <tr>\n",
       "      <th>8595</th>\n",
       "      <td>spam_2</td>\n",
       "      <td>00644.0f0a6c387d64887571426d7e28367947</td>\n",
       "      <td>1</td>\n",
       "      <td>0</td>\n",
       "      <td>0</td>\n",
       "      <td>0</td>\n",
       "      <td>39</td>\n",
       "      <td>7</td>\n",
       "    </tr>\n",
       "  </tbody>\n",
       "</table>\n",
       "</div>"
      ],
      "text/plain": [
       "       directory                                filename  is_spam  in_reply  \\\n",
       "7299        spam  00315.0ee82a2e087ffcf6efbd30b36499ead6        1         0   \n",
       "5129  easy_ham_2  00078.70afdc10249d68135ead7403a6257858        0         1   \n",
       "6958        spam  00005.57696a39d7d84318ce497886896bf90d        1         0   \n",
       "9255      spam_2  01304.114140cd4c51e9795559b974964aa043        1         0   \n",
       "8595      spam_2  00644.0f0a6c387d64887571426d7e28367947        1         0   \n",
       "\n",
       "      subj_caps  attachments  body_lines  kmeans_cluster  \n",
       "7299          0            1          26              12  \n",
       "5129          0            0          45               5  \n",
       "6958          0            0          41               0  \n",
       "9255          0            1          39               3  \n",
       "8595          0            0          39               7  "
      ]
     },
     "metadata": {},
     "execution_count": 26
    }
   ],
   "metadata": {}
  },
  {
   "cell_type": "code",
   "execution_count": 27,
   "source": [
    "from sklearn.cluster import KMeans\r\n",
    "from sklearn.metrics import silhouette_samples, silhouette_score\r\n",
    "\r\n",
    "NUM_CLUSTERS = 15\r\n",
    "km = KMeans(n_clusters=NUM_CLUSTERS, max_iter=10000, n_init=50, random_state=42).fit(tf_matrix)\r\n",
    "km\r\n",
    "\r\n",
    "df['kmeans_cluster'] = km.labels_\r\n",
    "\r\n",
    "email_clusters = (df[['directory', 'kmeans_cluster']]\r\n",
    "                  .sort_values(by=['kmeans_cluster'], \r\n",
    "                               ascending=False)\r\n",
    "                  .groupby('kmeans_cluster').head(20))  # top 20 movies for each cluster\r\n",
    "email_clusters = email_clusters.copy(deep=True)\r\n",
    "\r\n",
    "feature_names = tf.get_feature_names()\r\n",
    "topn_features = 50\r\n",
    "ordered_centroids = km.cluster_centers_.argsort()[:, ::-1]\r\n",
    "\r\n",
    "sample_silhouette_values = silhouette_samples(tf_matrix, km.labels_)\r\n",
    "\r\n",
    "# get key features for each cluster\r\n",
    "for cluster_num in range(NUM_CLUSTERS):\r\n",
    "\r\n",
    "    cluster_silhouette_values = sample_silhouette_values[km.labels_ == cluster_num]\r\n",
    "\r\n",
    "    key_features = [feature_names[index] \r\n",
    "                        for index in ordered_centroids[cluster_num, :topn_features]]\r\n",
    "    print('CLUSTER #'+str(cluster_num+1), \":\", cluster_silhouette_values.mean())\r\n",
    "    print('Cluster Size', cluster_silhouette_values.shape[0])\r\n",
    "    print('Key Features:', key_features)\r\n",
    "    print('-'*80)"
   ],
   "outputs": [
    {
     "output_type": "stream",
     "name": "stderr",
     "text": [
      "C:\\Users\\dancr\\miniconda3\\envs\\NLP\\lib\\site-packages\\sklearn\\utils\\deprecation.py:87: FutureWarning: Function get_feature_names is deprecated; get_feature_names is deprecated in 1.0 and will be removed in 1.2. Please use get_feature_names_out instead.\n",
      "  warnings.warn(msg, category=FutureWarning)\n"
     ]
    },
    {
     "output_type": "stream",
     "name": "stdout",
     "text": [
      "CLUSTER #1 : 0.10440073277364481\n",
      "Cluster Size 114\n",
      "Key Features: ['social', 'iiu', 'linux', 'social linux', 'iiu taint org', 'iiu taint', 'ie', 'linux ie', 'social admin', 'social admin linux', 'lugh', 'tuatha', 'tuatha org', 'lugh tuatha', 'lugh tuatha org', 'social linux ie', 'taint org', 'taint', 'admin linux', 'ilug social', 'aug', 'social events social', 'events social', 'events social linux', 'users group social', 'group social', 'group social events', 'social events', 'iiu iiu', 'iiu iiu taint', 'mailto iiu', 'http iiu taint', 'http iiu', 'iiu admin', 'admin', 'events', 'jul', 'list', 'irish', 'admin taint org', 'admin taint', 'iiu admin taint', 'ilug', 'listinfo social', 'mailman listinfo social', 'iiu request', 'iiu request iiu', 'mailto iiu request', 'request iiu taint', 'request iiu']\n",
      "--------------------------------------------------------------------------------\n",
      "CLUSTER #2 : 0.17667751637647855\n",
      "Cluster Size 1741\n",
      "Key Features: ['fork', 'xent com', 'xent', 'fork admin xent', 'admin xent', 'admin xent com', 'fork admin', 'mailto fork', 'sep', 'http xent com', 'http xent', 'list', 'xent com subject', 'fork request xent', 'request xent', 'request xent com', 'fork request', 'mailto fork request', 'fork spamassassin taint', 'fork spamassassin', 'admin', 'mailto', 'com mailman', 'fork xent com', 'fork xent', 'xent com mailman', 'listinfo fork', 'mailman listinfo fork', 'com subject', 'mailman', 'com mailman listinfo', 'spamassassin taint org', 'spamassassin taint', 'request', 'fork example com', 'fork example', 'taint org', 'taint', 'aug', 'xent com postfix', 'fork mailto fork', 'fork mailto', 'listinfo fork mailto', 'pdt', 'spamassassin', 'mailman listinfo', 'example com', 'com postfix', 'mon', 'listinfo']\n",
      "--------------------------------------------------------------------------------\n",
      "CLUSTER #3 : 0.3545687409391993\n",
      "Cluster Size 654\n",
      "Key Features: ['rpm', 'freshrpms', 'freshrpms net', 'rpm zzzlist', 'zzzlist', 'net', 'rpm list', 'egwn', 'list', 'egwn net', 'rpm zzzlist freshrpms', 'zzzlist freshrpms', 'zzzlist freshrpms net', 'lists freshrpms', 'lists freshrpms net', 'http lists freshrpms', 'freshrpms net mailman', 'http lists', 'admin freshrpms net', 'admin freshrpms', 'mailto rpm', 'freshrpms net subject', 'net mailman', 'listinfo rpm', 'mailman listinfo rpm', 'net mailman listinfo', 'request freshrpms net', 'request freshrpms', 'zzzlist admin freshrpms', 'rpm zzzlist admin', 'zzzlist admin', 'freshrpms net list', 'matthias', 'list freshrpms', 'rpm list freshrpms', 'list freshrpms net', 'lists', 'net subject', 'oct', 'net list', 'net egwn', 'list rpm', 'mailto rpm list', 'list request freshrpms', 'rpm list request', 'list request', 'egwn net egwn', 'rpm zzzlist mailto', 'mailto rpm zzzlist', 'zzzlist mailto rpm']\n",
      "--------------------------------------------------------------------------------\n",
      "CLUSTER #4 : 0.2058471918862322\n",
      "Cluster Size 483\n",
      "Key Features: ['3d', 'font', 'width 3d', 'size 3d', 'width', 'size', 'color 3d', 'td', 'face 3d', 'color', 'face', '3d http', '20', 'font face 3d', 'align', 'align 3d', 'font face', 'font font', 'tr', 'table', 'height 3d', '3d arial', 'face 3d arial', 'td tr', 'arial', 'font color 3d', 'nbsp', '3d height', 'height', '3d height 3d', 'center', 'font size 3d', 'width 3d height', 'font color', '3d center', 'font size', 'align 3d center', 'src 3d', 'src 3d http', 'font td', 'href 3d', '3d http www', 'border', 'img src 3d', 'bgcolor 3d', 'border 3d', '3d font', '09 09', 'href 3d http', 'helvetica']\n",
      "--------------------------------------------------------------------------------\n",
      "CLUSTER #5 : 0.23886535160372815\n",
      "Cluster Size 322\n",
      "Key Features: ['spamassassin talk', 'talk', 'sourceforge net', 'sourceforge', 'net', 'spamassassin', 'example sourceforge', 'example sourceforge net', 'lists', 'lists sourceforge', 'lists sourceforge net', 'usw', 'example', 'talk admin', 'mailto spamassassin talk', 'talk example sourceforge', 'talk example', 'spamassassin talk admin', 'spamassassin talk example', 'mailto spamassassin', 'habeas', 'talk request', 'aug', 'talk admin example', 'listinfo spamassassin talk', 'spamassassin talk request', 'sourceforge net subject', 'talk lists', 'talk lists sourceforge', 'spamassassin talk lists', 'list', 'lists listinfo spamassassin', 'listinfo spamassassin', 'list1 sourceforge net', 'list1 sourceforge', 'list1', 'usw list1 sourceforge', 'usw list1', 'sf', 'admin example sourceforge', 'net lists listinfo', 'lists listinfo', 'net lists', 'sourceforge net lists', 'admin example', 'swe', 'https', 'net subject', 'talk request lists', 'talk mailto']\n",
      "--------------------------------------------------------------------------------\n",
      "CLUSTER #6 : 0.14218279159427738\n",
      "Cluster Size 725\n",
      "Key Features: ['ilug', 'linux', 'ie', 'linux ie', 'lugh', 'ilug linux', 'tuatha', 'tuatha org', 'lugh tuatha org', 'lugh tuatha', 'ilug admin', 'ilug admin linux', 'admin linux', 'aug', 'ilug linux ie', 'irish', 'group ilug', 'users group ilug', 'group ilug linux', 'irish linux', 'irish linux users', 'linux users group', 'users group', 'linux users', 'root', 'received lugh', 'admin', 'ie mailman', 'linux ie mailman', 'group', 'tuatha org esmtp', 'users', 'jul', 'admin linux ie', 'tue aug', 'www linux', 'http www linux', 'www linux ie', 'root localhost', 'tue', 'mailman listinfo ilug', 'listinfo ilug', 'fri', 'fri aug', 'ie mailman listinfo', 'mailman', 'list', 'mon', 'received lugh tuatha', 'ilug subscription']\n",
      "--------------------------------------------------------------------------------\n",
      "CLUSTER #7 : 0.4759462985372213\n",
      "Cluster Size 131\n",
      "Key Features: ['perl', 'use perl', 'perl org', 'use', 'pudge', 'use perl org', 'http use perl', 'http use', 'pudge perl', 'pudge perl org', 'cpu59', 'cpu59 osdn', 'cpu59 osdn com', 'osdn com', 'osdn', 'sid', 'messages', 'change preferences', 'perl jmason org', 'use perl jmason', 'perl jmason', 'preferences', 'perl org article', 'org article', 'sid 02', 'change', 'pl sid', 'pl sid 02', 'article', 'posted', 'sep', 'org article sid', 'article sid', 'pl', 'path pudge', 'path pudge perl', 'return path pudge', 'use perl stop', 'use perl add', 'receiving messages use', 'subject use perl', 'use perl daily', 'subscribed use perl', 'helo perl', 'helo perl org', 'osdn com smtp', 'subscribed use', 'message subscribed use', 'messages use perl', 'perl add']\n",
      "--------------------------------------------------------------------------------\n",
      "CLUSTER #8 : 0.05238450657439927\n",
      "Cluster Size 718\n",
      "Key Features: ['font', 'width', 'td', 'size', 'nbsp', 'height', 'href http', 'src http', 'face', 'color', 'href', 'border', 'img', 'src', 'font face', 'table', 'img src http', 'arial', 'tr', 'td tr', 'gif', 'img src', 'width height', 'align', 'font font', 'gif width', 'font size', 'cnet', 'face arial', 'src http www', 'center', 'gif width height', 'bgcolor', 'font face arial', 'lockergnome', 'href http www', 'nbsp nbsp', 'cnet com', 'helvetica', 'arial helvetica', 'www', 'http www', 'align center', 'com gif', 'face verdana', 'verdana', 'font color', 'nbsp nbsp nbsp', 'com gif width', 'sans']\n",
      "--------------------------------------------------------------------------------\n",
      "CLUSTER #9 : 0.2620858740274013\n",
      "Cluster Size 203\n",
      "Key Features: ['exmh', 'exmh workers', 'workers', 'redhat com', 'listman', 'redhat', 'deepeddy', 'mx1', 'spamassassin taint org', 'spamassassin taint', 'taint org', 'taint', 'vircio', 'spamassassin', 'vircio com', 'example com', 'listman redhat com', 'listman redhat', 'workers redhat com', 'workers redhat', 'exmh workers redhat', 'cwg', 'deepeddy com', 'mailto exmh workers', 'exmh workers admin', 'workers admin', 'aug', 'listman spamassassin taint', 'listman spamassassin', 'example', 'https listman', 'mailto exmh', 'int mx1 corp', 'int mx1', 'mx1 corp', 'int', 'corp', 'exmh workers spamassassin', 'workers spamassassin', 'workers spamassassin taint', 'listman example com', 'listman example', 'listinfo exmh workers', 'exmh workers request', 'workers request', 'exmh workers listman', 'workers listman', 'chris', 'deepeddy vircio com', 'deepeddy vircio']\n",
      "--------------------------------------------------------------------------------\n",
      "CLUSTER #10 : 0.15479542535158144\n",
      "Cluster Size 447\n",
      "Key Features: ['sourceforge net', 'sourceforge', 'razor', 'razor users', 'net', 'users', 'example sourceforge net', 'example sourceforge', 'lists', 'spamassassin devel', 'usw', 'lists sourceforge net', 'lists sourceforge', 'devel', 'example', 'spamassassin', 'razor users example', 'users example sourceforge', 'razor users admin', 'mailto razor', 'mailto razor users', 'sourceforge net subject', 'list', 'users example', 'sf', 'users admin', 'admin example sourceforge', 'list1 sourceforge net', 'list1 sourceforge', 'usw list1', 'usw list1 sourceforge', 'list1', 'aug', 'sourceforge net lists', 'net lists', 'net lists listinfo', 'lists listinfo', 'https', 'admin example', 'lists listinfo razor', 'listinfo razor', 'listinfo razor users', 'spamassassin commits', 'net subject', 'commits', 'razor users request', 'net usw', 'users admin example', 'users lists', 'razor users lists']\n",
      "--------------------------------------------------------------------------------\n",
      "CLUSTER #11 : 0.0944487975748698\n",
      "Cluster Size 605\n",
      "Key Features: ['rssfeeds', 'oct', 'spamassassin taint org', 'spamassassin taint', 'taint org', 'taint', 'rssfeeds spamassassin taint', 'rssfeeds spamassassin', 'spamassassin', 'sep', 'tue oct', 'jmason org', 'jmason', 'path rssfeeds spamassassin', 'utf url', 'encoding utf url', 'utf url http', 'org yyyy spamassassin', 'thu', 'jalapeno', 'taint org delivered', 'oct ist received', 'oct ist', 'yyyy spamassassin taint', 'yyyy spamassassin', 'thu sep', 'org delivered yyyy', 'tue', 'org delivered', 'path rssfeeds', 'plain encoding utf', 'return path rssfeeds', 'encoding utf', 'text plain encoding', 'plain encoding', 'utf', 'rssfeeds jmason org', 'rssfeeds jmason', 'slashnull org yyyy', 'org localhost dogma', 'org yyyy', 'localhost dogma slashnull', 'localhost dogma', 'ist received dogma', 'yyyy', 'thu oct', 'slashnull org localhost', 'taint org subject', 'received dogma', 'received dogma slashnull']\n",
      "--------------------------------------------------------------------------------\n",
      "CLUSTER #12 : 0.24640983160022667\n",
      "Cluster Size 206\n",
      "Key Features: ['exmh users', 'exmh', 'users', 'redhat com', 'listman', 'redhat', 'mx1', 'example com', 'spamassassin taint org', 'spamassassin taint', 'taint org', 'taint', 'spamassassin', 'listman redhat com', 'listman redhat', 'example', 'users redhat com', 'exmh users redhat', 'users redhat', 'exmh users admin', 'mailto exmh users', 'sep', 'listman spamassassin taint', 'listman spamassassin', 'exmh users spamassassin', 'users spamassassin taint', 'users spamassassin', 'https listman', 'mailto exmh', 'mx1 corp', 'int mx1', 'int mx1 corp', 'listman example', 'listman example com', 'users admin', 'int', 'users example com', 'exmh users example', 'corp', 'listinfo exmh users', 'exmh users request', 'users listman', 'exmh users listman', 'mailman listinfo exmh', 'listinfo exmh', 'users request', 'https', 'users example', 'list', 'list exmh users']\n",
      "--------------------------------------------------------------------------------\n",
      "CLUSTER #13 : -0.013154061417047095\n",
      "Cluster Size 2165\n",
      "Key Features: ['net', 'sep', 'zzzz', 'aug', 'jul', 'netnoteinc com', 'netnoteinc', 'mail', 'mon', 'zzzz localhost', 'webnote', 'webnote net', 'html', 'fri', 'tue', 'tim', 'securityfocus', 'may', 'wed', 'one', 'securityfocus com', 'font', 'email', 'www', 'free', 'thu', 'comcast net', 'comcast', 'jun', 'smtp', 'http www', 'yahoo', 'spamassassin', 'sat', 'yahoo com', 'mandark', 'mandark labs', 'mandark labs netnoteinc', 'please', 'priority', 'labs', '3d', 'pro net', 'tim one', 'one comcast net', 'tim one comcast', 'one comcast', 'normal', 'sun', 'list']\n",
      "--------------------------------------------------------------------------------\n",
      "CLUSTER #14 : 0.08264559042516018\n",
      "Cluster Size 621\n",
      "Key Features: ['example com', 'rssfeeds', 'oct', 'example', 'rssfeeds example', 'rssfeeds example com', 'tue oct', 'sep', 'spam', 'jmason org', 'jmason', 'path rssfeeds example', 'spam level url', 'level url', 'level url http', 'org yyyy example', 'jalapeno', 'tue', 'yyyy example com', 'yyyy example', 'version cvs spam', 'version cvs', 'example com delivered', 'utf spam', 'encoding utf spam', 'utf spam status', 'oct ist received', 'oct ist', 'thu sep', 'thu', 'path rssfeeds', 'plain encoding utf', 'encoding utf', 'return path rssfeeds', 'plain encoding', 'text plain encoding', 'utf', 'org localhost dogma', 'rssfeeds jmason', 'rssfeeds jmason org', 'slashnull org yyyy', 'localhost dogma', 'localhost dogma slashnull', 'ist received dogma', 'org yyyy', 'example com subject', 'yyyy', 'required tests awl', 'tests awl', 'slashnull org localhost']\n",
      "--------------------------------------------------------------------------------\n",
      "CLUSTER #15 : 0.24928223050810747\n",
      "Cluster Size 218\n",
      "Key Features: ['yahoo', 'yahoogroups com', 'yahoogroups', 'zzzzteana', 'yahoo com', 'grp scd', 'grp scd yahoo', 'scd', 'scd yahoo com', 'scd yahoo', 'grp', 'zzzzteana yahoogroups', 'zzzzteana yahoogroups com', 'groups', 'forteana', 'zzzz', 'aug', 'egroups', 'returns groups yahoo', 'returns groups', 'groups yahoo com', 'groups yahoo', 'dec', 'returns', 'list zzzzteana', 'list zzzzteana yahoogroups', 'sentto', 'oct', 'yahoo groups', 'sentto zzzz', 'org returns groups', 'org returns', 'received unknown', 'zzzz localhost', 'unsubscribe', 'wed aug', 'srv0', 'ems', 'taint org returns', 'unknown', 'egroups com', 'list', 'yahoo com nnfmp', 'zzzz example com', 'zzzz example', 'zzzz spamassassin', 'zzzz spamassassin taint', 'use yahoo groups', 'use yahoo', 'unsubscribe group']\n",
      "--------------------------------------------------------------------------------\n"
     ]
    }
   ],
   "metadata": {}
  },
  {
   "cell_type": "code",
   "execution_count": 28,
   "source": [
    "## Output a quick pivot table to see distribution of clusters vs spam/ham\r\n",
    "\r\n",
    "df.pivot_table(index='kmeans_cluster', columns='is_spam', values='directory', aggfunc='count')"
   ],
   "outputs": [
    {
     "output_type": "execute_result",
     "data": {
      "text/html": [
       "<div>\n",
       "<style scoped>\n",
       "    .dataframe tbody tr th:only-of-type {\n",
       "        vertical-align: middle;\n",
       "    }\n",
       "\n",
       "    .dataframe tbody tr th {\n",
       "        vertical-align: top;\n",
       "    }\n",
       "\n",
       "    .dataframe thead th {\n",
       "        text-align: right;\n",
       "    }\n",
       "</style>\n",
       "<table border=\"1\" class=\"dataframe\">\n",
       "  <thead>\n",
       "    <tr style=\"text-align: right;\">\n",
       "      <th>is_spam</th>\n",
       "      <th>0</th>\n",
       "      <th>1</th>\n",
       "    </tr>\n",
       "    <tr>\n",
       "      <th>kmeans_cluster</th>\n",
       "      <th></th>\n",
       "      <th></th>\n",
       "    </tr>\n",
       "  </thead>\n",
       "  <tbody>\n",
       "    <tr>\n",
       "      <th>0</th>\n",
       "      <td>68.0</td>\n",
       "      <td>46.0</td>\n",
       "    </tr>\n",
       "    <tr>\n",
       "      <th>1</th>\n",
       "      <td>1691.0</td>\n",
       "      <td>50.0</td>\n",
       "    </tr>\n",
       "    <tr>\n",
       "      <th>2</th>\n",
       "      <td>654.0</td>\n",
       "      <td>NaN</td>\n",
       "    </tr>\n",
       "    <tr>\n",
       "      <th>3</th>\n",
       "      <td>59.0</td>\n",
       "      <td>424.0</td>\n",
       "    </tr>\n",
       "    <tr>\n",
       "      <th>4</th>\n",
       "      <td>307.0</td>\n",
       "      <td>15.0</td>\n",
       "    </tr>\n",
       "    <tr>\n",
       "      <th>5</th>\n",
       "      <td>651.0</td>\n",
       "      <td>74.0</td>\n",
       "    </tr>\n",
       "    <tr>\n",
       "      <th>6</th>\n",
       "      <td>131.0</td>\n",
       "      <td>NaN</td>\n",
       "    </tr>\n",
       "    <tr>\n",
       "      <th>7</th>\n",
       "      <td>257.0</td>\n",
       "      <td>461.0</td>\n",
       "    </tr>\n",
       "    <tr>\n",
       "      <th>8</th>\n",
       "      <td>203.0</td>\n",
       "      <td>NaN</td>\n",
       "    </tr>\n",
       "    <tr>\n",
       "      <th>9</th>\n",
       "      <td>443.0</td>\n",
       "      <td>4.0</td>\n",
       "    </tr>\n",
       "    <tr>\n",
       "      <th>10</th>\n",
       "      <td>605.0</td>\n",
       "      <td>NaN</td>\n",
       "    </tr>\n",
       "    <tr>\n",
       "      <th>11</th>\n",
       "      <td>206.0</td>\n",
       "      <td>NaN</td>\n",
       "    </tr>\n",
       "    <tr>\n",
       "      <th>12</th>\n",
       "      <td>840.0</td>\n",
       "      <td>1325.0</td>\n",
       "    </tr>\n",
       "    <tr>\n",
       "      <th>13</th>\n",
       "      <td>621.0</td>\n",
       "      <td>NaN</td>\n",
       "    </tr>\n",
       "    <tr>\n",
       "      <th>14</th>\n",
       "      <td>218.0</td>\n",
       "      <td>NaN</td>\n",
       "    </tr>\n",
       "  </tbody>\n",
       "</table>\n",
       "</div>"
      ],
      "text/plain": [
       "is_spam              0       1\n",
       "kmeans_cluster                \n",
       "0                 68.0    46.0\n",
       "1               1691.0    50.0\n",
       "2                654.0     NaN\n",
       "3                 59.0   424.0\n",
       "4                307.0    15.0\n",
       "5                651.0    74.0\n",
       "6                131.0     NaN\n",
       "7                257.0   461.0\n",
       "8                203.0     NaN\n",
       "9                443.0     4.0\n",
       "10               605.0     NaN\n",
       "11               206.0     NaN\n",
       "12               840.0  1325.0\n",
       "13               621.0     NaN\n",
       "14               218.0     NaN"
      ]
     },
     "metadata": {},
     "execution_count": 28
    }
   ],
   "metadata": {}
  },
  {
   "cell_type": "code",
   "execution_count": 12,
   "source": [
    "df['directory'].value_counts()"
   ],
   "outputs": [
    {
     "output_type": "execute_result",
     "data": {
      "text/plain": [
       "easy_ham      5052\n",
       "easy_ham_2    1401\n",
       "spam_2        1398\n",
       "spam          1001\n",
       "hard_ham       501\n",
       "Name: directory, dtype: int64"
      ]
     },
     "metadata": {},
     "execution_count": 12
    }
   ],
   "metadata": {}
  },
  {
   "cell_type": "code",
   "execution_count": 13,
   "source": [
    "df.pivot_table(index='kmeans_cluster', columns='directory', values='filename', aggfunc='count')\r\n"
   ],
   "outputs": [
    {
     "output_type": "execute_result",
     "data": {
      "text/html": [
       "<div>\n",
       "<style scoped>\n",
       "    .dataframe tbody tr th:only-of-type {\n",
       "        vertical-align: middle;\n",
       "    }\n",
       "\n",
       "    .dataframe tbody tr th {\n",
       "        vertical-align: top;\n",
       "    }\n",
       "\n",
       "    .dataframe thead th {\n",
       "        text-align: right;\n",
       "    }\n",
       "</style>\n",
       "<table border=\"1\" class=\"dataframe\">\n",
       "  <thead>\n",
       "    <tr style=\"text-align: right;\">\n",
       "      <th>directory</th>\n",
       "      <th>easy_ham</th>\n",
       "      <th>easy_ham_2</th>\n",
       "      <th>hard_ham</th>\n",
       "      <th>spam</th>\n",
       "      <th>spam_2</th>\n",
       "    </tr>\n",
       "    <tr>\n",
       "      <th>kmeans_cluster</th>\n",
       "      <th></th>\n",
       "      <th></th>\n",
       "      <th></th>\n",
       "      <th></th>\n",
       "      <th></th>\n",
       "    </tr>\n",
       "  </thead>\n",
       "  <tbody>\n",
       "    <tr>\n",
       "      <th>0</th>\n",
       "      <td>9.0</td>\n",
       "      <td>56.0</td>\n",
       "      <td>3.0</td>\n",
       "      <td>41.0</td>\n",
       "      <td>5.0</td>\n",
       "    </tr>\n",
       "    <tr>\n",
       "      <th>1</th>\n",
       "      <td>1314.0</td>\n",
       "      <td>377.0</td>\n",
       "      <td>NaN</td>\n",
       "      <td>NaN</td>\n",
       "      <td>50.0</td>\n",
       "    </tr>\n",
       "    <tr>\n",
       "      <th>2</th>\n",
       "      <td>502.0</td>\n",
       "      <td>148.0</td>\n",
       "      <td>4.0</td>\n",
       "      <td>NaN</td>\n",
       "      <td>NaN</td>\n",
       "    </tr>\n",
       "    <tr>\n",
       "      <th>3</th>\n",
       "      <td>NaN</td>\n",
       "      <td>NaN</td>\n",
       "      <td>59.0</td>\n",
       "      <td>168.0</td>\n",
       "      <td>256.0</td>\n",
       "    </tr>\n",
       "    <tr>\n",
       "      <th>4</th>\n",
       "      <td>260.0</td>\n",
       "      <td>45.0</td>\n",
       "      <td>2.0</td>\n",
       "      <td>10.0</td>\n",
       "      <td>5.0</td>\n",
       "    </tr>\n",
       "    <tr>\n",
       "      <th>5</th>\n",
       "      <td>195.0</td>\n",
       "      <td>456.0</td>\n",
       "      <td>NaN</td>\n",
       "      <td>62.0</td>\n",
       "      <td>12.0</td>\n",
       "    </tr>\n",
       "    <tr>\n",
       "      <th>6</th>\n",
       "      <td>109.0</td>\n",
       "      <td>20.0</td>\n",
       "      <td>2.0</td>\n",
       "      <td>NaN</td>\n",
       "      <td>NaN</td>\n",
       "    </tr>\n",
       "    <tr>\n",
       "      <th>7</th>\n",
       "      <td>4.0</td>\n",
       "      <td>NaN</td>\n",
       "      <td>253.0</td>\n",
       "      <td>172.0</td>\n",
       "      <td>289.0</td>\n",
       "    </tr>\n",
       "    <tr>\n",
       "      <th>8</th>\n",
       "      <td>160.0</td>\n",
       "      <td>43.0</td>\n",
       "      <td>NaN</td>\n",
       "      <td>NaN</td>\n",
       "      <td>NaN</td>\n",
       "    </tr>\n",
       "    <tr>\n",
       "      <th>9</th>\n",
       "      <td>293.0</td>\n",
       "      <td>145.0</td>\n",
       "      <td>5.0</td>\n",
       "      <td>NaN</td>\n",
       "      <td>4.0</td>\n",
       "    </tr>\n",
       "    <tr>\n",
       "      <th>10</th>\n",
       "      <td>605.0</td>\n",
       "      <td>NaN</td>\n",
       "      <td>NaN</td>\n",
       "      <td>NaN</td>\n",
       "      <td>NaN</td>\n",
       "    </tr>\n",
       "    <tr>\n",
       "      <th>11</th>\n",
       "      <td>182.0</td>\n",
       "      <td>24.0</td>\n",
       "      <td>NaN</td>\n",
       "      <td>NaN</td>\n",
       "      <td>NaN</td>\n",
       "    </tr>\n",
       "    <tr>\n",
       "      <th>12</th>\n",
       "      <td>584.0</td>\n",
       "      <td>84.0</td>\n",
       "      <td>172.0</td>\n",
       "      <td>548.0</td>\n",
       "      <td>777.0</td>\n",
       "    </tr>\n",
       "    <tr>\n",
       "      <th>13</th>\n",
       "      <td>621.0</td>\n",
       "      <td>NaN</td>\n",
       "      <td>NaN</td>\n",
       "      <td>NaN</td>\n",
       "      <td>NaN</td>\n",
       "    </tr>\n",
       "    <tr>\n",
       "      <th>14</th>\n",
       "      <td>214.0</td>\n",
       "      <td>3.0</td>\n",
       "      <td>1.0</td>\n",
       "      <td>NaN</td>\n",
       "      <td>NaN</td>\n",
       "    </tr>\n",
       "  </tbody>\n",
       "</table>\n",
       "</div>"
      ],
      "text/plain": [
       "directory       easy_ham  easy_ham_2  hard_ham   spam  spam_2\n",
       "kmeans_cluster                                               \n",
       "0                    9.0        56.0       3.0   41.0     5.0\n",
       "1                 1314.0       377.0       NaN    NaN    50.0\n",
       "2                  502.0       148.0       4.0    NaN     NaN\n",
       "3                    NaN         NaN      59.0  168.0   256.0\n",
       "4                  260.0        45.0       2.0   10.0     5.0\n",
       "5                  195.0       456.0       NaN   62.0    12.0\n",
       "6                  109.0        20.0       2.0    NaN     NaN\n",
       "7                    4.0         NaN     253.0  172.0   289.0\n",
       "8                  160.0        43.0       NaN    NaN     NaN\n",
       "9                  293.0       145.0       5.0    NaN     4.0\n",
       "10                 605.0         NaN       NaN    NaN     NaN\n",
       "11                 182.0        24.0       NaN    NaN     NaN\n",
       "12                 584.0        84.0     172.0  548.0   777.0\n",
       "13                 621.0         NaN       NaN    NaN     NaN\n",
       "14                 214.0         3.0       1.0    NaN     NaN"
      ]
     },
     "metadata": {},
     "execution_count": 13
    }
   ],
   "metadata": {}
  },
  {
   "cell_type": "code",
   "execution_count": null,
   "source": [
    "# # KMeans(n_clusters=NUM_CLUSTERS, max_iter=10000, n_init=50, random_state=42).fit(tf_matrix)\r\n",
    "# scores = []\r\n",
    "\r\n",
    "# for k in range(1, 20):\r\n",
    "#     kmeans = KMeans(init=\"random\", n_clusters=k, n_init=10, max_iter=300, random_state=42)\r\n",
    "#     kmeans.fit(tf_matrix)\r\n",
    "#     scores.append(kmeans.inertia_)"
   ],
   "outputs": [],
   "metadata": {}
  },
  {
   "cell_type": "code",
   "execution_count": null,
   "source": [
    "# import matplotlib.pyplot as plt\r\n",
    "\r\n",
    "\r\n",
    "# plt.style.use(\"fivethirtyeight\")\r\n",
    "# plt.figure(figsize=(12,6))\r\n",
    "# plt.plot(range(1, 20), scores)\r\n",
    "# plt.xticks(range(1, 20))\r\n",
    "# plt.xlabel(\"Number of Clusters\")\r\n",
    "# plt.ylabel(\"SSE\")\r\n",
    "# plt.show()"
   ],
   "outputs": [],
   "metadata": {}
  },
  {
   "cell_type": "code",
   "execution_count": 29,
   "source": [
    "df['kmeans_cluster'] = df['kmeans_cluster'].astype(object)\r\n",
    "df.info()"
   ],
   "outputs": [
    {
     "output_type": "stream",
     "name": "stdout",
     "text": [
      "<class 'pandas.core.frame.DataFrame'>\n",
      "RangeIndex: 9353 entries, 0 to 9352\n",
      "Data columns (total 8 columns):\n",
      " #   Column          Non-Null Count  Dtype \n",
      "---  ------          --------------  ----- \n",
      " 0   directory       9353 non-null   object\n",
      " 1   filename        9353 non-null   object\n",
      " 2   is_spam         9353 non-null   int64 \n",
      " 3   in_reply        9353 non-null   int64 \n",
      " 4   subj_caps       9353 non-null   int64 \n",
      " 5   attachments     9353 non-null   int64 \n",
      " 6   body_lines      9353 non-null   int64 \n",
      " 7   kmeans_cluster  9353 non-null   object\n",
      "dtypes: int64(5), object(3)\n",
      "memory usage: 584.7+ KB\n"
     ]
    }
   ],
   "metadata": {}
  },
  {
   "cell_type": "markdown",
   "source": [
    "# Prediction Without K-Means Feature"
   ],
   "metadata": {}
  },
  {
   "cell_type": "code",
   "execution_count": 30,
   "source": [
    "import numpy as np\r\n",
    "import pandas as pd\r\n",
    "from sklearn.preprocessing import StandardScaler\r\n",
    "from sklearn.pipeline import Pipeline\r\n",
    "from sklearn.linear_model import SGDClassifier\r\n",
    "from sklearn.model_selection import cross_val_score\r\n",
    "from sklearn.preprocessing import OneHotEncoder\r\n",
    "from sklearn.model_selection import ShuffleSplit\r\n",
    "from sklearn import metrics as mt\r\n",
    "from sklearn.svm import SVC\r\n",
    "from sklearn.linear_model import LogisticRegression\r\n",
    "from sklearn.model_selection import GridSearchCV\r\n",
    "from sklearn.metrics import roc_auc_score\r\n",
    "from sklearn.model_selection import train_test_split\r\n",
    "from sklearn.metrics import roc_curve\r\n",
    "from matplotlib import pyplot\r\n",
    "from sklearn.compose import ColumnTransformer\r\n",
    "from sklearn.calibration import CalibratedClassifierCV\r\n",
    "import matplotlib.pyplot as plt\r\n",
    "from sklearn.model_selection import train_test_split\r\n",
    "from sklearn.model_selection import StratifiedKFold\r\n",
    "from sklearn.model_selection import KFold\r\n",
    "from sklearn.metrics import confusion_matrix\r\n",
    "import seaborn as sns\r\n",
    "from sklearn.metrics import plot_confusion_matrix\r\n",
    "from sklearn.metrics import classification_report,confusion_matrix\r\n",
    "from sklearn.impute import SimpleImputer\r\n",
    "from sklearn.compose import make_column_selector as selector\r\n",
    "from sklearn.preprocessing import RobustScaler\r\n",
    "# Imbalanced Data\r\n",
    "from imblearn.over_sampling import SMOTE\r\n",
    "from imblearn.pipeline import Pipeline as imbpipeline\r\n",
    "from sklearn.pipeline import Pipeline\r\n",
    "from sklearn.model_selection import train_test_split, GridSearchCV, StratifiedKFold\r\n",
    "\r\n",
    "# Pre-Processing\r\n",
    "from sklearn.preprocessing import RobustScaler\r\n",
    "from sklearn.preprocessing import StandardScaler\r\n",
    "from sklearn.preprocessing import OneHotEncoder\r\n",
    "from sklearn.impute import SimpleImputer\r\n",
    "from sklearn.compose import ColumnTransformer\r\n",
    "\r\n",
    "from sklearn.metrics import make_scorer\r\n",
    "from sklearn.metrics import accuracy_score\r\n",
    "from sklearn.metrics import recall_score\r\n",
    "from sklearn.metrics import precision_score\r\n",
    "from sklearn.metrics import f1_score\r\n",
    "\r\n",
    "\r\n",
    "categorical_features = ['in_reply','subj_caps','attachments']\r\n",
    "numeric_features = ['body_lines']\r\n",
    "\r\n",
    "X = df[categorical_features + numeric_features]\r\n",
    "y = df['is_spam']\r\n",
    "\r\n",
    "X_train, X_test, y_train, y_test = train_test_split(X,\r\n",
    "                                                    y,\r\n",
    "                                                    test_size=0.2,\r\n",
    "                                                    stratify=y,\r\n",
    "                                                    random_state=11)"
   ],
   "outputs": [],
   "metadata": {}
  },
  {
   "cell_type": "code",
   "execution_count": 31,
   "source": [
    "numeric_transformer = Pipeline(steps=[\r\n",
    "    ('imputer', SimpleImputer(missing_values=np.nan, strategy=\"median\")),\r\n",
    "    ('scaler', RobustScaler(with_centering=False))])\r\n",
    "\r\n",
    "categorical_transformer = Pipeline(steps=[\r\n",
    "    ('imputer', SimpleImputer(missing_values=np.nan, strategy=\"most_frequent\")),\r\n",
    "    ('onehot', OneHotEncoder(handle_unknown='ignore'))])\r\n",
    "\r\n",
    "preprocessor = ColumnTransformer(\r\n",
    "    transformers=[\r\n",
    "        ('num', numeric_transformer, numeric_features),\r\n",
    "        ('cat', categorical_transformer, categorical_features)])\r\n",
    "\r\n",
    "\r\n",
    "pipeline = imbpipeline(steps = [['preprocessor', preprocessor],\r\n",
    "                                ['smote', SMOTE(random_state=11)],\r\n",
    "                                ['classifier', LogisticRegression(random_state=11,\r\n",
    "                                                                  max_iter=1000, n_jobs=-1)]])\r\n",
    "\r\n",
    "stratified_kfold = StratifiedKFold(n_splits=3,\r\n",
    "                                       shuffle=True,\r\n",
    "                                       random_state=11)\r\n",
    "\r\n",
    "param_grid = [{'classifier__C': [0.001, 0.01, 0.1, 1, 10, 100, 1000],\r\n",
    "               'classifier__penalty': ['l1'],\r\n",
    "               'classifier__solver': ['saga']},\r\n",
    "              {'classifier__C': [0.001, 0.01, 0.1, 1, 10, 100, 1000],\r\n",
    "               'classifier__penalty': ['l2'],\r\n",
    "               'classifier__solver': ['lbfgs']}\r\n",
    "             ]\r\n",
    "              \r\n",
    "grid_search = GridSearchCV(estimator=pipeline,\r\n",
    "                           param_grid=param_grid,\r\n",
    "                           scoring='roc_auc',\r\n",
    "                           cv=stratified_kfold,\r\n",
    "                           n_jobs=-1)\r\n",
    "\r\n",
    "grid_search.fit(X_train, y_train)\r\n",
    "cv_score = grid_search.best_score_\r\n",
    "test_score = grid_search.score(X_test, y_test)\r\n",
    "print(f'Cross-validation score: {cv_score}\\nTest score: {test_score}')"
   ],
   "outputs": [
    {
     "output_type": "stream",
     "name": "stdout",
     "text": [
      "Cross-validation score: 0.7708778934447174\n",
      "Test score: 0.7732259465612268\n"
     ]
    }
   ],
   "metadata": {}
  },
  {
   "cell_type": "code",
   "execution_count": 32,
   "source": [
    "print(grid_search.best_params_)"
   ],
   "outputs": [
    {
     "output_type": "stream",
     "name": "stdout",
     "text": [
      "{'classifier__C': 0.1, 'classifier__penalty': 'l1', 'classifier__solver': 'saga'}\n"
     ]
    }
   ],
   "metadata": {}
  },
  {
   "cell_type": "markdown",
   "source": [
    "# Prediction Using K-Means as a Feature"
   ],
   "metadata": {}
  },
  {
   "cell_type": "code",
   "execution_count": 33,
   "source": [
    "categorical_features = ['in_reply','subj_caps','attachments','kmeans_cluster']\r\n",
    "numeric_features = ['body_lines']\r\n",
    "\r\n",
    "X = df[categorical_features + numeric_features]\r\n",
    "y = df['is_spam']\r\n",
    "\r\n",
    "X_train, X_test, y_train, y_test = train_test_split(X,\r\n",
    "                                                    y,\r\n",
    "                                                    test_size=0.2,\r\n",
    "                                                    stratify=y,\r\n",
    "                                                    random_state=11)\r\n",
    "\r\n",
    "numeric_transformer = Pipeline(steps=[\r\n",
    "    ('imputer', SimpleImputer(missing_values=np.nan, strategy=\"median\")),\r\n",
    "    ('scaler', RobustScaler(with_centering=False))])\r\n",
    "\r\n",
    "categorical_transformer = Pipeline(steps=[\r\n",
    "    ('imputer', SimpleImputer(missing_values=np.nan, strategy=\"most_frequent\")),\r\n",
    "    ('onehot', OneHotEncoder(handle_unknown='ignore'))])\r\n",
    "\r\n",
    "preprocessor = ColumnTransformer(\r\n",
    "    transformers=[\r\n",
    "        ('num', numeric_transformer, numeric_features),\r\n",
    "        ('cat', categorical_transformer, categorical_features)])\r\n",
    "\r\n",
    "\r\n",
    "pipeline = imbpipeline(steps = [['preprocessor', preprocessor],\r\n",
    "                                ['smote', SMOTE(random_state=11)],\r\n",
    "                                ['classifier', LogisticRegression(random_state=11,\r\n",
    "                                                                  max_iter=1000, n_jobs=-1)]])\r\n",
    "\r\n",
    "stratified_kfold = StratifiedKFold(n_splits=3,\r\n",
    "                                       shuffle=True,\r\n",
    "                                       random_state=11)\r\n",
    "\r\n",
    "param_grid = [{'classifier__C': [0.001, 0.01, 0.1, 1, 10, 100, 1000],\r\n",
    "               'classifier__penalty': ['l1'],\r\n",
    "               'classifier__solver': ['saga']},\r\n",
    "              {'classifier__C': [0.001, 0.01, 0.1, 1, 10, 100, 1000],\r\n",
    "               'classifier__penalty': ['l2'],\r\n",
    "               'classifier__solver': ['lbfgs']}\r\n",
    "             ]\r\n",
    "              \r\n",
    "grid_search = GridSearchCV(estimator=pipeline,\r\n",
    "                           param_grid=param_grid,\r\n",
    "                           scoring='roc_auc',\r\n",
    "                           cv=stratified_kfold,\r\n",
    "                           n_jobs=-1)\r\n",
    "\r\n",
    "grid_search.fit(X_train, y_train)\r\n",
    "cv_score = grid_search.best_score_\r\n",
    "test_score = grid_search.score(X_test, y_test)\r\n",
    "print(f'Cross-validation score: {cv_score}\\nTest score: {test_score}')"
   ],
   "outputs": [
    {
     "output_type": "stream",
     "name": "stdout",
     "text": [
      "Cross-validation score: 0.9465508745648346\n",
      "Test score: 0.9453023903666428\n"
     ]
    }
   ],
   "metadata": {}
  },
  {
   "cell_type": "code",
   "execution_count": 34,
   "source": [
    "print(grid_search.best_params_)"
   ],
   "outputs": [
    {
     "output_type": "stream",
     "name": "stdout",
     "text": [
      "{'classifier__C': 1000, 'classifier__penalty': 'l2', 'classifier__solver': 'lbfgs'}\n"
     ]
    }
   ],
   "metadata": {}
  },
  {
   "cell_type": "code",
   "execution_count": 35,
   "source": [
    "from sklearn.metrics import RocCurveDisplay\r\n",
    "\r\n",
    "disp = RocCurveDisplay.from_estimator(grid_search.best_estimator_, X_test, y_test)"
   ],
   "outputs": [
    {
     "output_type": "display_data",
     "data": {
      "image/png": "[encoded data removed]",
      "text/plain": [
       "<Figure size 432x288 with 1 Axes>"
      ]
     },
     "metadata": {
      "needs_background": "light"
     }
    }
   ],
   "metadata": {}
  },
  {
   "cell_type": "code",
   "execution_count": 36,
   "source": [
    "from sklearn.metrics import ConfusionMatrixDisplay\r\n",
    "\r\n",
    "disp = ConfusionMatrixDisplay.from_estimator(grid_search.best_estimator_, X_test, y_test)"
   ],
   "outputs": [
    {
     "output_type": "display_data",
     "data": {
      "image/png": "[encoded data removed]",
      "text/plain": [
       "<Figure size 432x288 with 2 Axes>"
      ]
     },
     "metadata": {
      "needs_background": "light"
     }
    }
   ],
   "metadata": {}
  },
  {
   "cell_type": "markdown",
   "source": [
    "# Accuracy, Recall, Precision Score\r\n",
    "I think we need to consider using precision as our metric. We don't want to flag something as spam, when it should not be. The cost of a false positive in this case is high. I get upset when an important email goes to spam!\r\n",
    "\r\n",
    "Contrast that with our previous case study where we used recall as our metric, since there was a high cost associated with false negatives. A false negative in that case is not telling a patient there is risk for heart disease, etc, when there actually really is.\r\n",
    "\r\n",
    "Below our precision is on the low side."
   ],
   "metadata": {}
  },
  {
   "cell_type": "code",
   "execution_count": 37,
   "source": [
    "from sklearn.metrics import accuracy_score\r\n",
    "from sklearn.metrics import recall_score\r\n",
    "from sklearn.metrics import precision_score\r\n",
    "\r\n",
    "y_pred = grid_search.best_estimator_.predict(X_test)\r\n",
    "\r\n",
    "print(accuracy_score(y_test, y_pred))\r\n",
    "print(recall_score(y_test, y_pred))\r\n",
    "print(precision_score(y_test, y_pred))"
   ],
   "outputs": [
    {
     "output_type": "stream",
     "name": "stdout",
     "text": [
      "0.8765366114377339\n",
      "0.9375\n",
      "0.6912442396313364\n"
     ]
    }
   ],
   "metadata": {}
  },
  {
   "cell_type": "markdown",
   "source": [
    "# Naive Bayes Classifer"
   ],
   "metadata": {}
  },
  {
   "cell_type": "code",
   "execution_count": 39,
   "source": [
    "from sklearn.naive_bayes import MultinomialNB\r\n",
    "\r\n",
    "pipeline = imbpipeline(steps = [['preprocessor', preprocessor],\r\n",
    "                                ['smote', SMOTE(random_state=11)],\r\n",
    "                                ['classifier', MultinomialNB()]])\r\n",
    "\r\n",
    "\r\n",
    "pipeline.fit(X_train, y_train)\r\n",
    "\r\n",
    "y_pred = pipeline.predict(X_test)\r\n",
    "\r\n",
    "print(accuracy_score(y_test, y_pred))\r\n",
    "print(recall_score(y_test, y_pred))\r\n",
    "print(precision_score(y_test, y_pred))"
   ],
   "outputs": [
    {
     "output_type": "stream",
     "name": "stdout",
     "text": [
      "0.8792089791555318\n",
      "0.9375\n",
      "0.6965944272445821\n"
     ]
    }
   ],
   "metadata": {}
  },
  {
   "cell_type": "markdown",
   "source": [
    "# Test without upsampling with smote\r\n",
    "\r\n",
    "Significant difference!"
   ],
   "metadata": {}
  },
  {
   "cell_type": "code",
   "execution_count": 40,
   "source": [
    "clf = MultinomialNB()\r\n",
    "\r\n",
    "clf.fit(X_train, y_train)\r\n",
    "\r\n",
    "y_pred = clf.predict(X_test)\r\n",
    "\r\n",
    "print(accuracy_score(y_test, y_pred))\r\n",
    "print(recall_score(y_test, y_pred))\r\n",
    "print(precision_score(y_test, y_pred))"
   ],
   "outputs": [
    {
     "output_type": "stream",
     "name": "stdout",
     "text": [
      "0.6718332442544094\n",
      "0.60625\n",
      "0.4064245810055866\n"
     ]
    }
   ],
   "metadata": {}
  },
  {
   "cell_type": "markdown",
   "source": [
    "## Below we try NB in grid search and alpha, no signficant difference compared to NB above with SMOTE."
   ],
   "metadata": {}
  },
  {
   "cell_type": "code",
   "execution_count": 50,
   "source": [
    "categorical_features = ['in_reply','subj_caps','attachments','kmeans_cluster']\r\n",
    "numeric_features = ['body_lines']\r\n",
    "\r\n",
    "X = df[categorical_features + numeric_features]\r\n",
    "y = df['is_spam']\r\n",
    "\r\n",
    "X_train, X_test, y_train, y_test = train_test_split(X,\r\n",
    "                                                    y,\r\n",
    "                                                    test_size=0.2,\r\n",
    "                                                    stratify=y,\r\n",
    "                                                    random_state=11)\r\n",
    "\r\n",
    "numeric_transformer = Pipeline(steps=[\r\n",
    "    ('imputer', SimpleImputer(missing_values=np.nan, strategy=\"median\"))]) #,\r\n",
    "    #('scaler', RobustScaler(with_centering=False))])\r\n",
    "\r\n",
    "categorical_transformer = Pipeline(steps=[\r\n",
    "    ('imputer', SimpleImputer(missing_values=np.nan, strategy=\"most_frequent\")),\r\n",
    "    ('onehot', OneHotEncoder(handle_unknown='ignore'))])\r\n",
    "\r\n",
    "preprocessor = ColumnTransformer(\r\n",
    "    transformers=[\r\n",
    "        ('num', numeric_transformer, numeric_features),\r\n",
    "        ('cat', categorical_transformer, categorical_features)])\r\n",
    "\r\n",
    "\r\n",
    "pipeline = imbpipeline(steps = [['preprocessor', preprocessor],\r\n",
    "                                ['smote', SMOTE(random_state=11)],\r\n",
    "                                ['classifier', MultinomialNB()]])\r\n",
    "\r\n",
    "stratified_kfold = StratifiedKFold(n_splits=3,\r\n",
    "                                       shuffle=True,\r\n",
    "                                       random_state=11)\r\n",
    "\r\n",
    "# param_grid = [{'classifier__C': [0.001, 0.01, 0.1, 1, 10, 100, 1000],\r\n",
    "#                'classifier__penalty': ['l1'],\r\n",
    "#                'classifier__solver': ['saga']},\r\n",
    "#               {'classifier__C': [0.001, 0.01, 0.1, 1, 10, 100, 1000],\r\n",
    "#                'classifier__penalty': ['l2'],\r\n",
    "#                'classifier__solver': ['lbfgs']}\r\n",
    "#              ]\r\n",
    "\r\n",
    "param_grid = [{'classifier__alpha': [0.0001, 0.001, 0.01, 0.1, 1]}]\r\n",
    "              \r\n",
    "grid_search = GridSearchCV(estimator=pipeline,\r\n",
    "                           param_grid=param_grid,\r\n",
    "                           scoring='precision',\r\n",
    "                           cv=stratified_kfold,\r\n",
    "                           n_jobs=-1)\r\n",
    "\r\n",
    "grid_search.fit(X_train, y_train)\r\n",
    "cv_score = grid_search.best_score_\r\n",
    "test_score = grid_search.score(X_test, y_test)\r\n",
    "print(f'Cross-validation score: {cv_score}\\nTest score: {test_score}')"
   ],
   "outputs": [
    {
     "output_type": "stream",
     "name": "stdout",
     "text": [
      "Cross-validation score: 0.6887964097509508\n",
      "Test score: 0.6967340590979783\n"
     ]
    }
   ],
   "metadata": {}
  },
  {
   "cell_type": "code",
   "execution_count": 51,
   "source": [
    "print(grid_search.best_params_)"
   ],
   "outputs": [
    {
     "output_type": "stream",
     "name": "stdout",
     "text": [
      "{'classifier__alpha': 0.0001}\n"
     ]
    }
   ],
   "metadata": {}
  },
  {
   "cell_type": "code",
   "execution_count": null,
   "source": [],
   "outputs": [],
   "metadata": {}
  }
 ],
 "metadata": {
  "orig_nbformat": 4,
  "language_info": {
   "name": "python",
   "version": "3.9.6",
   "mimetype": "text/x-python",
   "codemirror_mode": {
    "name": "ipython",
    "version": 3
   },
   "pygments_lexer": "ipython3",
   "nbconvert_exporter": "python",
   "file_extension": ".py"
  },
  "kernelspec": {
   "name": "python3",
   "display_name": "Python 3.9.6 64-bit ('NLP': conda)"
  },
  "interpreter": {
   "hash": "eaa798b471aa1a0109429a408b0faab53065248ef7f5a5989f90756771672ef6"
  }
 },
 "nbformat": 4,
 "nbformat_minor": 2
}