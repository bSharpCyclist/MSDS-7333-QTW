{
 "cells": [
  {
   "cell_type": "code",
   "execution_count": 1,
   "source": [
    "# understand matrix structure of vectorizer\r\n",
    "from sklearn.feature_extraction.text import CountVectorizer\r\n",
    "\r\n",
    "words = ['one two three','one four five','two three six']\r\n",
    "vectorizer = CountVectorizer()\r\n",
    "\r\n",
    "vectorizer.fit(words)\r\n",
    "\r\n",
    "print(vectorizer.vocabulary_)"
   ],
   "outputs": [
    {
     "output_type": "stream",
     "name": "stdout",
     "text": [
      "{'one': 2, 'two': 5, 'three': 4, 'four': 1, 'five': 0, 'six': 3}\n"
     ]
    }
   ],
   "metadata": {}
  },
  {
   "cell_type": "code",
   "execution_count": 2,
   "source": [
    "sample = vectorizer.transform([words[0]])\r\n",
    "\r\n",
    "print(sample.toarray())"
   ],
   "outputs": [
    {
     "output_type": "stream",
     "name": "stdout",
     "text": [
      "[[0 0 1 0 1 1]]\n"
     ]
    }
   ],
   "metadata": {}
  },
  {
   "cell_type": "code",
   "execution_count": 29,
   "source": [
    "from os import listdir, getcwd, chdir\r\n",
    "from os.path import isfile, join, dirname, realpath\r\n",
    "import pandas as pd\r\n",
    "\r\n",
    "import email\r\n",
    "import email.parser\r\n",
    "from email.parser import Parser\r\n",
    "\r\n",
    "def get_cwd():\r\n",
    "    try:\r\n",
    "        chdir(dirname(realpath(__file__)))\r\n",
    "    except:\r\n",
    "        chdir('D:\\Projects\\MSDS-7333-QTW')\r\n",
    "\r\n",
    "    active_dir = getcwd()\r\n",
    "       \r\n",
    "    return active_dir\r\n",
    "\r\n",
    "def main():\r\n",
    "    \r\n",
    "    get_cwd()\r\n",
    "    \r\n",
    "    directories = [\r\n",
    "            'easy_ham',\r\n",
    "            'easy_ham_2',\r\n",
    "            'hard_ham',\r\n",
    "            'spam',\r\n",
    "            'spam_2'\r\n",
    "        ]\r\n",
    "    \r\n",
    "    res_frame = pd.DataFrame()\r\n",
    "\r\n",
    "    # *dc - Added to keep a collection of email text\r\n",
    "    emails = []\r\n",
    "\r\n",
    "    tmp = []\r\n",
    "        \r\n",
    "    for d in directories:\r\n",
    "        mypath = getcwd() + '/SpamAssassinMessages/' + d + '/'\r\n",
    "        onlyfiles = [f for f in listdir(mypath) if isfile(join(mypath, f))]\r\n",
    "    \r\n",
    "        try:\r\n",
    "            onlyfiles.remove('.DS_Store')\r\n",
    "        except:\r\n",
    "            pass\r\n",
    "        \r\n",
    "        for file in onlyfiles:\r\n",
    "            with open(mypath + file, encoding='latin1') as f:\r\n",
    "                lines = f.readlines()\r\n",
    "                f.close()\r\n",
    "            \r\n",
    "            with open(mypath + file, encoding='latin1') as f:\r\n",
    "                body = f.read()\r\n",
    "                f.close()\r\n",
    "                \r\n",
    "            msg = email.message_from_string(str(body))\r\n",
    "            tmpStr = ''\r\n",
    "            \r\n",
    "            if msg.is_multipart():\r\n",
    "                for payload in msg.get_payload():\r\n",
    "                    #tmp.append(str(payload.get_payload()))\r\n",
    "                    \r\n",
    "                    tmpStr = ' '.join(str(payload.get_payload()))\r\n",
    "                tmp.append(tmpStr)\r\n",
    "            else:\r\n",
    "                tmp.append(str(msg.get_payload()))\r\n",
    "                \r\n",
    "            in_reply_count = 0\r\n",
    "            sub_line_all_caps = 0\r\n",
    "            attachments = 0\r\n",
    "            subject_line = []\r\n",
    "            n_lines = 0\r\n",
    "            blank_lines = []\r\n",
    "            \r\n",
    "            for line in lines:\r\n",
    "\r\n",
    "                n_lines += 1\r\n",
    "                if \"Subject: Re: \" in line:\r\n",
    "                   in_reply_count += 1\r\n",
    "                if \"Subject: \" in line:\r\n",
    "                   s_line = line.strip().replace('Subject: ','')\r\n",
    "                   s_line = ''.join(e for e in s_line if e.isalnum())\r\n",
    "                   num_upper = sum(1 for c in s_line if c.isupper())\r\n",
    "                   ttl_chars = len(s_line)\r\n",
    "                   if num_upper == ttl_chars:\r\n",
    "                       sub_line_all_caps += 1\r\n",
    "                   subject_line.append(s_line)\r\n",
    "                if \"content-type: multipart\" in line.lower():\r\n",
    "                   attachments += 1\r\n",
    "                if line == \"\\n\":\r\n",
    "                   blank_lines.append(n_lines)\r\n",
    "        \r\n",
    "            temp_frame = pd.DataFrame({\r\n",
    "                        'directory':d,    \r\n",
    "                        'filename':file,\r\n",
    "                        'is_spam':['Y' if 'spam' in d else 'N'],\r\n",
    "                        'in_reply': ['Y' if in_reply_count > 0 else 'N'], \r\n",
    "                        'subj_caps': ['Y' if sub_line_all_caps > 0 else 'N'], \r\n",
    "                        'attachments': ['Y' if attachments > 0 else 'N'],\r\n",
    "                        ## *dc+3 \r\n",
    "                        #'body_lines': n_lines - min(blank_lines)\r\n",
    "                        'body_lines': [0 if len(blank_lines) == 0 else min(blank_lines)]\r\n",
    "                        }, index=[0])\r\n",
    "           \r\n",
    "            res_frame = res_frame.append(temp_frame, ignore_index=True)\r\n",
    "\r\n",
    "            ## *dc+2\r\n",
    "            # append body of email to collection\r\n",
    "            text = ' '.join(lines)\r\n",
    "            emails.append(text)\r\n",
    "            \r\n",
    "    #res_frame.to_csv('output_file.csv', index=False)\r\n",
    "    \r\n",
    "    ## *dc - add emails\r\n",
    "    return res_frame, emails, tmp\r\n",
    "\r\n",
    "## *dc - Working from a notebook instead of py file.\r\n",
    "df, emails, tmp = main()\r\n",
    "# ########################################\r\n",
    "# ##### Main Function\r\n",
    "# ########################################    \r\n",
    "# if __name__ == \"__main__\":\r\n",
    "#     res_frame, emails = main()\r\n",
    "#     pass   "
   ],
   "outputs": [],
   "metadata": {}
  },
  {
   "cell_type": "code",
   "execution_count": 30,
   "source": [
    "print(len(df),len(emails), len(tmp))\r\n",
    "\r\n",
    "print(tmp[1])"
   ],
   "outputs": [
    {
     "output_type": "stream",
     "name": "stdout",
     "text": [
      "9353 9353 9353\n",
      "Martin A posted:\n",
      "Tassos Papadopoulos, the Greek sculptor behind the plan, judged that the\n",
      " limestone of Mount Kerdylio, 70 miles east of Salonika and not far from the\n",
      " Mount Athos monastic community, was ideal for the patriotic sculpture. \n",
      " \n",
      " As well as Alexander's granite features, 240 ft high and 170 ft wide, a\n",
      " museum, a restored amphitheatre and car park for admiring crowds are\n",
      "planned\n",
      "---------------------\n",
      "So is this mountain limestone or granite?\n",
      "If it's limestone, it'll weather pretty fast.\n",
      "\n",
      "------------------------ Yahoo! Groups Sponsor ---------------------~-->\n",
      "4 DVDs Free +s&p Join Now\n",
      "http://us.click.yahoo.com/pt6YBB/NXiEAA/mG3HAA/7gSolB/TM\n",
      "---------------------------------------------------------------------~->\n",
      "\n",
      "To unsubscribe from this group, send an email to:\n",
      "forteana-unsubscribe@egroups.com\n",
      "\n",
      " \n",
      "\n",
      "Your use of Yahoo! Groups is subject to http://docs.yahoo.com/info/terms/ \n",
      "\n",
      "\n",
      "\n",
      "\n"
     ]
    }
   ],
   "metadata": {}
  },
  {
   "cell_type": "code",
   "execution_count": 31,
   "source": [
    "import nltk\r\n",
    "import re \r\n",
    "import numpy as np\r\n",
    "\r\n",
    "stop_words = nltk.corpus.stopwords.words('english')\r\n",
    "\r\n",
    "def normalize_document(doc):\r\n",
    "    # lowercase and remove special characters to form a normalized document\r\n",
    "    doc = re.sub(r'[^a-zA-Z0-9\\s]', ' ', doc, re.I|re.A)\r\n",
    "    doc = doc.lower()\r\n",
    "    doc = doc.strip()\r\n",
    "\r\n",
    "    # tokenize document\r\n",
    "    tokens = nltk.word_tokenize(doc)\r\n",
    "    \r\n",
    "    # filter out stop words\r\n",
    "    filtered_tokens = [token for token in tokens if token not in stop_words]\r\n",
    "\r\n",
    "    # Remove numbers\r\n",
    "    filtered_tokens = [token for token in filtered_tokens if not token.isdigit()]\r\n",
    "\r\n",
    "    # Remove short tokens\r\n",
    "    filtered_tokens = [token for token in filtered_tokens if len(token) > 2]\r\n",
    "\r\n",
    "    # stem tokens - Skipping for now\r\n",
    "    #filtered_tokens = [stemming.stem(token) for token in filtered_tokens]\r\n",
    "\r\n",
    "    # re-create a normalized document\r\n",
    "    doc = ' '.join(filtered_tokens)\r\n",
    "    return doc\r\n",
    "\r\n",
    "normalize_text = np.vectorize(normalize_document)\r\n",
    "norm_text = normalize_text(tmp)\r\n",
    "\r\n",
    "print(type(norm_text),len(norm_text))"
   ],
   "outputs": [
    {
     "output_type": "stream",
     "name": "stdout",
     "text": [
      "<class 'numpy.ndarray'> 9353\n"
     ]
    }
   ],
   "metadata": {}
  },
  {
   "cell_type": "code",
   "execution_count": 32,
   "source": [
    "from sklearn.feature_extraction.text import TfidfVectorizer\r\n",
    "\r\n",
    "tf = TfidfVectorizer(ngram_range=(1,3), min_df=5, max_df=.8, stop_words=stop_words, norm='l2')\r\n",
    "tf_matrix = tf.fit_transform(norm_text)\r\n",
    "\r\n",
    "print(tf_matrix.shape)"
   ],
   "outputs": [
    {
     "output_type": "stream",
     "name": "stdout",
     "text": [
      "(9353, 113747)\n"
     ]
    }
   ],
   "metadata": {}
  },
  {
   "cell_type": "code",
   "execution_count": 33,
   "source": [
    "from sklearn.feature_extraction.text import CountVectorizer\r\n",
    "\r\n",
    "cv = CountVectorizer(min_df=0, max_df=1., stop_words=stop_words)\r\n",
    "cv_matrix = cv.fit_transform(norm_text)\r\n",
    "\r\n",
    "print(cv_matrix.shape)"
   ],
   "outputs": [
    {
     "output_type": "stream",
     "name": "stdout",
     "text": [
      "(9353, 85476)\n"
     ]
    }
   ],
   "metadata": {}
  },
  {
   "cell_type": "code",
   "execution_count": 26,
   "source": [
    "print(df.columns)"
   ],
   "outputs": [
    {
     "output_type": "stream",
     "name": "stdout",
     "text": [
      "Index(['directory', 'filename', 'is_spam', 'in_reply', 'subj_caps',\n",
      "       'attachments', 'body_lines'],\n",
      "      dtype='object')\n"
     ]
    }
   ],
   "metadata": {}
  },
  {
   "cell_type": "code",
   "execution_count": 34,
   "source": [
    "from sklearn.cluster import KMeans\r\n",
    "from sklearn.metrics import silhouette_samples, silhouette_score\r\n",
    "\r\n",
    "NUM_CLUSTERS = 5\r\n",
    "km = KMeans(n_clusters=NUM_CLUSTERS, max_iter=10000, n_init=50, random_state=42).fit(tf_matrix)\r\n",
    "km\r\n",
    "\r\n",
    "df['kmeans_cluster'] = km.labels_\r\n",
    "\r\n",
    "email_clusters = (df[['directory', 'kmeans_cluster']]\r\n",
    "                  .sort_values(by=['kmeans_cluster'], \r\n",
    "                               ascending=False)\r\n",
    "                  .groupby('kmeans_cluster').head(20))  # top 20 movies for each cluster\r\n",
    "email_clusters = email_clusters.copy(deep=True)\r\n",
    "\r\n",
    "feature_names = tf.get_feature_names()\r\n",
    "topn_features = 50\r\n",
    "ordered_centroids = km.cluster_centers_.argsort()[:, ::-1]\r\n",
    "\r\n",
    "sample_silhouette_values = silhouette_samples(tf_matrix, km.labels_)\r\n",
    "\r\n",
    "# get key features for each cluster\r\n",
    "for cluster_num in range(NUM_CLUSTERS):\r\n",
    "\r\n",
    "    cluster_silhouette_values = sample_silhouette_values[km.labels_ == cluster_num]\r\n",
    "\r\n",
    "    key_features = [feature_names[index] \r\n",
    "                        for index in ordered_centroids[cluster_num, :topn_features]]\r\n",
    "    print('CLUSTER #'+str(cluster_num+1), \":\", cluster_silhouette_values.mean())\r\n",
    "    print('Cluster Size', cluster_silhouette_values.shape[0])\r\n",
    "    print('Key Features:', key_features)\r\n",
    "    print('-'*80)"
   ],
   "outputs": [
    {
     "output_type": "stream",
     "name": "stdout",
     "text": [
      "CLUSTER #1 : 0.04110333876385894\n",
      "Cluster Size 6436\n",
      "Key Features: ['linux', 'com', 'http', 'www', 'http www', 'ilug', 'exmh', 'use', 'one', 'html', 'like', 'org', 'mailman', 'users', 'mailman listinfo', 'fork', 'would', 'list', 'people', 'get', 'information', 'yahoo', 'listinfo', 'perl', 'wrote', 'time', 'email', 'group', 'mail', 'net', 'free', 'date', 'xent com', 'xent', 'irish', 'com mailman', 'com mailman listinfo', 'message', 'use perl', 'new', 'url', 'www linux', 'http www linux', 'make', 'maintainer', 'said', 'know', 'linux mailman', 'linux http www', 'linux http']\n",
      "--------------------------------------------------------------------------------\n",
      "CLUSTER #2 : 0.07260473870258817\n",
      "Cluster Size 616\n",
      "Key Features: ['rpm', 'rpm list', 'freshrpms', 'freshrpms net', 'list', 'net', 'list rpm', 'list rpm list', 'list mailing list', 'mailing list rpm', 'list freshrpms net', 'rpm list mailing', 'list freshrpms', 'rpm list freshrpms', 'list mailing', 'http lists freshrpms', 'lists freshrpms', 'lists freshrpms net', 'listinfo rpm', 'mailman listinfo rpm', 'listinfo rpm list', 'net http lists', 'freshrpms net http', 'freshrpms net mailman', 'net mailman listinfo', 'net mailman', 'http lists', 'apt', 'net http', 'matthias', 'lists', 'mailing list', 'mailing', 'mailman listinfo', 'mailman', 'kernel', 'alsa', 'red hat', 'listinfo', 'http', 'hat', 'packages', 'wrote', 'red', 'package', 'matthias saou', 'saou', 'linux', 'install', 'red hat linux']\n",
      "--------------------------------------------------------------------------------\n",
      "CLUSTER #3 : 0.07275567256398689\n",
      "Cluster Size 714\n",
      "Key Features: ['spamassassin', 'razor', 'lists', 'sourceforge net', 'sourceforge', 'net', 'lists sourceforge', 'lists sourceforge net', 'razor users', 'spamassassin talk', 'talk', 'thinkgeek', 'https', 'users', 'net lists', 'sourceforge net lists', 'net lists listinfo', 'lists listinfo', 'https lists', 'sourceforge net https', 'net https lists', 'https lists sourceforge', 'net https', 'email sponsored', 'net email sponsored', 'net email', 'sponsored', 'spam', 'email', 'mailing', 'mailing list', 'list', 'list spamassassin', 'lists listinfo spamassassin', 'listinfo spamassassin', 'mailing list spamassassin', 'spamassassin devel', 'devel', 'com', 'listinfo', 'thinkgeek com', 'email sponsored thinkgeek', 'http thinkgeek com', 'thinkgeek welcome', 'thinkgeek welcome geek', 'http thinkgeek', 'geek heaven http', 'sponsored thinkgeek welcome', 'geek heaven', 'welcome geek']\n",
      "--------------------------------------------------------------------------------\n",
      "CLUSTER #4 : 0.08118491411985744\n",
      "Cluster Size 1004\n",
      "Key Features: ['font', '3d', 'width', 'size', 'color', 'nbsp', 'face', 'td', 'height', 'font face', 'font font', 'href', 'arial', 'align', 'table', 'border', 'href http', 'center', 'src', 'img', 'font size', 'src http', 'http', 'tr', 'com', 'td tr', 'gif', 'font color', 'img src', 'face arial', 'img src http', 'width height', 'bgcolor', 'gif width', 'nbsp nbsp', 'helvetica', 'arial helvetica', 'font face arial', 'align center', 'http www', 'www', 'html', 'src http www', 'href http www', 'cnet', 'serif', 'nbsp nbsp nbsp', 'div', 'sans', 'sans serif']\n",
      "--------------------------------------------------------------------------------\n",
      "CLUSTER #5 : 0.14868659449659993\n",
      "Cluster Size 583\n",
      "Key Features: ['www newsisfree', 'newsisfree', 'newsisfree com', 'http www newsisfree', 'www newsisfree com', 'com click date', 'newsisfree com click', 'click date', 'url http www', 'com click', 'url http', 'url', 'date', 'click', 'http www', 'www', 'com', 'http', 'click date supplied', 'date supplied', 'supplied', 'newsisfree com images', 'fark', 'images fark', 'com images fark', 'img http www', 'img http', 'com images', 'images', 'gif', 'img', '01t04', 'click date 01t04', 'date 01t04', '08t03', 'click date 08t03', 'date 08t03', 'latest', '05t03', 'click date 05t03', 'date 05t03', 'date 10t03', '10t03', 'click date 10t03', 'world latest', 'world', 'date 07t03', '07t03', 'click date 07t03', 'date 03t04']\n",
      "--------------------------------------------------------------------------------\n"
     ]
    }
   ],
   "metadata": {}
  },
  {
   "cell_type": "code",
   "execution_count": 35,
   "source": [
    "## Output a quick pivot table to see distribution of clusters vs spam/ham\r\n",
    "\r\n",
    "df.pivot_table(index='kmeans_cluster', columns='is_spam', values='directory', aggfunc='count')"
   ],
   "outputs": [
    {
     "output_type": "execute_result",
     "data": {
      "text/html": [
       "<div>\n",
       "<style scoped>\n",
       "    .dataframe tbody tr th:only-of-type {\n",
       "        vertical-align: middle;\n",
       "    }\n",
       "\n",
       "    .dataframe tbody tr th {\n",
       "        vertical-align: top;\n",
       "    }\n",
       "\n",
       "    .dataframe thead th {\n",
       "        text-align: right;\n",
       "    }\n",
       "</style>\n",
       "<table border=\"1\" class=\"dataframe\">\n",
       "  <thead>\n",
       "    <tr style=\"text-align: right;\">\n",
       "      <th>is_spam</th>\n",
       "      <th>N</th>\n",
       "      <th>Y</th>\n",
       "    </tr>\n",
       "    <tr>\n",
       "      <th>kmeans_cluster</th>\n",
       "      <th></th>\n",
       "      <th></th>\n",
       "    </tr>\n",
       "  </thead>\n",
       "  <tbody>\n",
       "    <tr>\n",
       "      <th>0</th>\n",
       "      <td>4864.0</td>\n",
       "      <td>1572.0</td>\n",
       "    </tr>\n",
       "    <tr>\n",
       "      <th>1</th>\n",
       "      <td>616.0</td>\n",
       "      <td>NaN</td>\n",
       "    </tr>\n",
       "    <tr>\n",
       "      <th>2</th>\n",
       "      <td>654.0</td>\n",
       "      <td>60.0</td>\n",
       "    </tr>\n",
       "    <tr>\n",
       "      <th>3</th>\n",
       "      <td>237.0</td>\n",
       "      <td>767.0</td>\n",
       "    </tr>\n",
       "    <tr>\n",
       "      <th>4</th>\n",
       "      <td>583.0</td>\n",
       "      <td>NaN</td>\n",
       "    </tr>\n",
       "  </tbody>\n",
       "</table>\n",
       "</div>"
      ],
      "text/plain": [
       "is_spam              N       Y\n",
       "kmeans_cluster                \n",
       "0               4864.0  1572.0\n",
       "1                616.0     NaN\n",
       "2                654.0    60.0\n",
       "3                237.0   767.0\n",
       "4                583.0     NaN"
      ]
     },
     "metadata": {},
     "execution_count": 35
    }
   ],
   "metadata": {}
  },
  {
   "cell_type": "code",
   "execution_count": 11,
   "source": [
    "df['directory'].value_counts()"
   ],
   "outputs": [
    {
     "output_type": "execute_result",
     "data": {
      "text/plain": [
       "easy_ham      5052\n",
       "easy_ham_2    1401\n",
       "spam_2        1398\n",
       "spam          1001\n",
       "hard_ham       501\n",
       "Name: directory, dtype: int64"
      ]
     },
     "metadata": {},
     "execution_count": 11
    }
   ],
   "metadata": {}
  },
  {
   "cell_type": "code",
   "execution_count": 36,
   "source": [
    "df.pivot_table(index='kmeans_cluster', columns='directory', values='filename', aggfunc='count')\r\n"
   ],
   "outputs": [
    {
     "output_type": "execute_result",
     "data": {
      "text/html": [
       "<div>\n",
       "<style scoped>\n",
       "    .dataframe tbody tr th:only-of-type {\n",
       "        vertical-align: middle;\n",
       "    }\n",
       "\n",
       "    .dataframe tbody tr th {\n",
       "        vertical-align: top;\n",
       "    }\n",
       "\n",
       "    .dataframe thead th {\n",
       "        text-align: right;\n",
       "    }\n",
       "</style>\n",
       "<table border=\"1\" class=\"dataframe\">\n",
       "  <thead>\n",
       "    <tr style=\"text-align: right;\">\n",
       "      <th>directory</th>\n",
       "      <th>easy_ham</th>\n",
       "      <th>easy_ham_2</th>\n",
       "      <th>hard_ham</th>\n",
       "      <th>spam</th>\n",
       "      <th>spam_2</th>\n",
       "    </tr>\n",
       "    <tr>\n",
       "      <th>kmeans_cluster</th>\n",
       "      <th></th>\n",
       "      <th></th>\n",
       "      <th></th>\n",
       "      <th></th>\n",
       "      <th></th>\n",
       "    </tr>\n",
       "  </thead>\n",
       "  <tbody>\n",
       "    <tr>\n",
       "      <th>0</th>\n",
       "      <td>3522.0</td>\n",
       "      <td>1081.0</td>\n",
       "      <td>261.0</td>\n",
       "      <td>722.0</td>\n",
       "      <td>850.0</td>\n",
       "    </tr>\n",
       "    <tr>\n",
       "      <th>1</th>\n",
       "      <td>471.0</td>\n",
       "      <td>143.0</td>\n",
       "      <td>2.0</td>\n",
       "      <td>NaN</td>\n",
       "      <td>NaN</td>\n",
       "    </tr>\n",
       "    <tr>\n",
       "      <th>2</th>\n",
       "      <td>474.0</td>\n",
       "      <td>177.0</td>\n",
       "      <td>3.0</td>\n",
       "      <td>6.0</td>\n",
       "      <td>54.0</td>\n",
       "    </tr>\n",
       "    <tr>\n",
       "      <th>3</th>\n",
       "      <td>2.0</td>\n",
       "      <td>NaN</td>\n",
       "      <td>235.0</td>\n",
       "      <td>273.0</td>\n",
       "      <td>494.0</td>\n",
       "    </tr>\n",
       "    <tr>\n",
       "      <th>4</th>\n",
       "      <td>583.0</td>\n",
       "      <td>NaN</td>\n",
       "      <td>NaN</td>\n",
       "      <td>NaN</td>\n",
       "      <td>NaN</td>\n",
       "    </tr>\n",
       "  </tbody>\n",
       "</table>\n",
       "</div>"
      ],
      "text/plain": [
       "directory       easy_ham  easy_ham_2  hard_ham   spam  spam_2\n",
       "kmeans_cluster                                               \n",
       "0                 3522.0      1081.0     261.0  722.0   850.0\n",
       "1                  471.0       143.0       2.0    NaN     NaN\n",
       "2                  474.0       177.0       3.0    6.0    54.0\n",
       "3                    2.0         NaN     235.0  273.0   494.0\n",
       "4                  583.0         NaN       NaN    NaN     NaN"
      ]
     },
     "metadata": {},
     "execution_count": 36
    }
   ],
   "metadata": {}
  },
  {
   "cell_type": "code",
   "execution_count": 42,
   "source": [
    "# KMeans(n_clusters=NUM_CLUSTERS, max_iter=10000, n_init=50, random_state=42).fit(tf_matrix)\r\n",
    "scores = []\r\n",
    "\r\n",
    "for k in range(1, 20):\r\n",
    "    kmeans = KMeans(init=\"random\", n_clusters=k, n_init=10, max_iter=300, random_state=42)\r\n",
    "    kmeans.fit(tf_matrix)\r\n",
    "    scores.append(kmeans.inertia_)"
   ],
   "outputs": [],
   "metadata": {}
  },
  {
   "cell_type": "code",
   "execution_count": 43,
   "source": [
    "import matplotlib.pyplot as plt\r\n",
    "\r\n",
    "\r\n",
    "plt.style.use(\"fivethirtyeight\")\r\n",
    "plt.figure(figsize=(12,6))\r\n",
    "plt.plot(range(1, 20), scores)\r\n",
    "plt.xticks(range(1, 20))\r\n",
    "plt.xlabel(\"Number of Clusters\")\r\n",
    "plt.ylabel(\"SSE\")\r\n",
    "plt.show()"
   ],
   "outputs": [
    {
     "output_type": "display_data",
     "data": {
      "image/png": "[encoded data removed]",
      "text/plain": [
       "<Figure size 864x432 with 1 Axes>"
      ]
     },
     "metadata": {}
    }
   ],
   "metadata": {}
  }
 ],
 "metadata": {
  "orig_nbformat": 4,
  "language_info": {
   "name": "python",
   "version": "3.9.6",
   "mimetype": "text/x-python",
   "codemirror_mode": {
    "name": "ipython",
    "version": 3
   },
   "pygments_lexer": "ipython3",
   "nbconvert_exporter": "python",
   "file_extension": ".py"
  },
  "kernelspec": {
   "name": "python3",
   "display_name": "Python 3.9.6 64-bit ('NLP': conda)"
  },
  "interpreter": {
   "hash": "eaa798b471aa1a0109429a408b0faab53065248ef7f5a5989f90756771672ef6"
  }
 },
 "nbformat": 4,
 "nbformat_minor": 2
}