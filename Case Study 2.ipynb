{
 "cells": [
  {
   "cell_type": "markdown",
   "metadata": {},
   "source": [
    "# MSDS 7331 - Case Study 2 - Diabetes Prediction\n",
    "Daniel Crouthamel  \n",
    "Sophia Wu  \n",
    "Fabio Savorgnan  \n",
    "Bo Yun  \n",
    "\n",
    "# Introduction\n",
    "\n",
    "In this study, we will build a classifier using logistic regression to predict hospital readmittance. There is missing data that must be imputed. We'll discuss variable importances for the target variable,which is hospital readmittance.\n",
    "There are total six sections in this case analysis:\n",
    "\n",
    "1. Business Understanding\n",
    "\n",
    "You should always state the objective at the beginning of every case (a guideline you should follow in real life as well) and provide some initial \"Business Understanding\" statements (i.e., what is trying to be solved for and why might it be important)\n",
    "\n",
    "\n",
    "2. Data Evaluation / Engineering\n",
    "\n",
    "Summarize the data being used in the case using appropriate mediums (charts, graphs, tables); address questions such as: Are there missing values? Which variables are needed (which ones are not)? What assumptions or conclusions are you drawing that need to be relayed to your audience?\n",
    "\n",
    "\n",
    "3. Modeling Preparations\n",
    "Fabio\n",
    "\n",
    "Which methods are you proposing to utilize to solve the problem?  Why is this method appropriate given the business objective? How will you determine if your approach is useful (or how will you differentiate which approach is more useful than another)?  More specifically, what evaluation metrics are most useful given that the problem is a binary-classification one (ex., Accuracy, F1-score, Precision, Recall, AUC, etc.)?\n",
    "\n",
    "using AUC to decide between l1 and l2, grid search\n",
    "\n",
    "4. Model Building & Evaluation\n",
    "Dan:\n",
    "\n",
    "\"In this case, your primary task is to build a logistic regression to predict hospital readmittances and will involve the following steps:\n",
    "\n",
    "- Explain how you handled missing values\n",
    "- Specify your sampling methodology\n",
    "- Setup your model(s) - highlighting any important parameters\n",
    "- Analyze your model's performance - referencing your chosen evaluation metric (including supplemental visuals and analysis where appropriate)\"\n",
    "\n",
    "Bo:\n",
    "Threshold and affect on recall\n",
    "How SMOTE can affect the threshold\n",
    "\n",
    "5. Model Interpretability & Explainability\n",
    "Bo: Practical section, 95% recall\n",
    "Dan; Feature importance\n",
    "\n",
    "\"Using at least one of your models above (if multiple were trained):\n",
    "\n",
    "- Which variable(s) was (were) \"\"most important\"\" and why?  How did you come to the conclusion and how should your audience interpret this?\"\n",
    "\n",
    "\n",
    "6. Case Conclusions\n",
    "\n",
    "Sophia:\n",
    "\n",
    "After all of your technical analysis and modeling; what are you proposing to your audience and why?  How should they view your results and what should they consider when moving forward?  Are there other approaches you'd recommend exploring?  This is where you \"bring it all home\" in language they understand.\n"
   ]
  },
  {
   "cell_type": "code",
   "execution_count": 1,
   "metadata": {},
   "outputs": [],
   "source": [
    "import numpy as np\n",
    "import pandas as pd\n",
    "from sklearn.preprocessing import StandardScaler\n",
    "from sklearn.pipeline import Pipeline\n",
    "from sklearn.linear_model import SGDClassifier\n",
    "from sklearn.model_selection import cross_val_score\n",
    "from sklearn.preprocessing import OneHotEncoder\n",
    "from sklearn.model_selection import ShuffleSplit\n",
    "from sklearn import metrics as mt\n",
    "from sklearn.svm import SVC\n",
    "from sklearn.linear_model import LogisticRegression\n",
    "from sklearn.model_selection import GridSearchCV\n",
    "from sklearn.metrics import roc_auc_score\n",
    "from sklearn.model_selection import train_test_split\n",
    "from sklearn.metrics import roc_curve\n",
    "from matplotlib import pyplot\n",
    "from sklearn.compose import ColumnTransformer\n",
    "from sklearn.calibration import CalibratedClassifierCV\n",
    "import matplotlib.pyplot as plt\n",
    "from sklearn.model_selection import train_test_split\n",
    "from sklearn.model_selection import StratifiedKFold\n",
    "from sklearn.model_selection import KFold\n",
    "from sklearn.metrics import confusion_matrix\n",
    "import seaborn as sns\n",
    "from sklearn.metrics import plot_confusion_matrix\n",
    "from sklearn.metrics import classification_report,confusion_matrix\n",
    "from sklearn.impute import SimpleImputer\n",
    "from sklearn.compose import make_column_selector as selector\n",
    "from sklearn.preprocessing import RobustScaler\n",
    "# Imbalanced Data\n",
    "from imblearn.over_sampling import SMOTE\n",
    "from imblearn.pipeline import Pipeline as imbpipeline\n",
    "from sklearn.pipeline import Pipeline\n",
    "from sklearn.model_selection import train_test_split, GridSearchCV, StratifiedKFold\n",
    "\n",
    "# Pre-Processing\n",
    "from sklearn.preprocessing import RobustScaler\n",
    "from sklearn.preprocessing import StandardScaler\n",
    "from sklearn.preprocessing import OneHotEncoder\n",
    "from sklearn.impute import SimpleImputer\n",
    "from sklearn.compose import ColumnTransformer\n",
    "\n",
    "from sklearn.metrics import make_scorer\n",
    "from sklearn.metrics import accuracy_score\n",
    "from sklearn.metrics import recall_score\n",
    "from sklearn.metrics import precision_score\n",
    "from sklearn.metrics import f1_score"
   ]
  },
  {
   "cell_type": "markdown",
   "metadata": {},
   "source": [
    "# Bussiness Understanding"
   ]
  },
  {
   "cell_type": "markdown",
   "metadata": {},
   "source": [
    "According to the Healthcare Cost and Utilization Project (H-CUP) conducted by the Agency for Healthcare Research and Quality (AHRQ), the national benchmark 30-day all cause readmission rate for patients with diabetes is 19.8%.\n",
    "\n",
    "**Objective:**\n",
    "The objective of this case study is to build a classifier using logistic regression to predict hospital readmittance, it will help identify the hospital readmission of patients with Diabetes within 30 days.\n",
    "\n",
    "**Problem:**\n",
    "When patients are readmitted in the hospital within a short period, this can be very expensive to the individual household and our hospital system, as patients' wages can be lost and the medical bills can be signficant."
   ]
  },
  {
   "cell_type": "markdown",
   "metadata": {},
   "source": [
    "# Data Engineering"
   ]
  },
  {
   "cell_type": "markdown",
   "metadata": {},
   "source": [
    "## Load the data"
   ]
  },
  {
   "cell_type": "code",
   "execution_count": 2,
   "metadata": {},
   "outputs": [
    {
     "data": {
      "text/html": [
       "<div>\n",
       "<style scoped>\n",
       "    .dataframe tbody tr th:only-of-type {\n",
       "        vertical-align: middle;\n",
       "    }\n",
       "\n",
       "    .dataframe tbody tr th {\n",
       "        vertical-align: top;\n",
       "    }\n",
       "\n",
       "    .dataframe thead th {\n",
       "        text-align: right;\n",
       "    }\n",
       "</style>\n",
       "<table border=\"1\" class=\"dataframe\">\n",
       "  <thead>\n",
       "    <tr style=\"text-align: right;\">\n",
       "      <th></th>\n",
       "      <th>encounter_id</th>\n",
       "      <th>patient_nbr</th>\n",
       "      <th>race</th>\n",
       "      <th>gender</th>\n",
       "      <th>age</th>\n",
       "      <th>weight</th>\n",
       "      <th>admission_type_id</th>\n",
       "      <th>discharge_disposition_id</th>\n",
       "      <th>admission_source_id</th>\n",
       "      <th>time_in_hospital</th>\n",
       "      <th>...</th>\n",
       "      <th>citoglipton</th>\n",
       "      <th>insulin</th>\n",
       "      <th>glyburide-metformin</th>\n",
       "      <th>glipizide-metformin</th>\n",
       "      <th>glimepiride-pioglitazone</th>\n",
       "      <th>metformin-rosiglitazone</th>\n",
       "      <th>metformin-pioglitazone</th>\n",
       "      <th>change</th>\n",
       "      <th>diabetesMed</th>\n",
       "      <th>readmitted</th>\n",
       "    </tr>\n",
       "  </thead>\n",
       "  <tbody>\n",
       "    <tr>\n",
       "      <th>0</th>\n",
       "      <td>2278392</td>\n",
       "      <td>8222157</td>\n",
       "      <td>Caucasian</td>\n",
       "      <td>Female</td>\n",
       "      <td>[0-10)</td>\n",
       "      <td>?</td>\n",
       "      <td>6</td>\n",
       "      <td>25</td>\n",
       "      <td>1</td>\n",
       "      <td>1</td>\n",
       "      <td>...</td>\n",
       "      <td>No</td>\n",
       "      <td>No</td>\n",
       "      <td>No</td>\n",
       "      <td>No</td>\n",
       "      <td>No</td>\n",
       "      <td>No</td>\n",
       "      <td>No</td>\n",
       "      <td>No</td>\n",
       "      <td>No</td>\n",
       "      <td>NO</td>\n",
       "    </tr>\n",
       "    <tr>\n",
       "      <th>1</th>\n",
       "      <td>149190</td>\n",
       "      <td>55629189</td>\n",
       "      <td>Caucasian</td>\n",
       "      <td>Female</td>\n",
       "      <td>[10-20)</td>\n",
       "      <td>?</td>\n",
       "      <td>1</td>\n",
       "      <td>1</td>\n",
       "      <td>7</td>\n",
       "      <td>3</td>\n",
       "      <td>...</td>\n",
       "      <td>No</td>\n",
       "      <td>Up</td>\n",
       "      <td>No</td>\n",
       "      <td>No</td>\n",
       "      <td>No</td>\n",
       "      <td>No</td>\n",
       "      <td>No</td>\n",
       "      <td>Ch</td>\n",
       "      <td>Yes</td>\n",
       "      <td>&gt;30</td>\n",
       "    </tr>\n",
       "    <tr>\n",
       "      <th>2</th>\n",
       "      <td>64410</td>\n",
       "      <td>86047875</td>\n",
       "      <td>AfricanAmerican</td>\n",
       "      <td>Female</td>\n",
       "      <td>[20-30)</td>\n",
       "      <td>?</td>\n",
       "      <td>1</td>\n",
       "      <td>1</td>\n",
       "      <td>7</td>\n",
       "      <td>2</td>\n",
       "      <td>...</td>\n",
       "      <td>No</td>\n",
       "      <td>No</td>\n",
       "      <td>No</td>\n",
       "      <td>No</td>\n",
       "      <td>No</td>\n",
       "      <td>No</td>\n",
       "      <td>No</td>\n",
       "      <td>No</td>\n",
       "      <td>Yes</td>\n",
       "      <td>NO</td>\n",
       "    </tr>\n",
       "    <tr>\n",
       "      <th>3</th>\n",
       "      <td>500364</td>\n",
       "      <td>82442376</td>\n",
       "      <td>Caucasian</td>\n",
       "      <td>Male</td>\n",
       "      <td>[30-40)</td>\n",
       "      <td>?</td>\n",
       "      <td>1</td>\n",
       "      <td>1</td>\n",
       "      <td>7</td>\n",
       "      <td>2</td>\n",
       "      <td>...</td>\n",
       "      <td>No</td>\n",
       "      <td>Up</td>\n",
       "      <td>No</td>\n",
       "      <td>No</td>\n",
       "      <td>No</td>\n",
       "      <td>No</td>\n",
       "      <td>No</td>\n",
       "      <td>Ch</td>\n",
       "      <td>Yes</td>\n",
       "      <td>NO</td>\n",
       "    </tr>\n",
       "    <tr>\n",
       "      <th>4</th>\n",
       "      <td>16680</td>\n",
       "      <td>42519267</td>\n",
       "      <td>Caucasian</td>\n",
       "      <td>Male</td>\n",
       "      <td>[40-50)</td>\n",
       "      <td>?</td>\n",
       "      <td>1</td>\n",
       "      <td>1</td>\n",
       "      <td>7</td>\n",
       "      <td>1</td>\n",
       "      <td>...</td>\n",
       "      <td>No</td>\n",
       "      <td>Steady</td>\n",
       "      <td>No</td>\n",
       "      <td>No</td>\n",
       "      <td>No</td>\n",
       "      <td>No</td>\n",
       "      <td>No</td>\n",
       "      <td>Ch</td>\n",
       "      <td>Yes</td>\n",
       "      <td>NO</td>\n",
       "    </tr>\n",
       "  </tbody>\n",
       "</table>\n",
       "<p>5 rows × 50 columns</p>\n",
       "</div>"
      ],
      "text/plain": [
       "   encounter_id  patient_nbr             race  gender      age weight  \\\n",
       "0       2278392      8222157        Caucasian  Female   [0-10)      ?   \n",
       "1        149190     55629189        Caucasian  Female  [10-20)      ?   \n",
       "2         64410     86047875  AfricanAmerican  Female  [20-30)      ?   \n",
       "3        500364     82442376        Caucasian    Male  [30-40)      ?   \n",
       "4         16680     42519267        Caucasian    Male  [40-50)      ?   \n",
       "\n",
       "   admission_type_id  discharge_disposition_id  admission_source_id  \\\n",
       "0                  6                        25                    1   \n",
       "1                  1                         1                    7   \n",
       "2                  1                         1                    7   \n",
       "3                  1                         1                    7   \n",
       "4                  1                         1                    7   \n",
       "\n",
       "   time_in_hospital  ... citoglipton insulin  glyburide-metformin  \\\n",
       "0                 1  ...          No      No                   No   \n",
       "1                 3  ...          No      Up                   No   \n",
       "2                 2  ...          No      No                   No   \n",
       "3                 2  ...          No      Up                   No   \n",
       "4                 1  ...          No  Steady                   No   \n",
       "\n",
       "   glipizide-metformin  glimepiride-pioglitazone  metformin-rosiglitazone  \\\n",
       "0                   No                        No                       No   \n",
       "1                   No                        No                       No   \n",
       "2                   No                        No                       No   \n",
       "3                   No                        No                       No   \n",
       "4                   No                        No                       No   \n",
       "\n",
       "   metformin-pioglitazone  change diabetesMed readmitted  \n",
       "0                      No      No          No         NO  \n",
       "1                      No      Ch         Yes        >30  \n",
       "2                      No      No         Yes         NO  \n",
       "3                      No      Ch         Yes         NO  \n",
       "4                      No      Ch         Yes         NO  \n",
       "\n",
       "[5 rows x 50 columns]"
      ]
     },
     "execution_count": 2,
     "metadata": {},
     "output_type": "execute_result"
    }
   ],
   "source": [
    "df = pd.read_csv(\"data/diabetic_data.csv\")\n",
    "df.head()"
   ]
  },
  {
   "cell_type": "markdown",
   "metadata": {},
   "source": [
    "## Look at column information"
   ]
  },
  {
   "cell_type": "code",
   "execution_count": 3,
   "metadata": {},
   "outputs": [
    {
     "name": "stdout",
     "output_type": "stream",
     "text": [
      "<class 'pandas.core.frame.DataFrame'>\n",
      "RangeIndex: 101766 entries, 0 to 101765\n",
      "Data columns (total 50 columns):\n",
      " #   Column                    Non-Null Count   Dtype \n",
      "---  ------                    --------------   ----- \n",
      " 0   encounter_id              101766 non-null  int64 \n",
      " 1   patient_nbr               101766 non-null  int64 \n",
      " 2   race                      101766 non-null  object\n",
      " 3   gender                    101766 non-null  object\n",
      " 4   age                       101766 non-null  object\n",
      " 5   weight                    101766 non-null  object\n",
      " 6   admission_type_id         101766 non-null  int64 \n",
      " 7   discharge_disposition_id  101766 non-null  int64 \n",
      " 8   admission_source_id       101766 non-null  int64 \n",
      " 9   time_in_hospital          101766 non-null  int64 \n",
      " 10  payer_code                101766 non-null  object\n",
      " 11  medical_specialty         101766 non-null  object\n",
      " 12  num_lab_procedures        101766 non-null  int64 \n",
      " 13  num_procedures            101766 non-null  int64 \n",
      " 14  num_medications           101766 non-null  int64 \n",
      " 15  number_outpatient         101766 non-null  int64 \n",
      " 16  number_emergency          101766 non-null  int64 \n",
      " 17  number_inpatient          101766 non-null  int64 \n",
      " 18  diag_1                    101766 non-null  object\n",
      " 19  diag_2                    101766 non-null  object\n",
      " 20  diag_3                    101766 non-null  object\n",
      " 21  number_diagnoses          101766 non-null  int64 \n",
      " 22  max_glu_serum             101766 non-null  object\n",
      " 23  A1Cresult                 101766 non-null  object\n",
      " 24  metformin                 101766 non-null  object\n",
      " 25  repaglinide               101766 non-null  object\n",
      " 26  nateglinide               101766 non-null  object\n",
      " 27  chlorpropamide            101766 non-null  object\n",
      " 28  glimepiride               101766 non-null  object\n",
      " 29  acetohexamide             101766 non-null  object\n",
      " 30  glipizide                 101766 non-null  object\n",
      " 31  glyburide                 101766 non-null  object\n",
      " 32  tolbutamide               101766 non-null  object\n",
      " 33  pioglitazone              101766 non-null  object\n",
      " 34  rosiglitazone             101766 non-null  object\n",
      " 35  acarbose                  101766 non-null  object\n",
      " 36  miglitol                  101766 non-null  object\n",
      " 37  troglitazone              101766 non-null  object\n",
      " 38  tolazamide                101766 non-null  object\n",
      " 39  examide                   101766 non-null  object\n",
      " 40  citoglipton               101766 non-null  object\n",
      " 41  insulin                   101766 non-null  object\n",
      " 42  glyburide-metformin       101766 non-null  object\n",
      " 43  glipizide-metformin       101766 non-null  object\n",
      " 44  glimepiride-pioglitazone  101766 non-null  object\n",
      " 45  metformin-rosiglitazone   101766 non-null  object\n",
      " 46  metformin-pioglitazone    101766 non-null  object\n",
      " 47  change                    101766 non-null  object\n",
      " 48  diabetesMed               101766 non-null  object\n",
      " 49  readmitted                101766 non-null  object\n",
      "dtypes: int64(13), object(37)\n",
      "memory usage: 38.8+ MB\n",
      "(101766, 50)\n"
     ]
    }
   ],
   "source": [
    "df.info()\n",
    "print(df.shape)"
   ]
  },
  {
   "cell_type": "markdown",
   "metadata": {},
   "source": [
    "## Histograms of numeric features\n",
    "\n",
    "The output below shows histograms of the numeric features. Three of these features will be converted to factors or categorical variables.\n",
    "\n",
    "*  Admission Type ID\n",
    "*  Discharge Disposition ID\n",
    "*  Admission Source ID"
   ]
  },
  {
   "cell_type": "code",
   "execution_count": 4,
   "metadata": {},
   "outputs": [
    {
     "data": {
      "text/plain": [
       "array([[<AxesSubplot:title={'center':'encounter_id'}>,\n",
       "        <AxesSubplot:title={'center':'patient_nbr'}>,\n",
       "        <AxesSubplot:title={'center':'admission_type_id'}>,\n",
       "        <AxesSubplot:title={'center':'discharge_disposition_id'}>],\n",
       "       [<AxesSubplot:title={'center':'admission_source_id'}>,\n",
       "        <AxesSubplot:title={'center':'time_in_hospital'}>,\n",
       "        <AxesSubplot:title={'center':'num_lab_procedures'}>,\n",
       "        <AxesSubplot:title={'center':'num_procedures'}>],\n",
       "       [<AxesSubplot:title={'center':'num_medications'}>,\n",
       "        <AxesSubplot:title={'center':'number_outpatient'}>,\n",
       "        <AxesSubplot:title={'center':'number_emergency'}>,\n",
       "        <AxesSubplot:title={'center':'number_inpatient'}>],\n",
       "       [<AxesSubplot:title={'center':'number_diagnoses'}>,\n",
       "        <AxesSubplot:>, <AxesSubplot:>, <AxesSubplot:>]], dtype=object)"
      ]
     },
     "execution_count": 4,
     "metadata": {},
     "output_type": "execute_result"
    },
    {
     "data": {
      "image/png": "[encoded data removed]",
      "text/plain": [
       "<Figure size 1008x1008 with 16 Axes>"
      ]
     },
     "metadata": {
      "needs_background": "light"
     },
     "output_type": "display_data"
    }
   ],
   "source": [
    "df.hist(figsize=(14,14), xrot=50)"
   ]
  },
  {
   "cell_type": "markdown",
   "metadata": {},
   "source": [
    "## Panda's Profile\n",
    "\n",
    "We used the code below to generate a Pandas profile, which allows use to do EDA quickly on the data set. It allows us to visualize and and understand the disbribution of each variable pretty easily. The HTML file will be included as part of the submission."
   ]
  },
  {
   "cell_type": "code",
   "execution_count": 5,
   "metadata": {},
   "outputs": [],
   "source": [
    "# from pandas_profiling import ProfileReport\n",
    "# profile = ProfileReport(df, title=\"Diabetes Profiling Report\", minimal=True)\n",
    "# profile.to_file(output_file=\"DiabetesProfile.html\")"
   ]
  },
  {
   "cell_type": "markdown",
   "metadata": {},
   "source": [
    "## Final Feature Set\n",
    "\n",
    "After evaluating the data above we decided to perform the following data preprocessing steps."
   ]
  },
  {
   "cell_type": "markdown",
   "metadata": {},
   "source": [
    "\n",
    "\n",
    "1- Remove Encounter ID, Patient NUBR (unique ids, not needed)\n",
    "\n",
    "2- Race -> It is a categorical variable, therefore we will impute the missing valuees with the Mode.\n",
    "\n",
    "3- Age -> Bin in 3 categories, young, middle and old\n",
    "\n",
    "4- Weight -> Remove, too many unknowns, there is more than 85% of the data that is unknown.\n",
    "\n",
    "5- Admission ID Type -> Merging values 5, 8 into 6 (see mapping spreadsheet). To put all the missing values in one place.\n",
    "\n",
    "6- Admission Source -> Merging values 9, 15, 20, 21 into 17. To put all the missing values in one place.\n",
    "\n",
    "7- Discharge disposition -> remove observations where the discharge disposition is related to hospice or death since these will not add to the possibility of being readmitted \n",
    "\n",
    "8- DX -> Bing by using the ICD code in order to have the diagnosis of cardiovascular, respiratory, GI, Endocrinology, Diabetes, Neoplasis, Injury, Uninary and others\n",
    "\n",
    "9- Remove Payor Code - not helpful, nearly 40% of the data is missing\n",
    "\n",
    "10- Remove Medical speciality - not helpful, 49% of the data is missing\n",
    "\n",
    "11- For the Categorical variables we will keep the none buckets, except examide and citoglipton since they only have one value\n",
    "\n",
    "12- Numerical features, some are normally distrbuted. We will use RobustScaler. The data that look non normaly distributed are the discrete numerical data, therefore we decide no to log transform the data,\n",
    "\n",
    "\n",
    "13- Readmitted -> Convert to binary as you will see in the code below."
   ]
  },
  {
   "cell_type": "markdown",
   "metadata": {},
   "source": [
    "## Drop Unnecessary Columns"
   ]
  },
  {
   "cell_type": "markdown",
   "metadata": {},
   "source": [
    "First delate the columns that are id of the patients or encounter, so they are usefull for the model, and the columns of weight which is important but the amount of missing values is too much to make it an useful variable, there is 97% of missing values. We also delete the examide medication and citoglipton medication because there is only the no variable, there is not any yes value"
   ]
  },
  {
   "cell_type": "code",
   "execution_count": 6,
   "metadata": {},
   "outputs": [
    {
     "data": {
      "text/plain": [
       "?            96.858479\n",
       "[75-100)      1.312816\n",
       "[50-75)       0.881434\n",
       "[100-125)     0.614154\n",
       "[125-150)     0.142484\n",
       "[25-50)       0.095317\n",
       "[0-25)        0.047167\n",
       "[150-175)     0.034393\n",
       "[175-200)     0.010809\n",
       ">200          0.002948\n",
       "Name: weight, dtype: float64"
      ]
     },
     "execution_count": 6,
     "metadata": {},
     "output_type": "execute_result"
    }
   ],
   "source": [
    "l=df[\"weight\"].value_counts(normalize=True)*100\n",
    "l"
   ]
  },
  {
   "cell_type": "code",
   "execution_count": 7,
   "metadata": {},
   "outputs": [
    {
     "data": {
      "text/plain": [
       "Index(['encounter_id', 'patient_nbr', 'race', 'gender', 'age', 'weight',\n",
       "       'admission_type_id', 'discharge_disposition_id', 'admission_source_id',\n",
       "       'time_in_hospital', 'payer_code', 'medical_specialty',\n",
       "       'num_lab_procedures', 'num_procedures', 'num_medications',\n",
       "       'number_outpatient', 'number_emergency', 'number_inpatient', 'diag_1',\n",
       "       'diag_2', 'diag_3', 'number_diagnoses', 'max_glu_serum', 'A1Cresult',\n",
       "       'metformin', 'repaglinide', 'nateglinide', 'chlorpropamide',\n",
       "       'glimepiride', 'acetohexamide', 'glipizide', 'glyburide', 'tolbutamide',\n",
       "       'pioglitazone', 'rosiglitazone', 'acarbose', 'miglitol', 'troglitazone',\n",
       "       'tolazamide', 'examide', 'citoglipton', 'insulin',\n",
       "       'glyburide-metformin', 'glipizide-metformin',\n",
       "       'glimepiride-pioglitazone', 'metformin-rosiglitazone',\n",
       "       'metformin-pioglitazone', 'change', 'diabetesMed', 'readmitted'],\n",
       "      dtype='object')"
      ]
     },
     "execution_count": 7,
     "metadata": {},
     "output_type": "execute_result"
    }
   ],
   "source": [
    "df.columns"
   ]
  },
  {
   "cell_type": "code",
   "execution_count": 15,
   "metadata": {},
   "outputs": [
    {
     "data": {
      "text/html": [
       "<div>\n",
       "<style scoped>\n",
       "    .dataframe tbody tr th:only-of-type {\n",
       "        vertical-align: middle;\n",
       "    }\n",
       "\n",
       "    .dataframe tbody tr th {\n",
       "        vertical-align: top;\n",
       "    }\n",
       "\n",
       "    .dataframe thead th {\n",
       "        text-align: right;\n",
       "    }\n",
       "</style>\n",
       "<table border=\"1\" class=\"dataframe\">\n",
       "  <thead>\n",
       "    <tr style=\"text-align: right;\">\n",
       "      <th></th>\n",
       "      <th>race</th>\n",
       "      <th>gender</th>\n",
       "      <th>age</th>\n",
       "      <th>admission_type_id</th>\n",
       "      <th>discharge_disposition_id</th>\n",
       "      <th>admission_source_id</th>\n",
       "      <th>time_in_hospital</th>\n",
       "      <th>num_lab_procedures</th>\n",
       "      <th>num_procedures</th>\n",
       "      <th>num_medications</th>\n",
       "      <th>...</th>\n",
       "      <th>tolazamide</th>\n",
       "      <th>insulin</th>\n",
       "      <th>glyburide-metformin</th>\n",
       "      <th>glipizide-metformin</th>\n",
       "      <th>glimepiride-pioglitazone</th>\n",
       "      <th>metformin-rosiglitazone</th>\n",
       "      <th>metformin-pioglitazone</th>\n",
       "      <th>change</th>\n",
       "      <th>diabetesMed</th>\n",
       "      <th>readmitted</th>\n",
       "    </tr>\n",
       "  </thead>\n",
       "  <tbody>\n",
       "    <tr>\n",
       "      <th>0</th>\n",
       "      <td>Caucasian</td>\n",
       "      <td>Female</td>\n",
       "      <td>[0-10)</td>\n",
       "      <td>6</td>\n",
       "      <td>25</td>\n",
       "      <td>1</td>\n",
       "      <td>1</td>\n",
       "      <td>41</td>\n",
       "      <td>0</td>\n",
       "      <td>1</td>\n",
       "      <td>...</td>\n",
       "      <td>No</td>\n",
       "      <td>No</td>\n",
       "      <td>No</td>\n",
       "      <td>No</td>\n",
       "      <td>No</td>\n",
       "      <td>No</td>\n",
       "      <td>No</td>\n",
       "      <td>No</td>\n",
       "      <td>No</td>\n",
       "      <td>NO</td>\n",
       "    </tr>\n",
       "    <tr>\n",
       "      <th>1</th>\n",
       "      <td>Caucasian</td>\n",
       "      <td>Female</td>\n",
       "      <td>[10-20)</td>\n",
       "      <td>1</td>\n",
       "      <td>1</td>\n",
       "      <td>7</td>\n",
       "      <td>3</td>\n",
       "      <td>59</td>\n",
       "      <td>0</td>\n",
       "      <td>18</td>\n",
       "      <td>...</td>\n",
       "      <td>No</td>\n",
       "      <td>Up</td>\n",
       "      <td>No</td>\n",
       "      <td>No</td>\n",
       "      <td>No</td>\n",
       "      <td>No</td>\n",
       "      <td>No</td>\n",
       "      <td>Ch</td>\n",
       "      <td>Yes</td>\n",
       "      <td>&gt;30</td>\n",
       "    </tr>\n",
       "    <tr>\n",
       "      <th>2</th>\n",
       "      <td>AfricanAmerican</td>\n",
       "      <td>Female</td>\n",
       "      <td>[20-30)</td>\n",
       "      <td>1</td>\n",
       "      <td>1</td>\n",
       "      <td>7</td>\n",
       "      <td>2</td>\n",
       "      <td>11</td>\n",
       "      <td>5</td>\n",
       "      <td>13</td>\n",
       "      <td>...</td>\n",
       "      <td>No</td>\n",
       "      <td>No</td>\n",
       "      <td>No</td>\n",
       "      <td>No</td>\n",
       "      <td>No</td>\n",
       "      <td>No</td>\n",
       "      <td>No</td>\n",
       "      <td>No</td>\n",
       "      <td>Yes</td>\n",
       "      <td>NO</td>\n",
       "    </tr>\n",
       "    <tr>\n",
       "      <th>3</th>\n",
       "      <td>Caucasian</td>\n",
       "      <td>Male</td>\n",
       "      <td>[30-40)</td>\n",
       "      <td>1</td>\n",
       "      <td>1</td>\n",
       "      <td>7</td>\n",
       "      <td>2</td>\n",
       "      <td>44</td>\n",
       "      <td>1</td>\n",
       "      <td>16</td>\n",
       "      <td>...</td>\n",
       "      <td>No</td>\n",
       "      <td>Up</td>\n",
       "      <td>No</td>\n",
       "      <td>No</td>\n",
       "      <td>No</td>\n",
       "      <td>No</td>\n",
       "      <td>No</td>\n",
       "      <td>Ch</td>\n",
       "      <td>Yes</td>\n",
       "      <td>NO</td>\n",
       "    </tr>\n",
       "    <tr>\n",
       "      <th>4</th>\n",
       "      <td>Caucasian</td>\n",
       "      <td>Male</td>\n",
       "      <td>[40-50)</td>\n",
       "      <td>1</td>\n",
       "      <td>1</td>\n",
       "      <td>7</td>\n",
       "      <td>1</td>\n",
       "      <td>51</td>\n",
       "      <td>0</td>\n",
       "      <td>8</td>\n",
       "      <td>...</td>\n",
       "      <td>No</td>\n",
       "      <td>Steady</td>\n",
       "      <td>No</td>\n",
       "      <td>No</td>\n",
       "      <td>No</td>\n",
       "      <td>No</td>\n",
       "      <td>No</td>\n",
       "      <td>Ch</td>\n",
       "      <td>Yes</td>\n",
       "      <td>NO</td>\n",
       "    </tr>\n",
       "  </tbody>\n",
       "</table>\n",
       "<p>5 rows × 43 columns</p>\n",
       "</div>"
      ],
      "text/plain": [
       "              race  gender      age  admission_type_id  \\\n",
       "0        Caucasian  Female   [0-10)                  6   \n",
       "1        Caucasian  Female  [10-20)                  1   \n",
       "2  AfricanAmerican  Female  [20-30)                  1   \n",
       "3        Caucasian    Male  [30-40)                  1   \n",
       "4        Caucasian    Male  [40-50)                  1   \n",
       "\n",
       "   discharge_disposition_id  admission_source_id  time_in_hospital  \\\n",
       "0                        25                    1                 1   \n",
       "1                         1                    7                 3   \n",
       "2                         1                    7                 2   \n",
       "3                         1                    7                 2   \n",
       "4                         1                    7                 1   \n",
       "\n",
       "   num_lab_procedures  num_procedures  num_medications  ...  tolazamide  \\\n",
       "0                  41               0                1  ...          No   \n",
       "1                  59               0               18  ...          No   \n",
       "2                  11               5               13  ...          No   \n",
       "3                  44               1               16  ...          No   \n",
       "4                  51               0                8  ...          No   \n",
       "\n",
       "   insulin  glyburide-metformin glipizide-metformin glimepiride-pioglitazone  \\\n",
       "0       No                   No                  No                       No   \n",
       "1       Up                   No                  No                       No   \n",
       "2       No                   No                  No                       No   \n",
       "3       Up                   No                  No                       No   \n",
       "4   Steady                   No                  No                       No   \n",
       "\n",
       "  metformin-rosiglitazone  metformin-pioglitazone change diabetesMed  \\\n",
       "0                      No                      No     No          No   \n",
       "1                      No                      No     Ch         Yes   \n",
       "2                      No                      No     No         Yes   \n",
       "3                      No                      No     Ch         Yes   \n",
       "4                      No                      No     Ch         Yes   \n",
       "\n",
       "  readmitted  \n",
       "0         NO  \n",
       "1        >30  \n",
       "2         NO  \n",
       "3         NO  \n",
       "4         NO  \n",
       "\n",
       "[5 rows x 43 columns]"
      ]
     },
     "execution_count": 15,
     "metadata": {},
     "output_type": "execute_result"
    }
   ],
   "source": [
    "df_reduced= df.drop(columns=['encounter_id','patient_nbr','weight','payer_code', 'medical_specialty', 'examide','citoglipton'])\n",
    "df_reduced.shape\n",
    "df_reduced.head()"
   ]
  },
  {
   "cell_type": "markdown",
   "metadata": {},
   "source": [
    "## Categorize Diagnosis Codes into clinical groups\n",
    "\n",
    "We decided to categorize the diagnosis codes into clinical groups, according to the following paper.\n",
    "\n",
    "https://www.hindawi.com/journals/bmri/2014/781670/tab2/"
   ]
  },
  {
   "cell_type": "code",
   "execution_count": 16,
   "metadata": {},
   "outputs": [],
   "source": [
    "# Function to Categorize DX based on URL ...\n",
    "def bin_dx(code):\n",
    "    try:\n",
    "        code = float(code)\n",
    "    except:\n",
    "        code = 0\n",
    "\n",
    "    # Circulatory\n",
    "    if code in range(390,460) or code == 785:\n",
    "        return(\"Circulatory\")\n",
    "\n",
    "    # Respiratory\n",
    "    elif code in range(460,520) or code == 786:\n",
    "        return(\"Respiratory\")\n",
    "\n",
    "    # Digestive\n",
    "    elif code in range(520,580) or code == 787:\n",
    "        return(\"Digestive\")\n",
    "\n",
    "    # Diabetes\n",
    "    elif code >= 250 and code < 251:\n",
    "        return(\"Diabetes\")\n",
    "\n",
    "    # Injury\n",
    "    elif code in range(800,1000):\n",
    "        return(\"Injury\")\n",
    "\n",
    "    # Musculoskeletal\n",
    "    elif code in range(710,740):\n",
    "        return(\"Musculoskeletal\")\n",
    "\n",
    "    # Genitourinary\n",
    "    elif code in range(580,630) or code == 788:\n",
    "        return(\"Genitourinary\")\n",
    "\n",
    "    # Neoplasms\n",
    "    elif code in range(140,240):\n",
    "        return(\"Neoplasms\")\n",
    "    elif code in range(780,783) or code == 784:\n",
    "        return(\"Neoplasms\")\n",
    "    elif code in range(790,800):\n",
    "        return(\"Neoplasms\")\n",
    "    elif code in range(240,250):\n",
    "        return(\"Neoplasms\")\n",
    "    elif code in range(251,280):\n",
    "        return(\"Neoplasms\")\n",
    "    elif code in range(680,710):\n",
    "        return(\"Neoplasms\")\n",
    "    elif code in range(1,140):\n",
    "        return(\"Neoplasms\")\n",
    "    elif code in range(290,320):\n",
    "        return(\"Neoplasms\")\n",
    "\n",
    "    # Other\n",
    "    else:\n",
    "        return(\"Other\")"
   ]
  },
  {
   "cell_type": "code",
   "execution_count": 17,
   "metadata": {},
   "outputs": [
    {
     "name": "stdout",
     "output_type": "stream",
     "text": [
      "Circulatory        30437\n",
      "Neoplasms          16318\n",
      "Respiratory        14423\n",
      "Digestive           9475\n",
      "Diabetes            8757\n",
      "Injury              6974\n",
      "Other               5308\n",
      "Genitourinary       5117\n",
      "Musculoskeletal     4957\n",
      "Name: Diag1, dtype: int64\n",
      "\n",
      "Circulatory        31881\n",
      "Neoplasms          21462\n",
      "Diabetes           12794\n",
      "Respiratory        10895\n",
      "Genitourinary       8376\n",
      "Other               7996\n",
      "Digestive           4170\n",
      "Injury              2428\n",
      "Musculoskeletal     1764\n",
      "Name: Diag2, dtype: int64\n",
      "\n",
      "Circulatory        30306\n",
      "Neoplasms          20985\n",
      "Diabetes           17157\n",
      "Other              11489\n",
      "Respiratory         7358\n",
      "Genitourinary       6680\n",
      "Digestive           3930\n",
      "Injury              1946\n",
      "Musculoskeletal     1915\n",
      "Name: Diag3, dtype: int64\n"
     ]
    }
   ],
   "source": [
    "df_reduced[\"Diag1\"] = df_reduced[\"diag_1\"].apply(bin_dx)\n",
    "df_reduced[\"Diag2\"] = df_reduced[\"diag_2\"].apply(bin_dx)\n",
    "df_reduced[\"Diag3\"] = df_reduced[\"diag_3\"].apply(bin_dx)\n",
    "\n",
    "\n",
    "print(df_reduced[\"Diag1\"].value_counts())\n",
    "print(\"\")\n",
    "print(df_reduced[\"Diag2\"].value_counts())\n",
    "print(\"\")\n",
    "print(df_reduced[\"Diag3\"].value_counts())"
   ]
  },
  {
   "cell_type": "code",
   "execution_count": 18,
   "metadata": {},
   "outputs": [],
   "source": [
    "df_reduced = df_reduced.drop(columns=['diag_1', 'diag_2', 'diag_3'])"
   ]
  },
  {
   "cell_type": "markdown",
   "metadata": {},
   "source": [
    "## Categorize Age Attribute"
   ]
  },
  {
   "cell_type": "code",
   "execution_count": 19,
   "metadata": {},
   "outputs": [
    {
     "name": "stdout",
     "output_type": "stream",
     "text": [
      "[70-80)     26068\n",
      "[60-70)     22483\n",
      "[50-60)     17256\n",
      "[80-90)     17197\n",
      "[40-50)      9685\n",
      "[30-40)      3775\n",
      "[90-100)     2793\n",
      "[20-30)      1657\n",
      "[10-20)       691\n",
      "[0-10)        161\n",
      "Name: age, dtype: int64\n",
      "Old       68541\n",
      "Midage    26941\n",
      "Young      6284\n",
      "Name: age, dtype: int64\n"
     ]
    }
   ],
   "source": [
    "print(df_reduced[\"age\"].value_counts())\n",
    "di = {'[70-80)': 'Old', '[60-70)': 'Old', '[80-90)': 'Old', '[90-100)': 'Old', '[50-60)': 'Midage', '[40-50)': 'Midage', '[30-40)': 'Young', '[20-30)': 'Young', '[10-20)': 'Young', '[0-10)': 'Young'}\n",
    "\n",
    "df_reduced[\"age\"].replace(di, inplace=True)\n",
    "print(df_reduced[\"age\"].value_counts())\n",
    " "
   ]
  },
  {
   "cell_type": "markdown",
   "metadata": {},
   "source": [
    "## Group features together for Admission Type and Admission Source\n",
    "\n",
    "Some of the features or categories can be grouped together. For Admission Type we will place the following three values into the same group, since they sort of represent the same thing.\n",
    "\n",
    "* 5 - Not Available\n",
    "* 6 - Null\n",
    "* 8 - Not Mapped\n",
    "\n",
    "For Admission Source we will place the following five values into the same group:\n",
    "\n",
    "* 9 - Not Available\n",
    "* 15 - Not Available\n",
    "* 17 - NULL\n",
    "* 20 - Not Mapped\n",
    "* 21 - Unknown/Invalid\n",
    "\n"
   ]
  },
  {
   "cell_type": "code",
   "execution_count": 20,
   "metadata": {},
   "outputs": [],
   "source": [
    "# reagenge the id coluns can be useful in a way that all the missing values is place in one place and make it categorical\n",
    "# admission_type_id\n",
    "df_reduced.admission_type_id.replace(to_replace = 5, value = 6, inplace = True)\n",
    "df_reduced.admission_type_id.replace(to_replace = 8, value = 6, inplace = True)\n",
    "df_reduced.admission_type_id = df_reduced.admission_type_id.astype(str)\n",
    "\n",
    "# admission_source_id\n",
    "df_reduced.admission_source_id.replace(to_replace = 9, value = 17, inplace = True)\n",
    "df_reduced.admission_source_id.replace(to_replace = 15, value = 17, inplace = True)\n",
    "df_reduced.admission_source_id.replace(to_replace = 20, value = 17, inplace = True)\n",
    "df_reduced.admission_source_id.replace(to_replace = 21, value = 17, inplace = True)\n",
    "df_reduced.admission_source_id= df_reduced.admission_source_id.astype(str)"
   ]
  },
  {
   "cell_type": "markdown",
   "metadata": {},
   "source": [
    "## Next, we remove observations where the discharge disposition is related to hospice or death since these will not add to the possibility of being readmitted."
   ]
  },
  {
   "cell_type": "code",
   "execution_count": 21,
   "metadata": {},
   "outputs": [
    {
     "name": "stdout",
     "output_type": "stream",
     "text": [
      "1     60234\n",
      "3     13954\n",
      "6     12902\n",
      "18     3691\n",
      "2      2128\n",
      "22     1993\n",
      "5      1184\n",
      "25      989\n",
      "4       815\n",
      "7       623\n",
      "23      412\n",
      "28      139\n",
      "8       108\n",
      "15       63\n",
      "24       48\n",
      "9        21\n",
      "17       14\n",
      "16       11\n",
      "10        6\n",
      "27        5\n",
      "12        3\n",
      "Name: discharge_disposition_id, dtype: int64\n"
     ]
    }
   ],
   "source": [
    "indexNames = df_reduced[df_reduced['discharge_disposition_id'].isin([11,13,14,19,20,21])].index\n",
    "df_reduced.drop(indexNames, inplace=True)\n",
    "\n",
    "print(df_reduced['discharge_disposition_id'].value_counts())"
   ]
  },
  {
   "cell_type": "markdown",
   "metadata": {},
   "source": [
    "## Make our response variable a binary variable\n",
    "\n",
    "The response has 3 values, but we will convert it to binary, if the patient is readmitted within 30 days, the value will be 1, otherwise it will be 0."
   ]
  },
  {
   "cell_type": "code",
   "execution_count": 22,
   "metadata": {},
   "outputs": [
    {
     "name": "stdout",
     "output_type": "stream",
     "text": [
      "0    88029\n",
      "1    11314\n",
      "Name: readmitted, dtype: int64\n"
     ]
    }
   ],
   "source": [
    "di = {'NO': 0, '>30': 0, '<30': 1}\n",
    "\n",
    "df_reduced[\"readmitted\"].replace(di, inplace=True)\n",
    "print(df_reduced[\"readmitted\"].value_counts())"
   ]
  },
  {
   "cell_type": "markdown",
   "metadata": {},
   "source": [
    "## Plot the readmission variable to show a big inbalance in the response"
   ]
  },
  {
   "cell_type": "code",
   "execution_count": 23,
   "metadata": {},
   "outputs": [
    {
     "data": {
      "image/png": "[encoded data removed]",
      "text/plain": [
       "<Figure size 432x288 with 1 Axes>"
      ]
     },
     "metadata": {
      "needs_background": "light"
     },
     "output_type": "display_data"
    }
   ],
   "source": [
    "plt.hist(df_reduced[\"readmitted\"])\n",
    "my_xtick = [0, 0.5, 1]\n",
    "my_xtick_labels = ['0' , '', '1']\n",
    "plt.xticks(my_xtick, my_xtick_labels, fontsize=8)\n",
    "plt.xlabel(\"Readmission\")\n",
    "plt.ylabel(\"Count\")\n",
    "plt.show()"
   ]
  },
  {
   "cell_type": "markdown",
   "metadata": {},
   "source": [
    "# Model Preparation"
   ]
  },
  {
   "cell_type": "markdown",
   "metadata": {},
   "source": [
    "We decided to use a grid search method to figure the best hyperparameter to choose and to select with lasso the most important variables or to suppress the less important variables with the ridge regularization method. We would use the regularization inside the grid. The models will be evaluated and selected according to the best performance base on the AUC metric. Also, we will scale the numeric variables with robust scaler, and one hot encode the categorical variables; furthermore, we will impute with mean the numerical variables, and impute with mode the categorical variables.\n",
    "We will choose the AUC metric. The reason why we will use the AUC metric to select the model is because ROC curves are widely used to compare and evaluate different classification algorithms, and ROC curve is widely used when the dataset is imbalanced. \n",
    "\n",
    " A Receiver Operating Characteristic curve or ROC curve is created by plotting the True Positive (TP) against the False Positive (FP) at various threshold settings. The ROC curve is generated by plotting the cumulative distribution function of the True Positive in the y-axis versus the cumulative distribution function of the False Positive on the x-axis. The area under the ROC curve (ROC AUC) is the single-valued metric used for evaluating the performance. The higher the AUC, the better the performance of the model at distinguishing between the classes. In general, an AUC of 0.5 suggests no discrimination, a value between 0.5–0.7 is acceptable and anything above 0.7 is good-to-go-model. However, medical diagnosis models, usually AUC of 0.95 or more is considered to be good-to-go-model. We did not use accuracy to evaluate the model because the data is very imbalance. \n",
    "\n",
    "We also used smote due to data imbalance. SMOTE (Synthetic Minority Over-sampling Technique) comes in handy. You can use it to oversample the minority class. SMOTE is a type of data augmentation that synthesizes new samples from the existing ones. Furthermore, in order to deal with data inbalance we will perform stratified k fold cross validation. \n",
    "\n",
    "We will use the precision and recall together with confusion matrix to evaluate the selected model. But in order to select the model we will use only the AUC. Precision is the fraction of the correctly classified instances from the total classified instances. Recall is the fraction of the correctly classified instances from the total true positive instances. The confusion matrix provides detailed results of the classification.\n"
   ]
  },
  {
   "cell_type": "markdown",
   "metadata": {},
   "source": [
    "# Modeling  & Building Evaluation\n",
    "\n",
    "One Hot Encode Categorical Variables\n",
    "Scale numeric features using RobustScaler, why\n",
    "These features will be treated as categorical\n",
    "'admission_type_id', 'discharge_disposition_id','admission_source_id'\n",
    "Why are we are trying SmOTE\n",
    "\n",
    "Going to use AuC to decide between L1 and L2 with grid search\n",
    "\n",
    "\n",
    ">>>> Modeling Building and INterpretability\n",
    "Show the effect that has sampling on threshold\n",
    "Bo's stuff on recall and how that impacts the threshold\n",
    "Feature importance\n",
    "Desribe on final model\n",
    "\n",
    "Going to use AUC"
   ]
  },
  {
   "cell_type": "markdown",
   "metadata": {},
   "source": [
    "## Bulding the model with the pipeline using one hot encoder inside the pipeline"
   ]
  },
  {
   "cell_type": "code",
   "execution_count": 24,
   "metadata": {},
   "outputs": [
    {
     "name": "stdout",
     "output_type": "stream",
     "text": [
      "(99343, 43)\n",
      "(99343, 42)\n",
      "(99343,)\n"
     ]
    }
   ],
   "source": [
    "categorical_features = ['race', 'gender', 'max_glu_serum', 'A1Cresult', 'metformin', 'repaglinide', 'nateglinide','chlorpropamide',\n",
    "                        'glimepiride', 'acetohexamide', 'glipizide','glyburide', 'tolbutamide', 'pioglitazone', 'rosiglitazone', \n",
    "                        'acarbose','miglitol', 'troglitazone', 'tolazamide', 'insulin', 'glyburide-metformin', 'glipizide-metformin',\n",
    "                        'glimepiride-pioglitazone', 'metformin-rosiglitazone', 'metformin-pioglitazone', 'change', 'diabetesMed',\n",
    "                        'Diag1', 'Diag2','Diag3', 'age', 'admission_type_id', 'discharge_disposition_id','admission_source_id']\n",
    "\n",
    "numeric_features = ['time_in_hospital', 'num_lab_procedures','num_procedures', 'num_medications', 'number_outpatient', \n",
    "                    'number_emergency', 'number_inpatient', 'number_diagnoses']\n",
    "\n",
    "X = df_reduced[categorical_features + numeric_features]\n",
    "y = df_reduced['readmitted']\n",
    "\n",
    "# Verify shapes\n",
    "print(df_reduced.shape)\n",
    "print(X.shape)\n",
    "print(y.shape)"
   ]
  },
  {
   "cell_type": "code",
   "execution_count": 25,
   "metadata": {},
   "outputs": [
    {
     "name": "stderr",
     "output_type": "stream",
     "text": [
      "/Users/boyun/opt/anaconda3/lib/python3.8/site-packages/sklearn/linear_model/_sag.py:328: ConvergenceWarning: The max_iter was reached which means the coef_ did not converge\n",
      "  warnings.warn(\"The max_iter was reached which means \"\n"
     ]
    },
    {
     "name": "stdout",
     "output_type": "stream",
     "text": [
      "Cross-validation score: 0.644234534279225\n",
      "Test score: 0.6499155246205435\n"
     ]
    }
   ],
   "source": [
    "\n",
    "X_train, X_test, y_train, y_test = train_test_split(X,\n",
    "                                                    y,\n",
    "                                                    test_size=0.2,\n",
    "                                                    stratify=y,\n",
    "                                                    random_state=11)\n",
    "\n",
    "numeric_transformer = Pipeline(steps=[\n",
    "    ('imputer', SimpleImputer(missing_values=np.nan, strategy=\"median\")),\n",
    "    ('scaler', RobustScaler(with_centering=False))])\n",
    "\n",
    "categorical_transformer = Pipeline(steps=[\n",
    "    ('imputer', SimpleImputer(missing_values=np.nan, strategy=\"most_frequent\")),\n",
    "    ('onehot', OneHotEncoder(handle_unknown='ignore'))])\n",
    "\n",
    "preprocessor = ColumnTransformer(\n",
    "    transformers=[\n",
    "        ('num', numeric_transformer, numeric_features),\n",
    "        ('cat', categorical_transformer, categorical_features)])\n",
    "\n",
    "\n",
    "pipeline = imbpipeline(steps = [['preprocessor', preprocessor],\n",
    "                                ['smote', SMOTE(random_state=11)],\n",
    "                                ['scaler', RobustScaler(with_centering=False)],\n",
    "                                ['classifier', LogisticRegression(random_state=11,\n",
    "                                                                  max_iter=1000, n_jobs=-1)]])\n",
    "\n",
    "stratified_kfold = StratifiedKFold(n_splits=3,\n",
    "                                       shuffle=True,\n",
    "                                       random_state=11)\n",
    "\n",
    "param_grid = [{'classifier__C': [0.001, 0.01, 0.1, 1, 10, 100, 1000],\n",
    "               'classifier__penalty': ['l1'],\n",
    "               'classifier__solver': ['saga']},\n",
    "              {'classifier__C': [0.001, 0.01, 0.1, 1, 10, 100, 1000],\n",
    "               'classifier__penalty': ['l2'],\n",
    "               'classifier__solver': ['lbfgs']}\n",
    "             ]\n",
    "              \n",
    "grid_search = GridSearchCV(estimator=pipeline,\n",
    "                           param_grid=param_grid,\n",
    "                           scoring='roc_auc',\n",
    "                           cv=stratified_kfold,\n",
    "                           n_jobs=-1)\n",
    "\n",
    "grid_search.fit(X_train, y_train)\n",
    "cv_score = grid_search.best_score_\n",
    "test_score = grid_search.score(X_test, y_test)\n",
    "print(f'Cross-validation score: {cv_score}\\nTest score: {test_score}')"
   ]
  },
  {
   "cell_type": "code",
   "execution_count": 26,
   "metadata": {},
   "outputs": [
    {
     "data": {
      "text/html": [
       "<div>\n",
       "<style scoped>\n",
       "    .dataframe tbody tr th:only-of-type {\n",
       "        vertical-align: middle;\n",
       "    }\n",
       "\n",
       "    .dataframe tbody tr th {\n",
       "        vertical-align: top;\n",
       "    }\n",
       "\n",
       "    .dataframe thead th {\n",
       "        text-align: right;\n",
       "    }\n",
       "</style>\n",
       "<table border=\"1\" class=\"dataframe\">\n",
       "  <thead>\n",
       "    <tr style=\"text-align: right;\">\n",
       "      <th></th>\n",
       "      <th>classifier__C</th>\n",
       "      <th>classifier__penalty</th>\n",
       "      <th>classifier__solver</th>\n",
       "      <th>test_score</th>\n",
       "    </tr>\n",
       "  </thead>\n",
       "  <tbody>\n",
       "    <tr>\n",
       "      <th>0</th>\n",
       "      <td>0.001</td>\n",
       "      <td>l1</td>\n",
       "      <td>saga</td>\n",
       "      <td>0.638362</td>\n",
       "    </tr>\n",
       "    <tr>\n",
       "      <th>1</th>\n",
       "      <td>0.010</td>\n",
       "      <td>l1</td>\n",
       "      <td>saga</td>\n",
       "      <td>0.644235</td>\n",
       "    </tr>\n",
       "    <tr>\n",
       "      <th>2</th>\n",
       "      <td>0.100</td>\n",
       "      <td>l1</td>\n",
       "      <td>saga</td>\n",
       "      <td>0.639711</td>\n",
       "    </tr>\n",
       "    <tr>\n",
       "      <th>3</th>\n",
       "      <td>1.000</td>\n",
       "      <td>l1</td>\n",
       "      <td>saga</td>\n",
       "      <td>0.637912</td>\n",
       "    </tr>\n",
       "    <tr>\n",
       "      <th>4</th>\n",
       "      <td>10.000</td>\n",
       "      <td>l1</td>\n",
       "      <td>saga</td>\n",
       "      <td>0.637560</td>\n",
       "    </tr>\n",
       "    <tr>\n",
       "      <th>5</th>\n",
       "      <td>100.000</td>\n",
       "      <td>l1</td>\n",
       "      <td>saga</td>\n",
       "      <td>0.637525</td>\n",
       "    </tr>\n",
       "    <tr>\n",
       "      <th>6</th>\n",
       "      <td>1000.000</td>\n",
       "      <td>l1</td>\n",
       "      <td>saga</td>\n",
       "      <td>0.637522</td>\n",
       "    </tr>\n",
       "    <tr>\n",
       "      <th>7</th>\n",
       "      <td>0.001</td>\n",
       "      <td>l2</td>\n",
       "      <td>lbfgs</td>\n",
       "      <td>0.641122</td>\n",
       "    </tr>\n",
       "    <tr>\n",
       "      <th>8</th>\n",
       "      <td>0.010</td>\n",
       "      <td>l2</td>\n",
       "      <td>lbfgs</td>\n",
       "      <td>0.639794</td>\n",
       "    </tr>\n",
       "    <tr>\n",
       "      <th>9</th>\n",
       "      <td>0.100</td>\n",
       "      <td>l2</td>\n",
       "      <td>lbfgs</td>\n",
       "      <td>0.638349</td>\n",
       "    </tr>\n",
       "    <tr>\n",
       "      <th>10</th>\n",
       "      <td>1.000</td>\n",
       "      <td>l2</td>\n",
       "      <td>lbfgs</td>\n",
       "      <td>0.637503</td>\n",
       "    </tr>\n",
       "    <tr>\n",
       "      <th>11</th>\n",
       "      <td>10.000</td>\n",
       "      <td>l2</td>\n",
       "      <td>lbfgs</td>\n",
       "      <td>0.637225</td>\n",
       "    </tr>\n",
       "    <tr>\n",
       "      <th>12</th>\n",
       "      <td>100.000</td>\n",
       "      <td>l2</td>\n",
       "      <td>lbfgs</td>\n",
       "      <td>0.637242</td>\n",
       "    </tr>\n",
       "    <tr>\n",
       "      <th>13</th>\n",
       "      <td>1000.000</td>\n",
       "      <td>l2</td>\n",
       "      <td>lbfgs</td>\n",
       "      <td>0.637203</td>\n",
       "    </tr>\n",
       "  </tbody>\n",
       "</table>\n",
       "</div>"
      ],
      "text/plain": [
       "    classifier__C classifier__penalty classifier__solver  test_score\n",
       "0           0.001                  l1               saga    0.638362\n",
       "1           0.010                  l1               saga    0.644235\n",
       "2           0.100                  l1               saga    0.639711\n",
       "3           1.000                  l1               saga    0.637912\n",
       "4          10.000                  l1               saga    0.637560\n",
       "5         100.000                  l1               saga    0.637525\n",
       "6        1000.000                  l1               saga    0.637522\n",
       "7           0.001                  l2              lbfgs    0.641122\n",
       "8           0.010                  l2              lbfgs    0.639794\n",
       "9           0.100                  l2              lbfgs    0.638349\n",
       "10          1.000                  l2              lbfgs    0.637503\n",
       "11         10.000                  l2              lbfgs    0.637225\n",
       "12        100.000                  l2              lbfgs    0.637242\n",
       "13       1000.000                  l2              lbfgs    0.637203"
      ]
     },
     "execution_count": 26,
     "metadata": {},
     "output_type": "execute_result"
    }
   ],
   "source": [
    "results_LR = pd.DataFrame(grid_search.cv_results_['params'])\n",
    "results_LR['test_score'] = grid_search.cv_results_['mean_test_score']\n",
    "results_LR "
   ]
  },
  {
   "cell_type": "markdown",
   "metadata": {},
   "source": [
    "## Print the grid best estimator\n",
    "\n",
    "Explain that L1 and L2 seem to perform the same. Take a look at the important features"
   ]
  },
  {
   "cell_type": "code",
   "execution_count": 27,
   "metadata": {},
   "outputs": [
    {
     "name": "stdout",
     "output_type": "stream",
     "text": [
      "{'classifier__C': 0.01, 'classifier__penalty': 'l1', 'classifier__solver': 'saga'}\n"
     ]
    }
   ],
   "source": [
    "print(grid_search.best_params_)"
   ]
  },
  {
   "cell_type": "markdown",
   "metadata": {},
   "source": [
    "## Below we find the important features\n",
    "\n",
    "Summarize the important features"
   ]
  },
  {
   "cell_type": "code",
   "execution_count": 28,
   "metadata": {},
   "outputs": [
    {
     "data": {
      "text/html": [
       "\n",
       "    <style>\n",
       "    table.eli5-weights tr:hover {\n",
       "        filter: brightness(85%);\n",
       "    }\n",
       "</style>\n",
       "\n",
       "\n",
       "\n",
       "    \n",
       "\n",
       "    \n",
       "\n",
       "    \n",
       "\n",
       "    \n",
       "\n",
       "    \n",
       "\n",
       "    \n",
       "\n",
       "\n",
       "    \n",
       "\n",
       "    \n",
       "\n",
       "    \n",
       "\n",
       "    \n",
       "        \n",
       "\n",
       "    \n",
       "\n",
       "        \n",
       "            \n",
       "                \n",
       "                \n",
       "    \n",
       "        <p style=\"margin-bottom: 0.5em; margin-top: 0em\">\n",
       "            <b>\n",
       "    \n",
       "        y=1\n",
       "    \n",
       "</b>\n",
       "\n",
       "top features\n",
       "        </p>\n",
       "    \n",
       "    <table class=\"eli5-weights\"\n",
       "           style=\"border-collapse: collapse; border: none; margin-top: 0em; table-layout: auto; margin-bottom: 2em;\">\n",
       "        <thead>\n",
       "        <tr style=\"border: none;\">\n",
       "            \n",
       "                <th style=\"padding: 0 1em 0 0.5em; text-align: right; border: none;\" title=\"Feature weights. Note that weights do not account for feature value scales, so if feature values have different scales, features with highest weights might not be the most important.\">\n",
       "                    Weight<sup>?</sup>\n",
       "                </th>\n",
       "            \n",
       "            <th style=\"padding: 0 0.5em 0 0.5em; text-align: left; border: none;\">Feature</th>\n",
       "            \n",
       "        </tr>\n",
       "        </thead>\n",
       "        <tbody>\n",
       "        \n",
       "            <tr style=\"background-color: hsl(120, 100.00%, 80.00%); border: none;\">\n",
       "    <td style=\"padding: 0 1em 0 0.5em; text-align: right; border: none;\">\n",
       "        +1.039\n",
       "    </td>\n",
       "    <td style=\"padding: 0 0.5em 0 0.5em; text-align: left; border: none;\">\n",
       "        discharge_disposition_id_22\n",
       "    </td>\n",
       "    \n",
       "</tr>\n",
       "        \n",
       "            <tr style=\"background-color: hsl(120, 100.00%, 90.79%); border: none;\">\n",
       "    <td style=\"padding: 0 1em 0 0.5em; text-align: right; border: none;\">\n",
       "        +0.343\n",
       "    </td>\n",
       "    <td style=\"padding: 0 0.5em 0 0.5em; text-align: left; border: none;\">\n",
       "        A1Cresult_None\n",
       "    </td>\n",
       "    \n",
       "</tr>\n",
       "        \n",
       "            <tr style=\"background-color: hsl(120, 100.00%, 91.92%); border: none;\">\n",
       "    <td style=\"padding: 0 1em 0 0.5em; text-align: right; border: none;\">\n",
       "        +0.285\n",
       "    </td>\n",
       "    <td style=\"padding: 0 0.5em 0 0.5em; text-align: left; border: none;\">\n",
       "        discharge_disposition_id_5\n",
       "    </td>\n",
       "    \n",
       "</tr>\n",
       "        \n",
       "            <tr style=\"background-color: hsl(120, 100.00%, 92.08%); border: none;\">\n",
       "    <td style=\"padding: 0 1em 0 0.5em; text-align: right; border: none;\">\n",
       "        +0.277\n",
       "    </td>\n",
       "    <td style=\"padding: 0 0.5em 0 0.5em; text-align: left; border: none;\">\n",
       "        number_inpatient\n",
       "    </td>\n",
       "    \n",
       "</tr>\n",
       "        \n",
       "            <tr style=\"background-color: hsl(120, 100.00%, 93.74%); border: none;\">\n",
       "    <td style=\"padding: 0 1em 0 0.5em; text-align: right; border: none;\">\n",
       "        +0.197\n",
       "    </td>\n",
       "    <td style=\"padding: 0 0.5em 0 0.5em; text-align: left; border: none;\">\n",
       "        race_AfricanAmerican\n",
       "    </td>\n",
       "    \n",
       "</tr>\n",
       "        \n",
       "            <tr style=\"background-color: hsl(120, 100.00%, 94.32%); border: none;\">\n",
       "    <td style=\"padding: 0 1em 0 0.5em; text-align: right; border: none;\">\n",
       "        +0.172\n",
       "    </td>\n",
       "    <td style=\"padding: 0 0.5em 0 0.5em; text-align: left; border: none;\">\n",
       "        admission_source_id_1\n",
       "    </td>\n",
       "    \n",
       "</tr>\n",
       "        \n",
       "            <tr style=\"background-color: hsl(120, 100.00%, 94.35%); border: none;\">\n",
       "    <td style=\"padding: 0 1em 0 0.5em; text-align: right; border: none;\">\n",
       "        +0.171\n",
       "    </td>\n",
       "    <td style=\"padding: 0 0.5em 0 0.5em; text-align: left; border: none;\">\n",
       "        admission_source_id_7\n",
       "    </td>\n",
       "    \n",
       "</tr>\n",
       "        \n",
       "            <tr style=\"background-color: hsl(120, 100.00%, 94.47%); border: none;\">\n",
       "    <td style=\"padding: 0 1em 0 0.5em; text-align: right; border: none;\">\n",
       "        +0.166\n",
       "    </td>\n",
       "    <td style=\"padding: 0 0.5em 0 0.5em; text-align: left; border: none;\">\n",
       "        Diag2_Circulatory\n",
       "    </td>\n",
       "    \n",
       "</tr>\n",
       "        \n",
       "            <tr style=\"background-color: hsl(120, 100.00%, 94.63%); border: none;\">\n",
       "    <td style=\"padding: 0 1em 0 0.5em; text-align: right; border: none;\">\n",
       "        +0.159\n",
       "    </td>\n",
       "    <td style=\"padding: 0 0.5em 0 0.5em; text-align: left; border: none;\">\n",
       "        Diag1_Circulatory\n",
       "    </td>\n",
       "    \n",
       "</tr>\n",
       "        \n",
       "            <tr style=\"background-color: hsl(120, 100.00%, 95.02%); border: none;\">\n",
       "    <td style=\"padding: 0 1em 0 0.5em; text-align: right; border: none;\">\n",
       "        +0.143\n",
       "    </td>\n",
       "    <td style=\"padding: 0 0.5em 0 0.5em; text-align: left; border: none;\">\n",
       "        number_diagnoses\n",
       "    </td>\n",
       "    \n",
       "</tr>\n",
       "        \n",
       "            <tr style=\"background-color: hsl(120, 100.00%, 95.48%); border: none;\">\n",
       "    <td style=\"padding: 0 1em 0 0.5em; text-align: right; border: none;\">\n",
       "        +0.124\n",
       "    </td>\n",
       "    <td style=\"padding: 0 0.5em 0 0.5em; text-align: left; border: none;\">\n",
       "        Diag2_Diabetes\n",
       "    </td>\n",
       "    \n",
       "</tr>\n",
       "        \n",
       "            <tr style=\"background-color: hsl(120, 100.00%, 96.12%); border: none;\">\n",
       "    <td style=\"padding: 0 1em 0 0.5em; text-align: right; border: none;\">\n",
       "        +0.100\n",
       "    </td>\n",
       "    <td style=\"padding: 0 0.5em 0 0.5em; text-align: left; border: none;\">\n",
       "        admission_type_id_1\n",
       "    </td>\n",
       "    \n",
       "</tr>\n",
       "        \n",
       "            <tr style=\"background-color: hsl(120, 100.00%, 96.69%); border: none;\">\n",
       "    <td style=\"padding: 0 1em 0 0.5em; text-align: right; border: none;\">\n",
       "        +0.080\n",
       "    </td>\n",
       "    <td style=\"padding: 0 0.5em 0 0.5em; text-align: left; border: none;\">\n",
       "        insulin_Down\n",
       "    </td>\n",
       "    \n",
       "</tr>\n",
       "        \n",
       "            <tr style=\"background-color: hsl(120, 100.00%, 96.86%); border: none;\">\n",
       "    <td style=\"padding: 0 1em 0 0.5em; text-align: right; border: none;\">\n",
       "        +0.074\n",
       "    </td>\n",
       "    <td style=\"padding: 0 0.5em 0 0.5em; text-align: left; border: none;\">\n",
       "        race_Caucasian\n",
       "    </td>\n",
       "    \n",
       "</tr>\n",
       "        \n",
       "            <tr style=\"background-color: hsl(120, 100.00%, 97.37%); border: none;\">\n",
       "    <td style=\"padding: 0 1em 0 0.5em; text-align: right; border: none;\">\n",
       "        +0.057\n",
       "    </td>\n",
       "    <td style=\"padding: 0 0.5em 0 0.5em; text-align: left; border: none;\">\n",
       "        num_lab_procedures\n",
       "    </td>\n",
       "    \n",
       "</tr>\n",
       "        \n",
       "            <tr style=\"background-color: hsl(120, 100.00%, 97.44%); border: none;\">\n",
       "    <td style=\"padding: 0 1em 0 0.5em; text-align: right; border: none;\">\n",
       "        +0.055\n",
       "    </td>\n",
       "    <td style=\"padding: 0 0.5em 0 0.5em; text-align: left; border: none;\">\n",
       "        discharge_disposition_id_3\n",
       "    </td>\n",
       "    \n",
       "</tr>\n",
       "        \n",
       "            <tr style=\"background-color: hsl(120, 100.00%, 98.01%); border: none;\">\n",
       "    <td style=\"padding: 0 1em 0 0.5em; text-align: right; border: none;\">\n",
       "        +0.038\n",
       "    </td>\n",
       "    <td style=\"padding: 0 0.5em 0 0.5em; text-align: left; border: none;\">\n",
       "        num_medications\n",
       "    </td>\n",
       "    \n",
       "</tr>\n",
       "        \n",
       "            <tr style=\"background-color: hsl(120, 100.00%, 98.19%); border: none;\">\n",
       "    <td style=\"padding: 0 1em 0 0.5em; text-align: right; border: none;\">\n",
       "        +0.034\n",
       "    </td>\n",
       "    <td style=\"padding: 0 0.5em 0 0.5em; text-align: left; border: none;\">\n",
       "        Diag3_Circulatory\n",
       "    </td>\n",
       "    \n",
       "</tr>\n",
       "        \n",
       "        \n",
       "            <tr style=\"background-color: hsl(120, 100.00%, 98.19%); border: none;\">\n",
       "                <td colspan=\"2\" style=\"padding: 0 0.5em 0 0.5em; text-align: center; border: none; white-space: nowrap;\">\n",
       "                    <i>&hellip; 6 more positive &hellip;</i>\n",
       "                </td>\n",
       "            </tr>\n",
       "        \n",
       "\n",
       "        \n",
       "            <tr style=\"background-color: hsl(0, 100.00%, 98.42%); border: none;\">\n",
       "                <td colspan=\"2\" style=\"padding: 0 0.5em 0 0.5em; text-align: center; border: none; white-space: nowrap;\">\n",
       "                    <i>&hellip; 6 more negative &hellip;</i>\n",
       "                </td>\n",
       "            </tr>\n",
       "        \n",
       "        \n",
       "            <tr style=\"background-color: hsl(0, 100.00%, 98.42%); border: none;\">\n",
       "    <td style=\"padding: 0 1em 0 0.5em; text-align: right; border: none;\">\n",
       "        -0.028\n",
       "    </td>\n",
       "    <td style=\"padding: 0 0.5em 0 0.5em; text-align: left; border: none;\">\n",
       "        glipizide_Steady\n",
       "    </td>\n",
       "    \n",
       "</tr>\n",
       "        \n",
       "            <tr style=\"background-color: hsl(0, 100.00%, 98.29%); border: none;\">\n",
       "    <td style=\"padding: 0 1em 0 0.5em; text-align: right; border: none;\">\n",
       "        -0.031\n",
       "    </td>\n",
       "    <td style=\"padding: 0 0.5em 0 0.5em; text-align: left; border: none;\">\n",
       "        discharge_disposition_id_25\n",
       "    </td>\n",
       "    \n",
       "</tr>\n",
       "        \n",
       "            <tr style=\"background-color: hsl(0, 100.00%, 98.22%); border: none;\">\n",
       "    <td style=\"padding: 0 1em 0 0.5em; text-align: right; border: none;\">\n",
       "        -0.033\n",
       "    </td>\n",
       "    <td style=\"padding: 0 0.5em 0 0.5em; text-align: left; border: none;\">\n",
       "        gender_Female\n",
       "    </td>\n",
       "    \n",
       "</tr>\n",
       "        \n",
       "            <tr style=\"background-color: hsl(0, 100.00%, 97.90%); border: none;\">\n",
       "    <td style=\"padding: 0 1em 0 0.5em; text-align: right; border: none;\">\n",
       "        -0.042\n",
       "    </td>\n",
       "    <td style=\"padding: 0 0.5em 0 0.5em; text-align: left; border: none;\">\n",
       "        troglitazone_No\n",
       "    </td>\n",
       "    \n",
       "</tr>\n",
       "        \n",
       "            <tr style=\"background-color: hsl(0, 100.00%, 97.82%); border: none;\">\n",
       "    <td style=\"padding: 0 1em 0 0.5em; text-align: right; border: none;\">\n",
       "        -0.044\n",
       "    </td>\n",
       "    <td style=\"padding: 0 0.5em 0 0.5em; text-align: left; border: none;\">\n",
       "        number_outpatient\n",
       "    </td>\n",
       "    \n",
       "</tr>\n",
       "        \n",
       "            <tr style=\"background-color: hsl(0, 100.00%, 97.67%); border: none;\">\n",
       "    <td style=\"padding: 0 1em 0 0.5em; text-align: right; border: none;\">\n",
       "        -0.048\n",
       "    </td>\n",
       "    <td style=\"padding: 0 0.5em 0 0.5em; text-align: left; border: none;\">\n",
       "        admission_type_id_6\n",
       "    </td>\n",
       "    \n",
       "</tr>\n",
       "        \n",
       "            <tr style=\"background-color: hsl(0, 100.00%, 97.65%); border: none;\">\n",
       "    <td style=\"padding: 0 1em 0 0.5em; text-align: right; border: none;\">\n",
       "        -0.049\n",
       "    </td>\n",
       "    <td style=\"padding: 0 0.5em 0 0.5em; text-align: left; border: none;\">\n",
       "        Diag1_Musculoskeletal\n",
       "    </td>\n",
       "    \n",
       "</tr>\n",
       "        \n",
       "            <tr style=\"background-color: hsl(0, 100.00%, 97.25%); border: none;\">\n",
       "    <td style=\"padding: 0 1em 0 0.5em; text-align: right; border: none;\">\n",
       "        -0.061\n",
       "    </td>\n",
       "    <td style=\"padding: 0 0.5em 0 0.5em; text-align: left; border: none;\">\n",
       "        A1Cresult_Norm\n",
       "    </td>\n",
       "    \n",
       "</tr>\n",
       "        \n",
       "            <tr style=\"background-color: hsl(0, 100.00%, 97.04%); border: none;\">\n",
       "    <td style=\"padding: 0 1em 0 0.5em; text-align: right; border: none;\">\n",
       "        -0.068\n",
       "    </td>\n",
       "    <td style=\"padding: 0 0.5em 0 0.5em; text-align: left; border: none;\">\n",
       "        metformin-rosiglitazone_No\n",
       "    </td>\n",
       "    \n",
       "</tr>\n",
       "        \n",
       "            <tr style=\"background-color: hsl(0, 100.00%, 96.72%); border: none;\">\n",
       "    <td style=\"padding: 0 1em 0 0.5em; text-align: right; border: none;\">\n",
       "        -0.079\n",
       "    </td>\n",
       "    <td style=\"padding: 0 0.5em 0 0.5em; text-align: left; border: none;\">\n",
       "        num_procedures\n",
       "    </td>\n",
       "    \n",
       "</tr>\n",
       "        \n",
       "            <tr style=\"background-color: hsl(0, 100.00%, 96.41%); border: none;\">\n",
       "    <td style=\"padding: 0 1em 0 0.5em; text-align: right; border: none;\">\n",
       "        -0.089\n",
       "    </td>\n",
       "    <td style=\"padding: 0 0.5em 0 0.5em; text-align: left; border: none;\">\n",
       "        max_glu_serum_None\n",
       "    </td>\n",
       "    \n",
       "</tr>\n",
       "        \n",
       "            <tr style=\"background-color: hsl(0, 100.00%, 96.39%); border: none;\">\n",
       "    <td style=\"padding: 0 1em 0 0.5em; text-align: right; border: none;\">\n",
       "        -0.090\n",
       "    </td>\n",
       "    <td style=\"padding: 0 0.5em 0 0.5em; text-align: left; border: none;\">\n",
       "        diabetesMed_No\n",
       "    </td>\n",
       "    \n",
       "</tr>\n",
       "        \n",
       "            <tr style=\"background-color: hsl(0, 100.00%, 96.24%); border: none;\">\n",
       "    <td style=\"padding: 0 1em 0 0.5em; text-align: right; border: none;\">\n",
       "        -0.095\n",
       "    </td>\n",
       "    <td style=\"padding: 0 0.5em 0 0.5em; text-align: left; border: none;\">\n",
       "        Diag3_Other\n",
       "    </td>\n",
       "    \n",
       "</tr>\n",
       "        \n",
       "            <tr style=\"background-color: hsl(0, 100.00%, 96.22%); border: none;\">\n",
       "    <td style=\"padding: 0 1em 0 0.5em; text-align: right; border: none;\">\n",
       "        -0.096\n",
       "    </td>\n",
       "    <td style=\"padding: 0 0.5em 0 0.5em; text-align: left; border: none;\">\n",
       "        metformin_Steady\n",
       "    </td>\n",
       "    \n",
       "</tr>\n",
       "        \n",
       "            <tr style=\"background-color: hsl(0, 100.00%, 96.10%); border: none;\">\n",
       "    <td style=\"padding: 0 1em 0 0.5em; text-align: right; border: none;\">\n",
       "        -0.101\n",
       "    </td>\n",
       "    <td style=\"padding: 0 0.5em 0 0.5em; text-align: left; border: none;\">\n",
       "        Diag3_Musculoskeletal\n",
       "    </td>\n",
       "    \n",
       "</tr>\n",
       "        \n",
       "            <tr style=\"background-color: hsl(0, 100.00%, 96.10%); border: none;\">\n",
       "    <td style=\"padding: 0 1em 0 0.5em; text-align: right; border: none;\">\n",
       "        -0.101\n",
       "    </td>\n",
       "    <td style=\"padding: 0 0.5em 0 0.5em; text-align: left; border: none;\">\n",
       "        age_Midage\n",
       "    </td>\n",
       "    \n",
       "</tr>\n",
       "        \n",
       "            <tr style=\"background-color: hsl(0, 100.00%, 95.81%); border: none;\">\n",
       "    <td style=\"padding: 0 1em 0 0.5em; text-align: right; border: none;\">\n",
       "        -0.111\n",
       "    </td>\n",
       "    <td style=\"padding: 0 0.5em 0 0.5em; text-align: left; border: none;\">\n",
       "        change_Ch\n",
       "    </td>\n",
       "    \n",
       "</tr>\n",
       "        \n",
       "            <tr style=\"background-color: hsl(0, 100.00%, 95.44%); border: none;\">\n",
       "    <td style=\"padding: 0 1em 0 0.5em; text-align: right; border: none;\">\n",
       "        -0.126\n",
       "    </td>\n",
       "    <td style=\"padding: 0 0.5em 0 0.5em; text-align: left; border: none;\">\n",
       "        Diag1_Respiratory\n",
       "    </td>\n",
       "    \n",
       "</tr>\n",
       "        \n",
       "            <tr style=\"background-color: hsl(0, 100.00%, 95.39%); border: none;\">\n",
       "    <td style=\"padding: 0 1em 0 0.5em; text-align: right; border: none;\">\n",
       "        -0.128\n",
       "    </td>\n",
       "    <td style=\"padding: 0 0.5em 0 0.5em; text-align: left; border: none;\">\n",
       "        discharge_disposition_id_23\n",
       "    </td>\n",
       "    \n",
       "</tr>\n",
       "        \n",
       "            <tr style=\"background-color: hsl(0, 100.00%, 95.16%); border: none;\">\n",
       "    <td style=\"padding: 0 1em 0 0.5em; text-align: right; border: none;\">\n",
       "        -0.137\n",
       "    </td>\n",
       "    <td style=\"padding: 0 0.5em 0 0.5em; text-align: left; border: none;\">\n",
       "        insulin_Steady\n",
       "    </td>\n",
       "    \n",
       "</tr>\n",
       "        \n",
       "            <tr style=\"background-color: hsl(0, 100.00%, 94.83%); border: none;\">\n",
       "    <td style=\"padding: 0 1em 0 0.5em; text-align: right; border: none;\">\n",
       "        -0.150\n",
       "    </td>\n",
       "    <td style=\"padding: 0 0.5em 0 0.5em; text-align: left; border: none;\">\n",
       "        acetohexamide_No\n",
       "    </td>\n",
       "    \n",
       "</tr>\n",
       "        \n",
       "            <tr style=\"background-color: hsl(0, 100.00%, 94.63%); border: none;\">\n",
       "    <td style=\"padding: 0 1em 0 0.5em; text-align: right; border: none;\">\n",
       "        -0.159\n",
       "    </td>\n",
       "    <td style=\"padding: 0 0.5em 0 0.5em; text-align: left; border: none;\">\n",
       "        discharge_disposition_id_6\n",
       "    </td>\n",
       "    \n",
       "</tr>\n",
       "        \n",
       "            <tr style=\"background-color: hsl(0, 100.00%, 94.50%); border: none;\">\n",
       "    <td style=\"padding: 0 1em 0 0.5em; text-align: right; border: none;\">\n",
       "        -0.164\n",
       "    </td>\n",
       "    <td style=\"padding: 0 0.5em 0 0.5em; text-align: left; border: none;\">\n",
       "        rosiglitazone_Steady\n",
       "    </td>\n",
       "    \n",
       "</tr>\n",
       "        \n",
       "            <tr style=\"background-color: hsl(0, 100.00%, 94.01%); border: none;\">\n",
       "    <td style=\"padding: 0 1em 0 0.5em; text-align: right; border: none;\">\n",
       "        -0.186\n",
       "    </td>\n",
       "    <td style=\"padding: 0 0.5em 0 0.5em; text-align: left; border: none;\">\n",
       "        metformin_Up\n",
       "    </td>\n",
       "    \n",
       "</tr>\n",
       "        \n",
       "            <tr style=\"background-color: hsl(0, 100.00%, 94.01%); border: none;\">\n",
       "    <td style=\"padding: 0 1em 0 0.5em; text-align: right; border: none;\">\n",
       "        -0.186\n",
       "    </td>\n",
       "    <td style=\"padding: 0 0.5em 0 0.5em; text-align: left; border: none;\">\n",
       "        age_Young\n",
       "    </td>\n",
       "    \n",
       "</tr>\n",
       "        \n",
       "            <tr style=\"background-color: hsl(0, 100.00%, 93.79%); border: none;\">\n",
       "    <td style=\"padding: 0 1em 0 0.5em; text-align: right; border: none;\">\n",
       "        -0.196\n",
       "    </td>\n",
       "    <td style=\"padding: 0 0.5em 0 0.5em; text-align: left; border: none;\">\n",
       "        glimepiride-pioglitazone_No\n",
       "    </td>\n",
       "    \n",
       "</tr>\n",
       "        \n",
       "            <tr style=\"background-color: hsl(0, 100.00%, 92.89%); border: none;\">\n",
       "    <td style=\"padding: 0 1em 0 0.5em; text-align: right; border: none;\">\n",
       "        -0.237\n",
       "    </td>\n",
       "    <td style=\"padding: 0 0.5em 0 0.5em; text-align: left; border: none;\">\n",
       "        pioglitazone_Steady\n",
       "    </td>\n",
       "    \n",
       "</tr>\n",
       "        \n",
       "            <tr style=\"background-color: hsl(0, 100.00%, 92.89%); border: none;\">\n",
       "    <td style=\"padding: 0 1em 0 0.5em; text-align: right; border: none;\">\n",
       "        -0.237\n",
       "    </td>\n",
       "    <td style=\"padding: 0 0.5em 0 0.5em; text-align: left; border: none;\">\n",
       "        glimepiride_Steady\n",
       "    </td>\n",
       "    \n",
       "</tr>\n",
       "        \n",
       "            <tr style=\"background-color: hsl(0, 100.00%, 92.56%); border: none;\">\n",
       "    <td style=\"padding: 0 1em 0 0.5em; text-align: right; border: none;\">\n",
       "        -0.253\n",
       "    </td>\n",
       "    <td style=\"padding: 0 0.5em 0 0.5em; text-align: left; border: none;\">\n",
       "        discharge_disposition_id_1\n",
       "    </td>\n",
       "    \n",
       "</tr>\n",
       "        \n",
       "            <tr style=\"background-color: hsl(0, 100.00%, 92.53%); border: none;\">\n",
       "    <td style=\"padding: 0 1em 0 0.5em; text-align: right; border: none;\">\n",
       "        -0.255\n",
       "    </td>\n",
       "    <td style=\"padding: 0 0.5em 0 0.5em; text-align: left; border: none;\">\n",
       "        metformin-pioglitazone_No\n",
       "    </td>\n",
       "    \n",
       "</tr>\n",
       "        \n",
       "            <tr style=\"background-color: hsl(0, 100.00%, 91.75%); border: none;\">\n",
       "    <td style=\"padding: 0 1em 0 0.5em; text-align: right; border: none;\">\n",
       "        -0.293\n",
       "    </td>\n",
       "    <td style=\"padding: 0 0.5em 0 0.5em; text-align: left; border: none;\">\n",
       "        insulin_No\n",
       "    </td>\n",
       "    \n",
       "</tr>\n",
       "        \n",
       "            <tr style=\"background-color: hsl(0, 100.00%, 90.11%); border: none;\">\n",
       "    <td style=\"padding: 0 1em 0 0.5em; text-align: right; border: none;\">\n",
       "        -0.380\n",
       "    </td>\n",
       "    <td style=\"padding: 0 0.5em 0 0.5em; text-align: left; border: none;\">\n",
       "        &lt;BIAS&gt;\n",
       "    </td>\n",
       "    \n",
       "</tr>\n",
       "        \n",
       "\n",
       "        </tbody>\n",
       "    </table>\n",
       "\n",
       "            \n",
       "        \n",
       "\n",
       "        \n",
       "\n",
       "\n",
       "\n",
       "    \n",
       "\n",
       "    \n",
       "\n",
       "    \n",
       "\n",
       "    \n",
       "\n",
       "\n",
       "    \n",
       "\n",
       "    \n",
       "\n",
       "    \n",
       "\n",
       "    \n",
       "\n",
       "    \n",
       "\n",
       "    \n",
       "\n",
       "\n",
       "    \n",
       "\n",
       "    \n",
       "\n",
       "    \n",
       "\n",
       "    \n",
       "\n",
       "    \n",
       "\n",
       "    \n",
       "\n",
       "\n",
       "\n"
      ],
      "text/plain": [
       "Explanation(estimator=\"LogisticRegression(C=0.01, max_iter=1000, n_jobs=-1, penalty='l1',\\n                   random_state=11, solver='saga')\", description=\"\\nFeatures with largest coefficients.\\nCaveats:\\n1. Be careful with features which are not\\n   independent - weights don't show their importance.\\n2. If scale of input features is different then scale of coefficients\\n   will also be different, making direct comparison between coefficient values\\n   incorrect.\\n3. Depending on regularization, rare features sometimes may have high\\n   coefficients; this doesn't mean they contribute much to the\\n   classification result for most examples.\\n\", error=None, method='linear model', is_regression=False, targets=[TargetExplanation(target=1, feature_weights=FeatureWeights(pos=[FeatureWeight(feature='discharge_disposition_id_22', weight=1.0390709260243987, std=None, value=None), FeatureWeight(feature='A1Cresult_None', weight=0.3432960247202597, std=None, value=None), FeatureWeight(feature='discharge_disposition_id_5', weight=0.2846575771492642, std=None, value=None), FeatureWeight(feature='number_inpatient', weight=0.27668084370644563, std=None, value=None), FeatureWeight(feature='race_AfricanAmerican', weight=0.19749412051399415, std=None, value=None), FeatureWeight(feature='admission_source_id_1', weight=0.17196679045080848, std=None, value=None), FeatureWeight(feature='admission_source_id_7', weight=0.17064206167866314, std=None, value=None), FeatureWeight(feature='Diag2_Circulatory', weight=0.1657110190878524, std=None, value=None), FeatureWeight(feature='Diag1_Circulatory', weight=0.1586118483173955, std=None, value=None), FeatureWeight(feature='number_diagnoses', weight=0.14262969636280004, std=None, value=None), FeatureWeight(feature='Diag2_Diabetes', weight=0.12433970101739354, std=None, value=None), FeatureWeight(feature='admission_type_id_1', weight=0.09971497005418553, std=None, value=None), FeatureWeight(feature='insulin_Down', weight=0.0796992777114505, std=None, value=None), FeatureWeight(feature='race_Caucasian', weight=0.07380774442572267, std=None, value=None), FeatureWeight(feature='num_lab_procedures', weight=0.057394077734397544, std=None, value=None), FeatureWeight(feature='discharge_disposition_id_3', weight=0.055190391831018516, std=None, value=None), FeatureWeight(feature='num_medications', weight=0.03844943550062101, std=None, value=None), FeatureWeight(feature='Diag3_Circulatory', weight=0.03368311636727879, std=None, value=None)], neg=[FeatureWeight(feature='<BIAS>', weight=-0.3800919873000607, std=None, value=None), FeatureWeight(feature='insulin_No', weight=-0.2932145320709634, std=None, value=None), FeatureWeight(feature='metformin-pioglitazone_No', weight=-0.25466500213353244, std=None, value=None), FeatureWeight(feature='discharge_disposition_id_1', weight=-0.2529715836942795, std=None, value=None), FeatureWeight(feature='glimepiride_Steady', weight=-0.23718167771204907, std=None, value=None), FeatureWeight(feature='pioglitazone_Steady', weight=-0.23702986376403345, std=None, value=None), FeatureWeight(feature='glimepiride-pioglitazone_No', weight=-0.19552476848126432, std=None, value=None), FeatureWeight(feature='age_Young', weight=-0.18570080109156517, std=None, value=None), FeatureWeight(feature='metformin_Up', weight=-0.1855650119490151, std=None, value=None), FeatureWeight(feature='rosiglitazone_Steady', weight=-0.16422831944012267, std=None, value=None), FeatureWeight(feature='discharge_disposition_id_6', weight=-0.1585941181768537, std=None, value=None), FeatureWeight(feature='acetohexamide_No', weight=-0.1503118098232945, std=None, value=None), FeatureWeight(feature='insulin_Steady', weight=-0.1369646990405553, std=None, value=None), FeatureWeight(feature='discharge_disposition_id_23', weight=-0.12780314727820663, std=None, value=None), FeatureWeight(feature='Diag1_Respiratory', weight=-0.12587680643490495, std=None, value=None), FeatureWeight(feature='change_Ch', weight=-0.11137544100516149, std=None, value=None), FeatureWeight(feature='age_Midage', weight=-0.1006929112240316, std=None, value=None), FeatureWeight(feature='Diag3_Musculoskeletal', weight=-0.10060152873893652, std=None, value=None), FeatureWeight(feature='metformin_Steady', weight=-0.09601814500164796, std=None, value=None), FeatureWeight(feature='Diag3_Other', weight=-0.09540292515319138, std=None, value=None), FeatureWeight(feature='diabetesMed_No', weight=-0.08991746833482495, std=None, value=None), FeatureWeight(feature='max_glu_serum_None', weight=-0.08940155847828819, std=None, value=None), FeatureWeight(feature='num_procedures', weight=-0.07863795047949593, std=None, value=None), FeatureWeight(feature='metformin-rosiglitazone_No', weight=-0.06781148573863416, std=None, value=None), FeatureWeight(feature='A1Cresult_Norm', weight=-0.06107958104336212, std=None, value=None), FeatureWeight(feature='Diag1_Musculoskeletal', weight=-0.048823542763819686, std=None, value=None), FeatureWeight(feature='admission_type_id_6', weight=-0.048099824173989225, std=None, value=None), FeatureWeight(feature='number_outpatient', weight=-0.04374686968609154, std=None, value=None), FeatureWeight(feature='troglitazone_No', weight=-0.0415385430741459, std=None, value=None), FeatureWeight(feature='gender_Female', weight=-0.03271668066827064, std=None, value=None), FeatureWeight(feature='discharge_disposition_id_25', weight=-0.0310880227916539, std=None, value=None), FeatureWeight(feature='glipizide_Steady', weight=-0.02754393841683543, std=None, value=None)], pos_remaining=6, neg_remaining=6), proba=None, score=None, weighted_spans=None, heatmap=None)], feature_importances=None, decision_tree=None, highlight_spaces=None, transition_features=None, image=None)"
      ]
     },
     "execution_count": 28,
     "metadata": {},
     "output_type": "execute_result"
    }
   ],
   "source": [
    "import eli5\n",
    "\n",
    "onehot_columns = list(grid_search.best_estimator_.named_steps['preprocessor'].named_transformers_['cat'].named_steps['onehot'].get_feature_names(input_features=categorical_features))\n",
    "numeric_features_list = list(numeric_features)\n",
    "numeric_features_list.extend(onehot_columns)\n",
    "\n",
    "eli5.explain_weights(grid_search.best_estimator_.named_steps['classifier'], top=50, feature_names=numeric_features_list)"
   ]
  },
  {
   "cell_type": "markdown",
   "metadata": {},
   "source": [
    "## Model Evaluation using precision and recall Plot"
   ]
  },
  {
   "cell_type": "markdown",
   "metadata": {},
   "source": [
    "For a medical case study where we have a heavily imbalanced dataset with a goal to predict the miniority class, we would like to decrease false negatives at the expense of increasing false positives. In case of false negatives, let’s say we have a patient that is predicted to be not readmitted within 30 days, but the patient actually has to come back within 30 days, the patient now risk of missing important treatments within reasonable time window. Whereas in case of false positives, those patients predicted to be readmitted within 30 days but actually don’t have, was not done any harm to their body. This means we would like to have a __very high recall and wiling to compromise on precision__. \n",
    "\n",
    "One way to improve the recall while maintaiing the precision for an imbalanced data is to use oversampling technique. As we see in the Precision-Recall plots below, there is a significant improvement in both precision and recall when we oversampled and tried balancing the data using SMOTE. The increased threshold also indicates that the classes are much more balanced. This means improving the classification rate of the minority class (patients who need to be readmitted within 30 days) and better identifying those who need proper treatments based on the prediction. \n",
    "\n",
    "We, as data scientists, however, should be cautious when using the SMOTE method. When using a resampling method, we are showing the wrong proportions of the two classes to the classifier during the training. Several factors such as new breakthroughs in medical technology and changes in people’s diet can lead to changes in the unseen data coming from the future, especially in the proportions of the two prediction classes. The classifier can be learned on a regular basis to accommodate these changes so that it does not lose the information of the true class proportions when resampling. "
   ]
  },
  {
   "cell_type": "markdown",
   "metadata": {},
   "source": [
    "##### Model with No SMOTE"
   ]
  },
  {
   "attachments": {
    "Screen%20Shot%202021-09-20%20at%203.42.51%20PM.png": {
     "image/png": "[encoded data removed]"
    }
   },
   "cell_type": "markdown",
   "metadata": {},
   "source": [
    "![Screen%20Shot%202021-09-20%20at%203.42.51%20PM.png](attachment:Screen%20Shot%202021-09-20%20at%203.42.51%20PM.png)"
   ]
  },
  {
   "cell_type": "markdown",
   "metadata": {},
   "source": [
    "#### Model with SMOTE to address imbalance"
   ]
  },
  {
   "cell_type": "code",
   "execution_count": 30,
   "metadata": {},
   "outputs": [
    {
     "data": {
      "text/plain": [
       "(0.0, 1.0)"
      ]
     },
     "execution_count": 30,
     "metadata": {},
     "output_type": "execute_result"
    },
    {
     "data": {
      "image/png": "[encoded data removed]",
      "text/plain": [
       "<Figure size 432x288 with 1 Axes>"
      ]
     },
     "metadata": {
      "needs_background": "light"
     },
     "output_type": "display_data"
    }
   ],
   "source": [
    "from sklearn.metrics import precision_recall_curve\n",
    "probs_y = grid_search.predict_proba(X_test)\n",
    "precision, recall, thresholds = precision_recall_curve(y_test, probs_y[:,1]) \n",
    "\n",
    "plt.title(\"Precision-Recall vs Threshold Chart\")\n",
    "plt.plot(thresholds, precision[: -1], \"b--\", label=\"Precision\")\n",
    "plt.plot(thresholds, recall[: -1], \"r--\", label=\"Recall\")\n",
    "plt.ylabel(\"Precision, Recall\")\n",
    "plt.xlabel(\"Threshold\")\n",
    "plt.legend(loc=\"lower left\")\n",
    "plt.ylim([0,1])\n"
   ]
  },
  {
   "cell_type": "markdown",
   "metadata": {},
   "source": [
    "# Model Interpretability & Explainability"
   ]
  },
  {
   "cell_type": "markdown",
   "metadata": {},
   "source": [
    "## Plot confusion matrix"
   ]
  },
  {
   "cell_type": "code",
   "execution_count": 22,
   "metadata": {},
   "outputs": [
    {
     "name": "stdout",
     "output_type": "stream",
     "text": [
      "Confusion matrix, without normalization\n",
      "[[11965  5641]\n",
      " [ 1052  1211]]\n",
      "Normalized confusion matrix\n",
      "[[0.68 0.32]\n",
      " [0.46 0.54]]\n"
     ]
    },
    {
     "data": {
      "image/png": "[encoded data removed]",
      "text/plain": [
       "<Figure size 432x288 with 2 Axes>"
      ]
     },
     "metadata": {
      "needs_background": "light"
     },
     "output_type": "display_data"
    },
    {
     "data": {
      "image/png": "[encoded data removed]",
      "text/plain": [
       "<Figure size 432x288 with 2 Axes>"
      ]
     },
     "metadata": {
      "needs_background": "light"
     },
     "output_type": "display_data"
    }
   ],
   "source": [
    "\n",
    "class_names = [0,1]\n",
    "\n",
    "classifier = grid_search\n",
    "\n",
    "np.set_printoptions(precision=2)\n",
    "\n",
    "# Plot non-normalized confusion matrix\n",
    "titles_options = [(\"Confusion matrix, without normalization\", None),\n",
    "                  (\"Normalized confusion matrix\", 'true')]\n",
    "for title, normalize in titles_options:\n",
    "    disp = plot_confusion_matrix(classifier, X_test, y_test,\n",
    "                                 display_labels=class_names,\n",
    "                                 cmap=plt.cm.Blues,\n",
    "                                 normalize=normalize)\n",
    "    disp.ax_.set_title(title)\n",
    "\n",
    "    print(title)\n",
    "    print(disp.confusion_matrix)\n",
    "\n",
    "plt.show()"
   ]
  },
  {
   "cell_type": "markdown",
   "metadata": {},
   "source": [
    "## Plot ROC"
   ]
  },
  {
   "cell_type": "code",
   "execution_count": 23,
   "metadata": {},
   "outputs": [
    {
     "data": {
      "text/plain": [
       "<sklearn.metrics._plot.roc_curve.RocCurveDisplay at 0x204e6db4430>"
      ]
     },
     "execution_count": 23,
     "metadata": {},
     "output_type": "execute_result"
    },
    {
     "data": {
      "image/png": "[encoded data removed]",
      "text/plain": [
       "<Figure size 432x288 with 1 Axes>"
      ]
     },
     "metadata": {
      "needs_background": "light"
     },
     "output_type": "display_data"
    }
   ],
   "source": [
    "mt.plot_roc_curve(grid_search.best_estimator_, X_test, y_test)"
   ]
  },
  {
   "cell_type": "code",
   "execution_count": 24,
   "metadata": {},
   "outputs": [
    {
     "name": "stdout",
     "output_type": "stream",
     "text": [
      "[[0.65 0.35]\n",
      " [0.28 0.72]\n",
      " [0.68 0.32]\n",
      " ...\n",
      " [0.74 0.26]\n",
      " [0.63 0.37]\n",
      " [0.62 0.38]]\n"
     ]
    },
    {
     "data": {
      "text/plain": [
       "array([0.35, 0.72, 0.32, ..., 0.26, 0.37, 0.38])"
      ]
     },
     "execution_count": 24,
     "metadata": {},
     "output_type": "execute_result"
    }
   ],
   "source": [
    "probs_y = grid_search.predict_proba(X_test)\n",
    "print(probs_y)\n",
    "\n",
    "probs_y[:,1]"
   ]
  },
  {
   "cell_type": "markdown",
   "metadata": {},
   "source": [
    "## Practical Application example"
   ]
  },
  {
   "cell_type": "markdown",
   "metadata": {},
   "source": [
    "Adjusting the threshold to find the optimal false negatives and false positives depending on the business needs and resources is crucial. Here is a real world scenario where we can delve into the importance of adjusting the threshold.\n",
    "\n",
    "##### Q1. What if we had a business goal to ensure 95% of patients who are readmitted within 30 days are classifed as patients who are to be readmitted within 30 days?\n",
    "\n",
    "This means we want to have __95% recall__. Now let's see what that means in terms of changes in threshold and precision. \n",
    "So both the threshold and the precision turns out to be relatively low when the recall is 0.95. "
   ]
  },
  {
   "cell_type": "code",
   "execution_count": 26,
   "metadata": {},
   "outputs": [
    {
     "name": "stdout",
     "output_type": "stream",
     "text": [
      "Threshold: 0.31311875774196135\n",
      "Precision: 0.12091558405039086\n",
      "Recall: 0.9500662836942112\n"
     ]
    }
   ],
   "source": [
    "readmit95_ind = np.argmin(recall >= 0.95)-1\n",
    "readmit95_thresh = thresholds[readmit95_ind]\n",
    "readmit95_precision = precision[readmit95_ind]\n",
    "readmit95_recall = recall[readmit95_ind]\n",
    "\n",
    "print(\"Threshold:\", readmit95_thresh)\n",
    "print(\"Precision:\", readmit95_precision)\n",
    "print(\"Recall:\", readmit95_recall)"
   ]
  },
  {
   "cell_type": "markdown",
   "metadata": {},
   "source": [
    "Now we can tie these findings to the question of: \n",
    "##### Q2. How much resources (time and money) can the pathology department save utilizing this information? \n",
    "\n",
    "- We want to find out how much sampling is required to ensure certain precision and recall for this question. \n",
    "- The key is to keep the threshold low to not miss any patients who have to be readmitted within 30days. In this case above, we have about 88%(1-precision) of patients we predict to be readmitted within 30 days actually get readmitted within 30 days. \n",
    "\n",
    "##### Q3. With this threshold, how much fraction of the sample did the model identify as not having to be readmitted within 30 days?\n",
    "- From the result below, there is roughly 65% of the data that are below the threshold and that means those 65% of the data doesn't need to be processed to be able to reach the business goal of ensuring 95% of patients who are admitted within 30 days are classified as patients who are to be readmitted within 30 days. \n",
    "\n",
    "- So sparing 65% of the sampling work at the pathology department could save a lot of resources depending on the scale of the data. However, this means 5% of the patients who are diagnosed to not having to come back to the hospital within 30 days actually have to be readmitted within 30 days. This could be unacceptable in certain situations and patient's conditions. Thus here below we will keep improving the model by tuning the threshold."
   ]
  },
  {
   "cell_type": "code",
   "execution_count": 27,
   "metadata": {},
   "outputs": [
    {
     "name": "stdout",
     "output_type": "stream",
     "text": [
      "Proportion of samples below threshold: 0.6474034406047734\n"
     ]
    }
   ],
   "source": [
    "print(\"Proportion of samples below threshold:\", np.mean(grid_search.best_estimator_.predict(X) < readmit95_thresh))"
   ]
  },
  {
   "cell_type": "markdown",
   "metadata": {},
   "source": [
    "## Tunning the threshold for classification"
   ]
  },
  {
   "cell_type": "code",
   "execution_count": 28,
   "metadata": {},
   "outputs": [
    {
     "name": "stdout",
     "output_type": "stream",
     "text": [
      "\n",
      "******** For i = 0.01 ******\n",
      "0.11389601892395189\n",
      "Precision= 0.11389601892395189\n",
      "Recal= 0.11389601892395189\n",
      "fscore= 0.023291766747235054\n",
      "Confusion Matrix = [[    0 17606]\n",
      " [    0  2263]]\n"
     ]
    },
    {
     "data": {
      "image/png": "[encoded data removed]",
      "text/plain": [
       "<Figure size 432x288 with 1 Axes>"
      ]
     },
     "metadata": {
      "needs_background": "light"
     },
     "output_type": "display_data"
    },
    {
     "name": "stdout",
     "output_type": "stream",
     "text": [
      "\n",
      "******** For i = 0.1 ******\n",
      "0.11389601892395189\n",
      "Precision= 0.11389601892395189\n",
      "Recal= 0.11389601892395189\n",
      "fscore= 0.023291766747235054\n",
      "Confusion Matrix = [[    0 17606]\n",
      " [    0  2263]]\n"
     ]
    },
    {
     "data": {
      "image/png": "[encoded data removed]",
      "text/plain": [
       "<Figure size 432x288 with 1 Axes>"
      ]
     },
     "metadata": {
      "needs_background": "light"
     },
     "output_type": "display_data"
    },
    {
     "name": "stdout",
     "output_type": "stream",
     "text": [
      "\n",
      "******** For i = 0.2 ******\n",
      "0.11807338064321304\n",
      "Precision= 0.11807338064321304\n",
      "Recal= 0.11807338064321304\n",
      "fscore= 0.032149849120595674\n",
      "Confusion Matrix = [[   88 17518]\n",
      " [    5  2258]]\n"
     ]
    },
    {
     "data": {
      "image/png": "[encoded data removed]",
      "text/plain": [
       "<Figure size 432x288 with 1 Axes>"
      ]
     },
     "metadata": {
      "needs_background": "light"
     },
     "output_type": "display_data"
    },
    {
     "name": "stdout",
     "output_type": "stream",
     "text": [
      "\n",
      "******** For i = 0.25 ******\n",
      "0.13614172832049928\n",
      "Precision= 0.13614172832049928\n",
      "Recal= 0.13614172832049928\n",
      "fscore= 0.06894987955033821\n",
      "Confusion Matrix = [[  463 17143]\n",
      " [   21  2242]]\n"
     ]
    },
    {
     "data": {
      "image/png": "[encoded data removed]",
      "text/plain": [
       "<Figure size 432x288 with 1 Axes>"
      ]
     },
     "metadata": {
      "needs_background": "light"
     },
     "output_type": "display_data"
    },
    {
     "name": "stdout",
     "output_type": "stream",
     "text": [
      "\n",
      "******** For i = 0.3 ******\n",
      "0.18747798077407016\n",
      "Precision= 0.18747798077407016\n",
      "Recal= 0.18747798077407016\n",
      "fscore= 0.1664370701983239\n",
      "Confusion Matrix = [[ 1543 16063]\n",
      " [   81  2182]]\n"
     ]
    },
    {
     "data": {
      "image/png": "[encoded data removed]",
      "text/plain": [
       "<Figure size 432x288 with 1 Axes>"
      ]
     },
     "metadata": {
      "needs_background": "light"
     },
     "output_type": "display_data"
    }
   ],
   "source": [
    "pred_proba_df = pd.DataFrame(grid_search.predict_proba(X_test))\n",
    "threshold_list = [0.01, 0.1,0.2, 0.25, 0.3]\n",
    "for i in threshold_list:\n",
    "    print ('\\n******** For i = {} ******'.format(i))\n",
    "    Y_test_pred = pred_proba_df.applymap(lambda x: 1 if x>i else 0)\n",
    "    accuracy = mt.accuracy_score(y_test, Y_test_pred.iloc[:,1])\n",
    "    print(accuracy)\n",
    "    precision = mt.precision_score(y_test, Y_test_pred.iloc[:,1], average='micro')\n",
    "    print(\"Precision=\", precision)\n",
    "    recal = mt.recall_score(y_test, Y_test_pred.iloc[:,1], average='micro')\n",
    "    print(\"Recal=\", recal)\n",
    "    fscore = mt.f1_score(y_test, Y_test_pred.iloc[:,1], average='weighted')\n",
    "    print(\"fscore=\",fscore )\n",
    "    # Confusion matrix\n",
    "    cm= confusion_matrix(y_test, Y_test_pred.iloc[:,1])\n",
    "    print(\"Confusion Matrix =\", cm)\n",
    "    fpr, tpr, _ = roc_curve(y_test, Y_test_pred.iloc[:,1])\n",
    "    auc = roc_auc_score(y_test, Y_test_pred.iloc[:,1])\n",
    "    plt.plot(fpr,tpr,label=\"AUC=\"+str(auc))\n",
    "    plt.legend(loc=4)\n",
    "    plt.show()\n",
    "    "
   ]
  },
  {
   "cell_type": "markdown",
   "metadata": {},
   "source": [
    "# Conclusion"
   ]
  },
  {
   "cell_type": "markdown",
   "metadata": {},
   "source": [
    "**Best performance model**: L1 with AUC score of 0.644\n",
    "\n",
    "We used the Grid Search method to tune the Logistic Regression model, let the Lasso select the most important variables, and use the Ridge regularization method to prevent model overfitting.\n",
    "To evaluate the model performance we used a (Receiver Operating Characteristic curve) ROC AUC where the area is under the ROC curve.The higher the AUC, the better the performance of the model at distinguishing between the classes. In general, a value between 0.5–0.7 is acceptable and anything above 0.7 is good-to-go-model.\n",
    "*   **LR Model Advantages**: There is less transformation needed to make the model run in a reasonable time window. Scaler transformation may help increase the LR model performance but is not required for performance as the model performs well at scale regardless of whether the data is normalized.\n",
    "*   **LR Model Disadvantages**: It’s difficult to interpret the LR model as the weights are multiplicative and not additive\n",
    "\n",
    "**Top 4 Positive Important Features**: \n",
    "  *   **Discharge_disposition_id_22**: 1.039\n",
    "  *   **A1Cresult_None**: 0.343\n",
    "  *   **discharge_disposition_id_5**: 0.285\n",
    "  *   **number_inpatient**: .0277\n",
    "   \n",
    " The above important features are found by running eli5, which can be used to explain the feature importance.\n",
    "\n",
    "**Future work**: Using the Grid Search method to tune the model, the best performance model is L1 with an AUC score of 0.644. But in the real world, we need the AUC of 0.95 or more is considered to be good-to-go-model. To reach the AUC of 0.95, we probably should choose other models instead, like the ensembles model or Random Forest Model to find the better performance model."
   ]
  },
  {
   "cell_type": "code",
   "execution_count": null,
   "metadata": {},
   "outputs": [],
   "source": []
  }
 ],
 "metadata": {
  "interpreter": {
   "hash": "eaa798b471aa1a0109429a408b0faab53065248ef7f5a5989f90756771672ef6"
  },
  "kernelspec": {
   "display_name": "Python 3",
   "language": "python",
   "name": "python3"
  },
  "language_info": {
   "codemirror_mode": {
    "name": "ipython",
    "version": 3
   },
   "file_extension": ".py",
   "mimetype": "text/x-python",
   "name": "python",
   "nbconvert_exporter": "python",
   "pygments_lexer": "ipython3",
   "version": "3.7.4"
  }
 },
 "nbformat": 4,
 "nbformat_minor": 4
}
