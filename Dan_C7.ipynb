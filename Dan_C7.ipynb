{
 "cells": [
  {
   "cell_type": "code",
   "execution_count": 1,
   "metadata": {},
   "outputs": [
    {
     "name": "stdout",
     "output_type": "stream",
     "text": [
      "<class 'pandas.core.frame.DataFrame'>\n",
      "RangeIndex: 160000 entries, 0 to 159999\n",
      "Data columns (total 51 columns):\n",
      " #   Column  Non-Null Count   Dtype  \n",
      "---  ------  --------------   -----  \n",
      " 0   x0      159974 non-null  float64\n",
      " 1   x1      159975 non-null  float64\n",
      " 2   x2      159962 non-null  float64\n",
      " 3   x3      159963 non-null  float64\n",
      " 4   x4      159974 non-null  float64\n",
      " 5   x5      159963 non-null  float64\n",
      " 6   x6      159974 non-null  float64\n",
      " 7   x7      159973 non-null  float64\n",
      " 8   x8      159979 non-null  float64\n",
      " 9   x9      159970 non-null  float64\n",
      " 10  x10     159957 non-null  float64\n",
      " 11  x11     159970 non-null  float64\n",
      " 12  x12     159964 non-null  float64\n",
      " 13  x13     159969 non-null  float64\n",
      " 14  x14     159966 non-null  float64\n",
      " 15  x15     159965 non-null  float64\n",
      " 16  x16     159974 non-null  float64\n",
      " 17  x17     159973 non-null  float64\n",
      " 18  x18     159960 non-null  float64\n",
      " 19  x19     159965 non-null  float64\n",
      " 20  x20     159962 non-null  float64\n",
      " 21  x21     159971 non-null  float64\n",
      " 22  x22     159973 non-null  float64\n",
      " 23  x23     159953 non-null  float64\n",
      " 24  x24     159972 non-null  object \n",
      " 25  x25     159978 non-null  float64\n",
      " 26  x26     159964 non-null  float64\n",
      " 27  x27     159970 non-null  float64\n",
      " 28  x28     159965 non-null  float64\n",
      " 29  x29     159970 non-null  object \n",
      " 30  x30     159970 non-null  object \n",
      " 31  x31     159961 non-null  float64\n",
      " 32  x32     159969 non-null  object \n",
      " 33  x33     159959 non-null  float64\n",
      " 34  x34     159959 non-null  float64\n",
      " 35  x35     159970 non-null  float64\n",
      " 36  x36     159973 non-null  float64\n",
      " 37  x37     159977 non-null  object \n",
      " 38  x38     159969 non-null  float64\n",
      " 39  x39     159977 non-null  float64\n",
      " 40  x40     159964 non-null  float64\n",
      " 41  x41     159960 non-null  float64\n",
      " 42  x42     159974 non-null  float64\n",
      " 43  x43     159963 non-null  float64\n",
      " 44  x44     159960 non-null  float64\n",
      " 45  x45     159971 non-null  float64\n",
      " 46  x46     159969 non-null  float64\n",
      " 47  x47     159963 non-null  float64\n",
      " 48  x48     159968 non-null  float64\n",
      " 49  x49     159968 non-null  float64\n",
      " 50  y       160000 non-null  int64  \n",
      "dtypes: float64(45), int64(1), object(5)\n",
      "memory usage: 62.3+ MB\n"
     ]
    }
   ],
   "source": [
    "import pandas as pd\n",
    "import tensorflow as tf \n",
    "import numpy as np\n",
    "\n",
    "from sklearn.preprocessing import StandardScaler\n",
    "from sklearn.model_selection import train_test_split\n",
    "import os\n",
    "\n",
    "df = pd.read_csv('data/final_project(5).csv')\n",
    "\n",
    "df.info()\n",
    "\n"
   ]
  },
  {
   "cell_type": "code",
   "execution_count": 2,
   "metadata": {},
   "outputs": [
    {
     "data": {
      "text/plain": [
       "0    95803\n",
       "1    64197\n",
       "Name: y, dtype: int64"
      ]
     },
     "execution_count": 2,
     "metadata": {},
     "output_type": "execute_result"
    }
   ],
   "source": [
    "df['y'].value_counts()"
   ]
  },
  {
   "cell_type": "code",
   "execution_count": 3,
   "metadata": {},
   "outputs": [
    {
     "data": {
      "text/plain": [
       "array([[<AxesSubplot:title={'center':'x0'}>,\n",
       "        <AxesSubplot:title={'center':'x1'}>,\n",
       "        <AxesSubplot:title={'center':'x2'}>,\n",
       "        <AxesSubplot:title={'center':'x3'}>,\n",
       "        <AxesSubplot:title={'center':'x4'}>,\n",
       "        <AxesSubplot:title={'center':'x5'}>,\n",
       "        <AxesSubplot:title={'center':'x6'}>],\n",
       "       [<AxesSubplot:title={'center':'x7'}>,\n",
       "        <AxesSubplot:title={'center':'x8'}>,\n",
       "        <AxesSubplot:title={'center':'x9'}>,\n",
       "        <AxesSubplot:title={'center':'x10'}>,\n",
       "        <AxesSubplot:title={'center':'x11'}>,\n",
       "        <AxesSubplot:title={'center':'x12'}>,\n",
       "        <AxesSubplot:title={'center':'x13'}>],\n",
       "       [<AxesSubplot:title={'center':'x14'}>,\n",
       "        <AxesSubplot:title={'center':'x15'}>,\n",
       "        <AxesSubplot:title={'center':'x16'}>,\n",
       "        <AxesSubplot:title={'center':'x17'}>,\n",
       "        <AxesSubplot:title={'center':'x18'}>,\n",
       "        <AxesSubplot:title={'center':'x19'}>,\n",
       "        <AxesSubplot:title={'center':'x20'}>],\n",
       "       [<AxesSubplot:title={'center':'x21'}>,\n",
       "        <AxesSubplot:title={'center':'x22'}>,\n",
       "        <AxesSubplot:title={'center':'x23'}>,\n",
       "        <AxesSubplot:title={'center':'x25'}>,\n",
       "        <AxesSubplot:title={'center':'x26'}>,\n",
       "        <AxesSubplot:title={'center':'x27'}>,\n",
       "        <AxesSubplot:title={'center':'x28'}>],\n",
       "       [<AxesSubplot:title={'center':'x31'}>,\n",
       "        <AxesSubplot:title={'center':'x33'}>,\n",
       "        <AxesSubplot:title={'center':'x34'}>,\n",
       "        <AxesSubplot:title={'center':'x35'}>,\n",
       "        <AxesSubplot:title={'center':'x36'}>,\n",
       "        <AxesSubplot:title={'center':'x38'}>,\n",
       "        <AxesSubplot:title={'center':'x39'}>],\n",
       "       [<AxesSubplot:title={'center':'x40'}>,\n",
       "        <AxesSubplot:title={'center':'x41'}>,\n",
       "        <AxesSubplot:title={'center':'x42'}>,\n",
       "        <AxesSubplot:title={'center':'x43'}>,\n",
       "        <AxesSubplot:title={'center':'x44'}>,\n",
       "        <AxesSubplot:title={'center':'x45'}>,\n",
       "        <AxesSubplot:title={'center':'x46'}>],\n",
       "       [<AxesSubplot:title={'center':'x47'}>,\n",
       "        <AxesSubplot:title={'center':'x48'}>,\n",
       "        <AxesSubplot:title={'center':'x49'}>,\n",
       "        <AxesSubplot:title={'center':'y'}>, <AxesSubplot:>,\n",
       "        <AxesSubplot:>, <AxesSubplot:>]], dtype=object)"
      ]
     },
     "execution_count": 3,
     "metadata": {},
     "output_type": "execute_result"
    },
    {
     "data": {
      "image/png": "[encoded data removed]",
      "text/plain": [
       "<Figure size 1008x1008 with 49 Axes>"
      ]
     },
     "metadata": {
      "needs_background": "light"
     },
     "output_type": "display_data"
    }
   ],
   "source": [
    "df.hist(figsize=(14,14), xrot=50)"
   ]
  },
  {
   "cell_type": "code",
   "execution_count": 4,
   "metadata": {},
   "outputs": [
    {
     "data": {
      "text/html": [
       "<div>\n",
       "<style scoped>\n",
       "    .dataframe tbody tr th:only-of-type {\n",
       "        vertical-align: middle;\n",
       "    }\n",
       "\n",
       "    .dataframe tbody tr th {\n",
       "        vertical-align: top;\n",
       "    }\n",
       "\n",
       "    .dataframe thead th {\n",
       "        text-align: right;\n",
       "    }\n",
       "</style>\n",
       "<table border=\"1\" class=\"dataframe\">\n",
       "  <thead>\n",
       "    <tr style=\"text-align: right;\">\n",
       "      <th></th>\n",
       "      <th>x24</th>\n",
       "      <th>x29</th>\n",
       "      <th>x30</th>\n",
       "      <th>x32</th>\n",
       "      <th>x37</th>\n",
       "      <th>y</th>\n",
       "    </tr>\n",
       "  </thead>\n",
       "  <tbody>\n",
       "    <tr>\n",
       "      <th>33978</th>\n",
       "      <td>asia</td>\n",
       "      <td>Jun</td>\n",
       "      <td>wednesday</td>\n",
       "      <td>0.01%</td>\n",
       "      <td>$-346.79</td>\n",
       "      <td>0</td>\n",
       "    </tr>\n",
       "    <tr>\n",
       "      <th>20408</th>\n",
       "      <td>asia</td>\n",
       "      <td>Apr</td>\n",
       "      <td>wednesday</td>\n",
       "      <td>0.0%</td>\n",
       "      <td>$1213.4</td>\n",
       "      <td>0</td>\n",
       "    </tr>\n",
       "    <tr>\n",
       "      <th>111404</th>\n",
       "      <td>asia</td>\n",
       "      <td>sept.</td>\n",
       "      <td>thurday</td>\n",
       "      <td>-0.0%</td>\n",
       "      <td>$-588.63</td>\n",
       "      <td>1</td>\n",
       "    </tr>\n",
       "    <tr>\n",
       "      <th>54707</th>\n",
       "      <td>euorpe</td>\n",
       "      <td>July</td>\n",
       "      <td>wednesday</td>\n",
       "      <td>-0.01%</td>\n",
       "      <td>$995.69</td>\n",
       "      <td>0</td>\n",
       "    </tr>\n",
       "    <tr>\n",
       "      <th>11513</th>\n",
       "      <td>euorpe</td>\n",
       "      <td>Aug</td>\n",
       "      <td>wednesday</td>\n",
       "      <td>-0.01%</td>\n",
       "      <td>$1729.93</td>\n",
       "      <td>0</td>\n",
       "    </tr>\n",
       "    <tr>\n",
       "      <th>76872</th>\n",
       "      <td>asia</td>\n",
       "      <td>Apr</td>\n",
       "      <td>wednesday</td>\n",
       "      <td>-0.0%</td>\n",
       "      <td>$1024.45</td>\n",
       "      <td>1</td>\n",
       "    </tr>\n",
       "    <tr>\n",
       "      <th>3288</th>\n",
       "      <td>asia</td>\n",
       "      <td>Jun</td>\n",
       "      <td>wednesday</td>\n",
       "      <td>0.01%</td>\n",
       "      <td>$-113.74</td>\n",
       "      <td>0</td>\n",
       "    </tr>\n",
       "    <tr>\n",
       "      <th>17819</th>\n",
       "      <td>asia</td>\n",
       "      <td>Apr</td>\n",
       "      <td>wednesday</td>\n",
       "      <td>0.01%</td>\n",
       "      <td>$-1523.35</td>\n",
       "      <td>1</td>\n",
       "    </tr>\n",
       "    <tr>\n",
       "      <th>85998</th>\n",
       "      <td>asia</td>\n",
       "      <td>sept.</td>\n",
       "      <td>wednesday</td>\n",
       "      <td>-0.0%</td>\n",
       "      <td>$-565.72</td>\n",
       "      <td>0</td>\n",
       "    </tr>\n",
       "    <tr>\n",
       "      <th>143134</th>\n",
       "      <td>asia</td>\n",
       "      <td>Jun</td>\n",
       "      <td>wednesday</td>\n",
       "      <td>0.0%</td>\n",
       "      <td>$1310.31</td>\n",
       "      <td>0</td>\n",
       "    </tr>\n",
       "  </tbody>\n",
       "</table>\n",
       "</div>"
      ],
      "text/plain": [
       "           x24    x29        x30     x32        x37  y\n",
       "33978     asia    Jun  wednesday   0.01%   $-346.79  0\n",
       "20408     asia    Apr  wednesday    0.0%    $1213.4  0\n",
       "111404    asia  sept.    thurday   -0.0%   $-588.63  1\n",
       "54707   euorpe   July  wednesday  -0.01%    $995.69  0\n",
       "11513   euorpe    Aug  wednesday  -0.01%   $1729.93  0\n",
       "76872     asia    Apr  wednesday   -0.0%   $1024.45  1\n",
       "3288      asia    Jun  wednesday   0.01%   $-113.74  0\n",
       "17819     asia    Apr  wednesday   0.01%  $-1523.35  1\n",
       "85998     asia  sept.  wednesday   -0.0%   $-565.72  0\n",
       "143134    asia    Jun  wednesday    0.0%   $1310.31  0"
      ]
     },
     "execution_count": 4,
     "metadata": {},
     "output_type": "execute_result"
    }
   ],
   "source": [
    "cat_with_target = df.select_dtypes(include=['object', 'int64']).columns.tolist()\n",
    "df[cat_with_target].sample(10)"
   ]
  },
  {
   "cell_type": "code",
   "execution_count": 5,
   "metadata": {},
   "outputs": [
    {
     "data": {
      "text/plain": [
       "asia       138965\n",
       "euorpe      16538\n",
       "america      4469\n",
       "Name: x24, dtype: int64"
      ]
     },
     "execution_count": 5,
     "metadata": {},
     "output_type": "execute_result"
    }
   ],
   "source": [
    "df['x24'].value_counts()"
   ]
  },
  {
   "cell_type": "code",
   "execution_count": 6,
   "metadata": {},
   "outputs": [
    {
     "data": {
      "text/plain": [
       "July       45569\n",
       "Jun        41329\n",
       "Aug        29406\n",
       "May        21939\n",
       "sept.      10819\n",
       "Apr         6761\n",
       "Oct         2407\n",
       "Mar         1231\n",
       "Nov          337\n",
       "Feb          140\n",
       "Dev           23\n",
       "January        9\n",
       "Name: x29, dtype: int64"
      ]
     },
     "execution_count": 6,
     "metadata": {},
     "output_type": "execute_result"
    }
   ],
   "source": [
    "df['x29'].value_counts()"
   ]
  },
  {
   "cell_type": "code",
   "execution_count": 7,
   "metadata": {},
   "outputs": [
    {
     "data": {
      "text/plain": [
       "wednesday    101535\n",
       "thurday       29429\n",
       "tuesday       27954\n",
       "friday          564\n",
       "monday          488\n",
       "Name: x30, dtype: int64"
      ]
     },
     "execution_count": 7,
     "metadata": {},
     "output_type": "execute_result"
    }
   ],
   "source": [
    "df['x30'].value_counts()"
   ]
  },
  {
   "cell_type": "markdown",
   "metadata": {},
   "source": [
    "## Note, going to make x32 item enum/categorical, see below"
   ]
  },
  {
   "cell_type": "code",
   "execution_count": 8,
   "metadata": {},
   "outputs": [
    {
     "data": {
      "text/plain": [
       "0.01%     40767\n",
       "-0.01%    34094\n",
       "0.0%      33923\n",
       "-0.0%     30492\n",
       "-0.02%     9924\n",
       "0.02%      7987\n",
       "-0.03%     1727\n",
       "0.03%       855\n",
       "-0.04%      138\n",
       "0.04%        55\n",
       "-0.05%        6\n",
       "0.05%         1\n",
       "Name: x32, dtype: int64"
      ]
     },
     "execution_count": 8,
     "metadata": {},
     "output_type": "execute_result"
    }
   ],
   "source": [
    "df['x32'].value_counts()"
   ]
  },
  {
   "cell_type": "code",
   "execution_count": 9,
   "metadata": {},
   "outputs": [
    {
     "name": "stdout",
     "output_type": "stream",
     "text": [
      "<class 'pandas.core.frame.DataFrame'>\n",
      "RangeIndex: 158392 entries, 0 to 158391\n",
      "Data columns (total 51 columns):\n",
      " #   Column  Non-Null Count   Dtype   \n",
      "---  ------  --------------   -----   \n",
      " 0   x0      158392 non-null  float64 \n",
      " 1   x1      158392 non-null  float64 \n",
      " 2   x2      158392 non-null  float64 \n",
      " 3   x3      158392 non-null  float64 \n",
      " 4   x4      158392 non-null  float64 \n",
      " 5   x5      158392 non-null  float64 \n",
      " 6   x6      158392 non-null  float64 \n",
      " 7   x7      158392 non-null  float64 \n",
      " 8   x8      158392 non-null  float64 \n",
      " 9   x9      158392 non-null  float64 \n",
      " 10  x10     158392 non-null  float64 \n",
      " 11  x11     158392 non-null  float64 \n",
      " 12  x12     158392 non-null  float64 \n",
      " 13  x13     158392 non-null  float64 \n",
      " 14  x14     158392 non-null  float64 \n",
      " 15  x15     158392 non-null  float64 \n",
      " 16  x16     158392 non-null  float64 \n",
      " 17  x17     158392 non-null  float64 \n",
      " 18  x18     158392 non-null  float64 \n",
      " 19  x19     158392 non-null  float64 \n",
      " 20  x20     158392 non-null  float64 \n",
      " 21  x21     158392 non-null  float64 \n",
      " 22  x22     158392 non-null  float64 \n",
      " 23  x23     158392 non-null  float64 \n",
      " 24  x24     158392 non-null  category\n",
      " 25  x25     158392 non-null  float64 \n",
      " 26  x26     158392 non-null  float64 \n",
      " 27  x27     158392 non-null  float64 \n",
      " 28  x28     158392 non-null  float64 \n",
      " 29  x29     158392 non-null  category\n",
      " 30  x30     158392 non-null  category\n",
      " 31  x31     158392 non-null  float64 \n",
      " 32  x32     158392 non-null  category\n",
      " 33  x33     158392 non-null  float64 \n",
      " 34  x34     158392 non-null  float64 \n",
      " 35  x35     158392 non-null  float64 \n",
      " 36  x36     158392 non-null  float64 \n",
      " 37  x37     158392 non-null  float64 \n",
      " 38  x38     158392 non-null  float64 \n",
      " 39  x39     158392 non-null  float64 \n",
      " 40  x40     158392 non-null  float64 \n",
      " 41  x41     158392 non-null  float64 \n",
      " 42  x42     158392 non-null  float64 \n",
      " 43  x43     158392 non-null  float64 \n",
      " 44  x44     158392 non-null  float64 \n",
      " 45  x45     158392 non-null  float64 \n",
      " 46  x46     158392 non-null  float64 \n",
      " 47  x47     158392 non-null  float64 \n",
      " 48  x48     158392 non-null  float64 \n",
      " 49  x49     158392 non-null  float64 \n",
      " 50  y       158392 non-null  int64   \n",
      "dtypes: category(4), float64(46), int64(1)\n",
      "memory usage: 57.4 MB\n"
     ]
    }
   ],
   "source": [
    "df.dropna(axis=0, inplace=True)\n",
    "df.reset_index(drop=True, inplace=True)\n",
    "\n",
    "df['x24'] = df['x24'].astype('category')\n",
    "df['x29'] = df['x29'].astype('category')\n",
    "df['x30'] = df['x30'].astype('category')\n",
    "\n",
    "df['x32'] = [float(x.replace('%','')) for x in df['x32']]\n",
    "df['x32'] = df['x32'].astype('category')\n",
    "\n",
    "df['x37'] = [float(x.replace('$','')) for x in df['x37']]\n",
    "\n",
    "df.info()"
   ]
  },
  {
   "cell_type": "code",
   "execution_count": 10,
   "metadata": {},
   "outputs": [
    {
     "data": {
      "text/plain": [
       "0.0      63780\n",
       "0.01     40367\n",
       "-0.01    33771\n",
       "-0.02     9812\n",
       "0.02      7911\n",
       "-0.03     1709\n",
       "0.03       845\n",
       "-0.04      136\n",
       "0.04        54\n",
       "-0.05        6\n",
       "0.05         1\n",
       "Name: x32, dtype: int64"
      ]
     },
     "execution_count": 10,
     "metadata": {},
     "output_type": "execute_result"
    }
   ],
   "source": [
    "df['x32'].value_counts()"
   ]
  },
  {
   "cell_type": "code",
   "execution_count": 11,
   "metadata": {},
   "outputs": [
    {
     "data": {
      "text/plain": [
       "['x0',\n",
       " 'x1',\n",
       " 'x2',\n",
       " 'x3',\n",
       " 'x4',\n",
       " 'x5',\n",
       " 'x6',\n",
       " 'x7',\n",
       " 'x8',\n",
       " 'x9',\n",
       " 'x10',\n",
       " 'x11',\n",
       " 'x12',\n",
       " 'x13',\n",
       " 'x14',\n",
       " 'x15',\n",
       " 'x16',\n",
       " 'x17',\n",
       " 'x18',\n",
       " 'x19',\n",
       " 'x20',\n",
       " 'x21',\n",
       " 'x22',\n",
       " 'x23',\n",
       " 'x25',\n",
       " 'x26',\n",
       " 'x27',\n",
       " 'x28',\n",
       " 'x31',\n",
       " 'x33',\n",
       " 'x34',\n",
       " 'x35',\n",
       " 'x36',\n",
       " 'x37',\n",
       " 'x38',\n",
       " 'x39',\n",
       " 'x40',\n",
       " 'x41',\n",
       " 'x42',\n",
       " 'x43',\n",
       " 'x44',\n",
       " 'x45',\n",
       " 'x46',\n",
       " 'x47',\n",
       " 'x48',\n",
       " 'x49']"
      ]
     },
     "execution_count": 11,
     "metadata": {},
     "output_type": "execute_result"
    }
   ],
   "source": [
    "categorical_features = ['x24', 'x29', 'x30', 'x32']\n",
    "\n",
    "cat_with_target = ['x24', 'x29', 'x30', 'x32', 'y']\n",
    "\n",
    "numeric_features = [x for x in df.columns.values.tolist() if x not in cat_with_target]\n",
    "\n",
    "numeric_features"
   ]
  },
  {
   "cell_type": "code",
   "execution_count": 12,
   "metadata": {},
   "outputs": [
    {
     "name": "stdout",
     "output_type": "stream",
     "text": [
      "<class 'pandas.core.frame.DataFrame'>\n",
      "RangeIndex: 158392 entries, 0 to 158391\n",
      "Data columns (total 78 columns):\n",
      " #   Column              Non-Null Count   Dtype  \n",
      "---  ------              --------------   -----  \n",
      " 0   x0                  158392 non-null  float64\n",
      " 1   x1                  158392 non-null  float64\n",
      " 2   x2                  158392 non-null  float64\n",
      " 3   x3                  158392 non-null  float64\n",
      " 4   x4                  158392 non-null  float64\n",
      " 5   x5                  158392 non-null  float64\n",
      " 6   x6                  158392 non-null  float64\n",
      " 7   x7                  158392 non-null  float64\n",
      " 8   x8                  158392 non-null  float64\n",
      " 9   x9                  158392 non-null  float64\n",
      " 10  x10                 158392 non-null  float64\n",
      " 11  x11                 158392 non-null  float64\n",
      " 12  x12                 158392 non-null  float64\n",
      " 13  x13                 158392 non-null  float64\n",
      " 14  x14                 158392 non-null  float64\n",
      " 15  x15                 158392 non-null  float64\n",
      " 16  x16                 158392 non-null  float64\n",
      " 17  x17                 158392 non-null  float64\n",
      " 18  x18                 158392 non-null  float64\n",
      " 19  x19                 158392 non-null  float64\n",
      " 20  x20                 158392 non-null  float64\n",
      " 21  x21                 158392 non-null  float64\n",
      " 22  x22                 158392 non-null  float64\n",
      " 23  x23                 158392 non-null  float64\n",
      " 24  x25                 158392 non-null  float64\n",
      " 25  x26                 158392 non-null  float64\n",
      " 26  x27                 158392 non-null  float64\n",
      " 27  x28                 158392 non-null  float64\n",
      " 28  x31                 158392 non-null  float64\n",
      " 29  x33                 158392 non-null  float64\n",
      " 30  x34                 158392 non-null  float64\n",
      " 31  x35                 158392 non-null  float64\n",
      " 32  x36                 158392 non-null  float64\n",
      " 33  x37                 158392 non-null  float64\n",
      " 34  x38                 158392 non-null  float64\n",
      " 35  x39                 158392 non-null  float64\n",
      " 36  x40                 158392 non-null  float64\n",
      " 37  x41                 158392 non-null  float64\n",
      " 38  x42                 158392 non-null  float64\n",
      " 39  x43                 158392 non-null  float64\n",
      " 40  x44                 158392 non-null  float64\n",
      " 41  x45                 158392 non-null  float64\n",
      " 42  x46                 158392 non-null  float64\n",
      " 43  x47                 158392 non-null  float64\n",
      " 44  x48                 158392 non-null  float64\n",
      " 45  x49                 158392 non-null  float64\n",
      " 46  y                   158392 non-null  int64  \n",
      " 47  x24_type_america    158392 non-null  uint8  \n",
      " 48  x24_type_asia       158392 non-null  uint8  \n",
      " 49  x24_type_euorpe     158392 non-null  uint8  \n",
      " 50  x29_type_Apr        158392 non-null  uint8  \n",
      " 51  x29_type_Aug        158392 non-null  uint8  \n",
      " 52  x29_type_Dev        158392 non-null  uint8  \n",
      " 53  x29_type_Feb        158392 non-null  uint8  \n",
      " 54  x29_type_January    158392 non-null  uint8  \n",
      " 55  x29_type_July       158392 non-null  uint8  \n",
      " 56  x29_type_Jun        158392 non-null  uint8  \n",
      " 57  x29_type_Mar        158392 non-null  uint8  \n",
      " 58  x29_type_May        158392 non-null  uint8  \n",
      " 59  x29_type_Nov        158392 non-null  uint8  \n",
      " 60  x29_type_Oct        158392 non-null  uint8  \n",
      " 61  x29_type_sept.      158392 non-null  uint8  \n",
      " 62  x30_type_friday     158392 non-null  uint8  \n",
      " 63  x30_type_monday     158392 non-null  uint8  \n",
      " 64  x30_type_thurday    158392 non-null  uint8  \n",
      " 65  x30_type_tuesday    158392 non-null  uint8  \n",
      " 66  x30_type_wednesday  158392 non-null  uint8  \n",
      " 67  x32_type_-0.05      158392 non-null  uint8  \n",
      " 68  x32_type_-0.04      158392 non-null  uint8  \n",
      " 69  x32_type_-0.03      158392 non-null  uint8  \n",
      " 70  x32_type_-0.02      158392 non-null  uint8  \n",
      " 71  x32_type_-0.01      158392 non-null  uint8  \n",
      " 72  x32_type_0.0        158392 non-null  uint8  \n",
      " 73  x32_type_0.01       158392 non-null  uint8  \n",
      " 74  x32_type_0.02       158392 non-null  uint8  \n",
      " 75  x32_type_0.03       158392 non-null  uint8  \n",
      " 76  x32_type_0.04       158392 non-null  uint8  \n",
      " 77  x32_type_0.05       158392 non-null  uint8  \n",
      "dtypes: float64(46), int64(1), uint8(31)\n",
      "memory usage: 61.5 MB\n"
     ]
    }
   ],
   "source": [
    "dum_df = pd.get_dummies(df, columns=['x24', 'x29', 'x30', 'x32'], prefix=['x24_type', 'x29_type', 'x30_type', 'x32_type'])\n",
    "\n",
    "dum_df.info()"
   ]
  },
  {
   "cell_type": "markdown",
   "metadata": {},
   "source": [
    "## using parameters from AutoML in H2O Flow"
   ]
  },
  {
   "cell_type": "code",
   "execution_count": 13,
   "metadata": {},
   "outputs": [
    {
     "name": "stdout",
     "output_type": "stream",
     "text": [
      "0.948767322200827\n"
     ]
    }
   ],
   "source": [
    "from sklearn.ensemble import GradientBoostingClassifier \n",
    "\n",
    "# One-hot encoding of categorical variables\n",
    "dum_df = pd.get_dummies(df, columns=['x24', 'x29', 'x30', 'x32'], prefix=['x24_type', 'x29_type', 'x30_type', 'x32_type'])\n",
    "\n",
    "#dum_df = dum_df.sample(frac=.01)\n",
    "\n",
    "X = dum_df.loc[:, dum_df.columns != 'y']\n",
    "\n",
    "y = dum_df['y']\n",
    "\n",
    "X_train, X_test, y_train, y_test = train_test_split(X,\n",
    "                                                    y,\n",
    "                                                    test_size=0.2,\n",
    "                                                    stratify=y,\n",
    "                                                    random_state=11)\n",
    "\n",
    "model = GradientBoostingClassifier(n_estimators=145, max_depth=14, min_samples_leaf=30)\n",
    "\n",
    "model.fit(X_train, y_train)\n",
    "\n",
    "print(model.score(X_test, y_test))"
   ]
  },
  {
   "cell_type": "code",
   "execution_count": 14,
   "metadata": {},
   "outputs": [
    {
     "data": {
      "text/plain": [
       "array([[18276,   694],\n",
       "       [  929, 11780]], dtype=int64)"
      ]
     },
     "execution_count": 14,
     "metadata": {},
     "output_type": "execute_result"
    }
   ],
   "source": [
    "from sklearn.metrics import classification_report, confusion_matrix\n",
    "\n",
    "confusion_matrix(y_test, model.predict(X_test))"
   ]
  },
  {
   "cell_type": "markdown",
   "metadata": {},
   "source": [
    "# Ignore below for now, Dan Testing other stuff\n",
    "\n",
    "## Look at using custom scoring, lightgbm, using H2o"
   ]
  },
  {
   "cell_type": "code",
   "execution_count": 3,
   "metadata": {},
   "outputs": [
    {
     "name": "stdout",
     "output_type": "stream",
     "text": [
      "Checking whether there is an H2O instance running at http://localhost:54321 ..... not found.\n",
      "Attempting to start a local H2O server...\n",
      "; OpenJDK 64-Bit Server VM 18.9 (build 11.0.5+10-LTS, mixed mode)\n",
      "  Starting server from C:\\Users\\dancr\\miniconda3\\envs\\NLP\\Lib\\site-packages\\h2o\\backend\\bin\\h2o.jar\n",
      "  Ice root: C:\\Users\\dancr\\AppData\\Local\\Temp\\tmpi7a0en51\n",
      "  JVM stdout: C:\\Users\\dancr\\AppData\\Local\\Temp\\tmpi7a0en51\\h2o_dancr_started_from_python.out\n",
      "  JVM stderr: C:\\Users\\dancr\\AppData\\Local\\Temp\\tmpi7a0en51\\h2o_dancr_started_from_python.err\n",
      "  Server is running at http://127.0.0.1:54321\n",
      "Connecting to H2O server at http://127.0.0.1:54321 ... successful.\n"
     ]
    },
    {
     "data": {
      "text/html": [
       "<div style=\"overflow:auto\"><table style=\"width:50%\"><tr><td>H2O_cluster_uptime:</td>\n",
       "<td>02 secs</td></tr>\n",
       "<tr><td>H2O_cluster_timezone:</td>\n",
       "<td>America/Los_Angeles</td></tr>\n",
       "<tr><td>H2O_data_parsing_timezone:</td>\n",
       "<td>UTC</td></tr>\n",
       "<tr><td>H2O_cluster_version:</td>\n",
       "<td>3.32.1.6</td></tr>\n",
       "<tr><td>H2O_cluster_version_age:</td>\n",
       "<td>2 months and 29 days </td></tr>\n",
       "<tr><td>H2O_cluster_name:</td>\n",
       "<td>H2O_from_python_dancr_sbigsw</td></tr>\n",
       "<tr><td>H2O_cluster_total_nodes:</td>\n",
       "<td>1</td></tr>\n",
       "<tr><td>H2O_cluster_free_memory:</td>\n",
       "<td>15.95 Gb</td></tr>\n",
       "<tr><td>H2O_cluster_total_cores:</td>\n",
       "<td>12</td></tr>\n",
       "<tr><td>H2O_cluster_allowed_cores:</td>\n",
       "<td>12</td></tr>\n",
       "<tr><td>H2O_cluster_status:</td>\n",
       "<td>accepting new members, healthy</td></tr>\n",
       "<tr><td>H2O_connection_url:</td>\n",
       "<td>http://127.0.0.1:54321</td></tr>\n",
       "<tr><td>H2O_connection_proxy:</td>\n",
       "<td>{\"http\": null, \"https\": null}</td></tr>\n",
       "<tr><td>H2O_internal_security:</td>\n",
       "<td>False</td></tr>\n",
       "<tr><td>H2O_API_Extensions:</td>\n",
       "<td>Amazon S3, Algos, AutoML, Core V3, TargetEncoder, Core V4</td></tr>\n",
       "<tr><td>Python_version:</td>\n",
       "<td>3.9.6 final</td></tr></table></div>"
      ],
      "text/plain": [
       "--------------------------  ---------------------------------------------------------\n",
       "H2O_cluster_uptime:         02 secs\n",
       "H2O_cluster_timezone:       America/Los_Angeles\n",
       "H2O_data_parsing_timezone:  UTC\n",
       "H2O_cluster_version:        3.32.1.6\n",
       "H2O_cluster_version_age:    2 months and 29 days\n",
       "H2O_cluster_name:           H2O_from_python_dancr_sbigsw\n",
       "H2O_cluster_total_nodes:    1\n",
       "H2O_cluster_free_memory:    15.95 Gb\n",
       "H2O_cluster_total_cores:    12\n",
       "H2O_cluster_allowed_cores:  12\n",
       "H2O_cluster_status:         accepting new members, healthy\n",
       "H2O_connection_url:         http://127.0.0.1:54321\n",
       "H2O_connection_proxy:       {\"http\": null, \"https\": null}\n",
       "H2O_internal_security:      False\n",
       "H2O_API_Extensions:         Amazon S3, Algos, AutoML, Core V3, TargetEncoder, Core V4\n",
       "Python_version:             3.9.6 final\n",
       "--------------------------  ---------------------------------------------------------"
      ]
     },
     "metadata": {},
     "output_type": "display_data"
    }
   ],
   "source": [
    "import h2o\n",
    "from h2o.automl import H2OAutoML\n",
    "\n",
    "\n",
    "try:\n",
    "    h2o.cluster().shutdown()\n",
    "    h2o.init()\n",
    "except:\n",
    "    h2o.init()"
   ]
  },
  {
   "cell_type": "code",
   "execution_count": 2,
   "metadata": {},
   "outputs": [
    {
     "name": "stdout",
     "output_type": "stream",
     "text": [
      "H2O session _sid_9de3 closed.\n"
     ]
    }
   ],
   "source": [
    "h2o.cluster().shutdown()"
   ]
  },
  {
   "cell_type": "code",
   "execution_count": null,
   "metadata": {},
   "outputs": [],
   "source": [
    "def my_loss(y_true, y_pred, **kwargs):\n",
    "    residual = (y_true - y_pred).astype(\"float\")\n",
    "    cost = np.where(residual > 0, 100, 25)\n",
    "    return cost.sum()\n",
    "\n",
    "\n",
    "my_scorer = make_scorer(my_loss, greater_is_better=False)"
   ]
  },
  {
   "cell_type": "code",
   "execution_count": 66,
   "metadata": {},
   "outputs": [],
   "source": [
    "def custom_asymmetric_train(y_true, y_pred):\n",
    "    residual = (y_true - y_pred).astype(\"float\")\n",
    "    grad = np.where(residual<0, -25, -100)\n",
    "    hess = np.where(residual<0, -25, -100)\n",
    "    return grad, hess\n",
    "\n",
    "def custom_asymmetric_valid(y_true, y_pred):\n",
    "    residual = (y_true - y_pred).astype(\"float\")\n",
    "    loss = np.where(residual < 0, (residual**2)*10.0, residual**2) \n",
    "    return \"custom_asymmetric_eval\", np.mean(loss), False"
   ]
  },
  {
   "cell_type": "code",
   "execution_count": 69,
   "metadata": {},
   "outputs": [
    {
     "name": "stdout",
     "output_type": "stream",
     "text": [
      "[LightGBM] [Warning] min_data_in_leaf is set with min_child_samples=20, will be overridden by min_samples_leaf=30. Current value: min_data_in_leaf=30\n",
      "[1]\tvalid_0's l2: 0.401181\tvalid_0's l1: 0.401181\tvalid_0's custom_asymmetric_eval: 0.401181\n",
      "[2]\tvalid_0's l2: 0.401181\tvalid_0's l1: 0.401181\tvalid_0's custom_asymmetric_eval: 0.401181\n",
      "[3]\tvalid_0's l2: 0.401181\tvalid_0's l1: 0.401181\tvalid_0's custom_asymmetric_eval: 0.401181\n",
      "[4]\tvalid_0's l2: 0.401181\tvalid_0's l1: 0.401181\tvalid_0's custom_asymmetric_eval: 0.401181\n",
      "[5]\tvalid_0's l2: 0.401181\tvalid_0's l1: 0.401181\tvalid_0's custom_asymmetric_eval: 0.401181\n",
      "[6]\tvalid_0's l2: 0.401181\tvalid_0's l1: 0.401181\tvalid_0's custom_asymmetric_eval: 0.401181\n",
      "[7]\tvalid_0's l2: 0.401181\tvalid_0's l1: 0.401181\tvalid_0's custom_asymmetric_eval: 0.401181\n",
      "[8]\tvalid_0's l2: 0.401181\tvalid_0's l1: 0.401181\tvalid_0's custom_asymmetric_eval: 0.401181\n",
      "[9]\tvalid_0's l2: 0.401181\tvalid_0's l1: 0.401181\tvalid_0's custom_asymmetric_eval: 0.401181\n",
      "[10]\tvalid_0's l2: 0.401181\tvalid_0's l1: 0.401181\tvalid_0's custom_asymmetric_eval: 0.401181\n",
      "[11]\tvalid_0's l2: 0.401181\tvalid_0's l1: 0.401181\tvalid_0's custom_asymmetric_eval: 0.401181\n",
      "[12]\tvalid_0's l2: 0.401181\tvalid_0's l1: 0.401181\tvalid_0's custom_asymmetric_eval: 0.401181\n",
      "[13]\tvalid_0's l2: 0.401181\tvalid_0's l1: 0.401181\tvalid_0's custom_asymmetric_eval: 0.401181\n",
      "[14]\tvalid_0's l2: 0.401181\tvalid_0's l1: 0.401181\tvalid_0's custom_asymmetric_eval: 0.401181\n",
      "[15]\tvalid_0's l2: 0.401181\tvalid_0's l1: 0.401181\tvalid_0's custom_asymmetric_eval: 0.401181\n",
      "[16]\tvalid_0's l2: 0.401181\tvalid_0's l1: 0.401181\tvalid_0's custom_asymmetric_eval: 0.401181\n",
      "[17]\tvalid_0's l2: 0.401181\tvalid_0's l1: 0.401181\tvalid_0's custom_asymmetric_eval: 0.401181\n",
      "[18]\tvalid_0's l2: 0.401181\tvalid_0's l1: 0.401181\tvalid_0's custom_asymmetric_eval: 0.401181\n",
      "[19]\tvalid_0's l2: 0.401181\tvalid_0's l1: 0.401181\tvalid_0's custom_asymmetric_eval: 0.401181\n",
      "[20]\tvalid_0's l2: 0.401181\tvalid_0's l1: 0.401181\tvalid_0's custom_asymmetric_eval: 0.401181\n",
      "[21]\tvalid_0's l2: 0.401181\tvalid_0's l1: 0.401181\tvalid_0's custom_asymmetric_eval: 0.401181\n",
      "[22]\tvalid_0's l2: 0.401181\tvalid_0's l1: 0.401181\tvalid_0's custom_asymmetric_eval: 0.401181\n",
      "[23]\tvalid_0's l2: 0.401181\tvalid_0's l1: 0.401181\tvalid_0's custom_asymmetric_eval: 0.401181\n",
      "[24]\tvalid_0's l2: 0.401181\tvalid_0's l1: 0.401181\tvalid_0's custom_asymmetric_eval: 0.401181\n",
      "[25]\tvalid_0's l2: 0.401181\tvalid_0's l1: 0.401181\tvalid_0's custom_asymmetric_eval: 0.401181\n",
      "[26]\tvalid_0's l2: 0.401181\tvalid_0's l1: 0.401181\tvalid_0's custom_asymmetric_eval: 0.401181\n",
      "[27]\tvalid_0's l2: 0.401181\tvalid_0's l1: 0.401181\tvalid_0's custom_asymmetric_eval: 0.401181\n",
      "[28]\tvalid_0's l2: 0.401181\tvalid_0's l1: 0.401181\tvalid_0's custom_asymmetric_eval: 0.401181\n",
      "[29]\tvalid_0's l2: 0.401181\tvalid_0's l1: 0.401181\tvalid_0's custom_asymmetric_eval: 0.401181\n",
      "[30]\tvalid_0's l2: 0.401181\tvalid_0's l1: 0.401181\tvalid_0's custom_asymmetric_eval: 0.401181\n",
      "[31]\tvalid_0's l2: 0.401181\tvalid_0's l1: 0.401181\tvalid_0's custom_asymmetric_eval: 0.401181\n",
      "[32]\tvalid_0's l2: 0.401181\tvalid_0's l1: 0.401181\tvalid_0's custom_asymmetric_eval: 0.401181\n",
      "[33]\tvalid_0's l2: 0.401181\tvalid_0's l1: 0.401181\tvalid_0's custom_asymmetric_eval: 0.401181\n",
      "[34]\tvalid_0's l2: 0.401181\tvalid_0's l1: 0.401181\tvalid_0's custom_asymmetric_eval: 0.401181\n",
      "[35]\tvalid_0's l2: 0.401181\tvalid_0's l1: 0.401181\tvalid_0's custom_asymmetric_eval: 0.401181\n",
      "[36]\tvalid_0's l2: 0.401181\tvalid_0's l1: 0.401181\tvalid_0's custom_asymmetric_eval: 0.401181\n",
      "[37]\tvalid_0's l2: 0.401181\tvalid_0's l1: 0.401181\tvalid_0's custom_asymmetric_eval: 0.401181\n",
      "[38]\tvalid_0's l2: 0.401181\tvalid_0's l1: 0.401181\tvalid_0's custom_asymmetric_eval: 0.401181\n",
      "[39]\tvalid_0's l2: 0.401181\tvalid_0's l1: 0.401181\tvalid_0's custom_asymmetric_eval: 0.401181\n",
      "[40]\tvalid_0's l2: 0.401181\tvalid_0's l1: 0.401181\tvalid_0's custom_asymmetric_eval: 0.401181\n",
      "[41]\tvalid_0's l2: 0.401181\tvalid_0's l1: 0.401181\tvalid_0's custom_asymmetric_eval: 0.401181\n",
      "[42]\tvalid_0's l2: 0.401181\tvalid_0's l1: 0.401181\tvalid_0's custom_asymmetric_eval: 0.401181\n",
      "[43]\tvalid_0's l2: 0.401181\tvalid_0's l1: 0.401181\tvalid_0's custom_asymmetric_eval: 0.401181\n",
      "[44]\tvalid_0's l2: 0.401181\tvalid_0's l1: 0.401181\tvalid_0's custom_asymmetric_eval: 0.401181\n",
      "[45]\tvalid_0's l2: 0.401181\tvalid_0's l1: 0.401181\tvalid_0's custom_asymmetric_eval: 0.401181\n",
      "[46]\tvalid_0's l2: 0.401181\tvalid_0's l1: 0.401181\tvalid_0's custom_asymmetric_eval: 0.401181\n",
      "[47]\tvalid_0's l2: 0.401181\tvalid_0's l1: 0.401181\tvalid_0's custom_asymmetric_eval: 0.401181\n",
      "[48]\tvalid_0's l2: 0.401181\tvalid_0's l1: 0.401181\tvalid_0's custom_asymmetric_eval: 0.401181\n",
      "[49]\tvalid_0's l2: 0.401181\tvalid_0's l1: 0.401181\tvalid_0's custom_asymmetric_eval: 0.401181\n",
      "[50]\tvalid_0's l2: 0.401181\tvalid_0's l1: 0.401181\tvalid_0's custom_asymmetric_eval: 0.401181\n",
      "[51]\tvalid_0's l2: 0.401181\tvalid_0's l1: 0.401181\tvalid_0's custom_asymmetric_eval: 0.401181\n",
      "[52]\tvalid_0's l2: 0.401181\tvalid_0's l1: 0.401181\tvalid_0's custom_asymmetric_eval: 0.401181\n",
      "[53]\tvalid_0's l2: 0.401181\tvalid_0's l1: 0.401181\tvalid_0's custom_asymmetric_eval: 0.401181\n",
      "[54]\tvalid_0's l2: 0.401181\tvalid_0's l1: 0.401181\tvalid_0's custom_asymmetric_eval: 0.401181\n",
      "[55]\tvalid_0's l2: 0.401181\tvalid_0's l1: 0.401181\tvalid_0's custom_asymmetric_eval: 0.401181\n",
      "[56]\tvalid_0's l2: 0.401181\tvalid_0's l1: 0.401181\tvalid_0's custom_asymmetric_eval: 0.401181\n",
      "[57]\tvalid_0's l2: 0.401181\tvalid_0's l1: 0.401181\tvalid_0's custom_asymmetric_eval: 0.401181\n",
      "[58]\tvalid_0's l2: 0.401181\tvalid_0's l1: 0.401181\tvalid_0's custom_asymmetric_eval: 0.401181\n",
      "[59]\tvalid_0's l2: 0.401181\tvalid_0's l1: 0.401181\tvalid_0's custom_asymmetric_eval: 0.401181\n",
      "[60]\tvalid_0's l2: 0.401181\tvalid_0's l1: 0.401181\tvalid_0's custom_asymmetric_eval: 0.401181\n",
      "[61]\tvalid_0's l2: 0.401181\tvalid_0's l1: 0.401181\tvalid_0's custom_asymmetric_eval: 0.401181\n",
      "[62]\tvalid_0's l2: 0.401181\tvalid_0's l1: 0.401181\tvalid_0's custom_asymmetric_eval: 0.401181\n",
      "[63]\tvalid_0's l2: 0.401181\tvalid_0's l1: 0.401181\tvalid_0's custom_asymmetric_eval: 0.401181\n",
      "[64]\tvalid_0's l2: 0.401181\tvalid_0's l1: 0.401181\tvalid_0's custom_asymmetric_eval: 0.401181\n",
      "[65]\tvalid_0's l2: 0.401181\tvalid_0's l1: 0.401181\tvalid_0's custom_asymmetric_eval: 0.401181\n",
      "[66]\tvalid_0's l2: 0.401181\tvalid_0's l1: 0.401181\tvalid_0's custom_asymmetric_eval: 0.401181\n",
      "[67]\tvalid_0's l2: 0.401181\tvalid_0's l1: 0.401181\tvalid_0's custom_asymmetric_eval: 0.401181\n",
      "[68]\tvalid_0's l2: 0.401181\tvalid_0's l1: 0.401181\tvalid_0's custom_asymmetric_eval: 0.401181\n",
      "[69]\tvalid_0's l2: 0.401181\tvalid_0's l1: 0.401181\tvalid_0's custom_asymmetric_eval: 0.401181\n",
      "[70]\tvalid_0's l2: 0.401181\tvalid_0's l1: 0.401181\tvalid_0's custom_asymmetric_eval: 0.401181\n",
      "[71]\tvalid_0's l2: 0.401181\tvalid_0's l1: 0.401181\tvalid_0's custom_asymmetric_eval: 0.401181\n",
      "[72]\tvalid_0's l2: 0.401181\tvalid_0's l1: 0.401181\tvalid_0's custom_asymmetric_eval: 0.401181\n",
      "[73]\tvalid_0's l2: 0.401181\tvalid_0's l1: 0.401181\tvalid_0's custom_asymmetric_eval: 0.401181\n",
      "[74]\tvalid_0's l2: 0.401181\tvalid_0's l1: 0.401181\tvalid_0's custom_asymmetric_eval: 0.401181\n",
      "[75]\tvalid_0's l2: 0.401181\tvalid_0's l1: 0.401181\tvalid_0's custom_asymmetric_eval: 0.401181\n",
      "[76]\tvalid_0's l2: 0.401181\tvalid_0's l1: 0.401181\tvalid_0's custom_asymmetric_eval: 0.401181\n",
      "[77]\tvalid_0's l2: 0.401181\tvalid_0's l1: 0.401181\tvalid_0's custom_asymmetric_eval: 0.401181\n",
      "[78]\tvalid_0's l2: 0.401181\tvalid_0's l1: 0.401181\tvalid_0's custom_asymmetric_eval: 0.401181\n",
      "[79]\tvalid_0's l2: 0.401181\tvalid_0's l1: 0.401181\tvalid_0's custom_asymmetric_eval: 0.401181\n",
      "[80]\tvalid_0's l2: 0.401181\tvalid_0's l1: 0.401181\tvalid_0's custom_asymmetric_eval: 0.401181\n",
      "[81]\tvalid_0's l2: 0.401181\tvalid_0's l1: 0.401181\tvalid_0's custom_asymmetric_eval: 0.401181\n",
      "[82]\tvalid_0's l2: 0.401181\tvalid_0's l1: 0.401181\tvalid_0's custom_asymmetric_eval: 0.401181\n",
      "[83]\tvalid_0's l2: 0.401181\tvalid_0's l1: 0.401181\tvalid_0's custom_asymmetric_eval: 0.401181\n",
      "[84]\tvalid_0's l2: 0.401181\tvalid_0's l1: 0.401181\tvalid_0's custom_asymmetric_eval: 0.401181\n",
      "[85]\tvalid_0's l2: 0.401181\tvalid_0's l1: 0.401181\tvalid_0's custom_asymmetric_eval: 0.401181\n",
      "[86]\tvalid_0's l2: 0.401181\tvalid_0's l1: 0.401181\tvalid_0's custom_asymmetric_eval: 0.401181\n",
      "[87]\tvalid_0's l2: 0.401181\tvalid_0's l1: 0.401181\tvalid_0's custom_asymmetric_eval: 0.401181\n",
      "[88]\tvalid_0's l2: 0.401181\tvalid_0's l1: 0.401181\tvalid_0's custom_asymmetric_eval: 0.401181\n",
      "[89]\tvalid_0's l2: 0.401181\tvalid_0's l1: 0.401181\tvalid_0's custom_asymmetric_eval: 0.401181\n",
      "[90]\tvalid_0's l2: 0.401181\tvalid_0's l1: 0.401181\tvalid_0's custom_asymmetric_eval: 0.401181\n",
      "[91]\tvalid_0's l2: 0.401181\tvalid_0's l1: 0.401181\tvalid_0's custom_asymmetric_eval: 0.401181\n",
      "[92]\tvalid_0's l2: 0.401181\tvalid_0's l1: 0.401181\tvalid_0's custom_asymmetric_eval: 0.401181\n",
      "[93]\tvalid_0's l2: 0.401181\tvalid_0's l1: 0.401181\tvalid_0's custom_asymmetric_eval: 0.401181\n",
      "[94]\tvalid_0's l2: 0.401181\tvalid_0's l1: 0.401181\tvalid_0's custom_asymmetric_eval: 0.401181\n",
      "[95]\tvalid_0's l2: 0.401181\tvalid_0's l1: 0.401181\tvalid_0's custom_asymmetric_eval: 0.401181\n",
      "[96]\tvalid_0's l2: 0.401181\tvalid_0's l1: 0.401181\tvalid_0's custom_asymmetric_eval: 0.401181\n",
      "[97]\tvalid_0's l2: 0.401181\tvalid_0's l1: 0.401181\tvalid_0's custom_asymmetric_eval: 0.401181\n",
      "[98]\tvalid_0's l2: 0.401181\tvalid_0's l1: 0.401181\tvalid_0's custom_asymmetric_eval: 0.401181\n",
      "[99]\tvalid_0's l2: 0.401181\tvalid_0's l1: 0.401181\tvalid_0's custom_asymmetric_eval: 0.401181\n",
      "[100]\tvalid_0's l2: 0.401181\tvalid_0's l1: 0.401181\tvalid_0's custom_asymmetric_eval: 0.401181\n",
      "[101]\tvalid_0's l2: 0.401181\tvalid_0's l1: 0.401181\tvalid_0's custom_asymmetric_eval: 0.401181\n",
      "[102]\tvalid_0's l2: 0.401181\tvalid_0's l1: 0.401181\tvalid_0's custom_asymmetric_eval: 0.401181\n",
      "[103]\tvalid_0's l2: 0.401181\tvalid_0's l1: 0.401181\tvalid_0's custom_asymmetric_eval: 0.401181\n",
      "[104]\tvalid_0's l2: 0.401181\tvalid_0's l1: 0.401181\tvalid_0's custom_asymmetric_eval: 0.401181\n",
      "[105]\tvalid_0's l2: 0.401181\tvalid_0's l1: 0.401181\tvalid_0's custom_asymmetric_eval: 0.401181\n",
      "[106]\tvalid_0's l2: 0.401181\tvalid_0's l1: 0.401181\tvalid_0's custom_asymmetric_eval: 0.401181\n",
      "[107]\tvalid_0's l2: 0.401181\tvalid_0's l1: 0.401181\tvalid_0's custom_asymmetric_eval: 0.401181\n",
      "[108]\tvalid_0's l2: 0.401181\tvalid_0's l1: 0.401181\tvalid_0's custom_asymmetric_eval: 0.401181\n",
      "[109]\tvalid_0's l2: 0.401181\tvalid_0's l1: 0.401181\tvalid_0's custom_asymmetric_eval: 0.401181\n",
      "[110]\tvalid_0's l2: 0.401181\tvalid_0's l1: 0.401181\tvalid_0's custom_asymmetric_eval: 0.401181\n",
      "[111]\tvalid_0's l2: 0.401181\tvalid_0's l1: 0.401181\tvalid_0's custom_asymmetric_eval: 0.401181\n",
      "[112]\tvalid_0's l2: 0.401181\tvalid_0's l1: 0.401181\tvalid_0's custom_asymmetric_eval: 0.401181\n",
      "[113]\tvalid_0's l2: 0.401181\tvalid_0's l1: 0.401181\tvalid_0's custom_asymmetric_eval: 0.401181\n",
      "[114]\tvalid_0's l2: 0.401181\tvalid_0's l1: 0.401181\tvalid_0's custom_asymmetric_eval: 0.401181\n",
      "[115]\tvalid_0's l2: 0.401181\tvalid_0's l1: 0.401181\tvalid_0's custom_asymmetric_eval: 0.401181\n",
      "[116]\tvalid_0's l2: 0.401181\tvalid_0's l1: 0.401181\tvalid_0's custom_asymmetric_eval: 0.401181\n",
      "[117]\tvalid_0's l2: 0.401181\tvalid_0's l1: 0.401181\tvalid_0's custom_asymmetric_eval: 0.401181\n",
      "[118]\tvalid_0's l2: 0.401181\tvalid_0's l1: 0.401181\tvalid_0's custom_asymmetric_eval: 0.401181\n",
      "[119]\tvalid_0's l2: 0.401181\tvalid_0's l1: 0.401181\tvalid_0's custom_asymmetric_eval: 0.401181\n",
      "[120]\tvalid_0's l2: 0.401181\tvalid_0's l1: 0.401181\tvalid_0's custom_asymmetric_eval: 0.401181\n",
      "[121]\tvalid_0's l2: 0.401181\tvalid_0's l1: 0.401181\tvalid_0's custom_asymmetric_eval: 0.401181\n",
      "[122]\tvalid_0's l2: 0.401181\tvalid_0's l1: 0.401181\tvalid_0's custom_asymmetric_eval: 0.401181\n",
      "[123]\tvalid_0's l2: 0.401181\tvalid_0's l1: 0.401181\tvalid_0's custom_asymmetric_eval: 0.401181\n",
      "[124]\tvalid_0's l2: 0.401181\tvalid_0's l1: 0.401181\tvalid_0's custom_asymmetric_eval: 0.401181\n",
      "[125]\tvalid_0's l2: 0.401181\tvalid_0's l1: 0.401181\tvalid_0's custom_asymmetric_eval: 0.401181\n",
      "[126]\tvalid_0's l2: 0.401181\tvalid_0's l1: 0.401181\tvalid_0's custom_asymmetric_eval: 0.401181\n",
      "[127]\tvalid_0's l2: 0.401181\tvalid_0's l1: 0.401181\tvalid_0's custom_asymmetric_eval: 0.401181\n",
      "[128]\tvalid_0's l2: 0.401181\tvalid_0's l1: 0.401181\tvalid_0's custom_asymmetric_eval: 0.401181\n",
      "[129]\tvalid_0's l2: 0.401181\tvalid_0's l1: 0.401181\tvalid_0's custom_asymmetric_eval: 0.401181\n",
      "[130]\tvalid_0's l2: 0.401181\tvalid_0's l1: 0.401181\tvalid_0's custom_asymmetric_eval: 0.401181\n",
      "[131]\tvalid_0's l2: 0.401181\tvalid_0's l1: 0.401181\tvalid_0's custom_asymmetric_eval: 0.401181\n",
      "[132]\tvalid_0's l2: 0.401181\tvalid_0's l1: 0.401181\tvalid_0's custom_asymmetric_eval: 0.401181\n",
      "[133]\tvalid_0's l2: 0.401181\tvalid_0's l1: 0.401181\tvalid_0's custom_asymmetric_eval: 0.401181\n",
      "[134]\tvalid_0's l2: 0.401181\tvalid_0's l1: 0.401181\tvalid_0's custom_asymmetric_eval: 0.401181\n",
      "[135]\tvalid_0's l2: 0.401181\tvalid_0's l1: 0.401181\tvalid_0's custom_asymmetric_eval: 0.401181\n",
      "[136]\tvalid_0's l2: 0.401181\tvalid_0's l1: 0.401181\tvalid_0's custom_asymmetric_eval: 0.401181\n",
      "[137]\tvalid_0's l2: 0.401181\tvalid_0's l1: 0.401181\tvalid_0's custom_asymmetric_eval: 0.401181\n",
      "[138]\tvalid_0's l2: 0.401181\tvalid_0's l1: 0.401181\tvalid_0's custom_asymmetric_eval: 0.401181\n",
      "[139]\tvalid_0's l2: 0.401181\tvalid_0's l1: 0.401181\tvalid_0's custom_asymmetric_eval: 0.401181\n",
      "[140]\tvalid_0's l2: 0.401181\tvalid_0's l1: 0.401181\tvalid_0's custom_asymmetric_eval: 0.401181\n",
      "[141]\tvalid_0's l2: 0.401181\tvalid_0's l1: 0.401181\tvalid_0's custom_asymmetric_eval: 0.401181\n",
      "[142]\tvalid_0's l2: 0.401181\tvalid_0's l1: 0.401181\tvalid_0's custom_asymmetric_eval: 0.401181\n",
      "[143]\tvalid_0's l2: 0.401181\tvalid_0's l1: 0.401181\tvalid_0's custom_asymmetric_eval: 0.401181\n",
      "[144]\tvalid_0's l2: 0.401181\tvalid_0's l1: 0.401181\tvalid_0's custom_asymmetric_eval: 0.401181\n",
      "[145]\tvalid_0's l2: 0.401181\tvalid_0's l1: 0.401181\tvalid_0's custom_asymmetric_eval: 0.401181\n"
     ]
    },
    {
     "name": "stderr",
     "output_type": "stream",
     "text": [
      "C:\\Users\\dancr\\miniconda3\\envs\\NLP\\lib\\site-packages\\lightgbm\\sklearn.py:999: UserWarning: Cannot compute class probabilities or labels due to the usage of customized objective function.\n",
      "Returning raw scores instead.\n",
      "  _log_warning(\"Cannot compute class probabilities or labels \"\n"
     ]
    }
   ],
   "source": [
    "import lightgbm\n",
    "\n",
    "gbm = lightgbm.LGBMClassifier(n_estimators=145, max_depth=14, min_samples_leaf=30)\n",
    "\n",
    "\n",
    "# updating objective function to custom\n",
    "# default is \"regression\"\n",
    "# also adding metrics to check different scores\n",
    "gbm.set_params(**{'objective': custom_asymmetric_train}, metrics = [\"mse\", 'mae'])\n",
    "\n",
    "# fitting model \n",
    "gbm.fit(\n",
    "    X_train,\n",
    "    y_train,\n",
    "    eval_set=[(X_test, y_test)],\n",
    "    eval_metric=custom_asymmetric_valid\n",
    ")\n",
    "\n",
    "y_pred = gbm.predict(X_test)"
   ]
  },
  {
   "cell_type": "code",
   "execution_count": 68,
   "metadata": {},
   "outputs": [
    {
     "data": {
      "text/plain": [
       "array([0., 0., 0., ..., 0., 0., 0.])"
      ]
     },
     "execution_count": 68,
     "metadata": {},
     "output_type": "execute_result"
    }
   ],
   "source": [
    "y_pred"
   ]
  }
 ],
 "metadata": {
  "interpreter": {
   "hash": "eaa798b471aa1a0109429a408b0faab53065248ef7f5a5989f90756771672ef6"
  },
  "kernelspec": {
   "display_name": "Python 3.9.6 64-bit ('NLP': conda)",
   "language": "python",
   "name": "python3"
  },
  "language_info": {
   "codemirror_mode": {
    "name": "ipython",
    "version": 3
   },
   "file_extension": ".py",
   "mimetype": "text/x-python",
   "name": "python",
   "nbconvert_exporter": "python",
   "pygments_lexer": "ipython3",
   "version": "3.9.6"
  },
  "orig_nbformat": 4
 },
 "nbformat": 4,
 "nbformat_minor": 2
}
